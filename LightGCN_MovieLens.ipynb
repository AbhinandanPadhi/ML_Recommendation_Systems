{
  "nbformat": 4,
  "nbformat_minor": 0,
  "metadata": {
    "colab": {
      "provenance": [],
      "collapsed_sections": [],
      "machine_shape": "hm"
    },
    "kernelspec": {
      "name": "python3",
      "display_name": "Python 3"
    },
    "language_info": {
      "name": "python"
    },
    "accelerator": "GPU"
  },
  "cells": [
    {
      "cell_type": "code",
      "metadata": {
        "id": "rhcV4G_Ijs6Y",
        "colab": {
          "base_uri": "https://localhost:8080/"
        },
        "outputId": "d5ba5b40-d966-4cd5-a9a1-e8af859304c6"
      },
      "source": [
        "%tensorflow_version 1.x"
      ],
      "execution_count": null,
      "outputs": [
        {
          "output_type": "stream",
          "name": "stdout",
          "text": [
            "TensorFlow 1.x selected.\n"
          ]
        }
      ]
    },
    {
      "cell_type": "code",
      "metadata": {
        "colab": {
          "base_uri": "https://localhost:8080/"
        },
        "id": "GPq8LnJkkMfX",
        "outputId": "175089fc-cfb5-4e1f-b61d-a8f8aa906995"
      },
      "source": [
        "cd recommenders/"
      ],
      "execution_count": null,
      "outputs": [
        {
          "output_type": "stream",
          "name": "stdout",
          "text": [
            "/content/recommenders\n"
          ]
        }
      ]
    },
    {
      "cell_type": "code",
      "metadata": {
        "colab": {
          "base_uri": "https://localhost:8080/"
        },
        "id": "ag4HuniZkN2m",
        "outputId": "8ebb22d4-833a-40af-d622-261db759631a"
      },
      "source": [
        "!pip install ."
      ],
      "execution_count": null,
      "outputs": [
        {
          "output_type": "stream",
          "name": "stdout",
          "text": [
            "Processing /content/recommenders\n",
            "\u001b[33m  DEPRECATION: A future pip version will change local packages to be built in-place without first copying to a temporary directory. We recommend you use --use-feature=in-tree-build to test your packages with this new behavior before it becomes the default.\n",
            "   pip 21.3 will remove support for this functionality. You can find discussion regarding this at https://github.com/pypa/pip/issues/7555.\u001b[0m\n",
            "  Installing build dependencies ... \u001b[?25l\u001b[?25hdone\n",
            "  Getting requirements to build wheel ... \u001b[?25l\u001b[?25hdone\n",
            "    Preparing wheel metadata ... \u001b[?25l\u001b[?25hdone\n",
            "Requirement already satisfied: seaborn<1,>=0.8.1 in /usr/local/lib/python3.7/dist-packages (from recommenders==0.7.0) (0.11.2)\n",
            "Collecting lightfm<2,>=1.15\n",
            "  Downloading lightfm-1.16.tar.gz (310 kB)\n",
            "\u001b[K     |████████████████████████████████| 310 kB 5.1 MB/s \n",
            "\u001b[?25hCollecting nltk<4,>=3.4\n",
            "  Downloading nltk-3.6.5-py3-none-any.whl (1.5 MB)\n",
            "\u001b[K     |████████████████████████████████| 1.5 MB 53.6 MB/s \n",
            "\u001b[?25hCollecting pyyaml<6,>=5.4.1\n",
            "  Downloading PyYAML-5.4.1-cp37-cp37m-manylinux1_x86_64.whl (636 kB)\n",
            "\u001b[K     |████████████████████████████████| 636 kB 56.7 MB/s \n",
            "\u001b[?25hRequirement already satisfied: jinja2<3,>=2 in /usr/local/lib/python3.7/dist-packages (from recommenders==0.7.0) (2.11.3)\n",
            "Collecting scikit-surprise<=1.1.1,>=0.19.1\n",
            "  Downloading scikit-surprise-1.1.1.tar.gz (11.8 MB)\n",
            "\u001b[K     |████████████████████████████████| 11.8 MB 27.3 MB/s \n",
            "\u001b[?25hCollecting cornac<2,>=1.1.2\n",
            "  Downloading cornac-1.14.1-cp37-cp37m-manylinux1_x86_64.whl (12.4 MB)\n",
            "\u001b[K     |████████████████████████████████| 12.4 MB 15.4 MB/s \n",
            "\u001b[?25hRequirement already satisfied: scipy<2,>=1.0.0 in /usr/local/lib/python3.7/dist-packages (from recommenders==0.7.0) (1.4.1)\n",
            "Requirement already satisfied: numba<1,>=0.38.1 in /usr/local/lib/python3.7/dist-packages (from recommenders==0.7.0) (0.51.2)\n",
            "Collecting category-encoders<2,>=1.3.0\n",
            "  Downloading category_encoders-1.3.0-py2.py3-none-any.whl (61 kB)\n",
            "\u001b[K     |████████████████████████████████| 61 kB 8.6 MB/s \n",
            "\u001b[?25hCollecting pymanopt<1,>=0.2.5\n",
            "  Downloading pymanopt-0.2.5-py3-none-any.whl (59 kB)\n",
            "\u001b[K     |████████████████████████████████| 59 kB 7.0 MB/s \n",
            "\u001b[?25hRequirement already satisfied: retrying>=1.3.3 in /usr/local/lib/python3.7/dist-packages (from recommenders==0.7.0) (1.3.3)\n",
            "Requirement already satisfied: requests<3,>=2.0.0 in /usr/local/lib/python3.7/dist-packages (from recommenders==0.7.0) (2.23.0)\n",
            "Collecting scikit-learn<1,>=0.22.1\n",
            "  Downloading scikit_learn-0.24.2-cp37-cp37m-manylinux2010_x86_64.whl (22.3 MB)\n",
            "\u001b[K     |████████████████████████████████| 22.3 MB 1.3 MB/s \n",
            "\u001b[?25hCollecting memory-profiler<1,>=0.54.0\n",
            "  Downloading memory_profiler-0.58.0.tar.gz (36 kB)\n",
            "Requirement already satisfied: bottleneck<2,>=1.2.1 in /usr/local/lib/python3.7/dist-packages (from recommenders==0.7.0) (1.3.2)\n",
            "Collecting transformers<5,>=2.5.0\n",
            "  Downloading transformers-4.12.5-py3-none-any.whl (3.1 MB)\n",
            "\u001b[K     |████████████████████████████████| 3.1 MB 33.7 MB/s \n",
            "\u001b[?25hRequirement already satisfied: pandas<2,>1.0.3 in /usr/local/lib/python3.7/dist-packages (from recommenders==0.7.0) (1.1.5)\n",
            "Requirement already satisfied: numpy>=1.14 in /usr/local/lib/python3.7/dist-packages (from recommenders==0.7.0) (1.19.5)\n",
            "Requirement already satisfied: tqdm<5,>=4.31.1 in /usr/local/lib/python3.7/dist-packages (from recommenders==0.7.0) (4.62.3)\n",
            "Collecting pydocumentdb>=2.3.3<3\n",
            "  Downloading pydocumentdb-2.3.5-py3-none-any.whl (93 kB)\n",
            "\u001b[K     |████████████████████████████████| 93 kB 2.3 MB/s \n",
            "\u001b[?25hRequirement already satisfied: matplotlib<4,>=2.2.2 in /usr/local/lib/python3.7/dist-packages (from recommenders==0.7.0) (3.2.2)\n",
            "Requirement already satisfied: lightgbm>=2.2.1 in /usr/local/lib/python3.7/dist-packages (from recommenders==0.7.0) (2.2.3)\n",
            "Requirement already satisfied: patsy>=0.4.1 in /usr/local/lib/python3.7/dist-packages (from category-encoders<2,>=1.3.0->recommenders==0.7.0) (0.5.2)\n",
            "Requirement already satisfied: statsmodels>=0.6.1 in /usr/local/lib/python3.7/dist-packages (from category-encoders<2,>=1.3.0->recommenders==0.7.0) (0.10.2)\n",
            "Collecting powerlaw\n",
            "  Downloading powerlaw-1.5-py3-none-any.whl (24 kB)\n",
            "Requirement already satisfied: MarkupSafe>=0.23 in /usr/local/lib/python3.7/dist-packages (from jinja2<3,>=2->recommenders==0.7.0) (2.0.1)\n",
            "Requirement already satisfied: cycler>=0.10 in /usr/local/lib/python3.7/dist-packages (from matplotlib<4,>=2.2.2->recommenders==0.7.0) (0.11.0)\n",
            "Requirement already satisfied: kiwisolver>=1.0.1 in /usr/local/lib/python3.7/dist-packages (from matplotlib<4,>=2.2.2->recommenders==0.7.0) (1.3.2)\n",
            "Requirement already satisfied: pyparsing!=2.0.4,!=2.1.2,!=2.1.6,>=2.0.1 in /usr/local/lib/python3.7/dist-packages (from matplotlib<4,>=2.2.2->recommenders==0.7.0) (3.0.6)\n",
            "Requirement already satisfied: python-dateutil>=2.1 in /usr/local/lib/python3.7/dist-packages (from matplotlib<4,>=2.2.2->recommenders==0.7.0) (2.8.2)\n",
            "Requirement already satisfied: psutil in /usr/local/lib/python3.7/dist-packages (from memory-profiler<1,>=0.54.0->recommenders==0.7.0) (5.4.8)\n",
            "Requirement already satisfied: joblib in /usr/local/lib/python3.7/dist-packages (from nltk<4,>=3.4->recommenders==0.7.0) (1.1.0)\n",
            "Requirement already satisfied: click in /usr/local/lib/python3.7/dist-packages (from nltk<4,>=3.4->recommenders==0.7.0) (7.1.2)\n",
            "Collecting regex>=2021.8.3\n",
            "  Downloading regex-2021.11.10-cp37-cp37m-manylinux_2_17_x86_64.manylinux2014_x86_64.whl (749 kB)\n",
            "\u001b[K     |████████████████████████████████| 749 kB 49.4 MB/s \n",
            "\u001b[?25hRequirement already satisfied: llvmlite<0.35,>=0.34.0.dev0 in /usr/local/lib/python3.7/dist-packages (from numba<1,>=0.38.1->recommenders==0.7.0) (0.34.0)\n",
            "Requirement already satisfied: setuptools in /usr/local/lib/python3.7/dist-packages (from numba<1,>=0.38.1->recommenders==0.7.0) (57.4.0)\n",
            "Requirement already satisfied: pytz>=2017.2 in /usr/local/lib/python3.7/dist-packages (from pandas<2,>1.0.3->recommenders==0.7.0) (2018.9)\n",
            "Requirement already satisfied: six in /usr/local/lib/python3.7/dist-packages (from patsy>=0.4.1->category-encoders<2,>=1.3.0->recommenders==0.7.0) (1.15.0)\n",
            "Requirement already satisfied: idna<3,>=2.5 in /usr/local/lib/python3.7/dist-packages (from requests<3,>=2.0.0->recommenders==0.7.0) (2.10)\n",
            "Requirement already satisfied: certifi>=2017.4.17 in /usr/local/lib/python3.7/dist-packages (from requests<3,>=2.0.0->recommenders==0.7.0) (2021.10.8)\n",
            "Requirement already satisfied: urllib3!=1.25.0,!=1.25.1,<1.26,>=1.21.1 in /usr/local/lib/python3.7/dist-packages (from requests<3,>=2.0.0->recommenders==0.7.0) (1.24.3)\n",
            "Requirement already satisfied: chardet<4,>=3.0.2 in /usr/local/lib/python3.7/dist-packages (from requests<3,>=2.0.0->recommenders==0.7.0) (3.0.4)\n",
            "Requirement already satisfied: threadpoolctl>=2.0.0 in /usr/local/lib/python3.7/dist-packages (from scikit-learn<1,>=0.22.1->recommenders==0.7.0) (3.0.0)\n",
            "Collecting sacremoses\n",
            "  Downloading sacremoses-0.0.46-py3-none-any.whl (895 kB)\n",
            "\u001b[K     |████████████████████████████████| 895 kB 38.7 MB/s \n",
            "\u001b[?25hRequirement already satisfied: packaging>=20.0 in /usr/local/lib/python3.7/dist-packages (from transformers<5,>=2.5.0->recommenders==0.7.0) (21.3)\n",
            "Collecting huggingface-hub<1.0,>=0.1.0\n",
            "  Downloading huggingface_hub-0.1.2-py3-none-any.whl (59 kB)\n",
            "\u001b[K     |████████████████████████████████| 59 kB 6.7 MB/s \n",
            "\u001b[?25hRequirement already satisfied: importlib-metadata in /usr/local/lib/python3.7/dist-packages (from transformers<5,>=2.5.0->recommenders==0.7.0) (4.8.2)\n",
            "Collecting tokenizers<0.11,>=0.10.1\n",
            "  Downloading tokenizers-0.10.3-cp37-cp37m-manylinux_2_5_x86_64.manylinux1_x86_64.manylinux_2_12_x86_64.manylinux2010_x86_64.whl (3.3 MB)\n",
            "\u001b[K     |████████████████████████████████| 3.3 MB 31.6 MB/s \n",
            "\u001b[?25hRequirement already satisfied: filelock in /usr/local/lib/python3.7/dist-packages (from transformers<5,>=2.5.0->recommenders==0.7.0) (3.4.0)\n",
            "Requirement already satisfied: typing-extensions>=3.7.4.3 in /usr/local/lib/python3.7/dist-packages (from huggingface-hub<1.0,>=0.1.0->transformers<5,>=2.5.0->recommenders==0.7.0) (3.10.0.2)\n",
            "Requirement already satisfied: zipp>=0.5 in /usr/local/lib/python3.7/dist-packages (from importlib-metadata->transformers<5,>=2.5.0->recommenders==0.7.0) (3.6.0)\n",
            "Requirement already satisfied: mpmath in /usr/local/lib/python3.7/dist-packages (from powerlaw->cornac<2,>=1.1.2->recommenders==0.7.0) (1.2.1)\n",
            "Building wheels for collected packages: recommenders, lightfm, memory-profiler, scikit-surprise\n",
            "  Building wheel for recommenders (PEP 517) ... \u001b[?25l\u001b[?25hdone\n",
            "  Created wheel for recommenders: filename=recommenders-0.7.0-py3-none-any.whl size=314354 sha256=e0450fe3700069c86bcd4e9f6200aeb6b594a460e4084f4d665479726d6a3dbd\n",
            "  Stored in directory: /tmp/pip-ephem-wheel-cache-_phpmtu3/wheels/d8/58/f0/d8d41947328d34e0bba74509391f781217e8181b7ad2e3c109\n",
            "  Building wheel for lightfm (setup.py) ... \u001b[?25l\u001b[?25hdone\n",
            "  Created wheel for lightfm: filename=lightfm-1.16-cp37-cp37m-linux_x86_64.whl size=705370 sha256=0aae9afdfd2e611334d0e6f1906e67a595cf724c93ae6767cc38dccd5df2d9ad\n",
            "  Stored in directory: /root/.cache/pip/wheels/f8/56/28/5772a3bd3413d65f03aa452190b00898b680b10028a1021914\n",
            "  Building wheel for memory-profiler (setup.py) ... \u001b[?25l\u001b[?25hdone\n",
            "  Created wheel for memory-profiler: filename=memory_profiler-0.58.0-py3-none-any.whl size=30190 sha256=53bb4081dfcf9865df5b95141b0de4073771f978906c74a1a016ac25cd9a9a4a\n",
            "  Stored in directory: /root/.cache/pip/wheels/56/19/d5/8cad06661aec65a04a0d6785b1a5ad035cb645b1772a4a0882\n",
            "  Building wheel for scikit-surprise (setup.py) ... \u001b[?25l\u001b[?25hdone\n",
            "  Created wheel for scikit-surprise: filename=scikit_surprise-1.1.1-cp37-cp37m-linux_x86_64.whl size=1619400 sha256=97b9fe005024fa81138a2574b7a11eb97a418e51ff0ad23d84dc4a23cd8cc9c1\n",
            "  Stored in directory: /root/.cache/pip/wheels/76/44/74/b498c42be47b2406bd27994e16c5188e337c657025ab400c1c\n",
            "Successfully built recommenders lightfm memory-profiler scikit-surprise\n",
            "Installing collected packages: regex, pyyaml, tokenizers, scikit-learn, sacremoses, powerlaw, huggingface-hub, transformers, scikit-surprise, pymanopt, pydocumentdb, nltk, memory-profiler, lightfm, cornac, category-encoders, recommenders\n",
            "  Attempting uninstall: regex\n",
            "    Found existing installation: regex 2019.12.20\n",
            "    Uninstalling regex-2019.12.20:\n",
            "      Successfully uninstalled regex-2019.12.20\n",
            "  Attempting uninstall: pyyaml\n",
            "    Found existing installation: PyYAML 3.13\n",
            "    Uninstalling PyYAML-3.13:\n",
            "      Successfully uninstalled PyYAML-3.13\n",
            "  Attempting uninstall: scikit-learn\n",
            "    Found existing installation: scikit-learn 1.0.1\n",
            "    Uninstalling scikit-learn-1.0.1:\n",
            "      Successfully uninstalled scikit-learn-1.0.1\n",
            "  Attempting uninstall: nltk\n",
            "    Found existing installation: nltk 3.2.5\n",
            "    Uninstalling nltk-3.2.5:\n",
            "      Successfully uninstalled nltk-3.2.5\n",
            "\u001b[31mERROR: pip's dependency resolver does not currently take into account all the packages that are installed. This behaviour is the source of the following dependency conflicts.\n",
            "lucid 0.3.10 requires umap-learn, which is not installed.\n",
            "lucid 0.3.10 requires numpy<=1.19, but you have numpy 1.19.5 which is incompatible.\n",
            "kapre 0.3.6 requires tensorflow>=2.0.0, but you have tensorflow 1.15.2 which is incompatible.\u001b[0m\n",
            "Successfully installed category-encoders-1.3.0 cornac-1.14.1 huggingface-hub-0.1.2 lightfm-1.16 memory-profiler-0.58.0 nltk-3.6.5 powerlaw-1.5 pydocumentdb-2.3.5 pymanopt-0.2.5 pyyaml-5.4.1 recommenders-0.7.0 regex-2021.11.10 sacremoses-0.0.46 scikit-learn-0.24.2 scikit-surprise-1.1.1 tokenizers-0.10.3 transformers-4.12.5\n"
          ]
        }
      ]
    },
    {
      "cell_type": "code",
      "metadata": {
        "colab": {
          "base_uri": "https://localhost:8080/",
          "height": 1000
        },
        "id": "Sk1ZI8Rdkh5X",
        "outputId": "fe589e75-2946-44e1-c1a9-73ab1ebe14d2"
      },
      "source": [
        "!pip install papermill"
      ],
      "execution_count": null,
      "outputs": [
        {
          "output_type": "stream",
          "name": "stdout",
          "text": [
            "Collecting papermill\n",
            "  Downloading papermill-2.3.3-py3-none-any.whl (36 kB)\n",
            "Requirement already satisfied: pyyaml in /usr/local/lib/python3.7/dist-packages (from papermill) (5.4.1)\n",
            "Requirement already satisfied: tqdm>=4.32.2 in /usr/local/lib/python3.7/dist-packages (from papermill) (4.62.3)\n",
            "Requirement already satisfied: requests in /usr/local/lib/python3.7/dist-packages (from papermill) (2.23.0)\n",
            "Collecting ansiwrap\n",
            "  Downloading ansiwrap-0.8.4-py2.py3-none-any.whl (8.5 kB)\n",
            "Collecting black\n",
            "  Downloading black-21.11b1-py3-none-any.whl (155 kB)\n",
            "\u001b[K     |████████████████████████████████| 155 kB 6.0 MB/s \n",
            "\u001b[?25hRequirement already satisfied: click in /usr/local/lib/python3.7/dist-packages (from papermill) (7.1.2)\n",
            "Requirement already satisfied: nbformat>=5.1.2 in /usr/local/lib/python3.7/dist-packages (from papermill) (5.1.3)\n",
            "Requirement already satisfied: nbclient>=0.2.0 in /usr/local/lib/python3.7/dist-packages (from papermill) (0.5.8)\n",
            "Collecting tenacity\n",
            "  Downloading tenacity-8.0.1-py3-none-any.whl (24 kB)\n",
            "Requirement already satisfied: entrypoints in /usr/local/lib/python3.7/dist-packages (from papermill) (0.3)\n",
            "Collecting jupyter-client>=6.1.5\n",
            "  Downloading jupyter_client-7.0.6-py3-none-any.whl (125 kB)\n",
            "\u001b[K     |████████████████████████████████| 125 kB 22.7 MB/s \n",
            "\u001b[?25hRequirement already satisfied: nest-asyncio in /usr/local/lib/python3.7/dist-packages (from nbclient>=0.2.0->papermill) (1.5.1)\n",
            "Requirement already satisfied: traitlets>=4.2 in /usr/local/lib/python3.7/dist-packages (from nbclient>=0.2.0->papermill) (5.1.1)\n",
            "Requirement already satisfied: pyzmq>=13 in /usr/local/lib/python3.7/dist-packages (from jupyter-client>=6.1.5->nbclient>=0.2.0->papermill) (22.3.0)\n",
            "Requirement already satisfied: tornado>=4.1 in /usr/local/lib/python3.7/dist-packages (from jupyter-client>=6.1.5->nbclient>=0.2.0->papermill) (5.1.1)\n",
            "Requirement already satisfied: python-dateutil>=2.1 in /usr/local/lib/python3.7/dist-packages (from jupyter-client>=6.1.5->nbclient>=0.2.0->papermill) (2.8.2)\n",
            "Requirement already satisfied: jupyter-core>=4.6.0 in /usr/local/lib/python3.7/dist-packages (from jupyter-client>=6.1.5->nbclient>=0.2.0->papermill) (4.9.1)\n",
            "Requirement already satisfied: ipython-genutils in /usr/local/lib/python3.7/dist-packages (from nbformat>=5.1.2->papermill) (0.2.0)\n",
            "Requirement already satisfied: jsonschema!=2.5.0,>=2.4 in /usr/local/lib/python3.7/dist-packages (from nbformat>=5.1.2->papermill) (2.6.0)\n",
            "Requirement already satisfied: six>=1.5 in /usr/local/lib/python3.7/dist-packages (from python-dateutil>=2.1->jupyter-client>=6.1.5->nbclient>=0.2.0->papermill) (1.15.0)\n",
            "Collecting textwrap3>=0.9.2\n",
            "  Downloading textwrap3-0.9.2-py2.py3-none-any.whl (12 kB)\n",
            "Requirement already satisfied: regex>=2021.4.4 in /usr/local/lib/python3.7/dist-packages (from black->papermill) (2021.11.10)\n",
            "Collecting mypy-extensions>=0.4.3\n",
            "  Downloading mypy_extensions-0.4.3-py2.py3-none-any.whl (4.5 kB)\n",
            "Requirement already satisfied: typing-extensions>=3.10.0.0 in /usr/local/lib/python3.7/dist-packages (from black->papermill) (3.10.0.2)\n",
            "Collecting pathspec<1,>=0.9.0\n",
            "  Downloading pathspec-0.9.0-py2.py3-none-any.whl (31 kB)\n",
            "Requirement already satisfied: tomli<2.0.0,>=0.2.6 in /usr/local/lib/python3.7/dist-packages (from black->papermill) (1.2.2)\n",
            "Collecting typed-ast>=1.4.2\n",
            "  Downloading typed_ast-1.5.0-cp37-cp37m-manylinux_2_5_x86_64.manylinux1_x86_64.manylinux_2_12_x86_64.manylinux2010_x86_64.whl (843 kB)\n",
            "\u001b[K     |████████████████████████████████| 843 kB 30.5 MB/s \n",
            "\u001b[?25hCollecting platformdirs>=2\n",
            "  Downloading platformdirs-2.4.0-py3-none-any.whl (14 kB)\n",
            "Requirement already satisfied: idna<3,>=2.5 in /usr/local/lib/python3.7/dist-packages (from requests->papermill) (2.10)\n",
            "Requirement already satisfied: chardet<4,>=3.0.2 in /usr/local/lib/python3.7/dist-packages (from requests->papermill) (3.0.4)\n",
            "Requirement already satisfied: urllib3!=1.25.0,!=1.25.1,<1.26,>=1.21.1 in /usr/local/lib/python3.7/dist-packages (from requests->papermill) (1.24.3)\n",
            "Requirement already satisfied: certifi>=2017.4.17 in /usr/local/lib/python3.7/dist-packages (from requests->papermill) (2021.10.8)\n",
            "Installing collected packages: typed-ast, textwrap3, platformdirs, pathspec, mypy-extensions, jupyter-client, tenacity, black, ansiwrap, papermill\n",
            "  Attempting uninstall: jupyter-client\n",
            "    Found existing installation: jupyter-client 5.3.5\n",
            "    Uninstalling jupyter-client-5.3.5:\n",
            "      Successfully uninstalled jupyter-client-5.3.5\n",
            "Successfully installed ansiwrap-0.8.4 black-21.11b1 jupyter-client-7.0.6 mypy-extensions-0.4.3 papermill-2.3.3 pathspec-0.9.0 platformdirs-2.4.0 tenacity-8.0.1 textwrap3-0.9.2 typed-ast-1.5.0\n"
          ]
        },
        {
          "output_type": "display_data",
          "data": {
            "application/vnd.colab-display-data+json": {
              "pip_warning": {
                "packages": [
                  "jupyter_client"
                ]
              }
            }
          },
          "metadata": {}
        }
      ]
    },
    {
      "cell_type": "code",
      "metadata": {
        "colab": {
          "base_uri": "https://localhost:8080/"
        },
        "id": "HWJxrHnJkntc",
        "outputId": "edea0c47-0762-4f62-ec7d-3dc5fb492875"
      },
      "source": [
        "!pip install scrapbook"
      ],
      "execution_count": null,
      "outputs": [
        {
          "output_type": "stream",
          "name": "stdout",
          "text": [
            "Collecting scrapbook\n",
            "  Downloading scrapbook-0.5.0-py3-none-any.whl (34 kB)\n",
            "Requirement already satisfied: pandas in /usr/local/lib/python3.7/dist-packages (from scrapbook) (1.1.5)\n",
            "Requirement already satisfied: pyarrow in /usr/local/lib/python3.7/dist-packages (from scrapbook) (3.0.0)\n",
            "Requirement already satisfied: ipython in /usr/local/lib/python3.7/dist-packages (from scrapbook) (5.5.0)\n",
            "Requirement already satisfied: jsonschema in /usr/local/lib/python3.7/dist-packages (from scrapbook) (2.6.0)\n",
            "Requirement already satisfied: papermill in /usr/local/lib/python3.7/dist-packages (from scrapbook) (2.3.3)\n",
            "Requirement already satisfied: prompt-toolkit<2.0.0,>=1.0.4 in /usr/local/lib/python3.7/dist-packages (from ipython->scrapbook) (1.0.18)\n",
            "Requirement already satisfied: pygments in /usr/local/lib/python3.7/dist-packages (from ipython->scrapbook) (2.6.1)\n",
            "Requirement already satisfied: pickleshare in /usr/local/lib/python3.7/dist-packages (from ipython->scrapbook) (0.7.5)\n",
            "Requirement already satisfied: setuptools>=18.5 in /usr/local/lib/python3.7/dist-packages (from ipython->scrapbook) (57.4.0)\n",
            "Requirement already satisfied: pexpect in /usr/local/lib/python3.7/dist-packages (from ipython->scrapbook) (4.8.0)\n",
            "Requirement already satisfied: traitlets>=4.2 in /usr/local/lib/python3.7/dist-packages (from ipython->scrapbook) (5.1.1)\n",
            "Requirement already satisfied: simplegeneric>0.8 in /usr/local/lib/python3.7/dist-packages (from ipython->scrapbook) (0.8.1)\n",
            "Requirement already satisfied: decorator in /usr/local/lib/python3.7/dist-packages (from ipython->scrapbook) (4.4.2)\n",
            "Requirement already satisfied: six>=1.9.0 in /usr/local/lib/python3.7/dist-packages (from prompt-toolkit<2.0.0,>=1.0.4->ipython->scrapbook) (1.15.0)\n",
            "Requirement already satisfied: wcwidth in /usr/local/lib/python3.7/dist-packages (from prompt-toolkit<2.0.0,>=1.0.4->ipython->scrapbook) (0.2.5)\n",
            "Requirement already satisfied: pytz>=2017.2 in /usr/local/lib/python3.7/dist-packages (from pandas->scrapbook) (2018.9)\n",
            "Requirement already satisfied: python-dateutil>=2.7.3 in /usr/local/lib/python3.7/dist-packages (from pandas->scrapbook) (2.8.2)\n",
            "Requirement already satisfied: numpy>=1.15.4 in /usr/local/lib/python3.7/dist-packages (from pandas->scrapbook) (1.19.5)\n",
            "Requirement already satisfied: tenacity in /usr/local/lib/python3.7/dist-packages (from papermill->scrapbook) (8.0.1)\n",
            "Requirement already satisfied: tqdm>=4.32.2 in /usr/local/lib/python3.7/dist-packages (from papermill->scrapbook) (4.62.3)\n",
            "Requirement already satisfied: click in /usr/local/lib/python3.7/dist-packages (from papermill->scrapbook) (7.1.2)\n",
            "Requirement already satisfied: pyyaml in /usr/local/lib/python3.7/dist-packages (from papermill->scrapbook) (5.4.1)\n",
            "Requirement already satisfied: ansiwrap in /usr/local/lib/python3.7/dist-packages (from papermill->scrapbook) (0.8.4)\n",
            "Requirement already satisfied: nbformat>=5.1.2 in /usr/local/lib/python3.7/dist-packages (from papermill->scrapbook) (5.1.3)\n",
            "Requirement already satisfied: black in /usr/local/lib/python3.7/dist-packages (from papermill->scrapbook) (21.11b1)\n",
            "Requirement already satisfied: entrypoints in /usr/local/lib/python3.7/dist-packages (from papermill->scrapbook) (0.3)\n",
            "Requirement already satisfied: nbclient>=0.2.0 in /usr/local/lib/python3.7/dist-packages (from papermill->scrapbook) (0.5.8)\n",
            "Requirement already satisfied: requests in /usr/local/lib/python3.7/dist-packages (from papermill->scrapbook) (2.23.0)\n",
            "Requirement already satisfied: nest-asyncio in /usr/local/lib/python3.7/dist-packages (from nbclient>=0.2.0->papermill->scrapbook) (1.5.1)\n",
            "Requirement already satisfied: jupyter-client>=6.1.5 in /usr/local/lib/python3.7/dist-packages (from nbclient>=0.2.0->papermill->scrapbook) (7.0.6)\n",
            "Requirement already satisfied: jupyter-core>=4.6.0 in /usr/local/lib/python3.7/dist-packages (from jupyter-client>=6.1.5->nbclient>=0.2.0->papermill->scrapbook) (4.9.1)\n",
            "Requirement already satisfied: tornado>=4.1 in /usr/local/lib/python3.7/dist-packages (from jupyter-client>=6.1.5->nbclient>=0.2.0->papermill->scrapbook) (5.1.1)\n",
            "Requirement already satisfied: pyzmq>=13 in /usr/local/lib/python3.7/dist-packages (from jupyter-client>=6.1.5->nbclient>=0.2.0->papermill->scrapbook) (22.3.0)\n",
            "Requirement already satisfied: ipython-genutils in /usr/local/lib/python3.7/dist-packages (from nbformat>=5.1.2->papermill->scrapbook) (0.2.0)\n",
            "Requirement already satisfied: textwrap3>=0.9.2 in /usr/local/lib/python3.7/dist-packages (from ansiwrap->papermill->scrapbook) (0.9.2)\n",
            "Requirement already satisfied: mypy-extensions>=0.4.3 in /usr/local/lib/python3.7/dist-packages (from black->papermill->scrapbook) (0.4.3)\n",
            "Requirement already satisfied: typed-ast>=1.4.2 in /usr/local/lib/python3.7/dist-packages (from black->papermill->scrapbook) (1.5.0)\n",
            "Requirement already satisfied: regex>=2021.4.4 in /usr/local/lib/python3.7/dist-packages (from black->papermill->scrapbook) (2021.11.10)\n",
            "Requirement already satisfied: platformdirs>=2 in /usr/local/lib/python3.7/dist-packages (from black->papermill->scrapbook) (2.4.0)\n",
            "Requirement already satisfied: pathspec<1,>=0.9.0 in /usr/local/lib/python3.7/dist-packages (from black->papermill->scrapbook) (0.9.0)\n",
            "Requirement already satisfied: typing-extensions>=3.10.0.0 in /usr/local/lib/python3.7/dist-packages (from black->papermill->scrapbook) (3.10.0.2)\n",
            "Requirement already satisfied: tomli<2.0.0,>=0.2.6 in /usr/local/lib/python3.7/dist-packages (from black->papermill->scrapbook) (1.2.2)\n",
            "Requirement already satisfied: ptyprocess>=0.5 in /usr/local/lib/python3.7/dist-packages (from pexpect->ipython->scrapbook) (0.7.0)\n",
            "Requirement already satisfied: urllib3!=1.25.0,!=1.25.1,<1.26,>=1.21.1 in /usr/local/lib/python3.7/dist-packages (from requests->papermill->scrapbook) (1.24.3)\n",
            "Requirement already satisfied: chardet<4,>=3.0.2 in /usr/local/lib/python3.7/dist-packages (from requests->papermill->scrapbook) (3.0.4)\n",
            "Requirement already satisfied: idna<3,>=2.5 in /usr/local/lib/python3.7/dist-packages (from requests->papermill->scrapbook) (2.10)\n",
            "Requirement already satisfied: certifi>=2017.4.17 in /usr/local/lib/python3.7/dist-packages (from requests->papermill->scrapbook) (2021.10.8)\n",
            "Installing collected packages: scrapbook\n",
            "Successfully installed scrapbook-0.5.0\n"
          ]
        }
      ]
    },
    {
      "cell_type": "code",
      "metadata": {
        "colab": {
          "base_uri": "https://localhost:8080/"
        },
        "id": "LDNA4-AykPT3",
        "outputId": "07a4dd0a-efac-4c7c-afd1-93e89bddb1c1"
      },
      "source": [
        "import sys\n",
        "import os\n",
        "import papermill as pm\n",
        "import scrapbook as sb\n",
        "import pandas as pd\n",
        "import numpy as np\n",
        "import tensorflow as tf\n",
        "tf.get_logger().setLevel('ERROR') # only show error messages\n",
        "\n",
        "from recommenders.utils.timer import Timer\n",
        "from recommenders.models.deeprec.models.graphrec.lightgcn import LightGCN\n",
        "from recommenders.models.deeprec.DataModel.ImplicitCF import ImplicitCF\n",
        "from recommenders.datasets import movielens\n",
        "from recommenders.datasets.python_splitters import python_stratified_split\n",
        "from recommenders.evaluation.python_evaluation import map_at_k, ndcg_at_k, precision_at_k, recall_at_k\n",
        "from recommenders.utils.constants import SEED as DEFAULT_SEED\n",
        "from recommenders.models.deeprec.deeprec_utils import prepare_hparams\n",
        "\n",
        "print(\"System version: {}\".format(sys.version))\n",
        "print(\"Pandas version: {}\".format(pd.__version__))\n",
        "print(\"Tensorflow version: {}\".format(tf.__version__))"
      ],
      "execution_count": null,
      "outputs": [
        {
          "output_type": "stream",
          "name": "stdout",
          "text": [
            "System version: 3.7.12 (default, Sep 10 2021, 00:21:48) \n",
            "[GCC 7.5.0]\n",
            "Pandas version: 1.1.5\n",
            "Tensorflow version: 1.15.2\n"
          ]
        }
      ]
    },
    {
      "cell_type": "code",
      "metadata": {
        "id": "fIlZoV4vkTg2"
      },
      "source": [
        "# top k items to recommend\n",
        "TOP_K = 10\n",
        "\n",
        "# Select MovieLens data size: 100k, 1m, 10m, or 20m\n",
        "MOVIELENS_DATA_SIZE = '100k'\n",
        "\n",
        "# Model parameters\n",
        "EPOCHS = 50\n",
        "BATCH_SIZE = 1024\n",
        "\n",
        "SEED = DEFAULT_SEED  # Set None for non-deterministic results\n",
        "\n",
        "yaml_file = \"../../recommenders/models/deeprec/config/lightgcn.yaml\"\n",
        "user_file = \"../../tests/resources/deeprec/lightgcn/user_embeddings.csv\"\n",
        "item_file = \"../../tests/resources/deeprec/lightgcn/item_embeddings.csv\""
      ],
      "execution_count": null,
      "outputs": []
    },
    {
      "cell_type": "code",
      "metadata": {
        "colab": {
          "base_uri": "https://localhost:8080/",
          "height": 223
        },
        "id": "Try8H82OkYE_",
        "outputId": "5a3b5777-af1e-4e2f-e022-b91709145e6e"
      },
      "source": [
        "df = movielens.load_pandas_df(size=MOVIELENS_DATA_SIZE, title_col=\"movie_title\")\n",
        "\n",
        "df.head()"
      ],
      "execution_count": null,
      "outputs": [
        {
          "output_type": "stream",
          "name": "stderr",
          "text": [
            "100%|██████████| 4.81k/4.81k [00:00<00:00, 16.4kKB/s]\n"
          ]
        },
        {
          "output_type": "execute_result",
          "data": {
            "text/html": [
              "<div>\n",
              "<style scoped>\n",
              "    .dataframe tbody tr th:only-of-type {\n",
              "        vertical-align: middle;\n",
              "    }\n",
              "\n",
              "    .dataframe tbody tr th {\n",
              "        vertical-align: top;\n",
              "    }\n",
              "\n",
              "    .dataframe thead th {\n",
              "        text-align: right;\n",
              "    }\n",
              "</style>\n",
              "<table border=\"1\" class=\"dataframe\">\n",
              "  <thead>\n",
              "    <tr style=\"text-align: right;\">\n",
              "      <th></th>\n",
              "      <th>userID</th>\n",
              "      <th>itemID</th>\n",
              "      <th>rating</th>\n",
              "      <th>timestamp</th>\n",
              "      <th>movie_title</th>\n",
              "    </tr>\n",
              "  </thead>\n",
              "  <tbody>\n",
              "    <tr>\n",
              "      <th>0</th>\n",
              "      <td>196</td>\n",
              "      <td>242</td>\n",
              "      <td>3.0</td>\n",
              "      <td>881250949</td>\n",
              "      <td>Kolya (1996)</td>\n",
              "    </tr>\n",
              "    <tr>\n",
              "      <th>1</th>\n",
              "      <td>63</td>\n",
              "      <td>242</td>\n",
              "      <td>3.0</td>\n",
              "      <td>875747190</td>\n",
              "      <td>Kolya (1996)</td>\n",
              "    </tr>\n",
              "    <tr>\n",
              "      <th>2</th>\n",
              "      <td>226</td>\n",
              "      <td>242</td>\n",
              "      <td>5.0</td>\n",
              "      <td>883888671</td>\n",
              "      <td>Kolya (1996)</td>\n",
              "    </tr>\n",
              "    <tr>\n",
              "      <th>3</th>\n",
              "      <td>154</td>\n",
              "      <td>242</td>\n",
              "      <td>3.0</td>\n",
              "      <td>879138235</td>\n",
              "      <td>Kolya (1996)</td>\n",
              "    </tr>\n",
              "    <tr>\n",
              "      <th>4</th>\n",
              "      <td>306</td>\n",
              "      <td>242</td>\n",
              "      <td>5.0</td>\n",
              "      <td>876503793</td>\n",
              "      <td>Kolya (1996)</td>\n",
              "    </tr>\n",
              "  </tbody>\n",
              "</table>\n",
              "</div>"
            ],
            "text/plain": [
              "   userID  itemID  rating  timestamp   movie_title\n",
              "0     196     242     3.0  881250949  Kolya (1996)\n",
              "1      63     242     3.0  875747190  Kolya (1996)\n",
              "2     226     242     5.0  883888671  Kolya (1996)\n",
              "3     154     242     3.0  879138235  Kolya (1996)\n",
              "4     306     242     5.0  876503793  Kolya (1996)"
            ]
          },
          "metadata": {},
          "execution_count": 9
        }
      ]
    },
    {
      "cell_type": "code",
      "metadata": {
        "id": "zLYcAT37kbe-"
      },
      "source": [
        "train, test = python_stratified_split(df, ratio=0.75)"
      ],
      "execution_count": null,
      "outputs": []
    },
    {
      "cell_type": "code",
      "metadata": {
        "id": "m5DSdXlfkqee"
      },
      "source": [
        "data = ImplicitCF(train=train, test=test, seed=SEED)"
      ],
      "execution_count": null,
      "outputs": []
    },
    {
      "cell_type": "code",
      "metadata": {
        "id": "8RI_OWJWkt_X"
      },
      "source": [
        "hparams = prepare_hparams('/content/recommenders/recommenders/models/deeprec/config/lightgcn.yaml',\n",
        "                          n_layers=3,\n",
        "                          batch_size=BATCH_SIZE,\n",
        "                          epochs=EPOCHS,\n",
        "                          learning_rate=0.005,\n",
        "                          eval_epoch=5,\n",
        "                          top_k=TOP_K,\n",
        "                         )"
      ],
      "execution_count": null,
      "outputs": []
    },
    {
      "cell_type": "code",
      "metadata": {
        "colab": {
          "base_uri": "https://localhost:8080/"
        },
        "id": "Pkak0hHqkyh3",
        "outputId": "9b19f1e1-bdcf-4a65-b884-3ab36a2a936b"
      },
      "source": [
        "model = LightGCN(hparams, data, seed=SEED)"
      ],
      "execution_count": null,
      "outputs": [
        {
          "output_type": "stream",
          "name": "stdout",
          "text": [
            "Already create adjacency matrix.\n",
            "Already normalize adjacency matrix.\n",
            "Using xavier initialization.\n"
          ]
        }
      ]
    },
    {
      "cell_type": "code",
      "metadata": {
        "colab": {
          "base_uri": "https://localhost:8080/"
        },
        "id": "uuNdH6cvlJWG",
        "outputId": "ae3d0f7f-4e13-4eb3-b071-85a04e521713"
      },
      "source": [
        "with Timer() as train_time:\n",
        "    model.fit()\n",
        "\n",
        "print(\"Took {} seconds for training.\".format(train_time.interval))"
      ],
      "execution_count": null,
      "outputs": [
        {
          "output_type": "stream",
          "name": "stdout",
          "text": [
            "Epoch 1 (train)1.4s: train loss = 0.46603 = (mf)0.46579 + (embed)0.00025\n",
            "Epoch 2 (train)0.9s: train loss = 0.27655 = (mf)0.27590 + (embed)0.00065\n",
            "Epoch 3 (train)0.9s: train loss = 0.24837 = (mf)0.24756 + (embed)0.00081\n",
            "Epoch 4 (train)0.9s: train loss = 0.23141 = (mf)0.23043 + (embed)0.00098\n",
            "Epoch 5 (train)0.9s + (eval)0.9s: train loss = 0.22196 = (mf)0.22085 + (embed)0.00111, recall = 0.13091, ndcg = 0.29662, precision = 0.26575, map = 0.06727\n",
            "Epoch 6 (train)0.9s: train loss = 0.21733 = (mf)0.21612 + (embed)0.00121\n",
            "Epoch 7 (train)0.9s: train loss = 0.21148 = (mf)0.21018 + (embed)0.00130\n",
            "Epoch 8 (train)0.9s: train loss = 0.20132 = (mf)0.19991 + (embed)0.00141\n",
            "Epoch 9 (train)0.8s: train loss = 0.19043 = (mf)0.18887 + (embed)0.00156\n",
            "Epoch 10 (train)0.9s + (eval)0.2s: train loss = 0.18149 = (mf)0.17975 + (embed)0.00173, recall = 0.14678, ndcg = 0.33228, precision = 0.30255, map = 0.07813\n",
            "Epoch 11 (train)0.8s: train loss = 0.17338 = (mf)0.17149 + (embed)0.00189\n",
            "Epoch 12 (train)0.8s: train loss = 0.16790 = (mf)0.16585 + (embed)0.00205\n",
            "Epoch 13 (train)0.9s: train loss = 0.16513 = (mf)0.16295 + (embed)0.00218\n",
            "Epoch 14 (train)0.9s: train loss = 0.16267 = (mf)0.16037 + (embed)0.00230\n",
            "Epoch 15 (train)0.9s + (eval)0.2s: train loss = 0.15904 = (mf)0.15666 + (embed)0.00238, recall = 0.15873, ndcg = 0.34836, precision = 0.31750, map = 0.08500\n",
            "Epoch 16 (train)0.8s: train loss = 0.15626 = (mf)0.15377 + (embed)0.00249\n",
            "Epoch 17 (train)0.9s: train loss = 0.15328 = (mf)0.15069 + (embed)0.00259\n",
            "Epoch 18 (train)0.9s: train loss = 0.15185 = (mf)0.14917 + (embed)0.00268\n",
            "Epoch 19 (train)0.9s: train loss = 0.15176 = (mf)0.14898 + (embed)0.00277\n",
            "Epoch 20 (train)0.8s + (eval)0.2s: train loss = 0.14940 = (mf)0.14652 + (embed)0.00288, recall = 0.16393, ndcg = 0.36177, precision = 0.32916, map = 0.09041\n",
            "Epoch 21 (train)0.8s: train loss = 0.14583 = (mf)0.14286 + (embed)0.00298\n",
            "Epoch 22 (train)0.8s: train loss = 0.14239 = (mf)0.13929 + (embed)0.00309\n",
            "Epoch 23 (train)0.8s: train loss = 0.13964 = (mf)0.13643 + (embed)0.00321\n",
            "Epoch 24 (train)0.8s: train loss = 0.13573 = (mf)0.13241 + (embed)0.00332\n",
            "Epoch 25 (train)0.8s + (eval)0.2s: train loss = 0.13906 = (mf)0.13563 + (embed)0.00343, recall = 0.17891, ndcg = 0.38502, precision = 0.34910, map = 0.10016\n",
            "Epoch 26 (train)0.8s: train loss = 0.13174 = (mf)0.12821 + (embed)0.00353\n",
            "Epoch 27 (train)0.9s: train loss = 0.13121 = (mf)0.12756 + (embed)0.00365\n",
            "Epoch 28 (train)0.9s: train loss = 0.12833 = (mf)0.12457 + (embed)0.00377\n",
            "Epoch 29 (train)0.9s: train loss = 0.12945 = (mf)0.12557 + (embed)0.00389\n",
            "Epoch 30 (train)0.8s + (eval)0.2s: train loss = 0.12604 = (mf)0.12205 + (embed)0.00398, recall = 0.18194, ndcg = 0.39876, precision = 0.35567, map = 0.10792\n",
            "Epoch 31 (train)0.8s: train loss = 0.12606 = (mf)0.12194 + (embed)0.00411\n",
            "Epoch 32 (train)0.9s: train loss = 0.12419 = (mf)0.11995 + (embed)0.00424\n",
            "Epoch 33 (train)0.8s: train loss = 0.11846 = (mf)0.11411 + (embed)0.00434\n",
            "Epoch 34 (train)0.9s: train loss = 0.11768 = (mf)0.11321 + (embed)0.00447\n",
            "Epoch 35 (train)0.9s + (eval)0.2s: train loss = 0.11633 = (mf)0.11175 + (embed)0.00458, recall = 0.18716, ndcg = 0.40741, precision = 0.36288, map = 0.11220\n",
            "Epoch 36 (train)0.9s: train loss = 0.11637 = (mf)0.11167 + (embed)0.00470\n",
            "Epoch 37 (train)0.8s: train loss = 0.11502 = (mf)0.11020 + (embed)0.00482\n",
            "Epoch 38 (train)0.9s: train loss = 0.11236 = (mf)0.10743 + (embed)0.00493\n",
            "Epoch 39 (train)0.9s: train loss = 0.11160 = (mf)0.10654 + (embed)0.00506\n",
            "Epoch 40 (train)0.9s + (eval)0.2s: train loss = 0.10990 = (mf)0.10472 + (embed)0.00517, recall = 0.18848, ndcg = 0.41466, precision = 0.36925, map = 0.11602\n",
            "Epoch 41 (train)0.9s: train loss = 0.11042 = (mf)0.10513 + (embed)0.00529\n",
            "Epoch 42 (train)0.9s: train loss = 0.10643 = (mf)0.10102 + (embed)0.00541\n",
            "Epoch 43 (train)0.8s: train loss = 0.10310 = (mf)0.09758 + (embed)0.00553\n",
            "Epoch 44 (train)0.9s: train loss = 0.10234 = (mf)0.09667 + (embed)0.00567\n",
            "Epoch 45 (train)0.9s + (eval)0.2s: train loss = 0.10201 = (mf)0.09622 + (embed)0.00579, recall = 0.18811, ndcg = 0.41188, precision = 0.36511, map = 0.11444\n",
            "Epoch 46 (train)0.9s: train loss = 0.10023 = (mf)0.09430 + (embed)0.00593\n",
            "Epoch 47 (train)0.9s: train loss = 0.10182 = (mf)0.09577 + (embed)0.00605\n",
            "Epoch 48 (train)0.8s: train loss = 0.10048 = (mf)0.09431 + (embed)0.00617\n",
            "Epoch 49 (train)0.8s: train loss = 0.09863 = (mf)0.09234 + (embed)0.00629\n",
            "Epoch 50 (train)0.9s + (eval)0.2s: train loss = 0.09532 = (mf)0.08889 + (embed)0.00643, recall = 0.19389, ndcg = 0.42168, precision = 0.37497, map = 0.11731\n",
            "Took 46.23594958500007 seconds for training.\n"
          ]
        }
      ]
    },
    {
      "cell_type": "code",
      "metadata": {
        "colab": {
          "base_uri": "https://localhost:8080/",
          "height": 206
        },
        "id": "f2F92PZplMFG",
        "outputId": "c6f56070-3f43-4e8f-a00e-f43e8150dad9"
      },
      "source": [
        "topk_scores = model.recommend_k_items(test, top_k=TOP_K, remove_seen=True)\n",
        "\n",
        "topk_scores.head()"
      ],
      "execution_count": null,
      "outputs": [
        {
          "output_type": "execute_result",
          "data": {
            "text/html": [
              "<div>\n",
              "<style scoped>\n",
              "    .dataframe tbody tr th:only-of-type {\n",
              "        vertical-align: middle;\n",
              "    }\n",
              "\n",
              "    .dataframe tbody tr th {\n",
              "        vertical-align: top;\n",
              "    }\n",
              "\n",
              "    .dataframe thead th {\n",
              "        text-align: right;\n",
              "    }\n",
              "</style>\n",
              "<table border=\"1\" class=\"dataframe\">\n",
              "  <thead>\n",
              "    <tr style=\"text-align: right;\">\n",
              "      <th></th>\n",
              "      <th>userID</th>\n",
              "      <th>itemID</th>\n",
              "      <th>prediction</th>\n",
              "    </tr>\n",
              "  </thead>\n",
              "  <tbody>\n",
              "    <tr>\n",
              "      <th>0</th>\n",
              "      <td>1</td>\n",
              "      <td>98</td>\n",
              "      <td>5.605149</td>\n",
              "    </tr>\n",
              "    <tr>\n",
              "      <th>1</th>\n",
              "      <td>1</td>\n",
              "      <td>423</td>\n",
              "      <td>5.212590</td>\n",
              "    </tr>\n",
              "    <tr>\n",
              "      <th>2</th>\n",
              "      <td>1</td>\n",
              "      <td>69</td>\n",
              "      <td>5.202885</td>\n",
              "    </tr>\n",
              "    <tr>\n",
              "      <th>3</th>\n",
              "      <td>1</td>\n",
              "      <td>919</td>\n",
              "      <td>5.160753</td>\n",
              "    </tr>\n",
              "    <tr>\n",
              "      <th>4</th>\n",
              "      <td>1</td>\n",
              "      <td>408</td>\n",
              "      <td>5.160677</td>\n",
              "    </tr>\n",
              "  </tbody>\n",
              "</table>\n",
              "</div>"
            ],
            "text/plain": [
              "   userID  itemID  prediction\n",
              "0       1      98    5.605149\n",
              "1       1     423    5.212590\n",
              "2       1      69    5.202885\n",
              "3       1     919    5.160753\n",
              "4       1     408    5.160677"
            ]
          },
          "metadata": {},
          "execution_count": 15
        }
      ]
    },
    {
      "cell_type": "code",
      "metadata": {
        "id": "OgKHbWwfMgG5",
        "colab": {
          "base_uri": "https://localhost:8080/"
        },
        "outputId": "958f356a-9f32-4c6a-e372-575409691555"
      },
      "source": [
        "eval_map = map_at_k(test, topk_scores, k=TOP_K)\n",
        "eval_ndcg = ndcg_at_k(test, topk_scores, k=TOP_K)\n",
        "eval_precision = precision_at_k(test, topk_scores, k=TOP_K)\n",
        "eval_recall = recall_at_k(test, topk_scores, k=TOP_K)\n",
        "\n",
        "print(\"MAP:\\t%f\" % eval_map,\n",
        "      \"NDCG:\\t%f\" % eval_ndcg,\n",
        "      \"Precision@K:\\t%f\" % eval_precision,\n",
        "      \"Recall@K:\\t%f\" % eval_recall, sep='\\n')"
      ],
      "execution_count": null,
      "outputs": [
        {
          "output_type": "stream",
          "name": "stdout",
          "text": [
            "MAP:\t0.117308\n",
            "NDCG:\t0.421679\n",
            "Precision@K:\t0.374973\n",
            "Recall@K:\t0.193888\n"
          ]
        }
      ]
    },
    {
      "cell_type": "code",
      "metadata": {
        "colab": {
          "base_uri": "https://localhost:8080/",
          "height": 17
        },
        "id": "HwOVFBcZlWfd",
        "outputId": "22b321dc-f78f-4e09-eb72-ed35a9c569b4"
      },
      "source": [
        "# Record results with papermill for tests\n",
        "sb.glue(\"map\", eval_map)\n",
        "sb.glue(\"ndcg\", eval_ndcg)\n",
        "sb.glue(\"precision\", eval_precision)\n",
        "sb.glue(\"recall\", eval_recall)"
      ],
      "execution_count": null,
      "outputs": [
        {
          "output_type": "display_data",
          "data": {
            "application/scrapbook.scrap.json+json": {
              "version": 1,
              "data": 0.11730792730580648,
              "name": "map",
              "encoder": "json"
            }
          },
          "metadata": {
            "scrapbook": {
              "data": true,
              "name": "map",
              "display": false
            }
          }
        },
        {
          "output_type": "display_data",
          "data": {
            "application/scrapbook.scrap.json+json": {
              "version": 1,
              "data": 0.42167881655021033,
              "name": "ndcg",
              "encoder": "json"
            }
          },
          "metadata": {
            "scrapbook": {
              "data": true,
              "name": "ndcg",
              "display": false
            }
          }
        },
        {
          "output_type": "display_data",
          "data": {
            "application/scrapbook.scrap.json+json": {
              "version": 1,
              "data": 0.37497348886532345,
              "name": "precision",
              "encoder": "json"
            }
          },
          "metadata": {
            "scrapbook": {
              "data": true,
              "name": "precision",
              "display": false
            }
          }
        },
        {
          "output_type": "display_data",
          "data": {
            "application/scrapbook.scrap.json+json": {
              "version": 1,
              "data": 0.19388773756128475,
              "name": "recall",
              "encoder": "json"
            }
          },
          "metadata": {
            "scrapbook": {
              "data": true,
              "name": "recall",
              "display": false
            }
          }
        }
      ]
    },
    {
      "cell_type": "code",
      "metadata": {
        "id": "h4KBkjDXla1m"
      },
      "source": [
        "model.infer_embedding(user_file, item_file)"
      ],
      "execution_count": null,
      "outputs": []
    },
    {
      "cell_type": "code",
      "metadata": {
        "colab": {
          "base_uri": "https://localhost:8080/",
          "height": 423
        },
        "id": "_tkLiqGSlfGm",
        "outputId": "b13e03a4-8c83-4a9a-e76a-5bef976c4b40"
      },
      "source": [
        "topk_scores"
      ],
      "execution_count": null,
      "outputs": [
        {
          "output_type": "execute_result",
          "data": {
            "text/html": [
              "<div>\n",
              "<style scoped>\n",
              "    .dataframe tbody tr th:only-of-type {\n",
              "        vertical-align: middle;\n",
              "    }\n",
              "\n",
              "    .dataframe tbody tr th {\n",
              "        vertical-align: top;\n",
              "    }\n",
              "\n",
              "    .dataframe thead th {\n",
              "        text-align: right;\n",
              "    }\n",
              "</style>\n",
              "<table border=\"1\" class=\"dataframe\">\n",
              "  <thead>\n",
              "    <tr style=\"text-align: right;\">\n",
              "      <th></th>\n",
              "      <th>userID</th>\n",
              "      <th>itemID</th>\n",
              "      <th>prediction</th>\n",
              "    </tr>\n",
              "  </thead>\n",
              "  <tbody>\n",
              "    <tr>\n",
              "      <th>0</th>\n",
              "      <td>1</td>\n",
              "      <td>98</td>\n",
              "      <td>5.605149</td>\n",
              "    </tr>\n",
              "    <tr>\n",
              "      <th>1</th>\n",
              "      <td>1</td>\n",
              "      <td>423</td>\n",
              "      <td>5.212590</td>\n",
              "    </tr>\n",
              "    <tr>\n",
              "      <th>2</th>\n",
              "      <td>1</td>\n",
              "      <td>69</td>\n",
              "      <td>5.202885</td>\n",
              "    </tr>\n",
              "    <tr>\n",
              "      <th>3</th>\n",
              "      <td>1</td>\n",
              "      <td>919</td>\n",
              "      <td>5.160753</td>\n",
              "    </tr>\n",
              "    <tr>\n",
              "      <th>4</th>\n",
              "      <td>1</td>\n",
              "      <td>408</td>\n",
              "      <td>5.160677</td>\n",
              "    </tr>\n",
              "    <tr>\n",
              "      <th>...</th>\n",
              "      <td>...</td>\n",
              "      <td>...</td>\n",
              "      <td>...</td>\n",
              "    </tr>\n",
              "    <tr>\n",
              "      <th>9425</th>\n",
              "      <td>943</td>\n",
              "      <td>550</td>\n",
              "      <td>6.984333</td>\n",
              "    </tr>\n",
              "    <tr>\n",
              "      <th>9426</th>\n",
              "      <td>943</td>\n",
              "      <td>405</td>\n",
              "      <td>6.982658</td>\n",
              "    </tr>\n",
              "    <tr>\n",
              "      <th>9427</th>\n",
              "      <td>943</td>\n",
              "      <td>88</td>\n",
              "      <td>6.895860</td>\n",
              "    </tr>\n",
              "    <tr>\n",
              "      <th>9428</th>\n",
              "      <td>943</td>\n",
              "      <td>144</td>\n",
              "      <td>6.858283</td>\n",
              "    </tr>\n",
              "    <tr>\n",
              "      <th>9429</th>\n",
              "      <td>943</td>\n",
              "      <td>82</td>\n",
              "      <td>6.817086</td>\n",
              "    </tr>\n",
              "  </tbody>\n",
              "</table>\n",
              "<p>9430 rows × 3 columns</p>\n",
              "</div>"
            ],
            "text/plain": [
              "      userID  itemID  prediction\n",
              "0          1      98    5.605149\n",
              "1          1     423    5.212590\n",
              "2          1      69    5.202885\n",
              "3          1     919    5.160753\n",
              "4          1     408    5.160677\n",
              "...      ...     ...         ...\n",
              "9425     943     550    6.984333\n",
              "9426     943     405    6.982658\n",
              "9427     943      88    6.895860\n",
              "9428     943     144    6.858283\n",
              "9429     943      82    6.817086\n",
              "\n",
              "[9430 rows x 3 columns]"
            ]
          },
          "metadata": {},
          "execution_count": 19
        }
      ]
    },
    {
      "cell_type": "code",
      "metadata": {
        "id": "NNtbeDRqgAFJ"
      },
      "source": [
        "id_to_title = {}\n",
        "\n",
        "for i in range(len(df)):\n",
        "    curr_id = df['itemID'].iloc[i]\n",
        "\n",
        "    if not curr_id in id_to_title:\n",
        "        id_to_title[curr_id] = df['movie_title'].iloc[i]"
      ],
      "execution_count": null,
      "outputs": []
    },
    {
      "cell_type": "code",
      "metadata": {
        "id": "GIKH88Uj_Rdo"
      },
      "source": [
        "topk_scores['movie_title'] = ''"
      ],
      "execution_count": null,
      "outputs": []
    },
    {
      "cell_type": "code",
      "metadata": {
        "colab": {
          "base_uri": "https://localhost:8080/"
        },
        "id": "7Iz0uf7S_krP",
        "outputId": "f1bcf587-4845-45a8-b07e-fc6e67db5413"
      },
      "source": [
        "for i in range(len(topk_scores)):\n",
        "    curr_id = topk_scores['itemID'].iloc[i]\n",
        "    if curr_id in id_to_title:\n",
        "        topk_scores['movie_title'].iloc[i] = id_to_title[curr_id]\n",
        "    else:\n",
        "        print(\"No movie title exists for itemID:\", curr_id)"
      ],
      "execution_count": null,
      "outputs": [
        {
          "output_type": "stream",
          "name": "stderr",
          "text": [
            "/usr/local/lib/python3.7/dist-packages/pandas/core/indexing.py:670: SettingWithCopyWarning: \n",
            "A value is trying to be set on a copy of a slice from a DataFrame\n",
            "\n",
            "See the caveats in the documentation: https://pandas.pydata.org/pandas-docs/stable/user_guide/indexing.html#returning-a-view-versus-a-copy\n",
            "  iloc._setitem_with_indexer(indexer, value)\n"
          ]
        }
      ]
    },
    {
      "cell_type": "code",
      "metadata": {
        "colab": {
          "base_uri": "https://localhost:8080/",
          "height": 1000
        },
        "id": "JwF_-IUL_szg",
        "outputId": "40d1724b-1430-421b-9725-239a9c714af2"
      },
      "source": [
        "topk_scores.head(50)"
      ],
      "execution_count": null,
      "outputs": [
        {
          "output_type": "execute_result",
          "data": {
            "text/html": [
              "<div>\n",
              "<style scoped>\n",
              "    .dataframe tbody tr th:only-of-type {\n",
              "        vertical-align: middle;\n",
              "    }\n",
              "\n",
              "    .dataframe tbody tr th {\n",
              "        vertical-align: top;\n",
              "    }\n",
              "\n",
              "    .dataframe thead th {\n",
              "        text-align: right;\n",
              "    }\n",
              "</style>\n",
              "<table border=\"1\" class=\"dataframe\">\n",
              "  <thead>\n",
              "    <tr style=\"text-align: right;\">\n",
              "      <th></th>\n",
              "      <th>userID</th>\n",
              "      <th>itemID</th>\n",
              "      <th>prediction</th>\n",
              "      <th>movie_title</th>\n",
              "    </tr>\n",
              "  </thead>\n",
              "  <tbody>\n",
              "    <tr>\n",
              "      <th>0</th>\n",
              "      <td>1</td>\n",
              "      <td>98</td>\n",
              "      <td>5.605149</td>\n",
              "      <td>Silence of the Lambs, The (1991)</td>\n",
              "    </tr>\n",
              "    <tr>\n",
              "      <th>1</th>\n",
              "      <td>1</td>\n",
              "      <td>423</td>\n",
              "      <td>5.212590</td>\n",
              "      <td>E.T. the Extra-Terrestrial (1982)</td>\n",
              "    </tr>\n",
              "    <tr>\n",
              "      <th>2</th>\n",
              "      <td>1</td>\n",
              "      <td>69</td>\n",
              "      <td>5.202885</td>\n",
              "      <td>Forrest Gump (1994)</td>\n",
              "    </tr>\n",
              "    <tr>\n",
              "      <th>3</th>\n",
              "      <td>1</td>\n",
              "      <td>919</td>\n",
              "      <td>5.160753</td>\n",
              "      <td>City of Lost Children, The (1995)</td>\n",
              "    </tr>\n",
              "    <tr>\n",
              "      <th>4</th>\n",
              "      <td>1</td>\n",
              "      <td>408</td>\n",
              "      <td>5.160677</td>\n",
              "      <td>Close Shave, A (1995)</td>\n",
              "    </tr>\n",
              "    <tr>\n",
              "      <th>5</th>\n",
              "      <td>1</td>\n",
              "      <td>403</td>\n",
              "      <td>5.146070</td>\n",
              "      <td>Batman (1989)</td>\n",
              "    </tr>\n",
              "    <tr>\n",
              "      <th>6</th>\n",
              "      <td>1</td>\n",
              "      <td>405</td>\n",
              "      <td>5.107685</td>\n",
              "      <td>Mission: Impossible (1996)</td>\n",
              "    </tr>\n",
              "    <tr>\n",
              "      <th>7</th>\n",
              "      <td>1</td>\n",
              "      <td>56</td>\n",
              "      <td>5.097847</td>\n",
              "      <td>Pulp Fiction (1994)</td>\n",
              "    </tr>\n",
              "    <tr>\n",
              "      <th>8</th>\n",
              "      <td>1</td>\n",
              "      <td>28</td>\n",
              "      <td>5.071700</td>\n",
              "      <td>Apollo 13 (1995)</td>\n",
              "    </tr>\n",
              "    <tr>\n",
              "      <th>9</th>\n",
              "      <td>1</td>\n",
              "      <td>91</td>\n",
              "      <td>5.071423</td>\n",
              "      <td>Nightmare Before Christmas, The (1993)</td>\n",
              "    </tr>\n",
              "    <tr>\n",
              "      <th>10</th>\n",
              "      <td>2</td>\n",
              "      <td>269</td>\n",
              "      <td>9.146544</td>\n",
              "      <td>Full Monty, The (1997)</td>\n",
              "    </tr>\n",
              "    <tr>\n",
              "      <th>11</th>\n",
              "      <td>2</td>\n",
              "      <td>301</td>\n",
              "      <td>8.365659</td>\n",
              "      <td>In &amp; Out (1997)</td>\n",
              "    </tr>\n",
              "    <tr>\n",
              "      <th>12</th>\n",
              "      <td>2</td>\n",
              "      <td>258</td>\n",
              "      <td>8.318935</td>\n",
              "      <td>Contact (1997)</td>\n",
              "    </tr>\n",
              "    <tr>\n",
              "      <th>13</th>\n",
              "      <td>2</td>\n",
              "      <td>100</td>\n",
              "      <td>8.143295</td>\n",
              "      <td>Fargo (1996)</td>\n",
              "    </tr>\n",
              "    <tr>\n",
              "      <th>14</th>\n",
              "      <td>2</td>\n",
              "      <td>319</td>\n",
              "      <td>8.019478</td>\n",
              "      <td>Everyone Says I Love You (1996)</td>\n",
              "    </tr>\n",
              "    <tr>\n",
              "      <th>15</th>\n",
              "      <td>2</td>\n",
              "      <td>321</td>\n",
              "      <td>7.981482</td>\n",
              "      <td>Mother (1996)</td>\n",
              "    </tr>\n",
              "    <tr>\n",
              "      <th>16</th>\n",
              "      <td>2</td>\n",
              "      <td>328</td>\n",
              "      <td>7.657369</td>\n",
              "      <td>Conspiracy Theory (1997)</td>\n",
              "    </tr>\n",
              "    <tr>\n",
              "      <th>17</th>\n",
              "      <td>2</td>\n",
              "      <td>340</td>\n",
              "      <td>7.593014</td>\n",
              "      <td>Boogie Nights (1997)</td>\n",
              "    </tr>\n",
              "    <tr>\n",
              "      <th>18</th>\n",
              "      <td>2</td>\n",
              "      <td>9</td>\n",
              "      <td>7.360773</td>\n",
              "      <td>Dead Man Walking (1995)</td>\n",
              "    </tr>\n",
              "    <tr>\n",
              "      <th>19</th>\n",
              "      <td>2</td>\n",
              "      <td>322</td>\n",
              "      <td>7.339818</td>\n",
              "      <td>Murder at 1600 (1997)</td>\n",
              "    </tr>\n",
              "    <tr>\n",
              "      <th>20</th>\n",
              "      <td>3</td>\n",
              "      <td>286</td>\n",
              "      <td>9.406867</td>\n",
              "      <td>English Patient, The (1996)</td>\n",
              "    </tr>\n",
              "    <tr>\n",
              "      <th>21</th>\n",
              "      <td>3</td>\n",
              "      <td>358</td>\n",
              "      <td>9.146033</td>\n",
              "      <td>Spawn (1997)</td>\n",
              "    </tr>\n",
              "    <tr>\n",
              "      <th>22</th>\n",
              "      <td>3</td>\n",
              "      <td>682</td>\n",
              "      <td>9.043990</td>\n",
              "      <td>I Know What You Did Last Summer (1997)</td>\n",
              "    </tr>\n",
              "    <tr>\n",
              "      <th>23</th>\n",
              "      <td>3</td>\n",
              "      <td>307</td>\n",
              "      <td>8.930876</td>\n",
              "      <td>Devil's Advocate, The (1997)</td>\n",
              "    </tr>\n",
              "    <tr>\n",
              "      <th>24</th>\n",
              "      <td>3</td>\n",
              "      <td>326</td>\n",
              "      <td>8.922251</td>\n",
              "      <td>G.I. Jane (1997)</td>\n",
              "    </tr>\n",
              "    <tr>\n",
              "      <th>25</th>\n",
              "      <td>3</td>\n",
              "      <td>313</td>\n",
              "      <td>8.694178</td>\n",
              "      <td>Titanic (1997)</td>\n",
              "    </tr>\n",
              "    <tr>\n",
              "      <th>26</th>\n",
              "      <td>3</td>\n",
              "      <td>690</td>\n",
              "      <td>8.681956</td>\n",
              "      <td>Seven Years in Tibet (1997)</td>\n",
              "    </tr>\n",
              "    <tr>\n",
              "      <th>27</th>\n",
              "      <td>3</td>\n",
              "      <td>748</td>\n",
              "      <td>8.602561</td>\n",
              "      <td>Saint, The (1997)</td>\n",
              "    </tr>\n",
              "    <tr>\n",
              "      <th>28</th>\n",
              "      <td>3</td>\n",
              "      <td>879</td>\n",
              "      <td>8.572162</td>\n",
              "      <td>Peacemaker, The (1997)</td>\n",
              "    </tr>\n",
              "    <tr>\n",
              "      <th>29</th>\n",
              "      <td>3</td>\n",
              "      <td>292</td>\n",
              "      <td>8.446248</td>\n",
              "      <td>Rosewood (1997)</td>\n",
              "    </tr>\n",
              "    <tr>\n",
              "      <th>30</th>\n",
              "      <td>4</td>\n",
              "      <td>245</td>\n",
              "      <td>8.658689</td>\n",
              "      <td>Devil's Own, The (1997)</td>\n",
              "    </tr>\n",
              "    <tr>\n",
              "      <th>31</th>\n",
              "      <td>4</td>\n",
              "      <td>332</td>\n",
              "      <td>7.952504</td>\n",
              "      <td>Kiss the Girls (1997)</td>\n",
              "    </tr>\n",
              "    <tr>\n",
              "      <th>32</th>\n",
              "      <td>4</td>\n",
              "      <td>333</td>\n",
              "      <td>7.885343</td>\n",
              "      <td>Game, The (1997)</td>\n",
              "    </tr>\n",
              "    <tr>\n",
              "      <th>33</th>\n",
              "      <td>4</td>\n",
              "      <td>302</td>\n",
              "      <td>7.612092</td>\n",
              "      <td>L.A. Confidential (1997)</td>\n",
              "    </tr>\n",
              "    <tr>\n",
              "      <th>34</th>\n",
              "      <td>4</td>\n",
              "      <td>322</td>\n",
              "      <td>7.475977</td>\n",
              "      <td>Murder at 1600 (1997)</td>\n",
              "    </tr>\n",
              "    <tr>\n",
              "      <th>35</th>\n",
              "      <td>4</td>\n",
              "      <td>879</td>\n",
              "      <td>7.469004</td>\n",
              "      <td>Peacemaker, The (1997)</td>\n",
              "    </tr>\n",
              "    <tr>\n",
              "      <th>36</th>\n",
              "      <td>4</td>\n",
              "      <td>331</td>\n",
              "      <td>7.377065</td>\n",
              "      <td>Edge, The (1997)</td>\n",
              "    </tr>\n",
              "    <tr>\n",
              "      <th>37</th>\n",
              "      <td>4</td>\n",
              "      <td>310</td>\n",
              "      <td>7.337248</td>\n",
              "      <td>Rainmaker, The (1997)</td>\n",
              "    </tr>\n",
              "    <tr>\n",
              "      <th>38</th>\n",
              "      <td>4</td>\n",
              "      <td>326</td>\n",
              "      <td>7.265320</td>\n",
              "      <td>G.I. Jane (1997)</td>\n",
              "    </tr>\n",
              "    <tr>\n",
              "      <th>39</th>\n",
              "      <td>4</td>\n",
              "      <td>286</td>\n",
              "      <td>7.257910</td>\n",
              "      <td>English Patient, The (1996)</td>\n",
              "    </tr>\n",
              "    <tr>\n",
              "      <th>40</th>\n",
              "      <td>5</td>\n",
              "      <td>559</td>\n",
              "      <td>6.451025</td>\n",
              "      <td>Interview with the Vampire (1994)</td>\n",
              "    </tr>\n",
              "    <tr>\n",
              "      <th>41</th>\n",
              "      <td>5</td>\n",
              "      <td>217</td>\n",
              "      <td>6.305295</td>\n",
              "      <td>Bram Stoker's Dracula (1992)</td>\n",
              "    </tr>\n",
              "    <tr>\n",
              "      <th>42</th>\n",
              "      <td>5</td>\n",
              "      <td>91</td>\n",
              "      <td>6.298903</td>\n",
              "      <td>Nightmare Before Christmas, The (1993)</td>\n",
              "    </tr>\n",
              "    <tr>\n",
              "      <th>43</th>\n",
              "      <td>5</td>\n",
              "      <td>82</td>\n",
              "      <td>6.283564</td>\n",
              "      <td>Jurassic Park (1993)</td>\n",
              "    </tr>\n",
              "    <tr>\n",
              "      <th>44</th>\n",
              "      <td>5</td>\n",
              "      <td>228</td>\n",
              "      <td>6.171349</td>\n",
              "      <td>Star Trek: The Wrath of Khan (1982)</td>\n",
              "    </tr>\n",
              "    <tr>\n",
              "      <th>45</th>\n",
              "      <td>5</td>\n",
              "      <td>755</td>\n",
              "      <td>6.090333</td>\n",
              "      <td>Jumanji (1995)</td>\n",
              "    </tr>\n",
              "    <tr>\n",
              "      <th>46</th>\n",
              "      <td>5</td>\n",
              "      <td>227</td>\n",
              "      <td>6.055542</td>\n",
              "      <td>Star Trek VI: The Undiscovered Country (1991)</td>\n",
              "    </tr>\n",
              "    <tr>\n",
              "      <th>47</th>\n",
              "      <td>5</td>\n",
              "      <td>161</td>\n",
              "      <td>6.024511</td>\n",
              "      <td>Top Gun (1986)</td>\n",
              "    </tr>\n",
              "    <tr>\n",
              "      <th>48</th>\n",
              "      <td>5</td>\n",
              "      <td>588</td>\n",
              "      <td>5.956861</td>\n",
              "      <td>Beauty and the Beast (1991)</td>\n",
              "    </tr>\n",
              "    <tr>\n",
              "      <th>49</th>\n",
              "      <td>5</td>\n",
              "      <td>625</td>\n",
              "      <td>5.950045</td>\n",
              "      <td>Sword in the Stone, The (1963)</td>\n",
              "    </tr>\n",
              "  </tbody>\n",
              "</table>\n",
              "</div>"
            ],
            "text/plain": [
              "    userID  itemID  prediction                                    movie_title\n",
              "0        1      98    5.605149               Silence of the Lambs, The (1991)\n",
              "1        1     423    5.212590              E.T. the Extra-Terrestrial (1982)\n",
              "2        1      69    5.202885                            Forrest Gump (1994)\n",
              "3        1     919    5.160753              City of Lost Children, The (1995)\n",
              "4        1     408    5.160677                          Close Shave, A (1995)\n",
              "5        1     403    5.146070                                  Batman (1989)\n",
              "6        1     405    5.107685                     Mission: Impossible (1996)\n",
              "7        1      56    5.097847                            Pulp Fiction (1994)\n",
              "8        1      28    5.071700                               Apollo 13 (1995)\n",
              "9        1      91    5.071423         Nightmare Before Christmas, The (1993)\n",
              "10       2     269    9.146544                         Full Monty, The (1997)\n",
              "11       2     301    8.365659                                In & Out (1997)\n",
              "12       2     258    8.318935                                 Contact (1997)\n",
              "13       2     100    8.143295                                   Fargo (1996)\n",
              "14       2     319    8.019478                Everyone Says I Love You (1996)\n",
              "15       2     321    7.981482                                  Mother (1996)\n",
              "16       2     328    7.657369                       Conspiracy Theory (1997)\n",
              "17       2     340    7.593014                           Boogie Nights (1997)\n",
              "18       2       9    7.360773                        Dead Man Walking (1995)\n",
              "19       2     322    7.339818                          Murder at 1600 (1997)\n",
              "20       3     286    9.406867                    English Patient, The (1996)\n",
              "21       3     358    9.146033                                   Spawn (1997)\n",
              "22       3     682    9.043990         I Know What You Did Last Summer (1997)\n",
              "23       3     307    8.930876                   Devil's Advocate, The (1997)\n",
              "24       3     326    8.922251                               G.I. Jane (1997)\n",
              "25       3     313    8.694178                                 Titanic (1997)\n",
              "26       3     690    8.681956                    Seven Years in Tibet (1997)\n",
              "27       3     748    8.602561                              Saint, The (1997)\n",
              "28       3     879    8.572162                         Peacemaker, The (1997)\n",
              "29       3     292    8.446248                                Rosewood (1997)\n",
              "30       4     245    8.658689                        Devil's Own, The (1997)\n",
              "31       4     332    7.952504                          Kiss the Girls (1997)\n",
              "32       4     333    7.885343                               Game, The (1997)\n",
              "33       4     302    7.612092                       L.A. Confidential (1997)\n",
              "34       4     322    7.475977                          Murder at 1600 (1997)\n",
              "35       4     879    7.469004                         Peacemaker, The (1997)\n",
              "36       4     331    7.377065                               Edge, The (1997)\n",
              "37       4     310    7.337248                          Rainmaker, The (1997)\n",
              "38       4     326    7.265320                               G.I. Jane (1997)\n",
              "39       4     286    7.257910                    English Patient, The (1996)\n",
              "40       5     559    6.451025              Interview with the Vampire (1994)\n",
              "41       5     217    6.305295                   Bram Stoker's Dracula (1992)\n",
              "42       5      91    6.298903         Nightmare Before Christmas, The (1993)\n",
              "43       5      82    6.283564                           Jurassic Park (1993)\n",
              "44       5     228    6.171349            Star Trek: The Wrath of Khan (1982)\n",
              "45       5     755    6.090333                                 Jumanji (1995)\n",
              "46       5     227    6.055542  Star Trek VI: The Undiscovered Country (1991)\n",
              "47       5     161    6.024511                                 Top Gun (1986)\n",
              "48       5     588    5.956861                    Beauty and the Beast (1991)\n",
              "49       5     625    5.950045                 Sword in the Stone, The (1963)"
            ]
          },
          "metadata": {},
          "execution_count": 23
        }
      ]
    },
    {
      "cell_type": "code",
      "metadata": {
        "id": "UQcNuWT0_xPT"
      },
      "source": [
        "topk_scores.to_csv(\"top10_lightGCN.csv\")"
      ],
      "execution_count": null,
      "outputs": []
    },
    {
      "cell_type": "code",
      "metadata": {
        "id": "2g4G6yV0E0JZ"
      },
      "source": [],
      "execution_count": null,
      "outputs": []
    },
    {
      "cell_type": "markdown",
      "metadata": {
        "id": "dzGAOkCsJI9U"
      },
      "source": [
        "# **Experiments**"
      ]
    },
    {
      "cell_type": "markdown",
      "metadata": {
        "id": "d7Ba89X7JgQb"
      },
      "source": [
        "## Top k = 20"
      ]
    },
    {
      "cell_type": "code",
      "metadata": {
        "id": "REXII4H-JNI_"
      },
      "source": [
        "# top k items to recommend\n",
        "TOP_K = 20"
      ],
      "execution_count": null,
      "outputs": []
    },
    {
      "cell_type": "code",
      "metadata": {
        "id": "F9xAsCtWJ1Mc"
      },
      "source": [
        "hparams = prepare_hparams('/content/recommenders/recommenders/models/deeprec/config/lightgcn.yaml',\n",
        "                          n_layers=3,\n",
        "                          batch_size=BATCH_SIZE,\n",
        "                          epochs=EPOCHS,\n",
        "                          learning_rate=0.005,\n",
        "                          eval_epoch=5,\n",
        "                          top_k=TOP_K,\n",
        "                         )"
      ],
      "execution_count": null,
      "outputs": []
    },
    {
      "cell_type": "code",
      "metadata": {
        "colab": {
          "base_uri": "https://localhost:8080/"
        },
        "id": "3fHigAG5J2Yr",
        "outputId": "b570c057-5b2f-4fa9-e5b4-2a71e170acb3"
      },
      "source": [
        "model = LightGCN(hparams, data, seed=SEED)"
      ],
      "execution_count": null,
      "outputs": [
        {
          "output_type": "stream",
          "name": "stdout",
          "text": [
            "Already create adjacency matrix.\n",
            "Already normalize adjacency matrix.\n",
            "Using xavier initialization.\n"
          ]
        }
      ]
    },
    {
      "cell_type": "code",
      "metadata": {
        "colab": {
          "base_uri": "https://localhost:8080/"
        },
        "id": "wv_fOi1gJ765",
        "outputId": "8b07720d-0f81-495c-a4c0-b02b94c89933"
      },
      "source": [
        "with Timer() as train_time:\n",
        "    model.fit()\n",
        "\n",
        "print(\"Took {} seconds for training.\".format(train_time.interval))"
      ],
      "execution_count": null,
      "outputs": [
        {
          "output_type": "stream",
          "name": "stdout",
          "text": [
            "Epoch 1 (train)1.3s: train loss = 0.46632 = (mf)0.46607 + (embed)0.00024\n",
            "Epoch 2 (train)0.9s: train loss = 0.27984 = (mf)0.27920 + (embed)0.00064\n",
            "Epoch 3 (train)0.9s: train loss = 0.24628 = (mf)0.24547 + (embed)0.00081\n",
            "Epoch 4 (train)0.9s: train loss = 0.23294 = (mf)0.23197 + (embed)0.00097\n",
            "Epoch 5 (train)0.9s + (eval)0.3s: train loss = 0.22447 = (mf)0.22336 + (embed)0.00110, recall = 0.22034, ndcg = 0.29744, precision = 0.22731, map = 0.09263\n",
            "Epoch 6 (train)0.9s: train loss = 0.21859 = (mf)0.21738 + (embed)0.00121\n",
            "Epoch 7 (train)0.9s: train loss = 0.20841 = (mf)0.20709 + (embed)0.00132\n",
            "Epoch 8 (train)0.9s: train loss = 0.19767 = (mf)0.19622 + (embed)0.00145\n",
            "Epoch 9 (train)0.9s: train loss = 0.18702 = (mf)0.18542 + (embed)0.00160\n",
            "Epoch 10 (train)0.9s + (eval)0.2s: train loss = 0.17480 = (mf)0.17304 + (embed)0.00176, recall = 0.25625, ndcg = 0.33916, precision = 0.26241, map = 0.11180\n",
            "Epoch 11 (train)0.8s: train loss = 0.17110 = (mf)0.16918 + (embed)0.00192\n",
            "Epoch 12 (train)0.8s: train loss = 0.16693 = (mf)0.16488 + (embed)0.00205\n",
            "Epoch 13 (train)0.8s: train loss = 0.16109 = (mf)0.15890 + (embed)0.00219\n",
            "Epoch 14 (train)0.8s: train loss = 0.15823 = (mf)0.15592 + (embed)0.00231\n",
            "Epoch 15 (train)0.8s + (eval)0.3s: train loss = 0.15800 = (mf)0.15559 + (embed)0.00240, recall = 0.26679, ndcg = 0.34898, precision = 0.27036, map = 0.11760\n",
            "Epoch 16 (train)0.8s: train loss = 0.15691 = (mf)0.15441 + (embed)0.00250\n",
            "Epoch 17 (train)0.8s: train loss = 0.15411 = (mf)0.15151 + (embed)0.00260\n",
            "Epoch 18 (train)0.8s: train loss = 0.15356 = (mf)0.15088 + (embed)0.00268\n",
            "Epoch 19 (train)0.9s: train loss = 0.14957 = (mf)0.14679 + (embed)0.00278\n",
            "Epoch 20 (train)0.9s + (eval)0.3s: train loss = 0.14970 = (mf)0.14683 + (embed)0.00287, recall = 0.27589, ndcg = 0.36256, precision = 0.27821, map = 0.12585\n",
            "Epoch 21 (train)0.8s: train loss = 0.14565 = (mf)0.14268 + (embed)0.00297\n",
            "Epoch 22 (train)0.8s: train loss = 0.14306 = (mf)0.13998 + (embed)0.00308\n",
            "Epoch 23 (train)0.8s: train loss = 0.14048 = (mf)0.13728 + (embed)0.00320\n",
            "Epoch 24 (train)0.8s: train loss = 0.13465 = (mf)0.13134 + (embed)0.00331\n",
            "Epoch 25 (train)0.8s + (eval)0.3s: train loss = 0.13418 = (mf)0.13075 + (embed)0.00343, recall = 0.28996, ndcg = 0.38445, precision = 0.29141, map = 0.13872\n",
            "Epoch 26 (train)0.8s: train loss = 0.13501 = (mf)0.13148 + (embed)0.00354\n",
            "Epoch 27 (train)0.9s: train loss = 0.13264 = (mf)0.12900 + (embed)0.00364\n",
            "Epoch 28 (train)0.8s: train loss = 0.12959 = (mf)0.12583 + (embed)0.00376\n",
            "Epoch 29 (train)0.8s: train loss = 0.12877 = (mf)0.12490 + (embed)0.00387\n",
            "Epoch 30 (train)0.8s + (eval)0.3s: train loss = 0.12345 = (mf)0.11947 + (embed)0.00399, recall = 0.30170, ndcg = 0.39965, precision = 0.30032, map = 0.14821\n",
            "Epoch 31 (train)0.9s: train loss = 0.12383 = (mf)0.11973 + (embed)0.00410\n",
            "Epoch 32 (train)0.8s: train loss = 0.12477 = (mf)0.12054 + (embed)0.00423\n",
            "Epoch 33 (train)0.8s: train loss = 0.12048 = (mf)0.11613 + (embed)0.00435\n",
            "Epoch 34 (train)0.8s: train loss = 0.12040 = (mf)0.11594 + (embed)0.00446\n",
            "Epoch 35 (train)0.9s + (eval)0.3s: train loss = 0.11526 = (mf)0.11068 + (embed)0.00458, recall = 0.30719, ndcg = 0.40642, precision = 0.30472, map = 0.15280\n",
            "Epoch 36 (train)0.9s: train loss = 0.11423 = (mf)0.10953 + (embed)0.00470\n",
            "Epoch 37 (train)0.9s: train loss = 0.11372 = (mf)0.10889 + (embed)0.00482\n",
            "Epoch 38 (train)0.9s: train loss = 0.11129 = (mf)0.10634 + (embed)0.00495\n",
            "Epoch 39 (train)0.9s: train loss = 0.11219 = (mf)0.10711 + (embed)0.00508\n",
            "Epoch 40 (train)0.8s + (eval)0.3s: train loss = 0.11080 = (mf)0.10562 + (embed)0.00518, recall = 0.30861, ndcg = 0.41085, precision = 0.30801, map = 0.15544\n",
            "Epoch 41 (train)0.9s: train loss = 0.10773 = (mf)0.10241 + (embed)0.00531\n",
            "Epoch 42 (train)0.9s: train loss = 0.10538 = (mf)0.09994 + (embed)0.00543\n",
            "Epoch 43 (train)0.9s: train loss = 0.10624 = (mf)0.10069 + (embed)0.00555\n",
            "Epoch 44 (train)0.9s: train loss = 0.10249 = (mf)0.09681 + (embed)0.00568\n",
            "Epoch 45 (train)0.8s + (eval)0.3s: train loss = 0.10084 = (mf)0.09503 + (embed)0.00581, recall = 0.31191, ndcg = 0.41995, precision = 0.31082, map = 0.16108\n",
            "Epoch 46 (train)0.9s: train loss = 0.10053 = (mf)0.09459 + (embed)0.00594\n",
            "Epoch 47 (train)0.8s: train loss = 0.09977 = (mf)0.09370 + (embed)0.00607\n",
            "Epoch 48 (train)0.9s: train loss = 0.09847 = (mf)0.09227 + (embed)0.00620\n",
            "Epoch 49 (train)0.8s: train loss = 0.09840 = (mf)0.09210 + (embed)0.00630\n",
            "Epoch 50 (train)0.8s + (eval)0.2s: train loss = 0.09677 = (mf)0.09034 + (embed)0.00642, recall = 0.31289, ndcg = 0.41645, precision = 0.31220, map = 0.15869\n",
            "Took 45.609873773000004 seconds for training.\n"
          ]
        }
      ]
    },
    {
      "cell_type": "code",
      "metadata": {
        "colab": {
          "base_uri": "https://localhost:8080/",
          "height": 676
        },
        "id": "dicZhZakKIKP",
        "outputId": "e9f9a55a-459d-4c74-e90f-53ea87b667ba"
      },
      "source": [
        "topk_scores = model.recommend_k_items(test, top_k=TOP_K, remove_seen=True)\n",
        "\n",
        "topk_scores.head(20)"
      ],
      "execution_count": null,
      "outputs": [
        {
          "output_type": "execute_result",
          "data": {
            "text/html": [
              "<div>\n",
              "<style scoped>\n",
              "    .dataframe tbody tr th:only-of-type {\n",
              "        vertical-align: middle;\n",
              "    }\n",
              "\n",
              "    .dataframe tbody tr th {\n",
              "        vertical-align: top;\n",
              "    }\n",
              "\n",
              "    .dataframe thead th {\n",
              "        text-align: right;\n",
              "    }\n",
              "</style>\n",
              "<table border=\"1\" class=\"dataframe\">\n",
              "  <thead>\n",
              "    <tr style=\"text-align: right;\">\n",
              "      <th></th>\n",
              "      <th>userID</th>\n",
              "      <th>itemID</th>\n",
              "      <th>prediction</th>\n",
              "    </tr>\n",
              "  </thead>\n",
              "  <tbody>\n",
              "    <tr>\n",
              "      <th>0</th>\n",
              "      <td>1</td>\n",
              "      <td>432</td>\n",
              "      <td>5.463423</td>\n",
              "    </tr>\n",
              "    <tr>\n",
              "      <th>1</th>\n",
              "      <td>1</td>\n",
              "      <td>588</td>\n",
              "      <td>5.325284</td>\n",
              "    </tr>\n",
              "    <tr>\n",
              "      <th>2</th>\n",
              "      <td>1</td>\n",
              "      <td>91</td>\n",
              "      <td>5.176545</td>\n",
              "    </tr>\n",
              "    <tr>\n",
              "      <th>3</th>\n",
              "      <td>1</td>\n",
              "      <td>423</td>\n",
              "      <td>5.050925</td>\n",
              "    </tr>\n",
              "    <tr>\n",
              "      <th>4</th>\n",
              "      <td>1</td>\n",
              "      <td>98</td>\n",
              "      <td>4.976696</td>\n",
              "    </tr>\n",
              "    <tr>\n",
              "      <th>5</th>\n",
              "      <td>1</td>\n",
              "      <td>408</td>\n",
              "      <td>4.857318</td>\n",
              "    </tr>\n",
              "    <tr>\n",
              "      <th>6</th>\n",
              "      <td>1</td>\n",
              "      <td>455</td>\n",
              "      <td>4.788646</td>\n",
              "    </tr>\n",
              "    <tr>\n",
              "      <th>7</th>\n",
              "      <td>1</td>\n",
              "      <td>144</td>\n",
              "      <td>4.734303</td>\n",
              "    </tr>\n",
              "    <tr>\n",
              "      <th>8</th>\n",
              "      <td>1</td>\n",
              "      <td>204</td>\n",
              "      <td>4.620700</td>\n",
              "    </tr>\n",
              "    <tr>\n",
              "      <th>9</th>\n",
              "      <td>1</td>\n",
              "      <td>69</td>\n",
              "      <td>4.579631</td>\n",
              "    </tr>\n",
              "    <tr>\n",
              "      <th>10</th>\n",
              "      <td>1</td>\n",
              "      <td>919</td>\n",
              "      <td>4.518382</td>\n",
              "    </tr>\n",
              "    <tr>\n",
              "      <th>11</th>\n",
              "      <td>1</td>\n",
              "      <td>56</td>\n",
              "      <td>4.505291</td>\n",
              "    </tr>\n",
              "    <tr>\n",
              "      <th>12</th>\n",
              "      <td>1</td>\n",
              "      <td>405</td>\n",
              "      <td>4.491292</td>\n",
              "    </tr>\n",
              "    <tr>\n",
              "      <th>13</th>\n",
              "      <td>1</td>\n",
              "      <td>640</td>\n",
              "      <td>4.472256</td>\n",
              "    </tr>\n",
              "    <tr>\n",
              "      <th>14</th>\n",
              "      <td>1</td>\n",
              "      <td>475</td>\n",
              "      <td>4.449017</td>\n",
              "    </tr>\n",
              "    <tr>\n",
              "      <th>15</th>\n",
              "      <td>1</td>\n",
              "      <td>652</td>\n",
              "      <td>4.367570</td>\n",
              "    </tr>\n",
              "    <tr>\n",
              "      <th>16</th>\n",
              "      <td>1</td>\n",
              "      <td>582</td>\n",
              "      <td>4.353735</td>\n",
              "    </tr>\n",
              "    <tr>\n",
              "      <th>17</th>\n",
              "      <td>1</td>\n",
              "      <td>183</td>\n",
              "      <td>4.327775</td>\n",
              "    </tr>\n",
              "    <tr>\n",
              "      <th>18</th>\n",
              "      <td>1</td>\n",
              "      <td>403</td>\n",
              "      <td>4.302929</td>\n",
              "    </tr>\n",
              "    <tr>\n",
              "      <th>19</th>\n",
              "      <td>1</td>\n",
              "      <td>28</td>\n",
              "      <td>4.292222</td>\n",
              "    </tr>\n",
              "  </tbody>\n",
              "</table>\n",
              "</div>"
            ],
            "text/plain": [
              "    userID  itemID  prediction\n",
              "0        1     432    5.463423\n",
              "1        1     588    5.325284\n",
              "2        1      91    5.176545\n",
              "3        1     423    5.050925\n",
              "4        1      98    4.976696\n",
              "5        1     408    4.857318\n",
              "6        1     455    4.788646\n",
              "7        1     144    4.734303\n",
              "8        1     204    4.620700\n",
              "9        1      69    4.579631\n",
              "10       1     919    4.518382\n",
              "11       1      56    4.505291\n",
              "12       1     405    4.491292\n",
              "13       1     640    4.472256\n",
              "14       1     475    4.449017\n",
              "15       1     652    4.367570\n",
              "16       1     582    4.353735\n",
              "17       1     183    4.327775\n",
              "18       1     403    4.302929\n",
              "19       1      28    4.292222"
            ]
          },
          "metadata": {},
          "execution_count": 29
        }
      ]
    },
    {
      "cell_type": "code",
      "metadata": {
        "colab": {
          "base_uri": "https://localhost:8080/"
        },
        "id": "Ckn54u_CKCzW",
        "outputId": "122ac861-7af4-4c24-ec03-13a9e12a9e1f"
      },
      "source": [
        "eval_map = map_at_k(test, topk_scores, k=TOP_K)\n",
        "eval_ndcg = ndcg_at_k(test, topk_scores, k=TOP_K)\n",
        "eval_precision = precision_at_k(test, topk_scores, k=TOP_K)\n",
        "eval_recall = recall_at_k(test, topk_scores, k=TOP_K)\n",
        "\n",
        "print(\"MAP:\\t%f\" % eval_map,\n",
        "      \"NDCG:\\t%f\" % eval_ndcg,\n",
        "      \"Precision@K:\\t%f\" % eval_precision,\n",
        "      \"Recall@K:\\t%f\" % eval_recall, sep='\\n')"
      ],
      "execution_count": null,
      "outputs": [
        {
          "output_type": "stream",
          "name": "stdout",
          "text": [
            "MAP:\t0.158688\n",
            "NDCG:\t0.416448\n",
            "Precision@K:\t0.312195\n",
            "Recall@K:\t0.312891\n"
          ]
        }
      ]
    },
    {
      "cell_type": "code",
      "metadata": {
        "id": "7Drj1IhyKPH-"
      },
      "source": [],
      "execution_count": null,
      "outputs": []
    },
    {
      "cell_type": "markdown",
      "metadata": {
        "id": "ruFWSQRRKcdP"
      },
      "source": [
        "## Top k = 5"
      ]
    },
    {
      "cell_type": "code",
      "metadata": {
        "id": "VCRZAOmSKfzR"
      },
      "source": [
        "# top k items to recommend\n",
        "TOP_K = 5"
      ],
      "execution_count": null,
      "outputs": []
    },
    {
      "cell_type": "code",
      "metadata": {
        "id": "QawhYtOYKg0-"
      },
      "source": [
        "hparams = prepare_hparams('/content/recommenders/recommenders/models/deeprec/config/lightgcn.yaml',\n",
        "                          n_layers=3,\n",
        "                          batch_size=BATCH_SIZE,\n",
        "                          epochs=EPOCHS,\n",
        "                          learning_rate=0.005,\n",
        "                          eval_epoch=5,\n",
        "                          top_k=TOP_K,\n",
        "                         )"
      ],
      "execution_count": null,
      "outputs": []
    },
    {
      "cell_type": "code",
      "metadata": {
        "colab": {
          "base_uri": "https://localhost:8080/"
        },
        "id": "REmmvVdgKj82",
        "outputId": "0b39ef4b-404a-4722-fa29-97ef8bea633a"
      },
      "source": [
        "model = LightGCN(hparams, data, seed=SEED)"
      ],
      "execution_count": null,
      "outputs": [
        {
          "output_type": "stream",
          "name": "stdout",
          "text": [
            "Already create adjacency matrix.\n",
            "Already normalize adjacency matrix.\n",
            "Using xavier initialization.\n"
          ]
        }
      ]
    },
    {
      "cell_type": "code",
      "metadata": {
        "colab": {
          "base_uri": "https://localhost:8080/"
        },
        "id": "G7glE8Y6Km-P",
        "outputId": "4a7290dc-f52d-4406-8774-269c34647ebe"
      },
      "source": [
        "with Timer() as train_time:\n",
        "    model.fit()\n",
        "\n",
        "print(\"Took {} seconds for training.\".format(train_time.interval))"
      ],
      "execution_count": null,
      "outputs": [
        {
          "output_type": "stream",
          "name": "stdout",
          "text": [
            "Epoch 1 (train)1.2s: train loss = 0.46508 = (mf)0.46484 + (embed)0.00024\n",
            "Epoch 2 (train)0.8s: train loss = 0.28421 = (mf)0.28357 + (embed)0.00063\n",
            "Epoch 3 (train)0.8s: train loss = 0.24773 = (mf)0.24692 + (embed)0.00080\n",
            "Epoch 4 (train)0.8s: train loss = 0.22829 = (mf)0.22730 + (embed)0.00099\n",
            "Epoch 5 (train)0.8s + (eval)0.2s: train loss = 0.21923 = (mf)0.21810 + (embed)0.00113, recall = 0.07607, ndcg = 0.32653, precision = 0.31135, map = 0.04954\n",
            "Epoch 6 (train)0.8s: train loss = 0.21374 = (mf)0.21251 + (embed)0.00123\n",
            "Epoch 7 (train)0.8s: train loss = 0.20191 = (mf)0.20056 + (embed)0.00135\n",
            "Epoch 8 (train)0.8s: train loss = 0.19828 = (mf)0.19681 + (embed)0.00148\n",
            "Epoch 9 (train)0.8s: train loss = 0.18507 = (mf)0.18345 + (embed)0.00161\n",
            "Epoch 10 (train)0.8s + (eval)0.2s: train loss = 0.17931 = (mf)0.17755 + (embed)0.00177, recall = 0.07944, ndcg = 0.34661, precision = 0.33128, map = 0.05391\n",
            "Epoch 11 (train)0.8s: train loss = 0.17080 = (mf)0.16888 + (embed)0.00192\n",
            "Epoch 12 (train)0.9s: train loss = 0.16902 = (mf)0.16697 + (embed)0.00205\n",
            "Epoch 13 (train)0.9s: train loss = 0.16370 = (mf)0.16153 + (embed)0.00217\n",
            "Epoch 14 (train)0.9s: train loss = 0.16296 = (mf)0.16067 + (embed)0.00228\n",
            "Epoch 15 (train)0.9s + (eval)0.2s: train loss = 0.15825 = (mf)0.15585 + (embed)0.00240, recall = 0.08872, ndcg = 0.36568, precision = 0.35101, map = 0.05977\n",
            "Epoch 16 (train)0.9s: train loss = 0.15759 = (mf)0.15510 + (embed)0.00249\n",
            "Epoch 17 (train)0.8s: train loss = 0.15401 = (mf)0.15142 + (embed)0.00259\n",
            "Epoch 18 (train)0.9s: train loss = 0.15321 = (mf)0.15052 + (embed)0.00269\n",
            "Epoch 19 (train)0.9s: train loss = 0.14777 = (mf)0.14498 + (embed)0.00279\n",
            "Epoch 20 (train)0.9s + (eval)0.2s: train loss = 0.14529 = (mf)0.14239 + (embed)0.00290, recall = 0.09423, ndcg = 0.37377, precision = 0.36394, map = 0.06269\n",
            "Epoch 21 (train)0.9s: train loss = 0.14373 = (mf)0.14072 + (embed)0.00301\n",
            "Epoch 22 (train)0.9s: train loss = 0.14522 = (mf)0.14212 + (embed)0.00310\n",
            "Epoch 23 (train)0.8s: train loss = 0.13992 = (mf)0.13671 + (embed)0.00321\n",
            "Epoch 24 (train)0.9s: train loss = 0.13940 = (mf)0.13609 + (embed)0.00331\n",
            "Epoch 25 (train)0.9s + (eval)0.2s: train loss = 0.13640 = (mf)0.13297 + (embed)0.00343, recall = 0.09718, ndcg = 0.39641, precision = 0.38134, map = 0.06790\n",
            "Epoch 26 (train)0.8s: train loss = 0.13201 = (mf)0.12847 + (embed)0.00354\n",
            "Epoch 27 (train)0.8s: train loss = 0.12929 = (mf)0.12563 + (embed)0.00366\n",
            "Epoch 28 (train)0.9s: train loss = 0.12803 = (mf)0.12426 + (embed)0.00377\n",
            "Epoch 29 (train)0.8s: train loss = 0.12911 = (mf)0.12523 + (embed)0.00388\n",
            "Epoch 30 (train)0.9s + (eval)0.2s: train loss = 0.12717 = (mf)0.12318 + (embed)0.00399, recall = 0.10999, ndcg = 0.42271, precision = 0.40509, map = 0.07707\n",
            "Epoch 31 (train)0.8s: train loss = 0.12328 = (mf)0.11917 + (embed)0.00411\n",
            "Epoch 32 (train)0.8s: train loss = 0.12057 = (mf)0.11633 + (embed)0.00424\n",
            "Epoch 33 (train)0.8s: train loss = 0.12015 = (mf)0.11581 + (embed)0.00435\n",
            "Epoch 34 (train)0.8s: train loss = 0.11814 = (mf)0.11366 + (embed)0.00448\n",
            "Epoch 35 (train)0.8s + (eval)0.2s: train loss = 0.11850 = (mf)0.11391 + (embed)0.00459, recall = 0.11303, ndcg = 0.43433, precision = 0.41612, map = 0.08023\n",
            "Epoch 36 (train)0.8s: train loss = 0.11533 = (mf)0.11062 + (embed)0.00471\n",
            "Epoch 37 (train)0.8s: train loss = 0.11557 = (mf)0.11075 + (embed)0.00483\n",
            "Epoch 38 (train)0.8s: train loss = 0.11453 = (mf)0.10957 + (embed)0.00495\n",
            "Epoch 39 (train)0.9s: train loss = 0.11013 = (mf)0.10505 + (embed)0.00508\n",
            "Epoch 40 (train)0.9s + (eval)0.2s: train loss = 0.10919 = (mf)0.10400 + (embed)0.00519, recall = 0.11029, ndcg = 0.43516, precision = 0.41739, map = 0.07848\n",
            "Epoch 41 (train)0.8s: train loss = 0.10923 = (mf)0.10389 + (embed)0.00533\n",
            "Epoch 42 (train)0.8s: train loss = 0.10574 = (mf)0.10027 + (embed)0.00547\n",
            "Epoch 43 (train)0.8s: train loss = 0.10737 = (mf)0.10180 + (embed)0.00558\n",
            "Epoch 44 (train)0.8s: train loss = 0.10311 = (mf)0.09740 + (embed)0.00571\n",
            "Epoch 45 (train)0.8s + (eval)0.2s: train loss = 0.10117 = (mf)0.09533 + (embed)0.00584, recall = 0.11195, ndcg = 0.43944, precision = 0.41994, map = 0.08056\n",
            "Epoch 46 (train)0.8s: train loss = 0.10116 = (mf)0.09519 + (embed)0.00596\n",
            "Epoch 47 (train)0.8s: train loss = 0.09929 = (mf)0.09320 + (embed)0.00609\n",
            "Epoch 48 (train)0.8s: train loss = 0.09939 = (mf)0.09316 + (embed)0.00623\n",
            "Epoch 49 (train)0.8s: train loss = 0.09644 = (mf)0.09009 + (embed)0.00635\n",
            "Epoch 50 (train)0.8s + (eval)0.2s: train loss = 0.09658 = (mf)0.09011 + (embed)0.00647, recall = 0.11526, ndcg = 0.44910, precision = 0.43139, map = 0.08325\n",
            "Took 44.621000798999944 seconds for training.\n"
          ]
        }
      ]
    },
    {
      "cell_type": "code",
      "metadata": {
        "colab": {
          "base_uri": "https://localhost:8080/",
          "height": 206
        },
        "id": "YAOVYcL-Kx5z",
        "outputId": "58b4ac82-116f-4692-8778-9d866291140e"
      },
      "source": [
        "topk_scores = model.recommend_k_items(test, top_k=TOP_K, remove_seen=True)\n",
        "\n",
        "topk_scores.head(5)"
      ],
      "execution_count": null,
      "outputs": [
        {
          "output_type": "execute_result",
          "data": {
            "text/html": [
              "<div>\n",
              "<style scoped>\n",
              "    .dataframe tbody tr th:only-of-type {\n",
              "        vertical-align: middle;\n",
              "    }\n",
              "\n",
              "    .dataframe tbody tr th {\n",
              "        vertical-align: top;\n",
              "    }\n",
              "\n",
              "    .dataframe thead th {\n",
              "        text-align: right;\n",
              "    }\n",
              "</style>\n",
              "<table border=\"1\" class=\"dataframe\">\n",
              "  <thead>\n",
              "    <tr style=\"text-align: right;\">\n",
              "      <th></th>\n",
              "      <th>userID</th>\n",
              "      <th>itemID</th>\n",
              "      <th>prediction</th>\n",
              "    </tr>\n",
              "  </thead>\n",
              "  <tbody>\n",
              "    <tr>\n",
              "      <th>0</th>\n",
              "      <td>1</td>\n",
              "      <td>91</td>\n",
              "      <td>6.189005</td>\n",
              "    </tr>\n",
              "    <tr>\n",
              "      <th>1</th>\n",
              "      <td>1</td>\n",
              "      <td>423</td>\n",
              "      <td>5.415013</td>\n",
              "    </tr>\n",
              "    <tr>\n",
              "      <th>2</th>\n",
              "      <td>1</td>\n",
              "      <td>250</td>\n",
              "      <td>5.392583</td>\n",
              "    </tr>\n",
              "    <tr>\n",
              "      <th>3</th>\n",
              "      <td>1</td>\n",
              "      <td>144</td>\n",
              "      <td>5.386691</td>\n",
              "    </tr>\n",
              "    <tr>\n",
              "      <th>4</th>\n",
              "      <td>1</td>\n",
              "      <td>408</td>\n",
              "      <td>5.306597</td>\n",
              "    </tr>\n",
              "  </tbody>\n",
              "</table>\n",
              "</div>"
            ],
            "text/plain": [
              "   userID  itemID  prediction\n",
              "0       1      91    6.189005\n",
              "1       1     423    5.415013\n",
              "2       1     250    5.392583\n",
              "3       1     144    5.386691\n",
              "4       1     408    5.306597"
            ]
          },
          "metadata": {},
          "execution_count": 35
        }
      ]
    },
    {
      "cell_type": "code",
      "metadata": {
        "colab": {
          "base_uri": "https://localhost:8080/"
        },
        "id": "0CykdwrgK2t-",
        "outputId": "dd5b1591-9ab5-4f83-8620-bd248d2d2308"
      },
      "source": [
        "eval_map = map_at_k(test, topk_scores, k=TOP_K)\n",
        "eval_ndcg = ndcg_at_k(test, topk_scores, k=TOP_K)\n",
        "eval_precision = precision_at_k(test, topk_scores, k=TOP_K)\n",
        "eval_recall = recall_at_k(test, topk_scores, k=TOP_K)\n",
        "\n",
        "print(\"MAP:\\t%f\" % eval_map,\n",
        "      \"NDCG:\\t%f\" % eval_ndcg,\n",
        "      \"Precision@K:\\t%f\" % eval_precision,\n",
        "      \"Recall@K:\\t%f\" % eval_recall, sep='\\n')"
      ],
      "execution_count": null,
      "outputs": [
        {
          "output_type": "stream",
          "name": "stdout",
          "text": [
            "MAP:\t0.083254\n",
            "NDCG:\t0.449097\n",
            "Precision@K:\t0.431389\n",
            "Recall@K:\t0.115261\n"
          ]
        }
      ]
    },
    {
      "cell_type": "code",
      "metadata": {
        "id": "3YvvzyS1KqzP"
      },
      "source": [],
      "execution_count": null,
      "outputs": []
    },
    {
      "cell_type": "markdown",
      "metadata": {
        "id": "uX_NhdecK62e"
      },
      "source": [
        "## Batch Size = 2048"
      ]
    },
    {
      "cell_type": "code",
      "metadata": {
        "id": "FNRZzaUOLCve"
      },
      "source": [
        "TOP_K = 10\n",
        "# Model parameters\n",
        "BATCH_SIZE = 2048"
      ],
      "execution_count": null,
      "outputs": []
    },
    {
      "cell_type": "code",
      "metadata": {
        "id": "dC312M3xLUWs"
      },
      "source": [
        "hparams = prepare_hparams('/content/recommenders/recommenders/models/deeprec/config/lightgcn.yaml',\n",
        "                          n_layers=3,\n",
        "                          batch_size=BATCH_SIZE,\n",
        "                          epochs=EPOCHS,\n",
        "                          learning_rate=0.005,\n",
        "                          eval_epoch=5,\n",
        "                          top_k=TOP_K,\n",
        "                         )"
      ],
      "execution_count": null,
      "outputs": []
    },
    {
      "cell_type": "code",
      "metadata": {
        "colab": {
          "base_uri": "https://localhost:8080/"
        },
        "id": "PRUFxmCBLZAn",
        "outputId": "e6c67b09-8d38-4ff1-9a9b-32491721f144"
      },
      "source": [
        "model = LightGCN(hparams, data, seed=SEED)"
      ],
      "execution_count": null,
      "outputs": [
        {
          "output_type": "stream",
          "name": "stdout",
          "text": [
            "Already create adjacency matrix.\n",
            "Already normalize adjacency matrix.\n",
            "Using xavier initialization.\n"
          ]
        }
      ]
    },
    {
      "cell_type": "code",
      "metadata": {
        "colab": {
          "base_uri": "https://localhost:8080/"
        },
        "id": "zMhujUZKLj2Q",
        "outputId": "7fb1e5b6-c671-45ba-a2ba-8d8e8677fbca"
      },
      "source": [
        "with Timer() as train_time:\n",
        "    model.fit()\n",
        "\n",
        "print(\"Took {} seconds for training.\".format(train_time.interval))"
      ],
      "execution_count": null,
      "outputs": [
        {
          "output_type": "stream",
          "name": "stdout",
          "text": [
            "Epoch 1 (train)1.1s: train loss = 0.59008 = (mf)0.59000 + (embed)0.00008\n",
            "Epoch 2 (train)0.6s: train loss = 0.31805 = (mf)0.31759 + (embed)0.00046\n",
            "Epoch 3 (train)0.7s: train loss = 0.28011 = (mf)0.27946 + (embed)0.00065\n",
            "Epoch 4 (train)0.6s: train loss = 0.25728 = (mf)0.25655 + (embed)0.00073\n",
            "Epoch 5 (train)0.6s + (eval)0.3s: train loss = 0.24252 = (mf)0.24168 + (embed)0.00084, recall = 0.12512, ndcg = 0.29105, precision = 0.25801, map = 0.06617\n",
            "Epoch 6 (train)0.7s: train loss = 0.22924 = (mf)0.22829 + (embed)0.00095\n",
            "Epoch 7 (train)0.7s: train loss = 0.22245 = (mf)0.22140 + (embed)0.00105\n",
            "Epoch 8 (train)0.6s: train loss = 0.21716 = (mf)0.21602 + (embed)0.00114\n",
            "Epoch 9 (train)0.6s: train loss = 0.21744 = (mf)0.21624 + (embed)0.00120\n",
            "Epoch 10 (train)0.7s + (eval)0.2s: train loss = 0.21008 = (mf)0.20881 + (embed)0.00127, recall = 0.13368, ndcg = 0.30810, precision = 0.27667, map = 0.07047\n",
            "Epoch 11 (train)0.7s: train loss = 0.20741 = (mf)0.20607 + (embed)0.00134\n",
            "Epoch 12 (train)0.6s: train loss = 0.20021 = (mf)0.19880 + (embed)0.00141\n",
            "Epoch 13 (train)0.6s: train loss = 0.19515 = (mf)0.19366 + (embed)0.00149\n",
            "Epoch 14 (train)0.6s: train loss = 0.18970 = (mf)0.18813 + (embed)0.00158\n",
            "Epoch 15 (train)0.7s + (eval)0.2s: train loss = 0.18658 = (mf)0.18491 + (embed)0.00167, recall = 0.14659, ndcg = 0.33191, precision = 0.30148, map = 0.07855\n",
            "Epoch 16 (train)0.6s: train loss = 0.17730 = (mf)0.17553 + (embed)0.00177\n",
            "Epoch 17 (train)0.6s: train loss = 0.17236 = (mf)0.17049 + (embed)0.00187\n",
            "Epoch 18 (train)0.7s: train loss = 0.16914 = (mf)0.16717 + (embed)0.00197\n",
            "Epoch 19 (train)0.6s: train loss = 0.16436 = (mf)0.16230 + (embed)0.00205\n",
            "Epoch 20 (train)0.6s + (eval)0.2s: train loss = 0.16493 = (mf)0.16279 + (embed)0.00213, recall = 0.15335, ndcg = 0.34562, precision = 0.31432, map = 0.08426\n",
            "Epoch 21 (train)0.6s: train loss = 0.16137 = (mf)0.15916 + (embed)0.00221\n",
            "Epoch 22 (train)0.6s: train loss = 0.16209 = (mf)0.15981 + (embed)0.00228\n",
            "Epoch 23 (train)0.6s: train loss = 0.15948 = (mf)0.15713 + (embed)0.00235\n",
            "Epoch 24 (train)0.6s: train loss = 0.15734 = (mf)0.15492 + (embed)0.00242\n",
            "Epoch 25 (train)0.6s + (eval)0.2s: train loss = 0.15171 = (mf)0.14922 + (embed)0.00249, recall = 0.15817, ndcg = 0.35442, precision = 0.32068, map = 0.08862\n",
            "Epoch 26 (train)0.6s: train loss = 0.15407 = (mf)0.15152 + (embed)0.00255\n",
            "Epoch 27 (train)0.6s: train loss = 0.15307 = (mf)0.15046 + (embed)0.00261\n",
            "Epoch 28 (train)0.6s: train loss = 0.14914 = (mf)0.14646 + (embed)0.00268\n",
            "Epoch 29 (train)0.6s: train loss = 0.14814 = (mf)0.14541 + (embed)0.00273\n",
            "Epoch 30 (train)0.7s + (eval)0.2s: train loss = 0.14661 = (mf)0.14381 + (embed)0.00280, recall = 0.16754, ndcg = 0.36817, precision = 0.33160, map = 0.09525\n",
            "Epoch 31 (train)0.6s: train loss = 0.14654 = (mf)0.14367 + (embed)0.00286\n",
            "Epoch 32 (train)0.6s: train loss = 0.14605 = (mf)0.14310 + (embed)0.00294\n",
            "Epoch 33 (train)0.6s: train loss = 0.14355 = (mf)0.14055 + (embed)0.00300\n",
            "Epoch 34 (train)0.6s: train loss = 0.13913 = (mf)0.13604 + (embed)0.00309\n",
            "Epoch 35 (train)0.6s + (eval)0.2s: train loss = 0.13758 = (mf)0.13441 + (embed)0.00317, recall = 0.17136, ndcg = 0.37716, precision = 0.34019, map = 0.09859\n",
            "Epoch 36 (train)0.6s: train loss = 0.13822 = (mf)0.13498 + (embed)0.00324\n",
            "Epoch 37 (train)0.6s: train loss = 0.13858 = (mf)0.13525 + (embed)0.00332\n",
            "Epoch 38 (train)0.7s: train loss = 0.13471 = (mf)0.13130 + (embed)0.00341\n",
            "Epoch 39 (train)0.7s: train loss = 0.13112 = (mf)0.12764 + (embed)0.00348\n",
            "Epoch 40 (train)0.7s + (eval)0.2s: train loss = 0.12861 = (mf)0.12503 + (embed)0.00358, recall = 0.17838, ndcg = 0.38787, precision = 0.35005, map = 0.10325\n",
            "Epoch 41 (train)0.6s: train loss = 0.13000 = (mf)0.12635 + (embed)0.00366\n",
            "Epoch 42 (train)0.6s: train loss = 0.12758 = (mf)0.12383 + (embed)0.00374\n",
            "Epoch 43 (train)0.6s: train loss = 0.12680 = (mf)0.12297 + (embed)0.00383\n",
            "Epoch 44 (train)0.7s: train loss = 0.12737 = (mf)0.12346 + (embed)0.00390\n",
            "Epoch 45 (train)0.7s + (eval)0.2s: train loss = 0.12156 = (mf)0.11756 + (embed)0.00400, recall = 0.18620, ndcg = 0.40115, precision = 0.36023, map = 0.10972\n",
            "Epoch 46 (train)0.6s: train loss = 0.12301 = (mf)0.11892 + (embed)0.00409\n",
            "Epoch 47 (train)0.6s: train loss = 0.12261 = (mf)0.11844 + (embed)0.00417\n",
            "Epoch 48 (train)0.6s: train loss = 0.12034 = (mf)0.11609 + (embed)0.00425\n",
            "Epoch 49 (train)0.6s: train loss = 0.11636 = (mf)0.11201 + (embed)0.00435\n",
            "Epoch 50 (train)0.7s + (eval)0.2s: train loss = 0.11820 = (mf)0.11377 + (embed)0.00443, recall = 0.18784, ndcg = 0.40890, precision = 0.36299, map = 0.11298\n",
            "Took 34.541190572999994 seconds for training.\n"
          ]
        }
      ]
    },
    {
      "cell_type": "code",
      "metadata": {
        "colab": {
          "base_uri": "https://localhost:8080/",
          "height": 363
        },
        "id": "vg-7NxHlLrlE",
        "outputId": "d31d0678-7f09-48d2-b457-1d61ce3c849a"
      },
      "source": [
        "topk_scores = model.recommend_k_items(test, top_k=TOP_K, remove_seen=True)\n",
        "\n",
        "topk_scores.head(10)"
      ],
      "execution_count": null,
      "outputs": [
        {
          "output_type": "execute_result",
          "data": {
            "text/html": [
              "<div>\n",
              "<style scoped>\n",
              "    .dataframe tbody tr th:only-of-type {\n",
              "        vertical-align: middle;\n",
              "    }\n",
              "\n",
              "    .dataframe tbody tr th {\n",
              "        vertical-align: top;\n",
              "    }\n",
              "\n",
              "    .dataframe thead th {\n",
              "        text-align: right;\n",
              "    }\n",
              "</style>\n",
              "<table border=\"1\" class=\"dataframe\">\n",
              "  <thead>\n",
              "    <tr style=\"text-align: right;\">\n",
              "      <th></th>\n",
              "      <th>userID</th>\n",
              "      <th>itemID</th>\n",
              "      <th>prediction</th>\n",
              "    </tr>\n",
              "  </thead>\n",
              "  <tbody>\n",
              "    <tr>\n",
              "      <th>0</th>\n",
              "      <td>1</td>\n",
              "      <td>56</td>\n",
              "      <td>4.993891</td>\n",
              "    </tr>\n",
              "    <tr>\n",
              "      <th>1</th>\n",
              "      <td>1</td>\n",
              "      <td>475</td>\n",
              "      <td>4.913111</td>\n",
              "    </tr>\n",
              "    <tr>\n",
              "      <th>2</th>\n",
              "      <td>1</td>\n",
              "      <td>98</td>\n",
              "      <td>4.649499</td>\n",
              "    </tr>\n",
              "    <tr>\n",
              "      <th>3</th>\n",
              "      <td>1</td>\n",
              "      <td>28</td>\n",
              "      <td>4.470575</td>\n",
              "    </tr>\n",
              "    <tr>\n",
              "      <th>4</th>\n",
              "      <td>1</td>\n",
              "      <td>655</td>\n",
              "      <td>4.416765</td>\n",
              "    </tr>\n",
              "    <tr>\n",
              "      <th>5</th>\n",
              "      <td>1</td>\n",
              "      <td>273</td>\n",
              "      <td>4.411400</td>\n",
              "    </tr>\n",
              "    <tr>\n",
              "      <th>6</th>\n",
              "      <td>1</td>\n",
              "      <td>69</td>\n",
              "      <td>4.375174</td>\n",
              "    </tr>\n",
              "    <tr>\n",
              "      <th>7</th>\n",
              "      <td>1</td>\n",
              "      <td>238</td>\n",
              "      <td>4.374312</td>\n",
              "    </tr>\n",
              "    <tr>\n",
              "      <th>8</th>\n",
              "      <td>1</td>\n",
              "      <td>405</td>\n",
              "      <td>4.284281</td>\n",
              "    </tr>\n",
              "    <tr>\n",
              "      <th>9</th>\n",
              "      <td>1</td>\n",
              "      <td>204</td>\n",
              "      <td>4.272716</td>\n",
              "    </tr>\n",
              "  </tbody>\n",
              "</table>\n",
              "</div>"
            ],
            "text/plain": [
              "   userID  itemID  prediction\n",
              "0       1      56    4.993891\n",
              "1       1     475    4.913111\n",
              "2       1      98    4.649499\n",
              "3       1      28    4.470575\n",
              "4       1     655    4.416765\n",
              "5       1     273    4.411400\n",
              "6       1      69    4.375174\n",
              "7       1     238    4.374312\n",
              "8       1     405    4.284281\n",
              "9       1     204    4.272716"
            ]
          },
          "metadata": {},
          "execution_count": 41
        }
      ]
    },
    {
      "cell_type": "code",
      "metadata": {
        "colab": {
          "base_uri": "https://localhost:8080/"
        },
        "id": "95jEbG4OLpB4",
        "outputId": "8392b5cd-4e68-4145-ce70-4ddfc75197d5"
      },
      "source": [
        "eval_map = map_at_k(test, topk_scores, k=TOP_K)\n",
        "eval_ndcg = ndcg_at_k(test, topk_scores, k=TOP_K)\n",
        "eval_precision = precision_at_k(test, topk_scores, k=TOP_K)\n",
        "eval_recall = recall_at_k(test, topk_scores, k=TOP_K)\n",
        "\n",
        "print(\"MAP:\\t%f\" % eval_map,\n",
        "      \"NDCG:\\t%f\" % eval_ndcg,\n",
        "      \"Precision@K:\\t%f\" % eval_precision,\n",
        "      \"Recall@K:\\t%f\" % eval_recall, sep='\\n')"
      ],
      "execution_count": null,
      "outputs": [
        {
          "output_type": "stream",
          "name": "stdout",
          "text": [
            "MAP:\t0.112982\n",
            "NDCG:\t0.408899\n",
            "Precision@K:\t0.362990\n",
            "Recall@K:\t0.187839\n"
          ]
        }
      ]
    },
    {
      "cell_type": "code",
      "metadata": {
        "id": "uVofN4ZyLvju"
      },
      "source": [],
      "execution_count": null,
      "outputs": []
    },
    {
      "cell_type": "markdown",
      "metadata": {
        "id": "QLJniCvPLwwM"
      },
      "source": [
        "## Batch size = 512"
      ]
    },
    {
      "cell_type": "code",
      "metadata": {
        "id": "AaAwqZnsL4Hg"
      },
      "source": [
        "# Model parameters\n",
        "BATCH_SIZE = 512"
      ],
      "execution_count": null,
      "outputs": []
    },
    {
      "cell_type": "code",
      "metadata": {
        "id": "Fc9hj9vqMyVX"
      },
      "source": [
        "hparams = prepare_hparams('/content/recommenders/recommenders/models/deeprec/config/lightgcn.yaml',\n",
        "                          n_layers=3,\n",
        "                          batch_size=BATCH_SIZE,\n",
        "                          epochs=EPOCHS,\n",
        "                          learning_rate=0.005,\n",
        "                          eval_epoch=5,\n",
        "                          top_k=TOP_K,\n",
        "                         )"
      ],
      "execution_count": null,
      "outputs": []
    },
    {
      "cell_type": "code",
      "metadata": {
        "colab": {
          "base_uri": "https://localhost:8080/"
        },
        "id": "0JUT5oMlM2tf",
        "outputId": "2634b775-3a16-4c5f-cfd7-3cf653aab620"
      },
      "source": [
        "model = LightGCN(hparams, data, seed=SEED)"
      ],
      "execution_count": null,
      "outputs": [
        {
          "output_type": "stream",
          "name": "stdout",
          "text": [
            "Already create adjacency matrix.\n",
            "Already normalize adjacency matrix.\n",
            "Using xavier initialization.\n"
          ]
        }
      ]
    },
    {
      "cell_type": "code",
      "metadata": {
        "colab": {
          "base_uri": "https://localhost:8080/"
        },
        "id": "aJmslNK-M51Q",
        "outputId": "8dd3785b-85a0-4569-c7ac-ff7805684015"
      },
      "source": [
        "with Timer() as train_time:\n",
        "    model.fit()\n",
        "\n",
        "print(\"Took {} seconds for training.\".format(train_time.interval))"
      ],
      "execution_count": null,
      "outputs": [
        {
          "output_type": "stream",
          "name": "stdout",
          "text": [
            "Epoch 1 (train)1.7s: train loss = 0.38684 = (mf)0.38644 + (embed)0.00040\n",
            "Epoch 2 (train)1.2s: train loss = 0.25180 = (mf)0.25101 + (embed)0.00079\n",
            "Epoch 3 (train)1.3s: train loss = 0.23039 = (mf)0.22936 + (embed)0.00103\n",
            "Epoch 4 (train)1.3s: train loss = 0.22038 = (mf)0.21917 + (embed)0.00122\n",
            "Epoch 5 (train)1.3s + (eval)0.3s: train loss = 0.20934 = (mf)0.20797 + (embed)0.00137, recall = 0.13649, ndcg = 0.31833, precision = 0.28558, map = 0.07445\n",
            "Epoch 6 (train)1.2s: train loss = 0.19423 = (mf)0.19266 + (embed)0.00156\n",
            "Epoch 7 (train)1.2s: train loss = 0.17984 = (mf)0.17805 + (embed)0.00179\n",
            "Epoch 8 (train)1.2s: train loss = 0.17448 = (mf)0.17247 + (embed)0.00201\n",
            "Epoch 9 (train)1.2s: train loss = 0.16200 = (mf)0.15977 + (embed)0.00223\n",
            "Epoch 10 (train)1.2s + (eval)0.2s: train loss = 0.16087 = (mf)0.15847 + (embed)0.00240, recall = 0.15609, ndcg = 0.34594, precision = 0.31569, map = 0.08486\n",
            "Epoch 11 (train)1.2s: train loss = 0.15470 = (mf)0.15213 + (embed)0.00257\n",
            "Epoch 12 (train)1.2s: train loss = 0.15189 = (mf)0.14917 + (embed)0.00272\n",
            "Epoch 13 (train)1.2s: train loss = 0.15036 = (mf)0.14749 + (embed)0.00287\n",
            "Epoch 14 (train)1.2s: train loss = 0.14897 = (mf)0.14595 + (embed)0.00302\n",
            "Epoch 15 (train)1.2s + (eval)0.2s: train loss = 0.14227 = (mf)0.13910 + (embed)0.00317, recall = 0.17238, ndcg = 0.37421, precision = 0.33892, map = 0.09717\n",
            "Epoch 16 (train)1.2s: train loss = 0.13815 = (mf)0.13482 + (embed)0.00333\n",
            "Epoch 17 (train)1.2s: train loss = 0.13870 = (mf)0.13519 + (embed)0.00351\n",
            "Epoch 18 (train)1.2s: train loss = 0.13413 = (mf)0.13047 + (embed)0.00366\n",
            "Epoch 19 (train)1.2s: train loss = 0.12997 = (mf)0.12613 + (embed)0.00383\n",
            "Epoch 20 (train)1.3s + (eval)0.2s: train loss = 0.12734 = (mf)0.12334 + (embed)0.00399, recall = 0.18187, ndcg = 0.39274, precision = 0.35207, map = 0.10577\n",
            "Epoch 21 (train)1.2s: train loss = 0.12730 = (mf)0.12314 + (embed)0.00416\n",
            "Epoch 22 (train)1.2s: train loss = 0.12385 = (mf)0.11952 + (embed)0.00433\n",
            "Epoch 23 (train)1.2s: train loss = 0.12286 = (mf)0.11838 + (embed)0.00448\n",
            "Epoch 24 (train)1.3s: train loss = 0.11943 = (mf)0.11479 + (embed)0.00465\n",
            "Epoch 25 (train)1.2s + (eval)0.2s: train loss = 0.11746 = (mf)0.11263 + (embed)0.00484, recall = 0.18434, ndcg = 0.40433, precision = 0.35801, map = 0.11177\n",
            "Epoch 26 (train)1.2s: train loss = 0.11271 = (mf)0.10770 + (embed)0.00501\n",
            "Epoch 27 (train)1.2s: train loss = 0.11035 = (mf)0.10518 + (embed)0.00518\n",
            "Epoch 28 (train)1.2s: train loss = 0.11091 = (mf)0.10557 + (embed)0.00535\n",
            "Epoch 29 (train)1.2s: train loss = 0.10750 = (mf)0.10196 + (embed)0.00554\n",
            "Epoch 30 (train)1.2s + (eval)0.2s: train loss = 0.10632 = (mf)0.10062 + (embed)0.00571, recall = 0.18858, ndcg = 0.41365, precision = 0.36638, map = 0.11469\n",
            "Epoch 31 (train)1.2s: train loss = 0.10446 = (mf)0.09860 + (embed)0.00587\n",
            "Epoch 32 (train)1.2s: train loss = 0.10354 = (mf)0.09750 + (embed)0.00604\n",
            "Epoch 33 (train)1.2s: train loss = 0.10150 = (mf)0.09527 + (embed)0.00623\n",
            "Epoch 34 (train)1.2s: train loss = 0.09885 = (mf)0.09247 + (embed)0.00638\n",
            "Epoch 35 (train)1.2s + (eval)0.2s: train loss = 0.09701 = (mf)0.09044 + (embed)0.00657, recall = 0.18987, ndcg = 0.41580, precision = 0.36713, map = 0.11572\n",
            "Epoch 36 (train)1.2s: train loss = 0.09661 = (mf)0.08986 + (embed)0.00675\n",
            "Epoch 37 (train)1.2s: train loss = 0.09646 = (mf)0.08955 + (embed)0.00692\n",
            "Epoch 38 (train)1.2s: train loss = 0.09413 = (mf)0.08705 + (embed)0.00708\n",
            "Epoch 39 (train)1.2s: train loss = 0.09229 = (mf)0.08504 + (embed)0.00725\n",
            "Epoch 40 (train)1.2s + (eval)0.2s: train loss = 0.08968 = (mf)0.08226 + (embed)0.00741, recall = 0.19643, ndcg = 0.42667, precision = 0.37625, map = 0.12133\n",
            "Epoch 41 (train)1.2s: train loss = 0.08704 = (mf)0.07943 + (embed)0.00761\n",
            "Epoch 42 (train)1.2s: train loss = 0.08657 = (mf)0.07879 + (embed)0.00778\n",
            "Epoch 43 (train)1.2s: train loss = 0.08660 = (mf)0.07866 + (embed)0.00794\n",
            "Epoch 44 (train)1.2s: train loss = 0.08433 = (mf)0.07621 + (embed)0.00811\n",
            "Epoch 45 (train)1.3s + (eval)0.2s: train loss = 0.08407 = (mf)0.07580 + (embed)0.00827, recall = 0.19289, ndcg = 0.41817, precision = 0.37105, map = 0.11818\n",
            "Epoch 46 (train)1.3s: train loss = 0.08376 = (mf)0.07533 + (embed)0.00843\n",
            "Epoch 47 (train)1.2s: train loss = 0.08190 = (mf)0.07330 + (embed)0.00860\n",
            "Epoch 48 (train)1.2s: train loss = 0.07943 = (mf)0.07066 + (embed)0.00877\n",
            "Epoch 49 (train)1.2s: train loss = 0.08023 = (mf)0.07129 + (embed)0.00894\n",
            "Epoch 50 (train)1.2s + (eval)0.2s: train loss = 0.07861 = (mf)0.06952 + (embed)0.00910, recall = 0.19230, ndcg = 0.41572, precision = 0.36776, map = 0.11795\n",
            "Took 63.887657566000144 seconds for training.\n"
          ]
        }
      ]
    },
    {
      "cell_type": "code",
      "metadata": {
        "colab": {
          "base_uri": "https://localhost:8080/",
          "height": 363
        },
        "id": "H7N0ICtEM9BH",
        "outputId": "117f7b8a-d5e9-44e4-a3b7-501514b91897"
      },
      "source": [
        "topk_scores = model.recommend_k_items(test, top_k=TOP_K, remove_seen=True)\n",
        "\n",
        "topk_scores.head(10)"
      ],
      "execution_count": null,
      "outputs": [
        {
          "output_type": "execute_result",
          "data": {
            "text/html": [
              "<div>\n",
              "<style scoped>\n",
              "    .dataframe tbody tr th:only-of-type {\n",
              "        vertical-align: middle;\n",
              "    }\n",
              "\n",
              "    .dataframe tbody tr th {\n",
              "        vertical-align: top;\n",
              "    }\n",
              "\n",
              "    .dataframe thead th {\n",
              "        text-align: right;\n",
              "    }\n",
              "</style>\n",
              "<table border=\"1\" class=\"dataframe\">\n",
              "  <thead>\n",
              "    <tr style=\"text-align: right;\">\n",
              "      <th></th>\n",
              "      <th>userID</th>\n",
              "      <th>itemID</th>\n",
              "      <th>prediction</th>\n",
              "    </tr>\n",
              "  </thead>\n",
              "  <tbody>\n",
              "    <tr>\n",
              "      <th>0</th>\n",
              "      <td>1</td>\n",
              "      <td>403</td>\n",
              "      <td>5.572781</td>\n",
              "    </tr>\n",
              "    <tr>\n",
              "      <th>1</th>\n",
              "      <td>1</td>\n",
              "      <td>423</td>\n",
              "      <td>5.415783</td>\n",
              "    </tr>\n",
              "    <tr>\n",
              "      <th>2</th>\n",
              "      <td>1</td>\n",
              "      <td>919</td>\n",
              "      <td>5.021138</td>\n",
              "    </tr>\n",
              "    <tr>\n",
              "      <th>3</th>\n",
              "      <td>1</td>\n",
              "      <td>582</td>\n",
              "      <td>5.000968</td>\n",
              "    </tr>\n",
              "    <tr>\n",
              "      <th>4</th>\n",
              "      <td>1</td>\n",
              "      <td>91</td>\n",
              "      <td>4.929987</td>\n",
              "    </tr>\n",
              "    <tr>\n",
              "      <th>5</th>\n",
              "      <td>1</td>\n",
              "      <td>432</td>\n",
              "      <td>4.928307</td>\n",
              "    </tr>\n",
              "    <tr>\n",
              "      <th>6</th>\n",
              "      <td>1</td>\n",
              "      <td>652</td>\n",
              "      <td>4.843545</td>\n",
              "    </tr>\n",
              "    <tr>\n",
              "      <th>7</th>\n",
              "      <td>1</td>\n",
              "      <td>144</td>\n",
              "      <td>4.836912</td>\n",
              "    </tr>\n",
              "    <tr>\n",
              "      <th>8</th>\n",
              "      <td>1</td>\n",
              "      <td>98</td>\n",
              "      <td>4.834475</td>\n",
              "    </tr>\n",
              "    <tr>\n",
              "      <th>9</th>\n",
              "      <td>1</td>\n",
              "      <td>455</td>\n",
              "      <td>4.791064</td>\n",
              "    </tr>\n",
              "  </tbody>\n",
              "</table>\n",
              "</div>"
            ],
            "text/plain": [
              "   userID  itemID  prediction\n",
              "0       1     403    5.572781\n",
              "1       1     423    5.415783\n",
              "2       1     919    5.021138\n",
              "3       1     582    5.000968\n",
              "4       1      91    4.929987\n",
              "5       1     432    4.928307\n",
              "6       1     652    4.843545\n",
              "7       1     144    4.836912\n",
              "8       1      98    4.834475\n",
              "9       1     455    4.791064"
            ]
          },
          "metadata": {},
          "execution_count": 47
        }
      ]
    },
    {
      "cell_type": "code",
      "metadata": {
        "colab": {
          "base_uri": "https://localhost:8080/"
        },
        "id": "xNXRzxlANAuf",
        "outputId": "848e2e4c-8912-49b2-e4b9-51deef289760"
      },
      "source": [
        "eval_map = map_at_k(test, topk_scores, k=TOP_K)\n",
        "eval_ndcg = ndcg_at_k(test, topk_scores, k=TOP_K)\n",
        "eval_precision = precision_at_k(test, topk_scores, k=TOP_K)\n",
        "eval_recall = recall_at_k(test, topk_scores, k=TOP_K)\n",
        "\n",
        "print(\"MAP:\\t%f\" % eval_map,\n",
        "      \"NDCG:\\t%f\" % eval_ndcg,\n",
        "      \"Precision@K:\\t%f\" % eval_precision,\n",
        "      \"Recall@K:\\t%f\" % eval_recall, sep='\\n')"
      ],
      "execution_count": null,
      "outputs": [
        {
          "output_type": "stream",
          "name": "stdout",
          "text": [
            "MAP:\t0.117949\n",
            "NDCG:\t0.415721\n",
            "Precision@K:\t0.367762\n",
            "Recall@K:\t0.192301\n"
          ]
        }
      ]
    },
    {
      "cell_type": "code",
      "metadata": {
        "id": "IdE_iNn9NFLu"
      },
      "source": [],
      "execution_count": null,
      "outputs": []
    },
    {
      "cell_type": "markdown",
      "metadata": {
        "id": "iIwg7SqBNIEK"
      },
      "source": [
        "## Number of layers = 4"
      ]
    },
    {
      "cell_type": "code",
      "metadata": {
        "id": "XwbkazriNQh-"
      },
      "source": [
        "BATCH_SIZE = 1024"
      ],
      "execution_count": null,
      "outputs": []
    },
    {
      "cell_type": "code",
      "metadata": {
        "id": "VtxkYqDNNWY6"
      },
      "source": [
        "hparams = prepare_hparams('/content/recommenders/recommenders/models/deeprec/config/lightgcn.yaml',\n",
        "                          n_layers=4,\n",
        "                          batch_size=BATCH_SIZE,\n",
        "                          epochs=EPOCHS,\n",
        "                          learning_rate=0.005,\n",
        "                          eval_epoch=5,\n",
        "                          top_k=TOP_K,\n",
        "                         )"
      ],
      "execution_count": null,
      "outputs": []
    },
    {
      "cell_type": "code",
      "metadata": {
        "colab": {
          "base_uri": "https://localhost:8080/"
        },
        "id": "Vx3oMx84Nj7P",
        "outputId": "4231afd0-35b2-4f58-9371-4e2b7e50f1bb"
      },
      "source": [
        "model = LightGCN(hparams, data, seed=SEED)"
      ],
      "execution_count": null,
      "outputs": [
        {
          "output_type": "stream",
          "name": "stdout",
          "text": [
            "Already create adjacency matrix.\n",
            "Already normalize adjacency matrix.\n",
            "Using xavier initialization.\n"
          ]
        }
      ]
    },
    {
      "cell_type": "code",
      "metadata": {
        "colab": {
          "base_uri": "https://localhost:8080/"
        },
        "id": "mvE5MMioNo6_",
        "outputId": "cf7324af-f163-4d9a-abe4-6cea4a97c283"
      },
      "source": [
        "with Timer() as train_time:\n",
        "    model.fit()\n",
        "\n",
        "print(\"Took {} seconds for training.\".format(train_time.interval))"
      ],
      "execution_count": null,
      "outputs": [
        {
          "output_type": "stream",
          "name": "stdout",
          "text": [
            "Epoch 1 (train)1.5s: train loss = 0.46526 = (mf)0.46500 + (embed)0.00026\n",
            "Epoch 2 (train)0.9s: train loss = 0.30654 = (mf)0.30592 + (embed)0.00062\n",
            "Epoch 3 (train)0.9s: train loss = 0.27690 = (mf)0.27614 + (embed)0.00076\n",
            "Epoch 4 (train)0.9s: train loss = 0.25158 = (mf)0.25063 + (embed)0.00095\n",
            "Epoch 5 (train)0.9s + (eval)0.3s: train loss = 0.23160 = (mf)0.23044 + (embed)0.00117, recall = 0.12884, ndcg = 0.29607, precision = 0.26299, map = 0.06781\n",
            "Epoch 6 (train)0.9s: train loss = 0.22714 = (mf)0.22580 + (embed)0.00134\n",
            "Epoch 7 (train)0.9s: train loss = 0.22324 = (mf)0.22176 + (embed)0.00148\n",
            "Epoch 8 (train)0.9s: train loss = 0.21391 = (mf)0.21230 + (embed)0.00161\n",
            "Epoch 9 (train)0.9s: train loss = 0.21036 = (mf)0.20863 + (embed)0.00173\n",
            "Epoch 10 (train)0.9s + (eval)0.2s: train loss = 0.20049 = (mf)0.19862 + (embed)0.00187, recall = 0.14017, ndcg = 0.32160, precision = 0.28823, map = 0.07554\n",
            "Epoch 11 (train)0.9s: train loss = 0.19690 = (mf)0.19487 + (embed)0.00203\n",
            "Epoch 12 (train)0.9s: train loss = 0.18806 = (mf)0.18585 + (embed)0.00220\n",
            "Epoch 13 (train)0.9s: train loss = 0.18318 = (mf)0.18079 + (embed)0.00239\n",
            "Epoch 14 (train)0.9s: train loss = 0.17299 = (mf)0.17040 + (embed)0.00259\n",
            "Epoch 15 (train)0.9s + (eval)0.2s: train loss = 0.17175 = (mf)0.16899 + (embed)0.00276, recall = 0.15342, ndcg = 0.34144, precision = 0.31018, map = 0.08325\n",
            "Epoch 16 (train)0.9s: train loss = 0.16739 = (mf)0.16448 + (embed)0.00291\n",
            "Epoch 17 (train)0.9s: train loss = 0.16437 = (mf)0.16131 + (embed)0.00306\n",
            "Epoch 18 (train)0.9s: train loss = 0.16284 = (mf)0.15964 + (embed)0.00319\n",
            "Epoch 19 (train)0.9s: train loss = 0.16289 = (mf)0.15957 + (embed)0.00332\n",
            "Epoch 20 (train)0.9s + (eval)0.2s: train loss = 0.15633 = (mf)0.15289 + (embed)0.00344, recall = 0.16027, ndcg = 0.35226, precision = 0.32025, map = 0.08773\n",
            "Epoch 21 (train)0.9s: train loss = 0.15760 = (mf)0.15404 + (embed)0.00356\n",
            "Epoch 22 (train)0.9s: train loss = 0.15369 = (mf)0.15003 + (embed)0.00366\n",
            "Epoch 23 (train)0.9s: train loss = 0.15284 = (mf)0.14905 + (embed)0.00379\n",
            "Epoch 24 (train)0.9s: train loss = 0.15216 = (mf)0.14828 + (embed)0.00389\n",
            "Epoch 25 (train)0.9s + (eval)0.2s: train loss = 0.14646 = (mf)0.14246 + (embed)0.00400, recall = 0.16889, ndcg = 0.36515, precision = 0.33415, map = 0.09237\n",
            "Epoch 26 (train)0.9s: train loss = 0.14784 = (mf)0.14373 + (embed)0.00411\n",
            "Epoch 27 (train)0.9s: train loss = 0.14632 = (mf)0.14209 + (embed)0.00423\n",
            "Epoch 28 (train)0.9s: train loss = 0.14528 = (mf)0.14093 + (embed)0.00435\n",
            "Epoch 29 (train)0.9s: train loss = 0.14180 = (mf)0.13732 + (embed)0.00448\n",
            "Epoch 30 (train)0.9s + (eval)0.2s: train loss = 0.13854 = (mf)0.13394 + (embed)0.00460, recall = 0.17026, ndcg = 0.37468, precision = 0.34136, map = 0.09589\n",
            "Epoch 31 (train)0.9s: train loss = 0.14178 = (mf)0.13706 + (embed)0.00472\n",
            "Epoch 32 (train)0.9s: train loss = 0.13899 = (mf)0.13414 + (embed)0.00484\n",
            "Epoch 33 (train)0.9s: train loss = 0.13745 = (mf)0.13248 + (embed)0.00497\n",
            "Epoch 34 (train)0.9s: train loss = 0.13425 = (mf)0.12914 + (embed)0.00511\n",
            "Epoch 35 (train)0.9s + (eval)0.2s: train loss = 0.13622 = (mf)0.13099 + (embed)0.00523, recall = 0.17817, ndcg = 0.38767, precision = 0.34772, map = 0.10317\n",
            "Epoch 36 (train)0.9s: train loss = 0.12936 = (mf)0.12400 + (embed)0.00535\n",
            "Epoch 37 (train)0.9s: train loss = 0.13017 = (mf)0.12469 + (embed)0.00549\n",
            "Epoch 38 (train)0.9s: train loss = 0.12924 = (mf)0.12363 + (embed)0.00561\n",
            "Epoch 39 (train)0.9s: train loss = 0.12797 = (mf)0.12225 + (embed)0.00572\n",
            "Epoch 40 (train)0.9s + (eval)0.2s: train loss = 0.12708 = (mf)0.12123 + (embed)0.00585, recall = 0.18410, ndcg = 0.39913, precision = 0.35652, map = 0.10796\n",
            "Epoch 41 (train)0.9s: train loss = 0.12474 = (mf)0.11877 + (embed)0.00598\n",
            "Epoch 42 (train)0.9s: train loss = 0.12631 = (mf)0.12022 + (embed)0.00610\n",
            "Epoch 43 (train)0.9s: train loss = 0.12589 = (mf)0.11967 + (embed)0.00622\n",
            "Epoch 44 (train)0.9s: train loss = 0.12068 = (mf)0.11434 + (embed)0.00634\n",
            "Epoch 45 (train)0.9s + (eval)0.2s: train loss = 0.12189 = (mf)0.11541 + (embed)0.00648, recall = 0.18762, ndcg = 0.40617, precision = 0.36182, map = 0.11084\n",
            "Epoch 46 (train)0.9s: train loss = 0.12185 = (mf)0.11524 + (embed)0.00661\n",
            "Epoch 47 (train)0.9s: train loss = 0.11758 = (mf)0.11085 + (embed)0.00673\n",
            "Epoch 48 (train)0.9s: train loss = 0.11760 = (mf)0.11073 + (embed)0.00687\n",
            "Epoch 49 (train)0.9s: train loss = 0.11534 = (mf)0.10833 + (embed)0.00701\n",
            "Epoch 50 (train)0.9s + (eval)0.2s: train loss = 0.11524 = (mf)0.10810 + (embed)0.00714, recall = 0.18792, ndcg = 0.40824, precision = 0.36575, map = 0.11100\n",
            "Took 47.52575866099983 seconds for training.\n"
          ]
        }
      ]
    },
    {
      "cell_type": "code",
      "metadata": {
        "colab": {
          "base_uri": "https://localhost:8080/",
          "height": 363
        },
        "id": "jYZmAMeWNtpo",
        "outputId": "297e655c-0059-41e1-92a4-236a4ffda7de"
      },
      "source": [
        "topk_scores = model.recommend_k_items(test, top_k=TOP_K, remove_seen=True)\n",
        "\n",
        "topk_scores.head(10)"
      ],
      "execution_count": null,
      "outputs": [
        {
          "output_type": "execute_result",
          "data": {
            "text/html": [
              "<div>\n",
              "<style scoped>\n",
              "    .dataframe tbody tr th:only-of-type {\n",
              "        vertical-align: middle;\n",
              "    }\n",
              "\n",
              "    .dataframe tbody tr th {\n",
              "        vertical-align: top;\n",
              "    }\n",
              "\n",
              "    .dataframe thead th {\n",
              "        text-align: right;\n",
              "    }\n",
              "</style>\n",
              "<table border=\"1\" class=\"dataframe\">\n",
              "  <thead>\n",
              "    <tr style=\"text-align: right;\">\n",
              "      <th></th>\n",
              "      <th>userID</th>\n",
              "      <th>itemID</th>\n",
              "      <th>prediction</th>\n",
              "    </tr>\n",
              "  </thead>\n",
              "  <tbody>\n",
              "    <tr>\n",
              "      <th>0</th>\n",
              "      <td>1</td>\n",
              "      <td>98</td>\n",
              "      <td>4.818642</td>\n",
              "    </tr>\n",
              "    <tr>\n",
              "      <th>1</th>\n",
              "      <td>1</td>\n",
              "      <td>56</td>\n",
              "      <td>4.624581</td>\n",
              "    </tr>\n",
              "    <tr>\n",
              "      <th>2</th>\n",
              "      <td>1</td>\n",
              "      <td>475</td>\n",
              "      <td>4.576685</td>\n",
              "    </tr>\n",
              "    <tr>\n",
              "      <th>3</th>\n",
              "      <td>1</td>\n",
              "      <td>117</td>\n",
              "      <td>4.502943</td>\n",
              "    </tr>\n",
              "    <tr>\n",
              "      <th>4</th>\n",
              "      <td>1</td>\n",
              "      <td>144</td>\n",
              "      <td>4.497185</td>\n",
              "    </tr>\n",
              "    <tr>\n",
              "      <th>5</th>\n",
              "      <td>1</td>\n",
              "      <td>250</td>\n",
              "      <td>4.440380</td>\n",
              "    </tr>\n",
              "    <tr>\n",
              "      <th>6</th>\n",
              "      <td>1</td>\n",
              "      <td>919</td>\n",
              "      <td>4.420310</td>\n",
              "    </tr>\n",
              "    <tr>\n",
              "      <th>7</th>\n",
              "      <td>1</td>\n",
              "      <td>405</td>\n",
              "      <td>4.379748</td>\n",
              "    </tr>\n",
              "    <tr>\n",
              "      <th>8</th>\n",
              "      <td>1</td>\n",
              "      <td>423</td>\n",
              "      <td>4.376181</td>\n",
              "    </tr>\n",
              "    <tr>\n",
              "      <th>9</th>\n",
              "      <td>1</td>\n",
              "      <td>183</td>\n",
              "      <td>4.347711</td>\n",
              "    </tr>\n",
              "  </tbody>\n",
              "</table>\n",
              "</div>"
            ],
            "text/plain": [
              "   userID  itemID  prediction\n",
              "0       1      98    4.818642\n",
              "1       1      56    4.624581\n",
              "2       1     475    4.576685\n",
              "3       1     117    4.502943\n",
              "4       1     144    4.497185\n",
              "5       1     250    4.440380\n",
              "6       1     919    4.420310\n",
              "7       1     405    4.379748\n",
              "8       1     423    4.376181\n",
              "9       1     183    4.347711"
            ]
          },
          "metadata": {},
          "execution_count": 53
        }
      ]
    },
    {
      "cell_type": "code",
      "metadata": {
        "colab": {
          "base_uri": "https://localhost:8080/"
        },
        "id": "4jWLLiqqNrbv",
        "outputId": "28347217-fe79-4bef-9921-50e55e42e345"
      },
      "source": [
        "eval_map = map_at_k(test, topk_scores, k=TOP_K)\n",
        "eval_ndcg = ndcg_at_k(test, topk_scores, k=TOP_K)\n",
        "eval_precision = precision_at_k(test, topk_scores, k=TOP_K)\n",
        "eval_recall = recall_at_k(test, topk_scores, k=TOP_K)\n",
        "\n",
        "print(\"MAP:\\t%f\" % eval_map,\n",
        "      \"NDCG:\\t%f\" % eval_ndcg,\n",
        "      \"Precision@K:\\t%f\" % eval_precision,\n",
        "      \"Recall@K:\\t%f\" % eval_recall, sep='\\n')"
      ],
      "execution_count": null,
      "outputs": [
        {
          "output_type": "stream",
          "name": "stdout",
          "text": [
            "MAP:\t0.111001\n",
            "NDCG:\t0.408241\n",
            "Precision@K:\t0.365748\n",
            "Recall@K:\t0.187918\n"
          ]
        }
      ]
    },
    {
      "cell_type": "code",
      "metadata": {
        "id": "vx-MOe1HNxln"
      },
      "source": [],
      "execution_count": null,
      "outputs": []
    },
    {
      "cell_type": "markdown",
      "metadata": {
        "id": "sYbrUIgzN1s-"
      },
      "source": [
        "## Number of layers = 2"
      ]
    },
    {
      "cell_type": "code",
      "metadata": {
        "id": "zpR4md-nN5hg"
      },
      "source": [
        "hparams = prepare_hparams('/content/recommenders/recommenders/models/deeprec/config/lightgcn.yaml',\n",
        "                          n_layers=2,\n",
        "                          batch_size=BATCH_SIZE,\n",
        "                          epochs=EPOCHS,\n",
        "                          learning_rate=0.005,\n",
        "                          eval_epoch=5,\n",
        "                          top_k=TOP_K,\n",
        "                         )"
      ],
      "execution_count": null,
      "outputs": []
    },
    {
      "cell_type": "code",
      "metadata": {
        "colab": {
          "base_uri": "https://localhost:8080/"
        },
        "id": "J3P7b-DgOCZX",
        "outputId": "dd8e4085-1589-4738-e9fd-5643c05a7190"
      },
      "source": [
        "model = LightGCN(hparams, data, seed=SEED)"
      ],
      "execution_count": null,
      "outputs": [
        {
          "output_type": "stream",
          "name": "stdout",
          "text": [
            "Already create adjacency matrix.\n",
            "Already normalize adjacency matrix.\n",
            "Using xavier initialization.\n"
          ]
        }
      ]
    },
    {
      "cell_type": "code",
      "metadata": {
        "colab": {
          "base_uri": "https://localhost:8080/"
        },
        "id": "3yKTBCaqOGAI",
        "outputId": "a4bf09ce-0b96-45e3-dc6a-a2621bc23209"
      },
      "source": [
        "with Timer() as train_time:\n",
        "    model.fit()\n",
        "\n",
        "print(\"Took {} seconds for training.\".format(train_time.interval))"
      ],
      "execution_count": null,
      "outputs": [
        {
          "output_type": "stream",
          "name": "stdout",
          "text": [
            "Epoch 1 (train)1.1s: train loss = 0.47221 = (mf)0.47200 + (embed)0.00022\n",
            "Epoch 2 (train)0.8s: train loss = 0.24568 = (mf)0.24500 + (embed)0.00067\n",
            "Epoch 3 (train)0.8s: train loss = 0.22197 = (mf)0.22114 + (embed)0.00083\n",
            "Epoch 4 (train)0.7s: train loss = 0.21058 = (mf)0.20963 + (embed)0.00095\n",
            "Epoch 5 (train)0.8s + (eval)0.3s: train loss = 0.19347 = (mf)0.19241 + (embed)0.00106, recall = 0.14227, ndcg = 0.32367, precision = 0.29141, map = 0.07600\n",
            "Epoch 6 (train)0.8s: train loss = 0.18353 = (mf)0.18235 + (embed)0.00118\n",
            "Epoch 7 (train)0.8s: train loss = 0.17370 = (mf)0.17241 + (embed)0.00129\n",
            "Epoch 8 (train)0.8s: train loss = 0.16640 = (mf)0.16501 + (embed)0.00140\n",
            "Epoch 9 (train)0.8s: train loss = 0.16076 = (mf)0.15926 + (embed)0.00150\n",
            "Epoch 10 (train)0.7s + (eval)0.2s: train loss = 0.15926 = (mf)0.15767 + (embed)0.00159, recall = 0.15204, ndcg = 0.34287, precision = 0.31188, map = 0.08280\n",
            "Epoch 11 (train)0.8s: train loss = 0.15846 = (mf)0.15679 + (embed)0.00167\n",
            "Epoch 12 (train)0.7s: train loss = 0.15592 = (mf)0.15417 + (embed)0.00175\n",
            "Epoch 13 (train)0.7s: train loss = 0.15389 = (mf)0.15207 + (embed)0.00183\n",
            "Epoch 14 (train)0.7s: train loss = 0.14838 = (mf)0.14648 + (embed)0.00191\n",
            "Epoch 15 (train)0.8s + (eval)0.2s: train loss = 0.14708 = (mf)0.14509 + (embed)0.00199, recall = 0.17318, ndcg = 0.37419, precision = 0.33712, map = 0.09825\n",
            "Epoch 16 (train)0.8s: train loss = 0.14266 = (mf)0.14057 + (embed)0.00208\n",
            "Epoch 17 (train)0.8s: train loss = 0.13797 = (mf)0.13580 + (embed)0.00218\n",
            "Epoch 18 (train)0.8s: train loss = 0.13654 = (mf)0.13426 + (embed)0.00227\n",
            "Epoch 19 (train)0.7s: train loss = 0.13135 = (mf)0.12898 + (embed)0.00237\n",
            "Epoch 20 (train)0.7s + (eval)0.2s: train loss = 0.13115 = (mf)0.12868 + (embed)0.00247, recall = 0.18334, ndcg = 0.39200, precision = 0.35408, map = 0.10685\n",
            "Epoch 21 (train)0.8s: train loss = 0.12707 = (mf)0.12450 + (embed)0.00257\n",
            "Epoch 22 (train)0.8s: train loss = 0.12128 = (mf)0.11861 + (embed)0.00268\n",
            "Epoch 23 (train)0.8s: train loss = 0.11897 = (mf)0.11619 + (embed)0.00278\n",
            "Epoch 24 (train)0.7s: train loss = 0.11716 = (mf)0.11426 + (embed)0.00290\n",
            "Epoch 25 (train)0.7s + (eval)0.2s: train loss = 0.11421 = (mf)0.11119 + (embed)0.00301, recall = 0.18341, ndcg = 0.40000, precision = 0.35801, map = 0.10958\n",
            "Epoch 26 (train)0.7s: train loss = 0.11236 = (mf)0.10923 + (embed)0.00312\n",
            "Epoch 27 (train)0.7s: train loss = 0.11002 = (mf)0.10679 + (embed)0.00323\n",
            "Epoch 28 (train)0.8s: train loss = 0.10686 = (mf)0.10352 + (embed)0.00334\n",
            "Epoch 29 (train)0.8s: train loss = 0.10593 = (mf)0.10248 + (embed)0.00346\n",
            "Epoch 30 (train)0.8s + (eval)0.2s: train loss = 0.10352 = (mf)0.09996 + (embed)0.00356, recall = 0.18925, ndcg = 0.41023, precision = 0.36691, map = 0.11349\n",
            "Epoch 31 (train)0.8s: train loss = 0.10422 = (mf)0.10055 + (embed)0.00368\n",
            "Epoch 32 (train)0.8s: train loss = 0.10079 = (mf)0.09701 + (embed)0.00378\n",
            "Epoch 33 (train)0.8s: train loss = 0.09872 = (mf)0.09483 + (embed)0.00389\n",
            "Epoch 34 (train)0.8s: train loss = 0.09576 = (mf)0.09176 + (embed)0.00400\n",
            "Epoch 35 (train)0.8s + (eval)0.2s: train loss = 0.09474 = (mf)0.09062 + (embed)0.00412, recall = 0.19678, ndcg = 0.41828, precision = 0.37211, map = 0.11886\n",
            "Epoch 36 (train)0.8s: train loss = 0.09333 = (mf)0.08911 + (embed)0.00422\n",
            "Epoch 37 (train)0.8s: train loss = 0.08975 = (mf)0.08541 + (embed)0.00434\n",
            "Epoch 38 (train)0.8s: train loss = 0.09060 = (mf)0.08616 + (embed)0.00444\n",
            "Epoch 39 (train)0.8s: train loss = 0.08902 = (mf)0.08447 + (embed)0.00456\n",
            "Epoch 40 (train)0.7s + (eval)0.2s: train loss = 0.08466 = (mf)0.07999 + (embed)0.00467, recall = 0.19265, ndcg = 0.41458, precision = 0.37052, map = 0.11584\n",
            "Epoch 41 (train)0.8s: train loss = 0.08526 = (mf)0.08048 + (embed)0.00478\n",
            "Epoch 42 (train)0.7s: train loss = 0.08334 = (mf)0.07844 + (embed)0.00490\n",
            "Epoch 43 (train)0.8s: train loss = 0.08145 = (mf)0.07644 + (embed)0.00501\n",
            "Epoch 44 (train)0.7s: train loss = 0.07981 = (mf)0.07468 + (embed)0.00513\n",
            "Epoch 45 (train)0.8s + (eval)0.2s: train loss = 0.08070 = (mf)0.07548 + (embed)0.00523, recall = 0.19111, ndcg = 0.41300, precision = 0.36850, map = 0.11581\n",
            "Epoch 46 (train)0.7s: train loss = 0.07795 = (mf)0.07261 + (embed)0.00533\n",
            "Epoch 47 (train)0.8s: train loss = 0.07809 = (mf)0.07265 + (embed)0.00544\n",
            "Epoch 48 (train)0.8s: train loss = 0.07542 = (mf)0.06987 + (embed)0.00554\n",
            "Epoch 49 (train)0.8s: train loss = 0.07425 = (mf)0.06859 + (embed)0.00566\n",
            "Epoch 50 (train)0.7s + (eval)0.2s: train loss = 0.07333 = (mf)0.06756 + (embed)0.00577, recall = 0.19275, ndcg = 0.41512, precision = 0.36935, map = 0.11675\n",
            "Took 40.68206862299985 seconds for training.\n"
          ]
        }
      ]
    },
    {
      "cell_type": "code",
      "metadata": {
        "colab": {
          "base_uri": "https://localhost:8080/",
          "height": 363
        },
        "id": "H0ACCDeHONDT",
        "outputId": "33d4244d-382c-4d4b-8c4b-bbb28f014422"
      },
      "source": [
        "topk_scores = model.recommend_k_items(test, top_k=TOP_K, remove_seen=True)\n",
        "\n",
        "topk_scores.head(10)"
      ],
      "execution_count": null,
      "outputs": [
        {
          "output_type": "execute_result",
          "data": {
            "text/html": [
              "<div>\n",
              "<style scoped>\n",
              "    .dataframe tbody tr th:only-of-type {\n",
              "        vertical-align: middle;\n",
              "    }\n",
              "\n",
              "    .dataframe tbody tr th {\n",
              "        vertical-align: top;\n",
              "    }\n",
              "\n",
              "    .dataframe thead th {\n",
              "        text-align: right;\n",
              "    }\n",
              "</style>\n",
              "<table border=\"1\" class=\"dataframe\">\n",
              "  <thead>\n",
              "    <tr style=\"text-align: right;\">\n",
              "      <th></th>\n",
              "      <th>userID</th>\n",
              "      <th>itemID</th>\n",
              "      <th>prediction</th>\n",
              "    </tr>\n",
              "  </thead>\n",
              "  <tbody>\n",
              "    <tr>\n",
              "      <th>0</th>\n",
              "      <td>1</td>\n",
              "      <td>919</td>\n",
              "      <td>5.651679</td>\n",
              "    </tr>\n",
              "    <tr>\n",
              "      <th>1</th>\n",
              "      <td>1</td>\n",
              "      <td>403</td>\n",
              "      <td>5.551999</td>\n",
              "    </tr>\n",
              "    <tr>\n",
              "      <th>2</th>\n",
              "      <td>1</td>\n",
              "      <td>250</td>\n",
              "      <td>5.526236</td>\n",
              "    </tr>\n",
              "    <tr>\n",
              "      <th>3</th>\n",
              "      <td>1</td>\n",
              "      <td>91</td>\n",
              "      <td>5.359904</td>\n",
              "    </tr>\n",
              "    <tr>\n",
              "      <th>4</th>\n",
              "      <td>1</td>\n",
              "      <td>144</td>\n",
              "      <td>5.331599</td>\n",
              "    </tr>\n",
              "    <tr>\n",
              "      <th>5</th>\n",
              "      <td>1</td>\n",
              "      <td>275</td>\n",
              "      <td>5.330316</td>\n",
              "    </tr>\n",
              "    <tr>\n",
              "      <th>6</th>\n",
              "      <td>1</td>\n",
              "      <td>189</td>\n",
              "      <td>5.226426</td>\n",
              "    </tr>\n",
              "    <tr>\n",
              "      <th>7</th>\n",
              "      <td>1</td>\n",
              "      <td>431</td>\n",
              "      <td>5.206126</td>\n",
              "    </tr>\n",
              "    <tr>\n",
              "      <th>8</th>\n",
              "      <td>1</td>\n",
              "      <td>455</td>\n",
              "      <td>5.077051</td>\n",
              "    </tr>\n",
              "    <tr>\n",
              "      <th>9</th>\n",
              "      <td>1</td>\n",
              "      <td>588</td>\n",
              "      <td>5.063225</td>\n",
              "    </tr>\n",
              "  </tbody>\n",
              "</table>\n",
              "</div>"
            ],
            "text/plain": [
              "   userID  itemID  prediction\n",
              "0       1     919    5.651679\n",
              "1       1     403    5.551999\n",
              "2       1     250    5.526236\n",
              "3       1      91    5.359904\n",
              "4       1     144    5.331599\n",
              "5       1     275    5.330316\n",
              "6       1     189    5.226426\n",
              "7       1     431    5.206126\n",
              "8       1     455    5.077051\n",
              "9       1     588    5.063225"
            ]
          },
          "metadata": {},
          "execution_count": 58
        }
      ]
    },
    {
      "cell_type": "code",
      "metadata": {
        "colab": {
          "base_uri": "https://localhost:8080/"
        },
        "id": "vIYeJJrwOI-Q",
        "outputId": "1fa86b97-bc55-4dc6-f6e0-593025129bf8"
      },
      "source": [
        "eval_map = map_at_k(test, topk_scores, k=TOP_K)\n",
        "eval_ndcg = ndcg_at_k(test, topk_scores, k=TOP_K)\n",
        "eval_precision = precision_at_k(test, topk_scores, k=TOP_K)\n",
        "eval_recall = recall_at_k(test, topk_scores, k=TOP_K)\n",
        "\n",
        "print(\"MAP:\\t%f\" % eval_map,\n",
        "      \"NDCG:\\t%f\" % eval_ndcg,\n",
        "      \"Precision@K:\\t%f\" % eval_precision,\n",
        "      \"Recall@K:\\t%f\" % eval_recall, sep='\\n')"
      ],
      "execution_count": null,
      "outputs": [
        {
          "output_type": "stream",
          "name": "stdout",
          "text": [
            "MAP:\t0.116749\n",
            "NDCG:\t0.415117\n",
            "Precision@K:\t0.369353\n",
            "Recall@K:\t0.192752\n"
          ]
        }
      ]
    },
    {
      "cell_type": "code",
      "metadata": {
        "id": "dVQLm9vTOQov"
      },
      "source": [],
      "execution_count": null,
      "outputs": []
    },
    {
      "cell_type": "markdown",
      "metadata": {
        "id": "6yilGHhVOVYq"
      },
      "source": [
        "## Embedding size = 128"
      ]
    },
    {
      "cell_type": "code",
      "metadata": {
        "id": "iTbjoPW1Ocdj"
      },
      "source": [
        "hparams = prepare_hparams('/content/recommenders/recommenders/models/deeprec/config/lightgcn.yaml',\n",
        "                          n_layers=3,\n",
        "                          batch_size=BATCH_SIZE,\n",
        "                          epochs=EPOCHS,\n",
        "                          learning_rate=0.005,\n",
        "                          eval_epoch=5,\n",
        "                          top_k=TOP_K,\n",
        "                          embed_size=128\n",
        "                         )"
      ],
      "execution_count": null,
      "outputs": []
    },
    {
      "cell_type": "code",
      "metadata": {
        "colab": {
          "base_uri": "https://localhost:8080/"
        },
        "id": "pu9M3-ihOrAf",
        "outputId": "a92476cd-b319-4a2c-8ebc-c3447e0a57de"
      },
      "source": [
        "model = LightGCN(hparams, data, seed=SEED)"
      ],
      "execution_count": null,
      "outputs": [
        {
          "output_type": "stream",
          "name": "stdout",
          "text": [
            "Already create adjacency matrix.\n",
            "Already normalize adjacency matrix.\n",
            "Using xavier initialization.\n"
          ]
        }
      ]
    },
    {
      "cell_type": "code",
      "metadata": {
        "colab": {
          "base_uri": "https://localhost:8080/"
        },
        "id": "Pe49oOj8OvqY",
        "outputId": "d1c2a51f-1b7a-4069-a73b-1c6498d32a38"
      },
      "source": [
        "with Timer() as train_time:\n",
        "    model.fit()\n",
        "\n",
        "print(\"Took {} seconds for training.\".format(train_time.interval))"
      ],
      "execution_count": null,
      "outputs": [
        {
          "output_type": "stream",
          "name": "stdout",
          "text": [
            "Epoch 1 (train)1.4s: train loss = 0.42649 = (mf)0.42613 + (embed)0.00036\n",
            "Epoch 2 (train)1.0s: train loss = 0.25816 = (mf)0.25740 + (embed)0.00077\n",
            "Epoch 3 (train)0.9s: train loss = 0.23171 = (mf)0.23068 + (embed)0.00102\n",
            "Epoch 4 (train)1.0s: train loss = 0.21643 = (mf)0.21522 + (embed)0.00122\n",
            "Epoch 5 (train)0.9s + (eval)0.3s: train loss = 0.20699 = (mf)0.20561 + (embed)0.00138, recall = 0.13976, ndcg = 0.31516, precision = 0.28335, map = 0.07318\n",
            "Epoch 6 (train)1.0s: train loss = 0.19018 = (mf)0.18860 + (embed)0.00158\n",
            "Epoch 7 (train)1.0s: train loss = 0.18085 = (mf)0.17905 + (embed)0.00180\n",
            "Epoch 8 (train)1.0s: train loss = 0.17025 = (mf)0.16825 + (embed)0.00200\n",
            "Epoch 9 (train)1.0s: train loss = 0.16630 = (mf)0.16411 + (embed)0.00219\n",
            "Epoch 10 (train)1.0s + (eval)0.2s: train loss = 0.15923 = (mf)0.15686 + (embed)0.00237, recall = 0.15136, ndcg = 0.34447, precision = 0.30774, map = 0.08602\n",
            "Epoch 11 (train)1.0s: train loss = 0.15490 = (mf)0.15239 + (embed)0.00252\n",
            "Epoch 12 (train)1.0s: train loss = 0.15312 = (mf)0.15045 + (embed)0.00267\n",
            "Epoch 13 (train)1.0s: train loss = 0.14807 = (mf)0.14524 + (embed)0.00283\n",
            "Epoch 14 (train)1.0s: train loss = 0.14416 = (mf)0.14118 + (embed)0.00298\n",
            "Epoch 15 (train)1.0s + (eval)0.2s: train loss = 0.14193 = (mf)0.13878 + (embed)0.00315, recall = 0.16683, ndcg = 0.37095, precision = 0.33351, map = 0.09546\n",
            "Epoch 16 (train)0.9s: train loss = 0.13855 = (mf)0.13524 + (embed)0.00330\n",
            "Epoch 17 (train)1.0s: train loss = 0.13688 = (mf)0.13341 + (embed)0.00347\n",
            "Epoch 18 (train)1.0s: train loss = 0.13437 = (mf)0.13072 + (embed)0.00365\n",
            "Epoch 19 (train)0.9s: train loss = 0.13045 = (mf)0.12663 + (embed)0.00382\n",
            "Epoch 20 (train)0.9s + (eval)0.2s: train loss = 0.12377 = (mf)0.11976 + (embed)0.00401, recall = 0.17786, ndcg = 0.38552, precision = 0.34698, map = 0.10192\n",
            "Epoch 21 (train)0.9s: train loss = 0.12385 = (mf)0.11966 + (embed)0.00419\n",
            "Epoch 22 (train)0.9s: train loss = 0.12119 = (mf)0.11684 + (embed)0.00435\n",
            "Epoch 23 (train)0.9s: train loss = 0.11676 = (mf)0.11222 + (embed)0.00454\n",
            "Epoch 24 (train)0.9s: train loss = 0.11498 = (mf)0.11025 + (embed)0.00473\n",
            "Epoch 25 (train)0.9s + (eval)0.2s: train loss = 0.11437 = (mf)0.10946 + (embed)0.00491, recall = 0.18921, ndcg = 0.40652, precision = 0.36288, map = 0.11203\n",
            "Epoch 26 (train)0.9s: train loss = 0.11191 = (mf)0.10680 + (embed)0.00511\n",
            "Epoch 27 (train)0.9s: train loss = 0.10833 = (mf)0.10304 + (embed)0.00529\n",
            "Epoch 28 (train)0.9s: train loss = 0.10872 = (mf)0.10324 + (embed)0.00548\n",
            "Epoch 29 (train)1.0s: train loss = 0.10551 = (mf)0.09983 + (embed)0.00568\n",
            "Epoch 30 (train)1.0s + (eval)0.2s: train loss = 0.10210 = (mf)0.09622 + (embed)0.00587, recall = 0.19088, ndcg = 0.41341, precision = 0.36925, map = 0.11462\n",
            "Epoch 31 (train)0.9s: train loss = 0.09991 = (mf)0.09386 + (embed)0.00606\n",
            "Epoch 32 (train)0.9s: train loss = 0.09868 = (mf)0.09241 + (embed)0.00626\n",
            "Epoch 33 (train)1.0s: train loss = 0.09596 = (mf)0.08951 + (embed)0.00644\n",
            "Epoch 34 (train)0.9s: train loss = 0.09535 = (mf)0.08870 + (embed)0.00665\n",
            "Epoch 35 (train)0.9s + (eval)0.2s: train loss = 0.09218 = (mf)0.08532 + (embed)0.00686, recall = 0.19411, ndcg = 0.41833, precision = 0.37285, map = 0.11727\n",
            "Epoch 36 (train)1.0s: train loss = 0.09072 = (mf)0.08368 + (embed)0.00704\n",
            "Epoch 37 (train)0.9s: train loss = 0.09057 = (mf)0.08333 + (embed)0.00724\n",
            "Epoch 38 (train)0.9s: train loss = 0.08665 = (mf)0.07921 + (embed)0.00744\n",
            "Epoch 39 (train)0.9s: train loss = 0.08597 = (mf)0.07834 + (embed)0.00763\n",
            "Epoch 40 (train)0.9s + (eval)0.2s: train loss = 0.08513 = (mf)0.07730 + (embed)0.00782, recall = 0.19329, ndcg = 0.42122, precision = 0.37285, map = 0.11817\n",
            "Epoch 41 (train)1.0s: train loss = 0.08257 = (mf)0.07457 + (embed)0.00800\n",
            "Epoch 42 (train)0.9s: train loss = 0.08318 = (mf)0.07499 + (embed)0.00819\n",
            "Epoch 43 (train)1.0s: train loss = 0.07989 = (mf)0.07151 + (embed)0.00838\n",
            "Epoch 44 (train)0.9s: train loss = 0.07842 = (mf)0.06984 + (embed)0.00858\n",
            "Epoch 45 (train)0.9s + (eval)0.2s: train loss = 0.07798 = (mf)0.06921 + (embed)0.00876, recall = 0.19571, ndcg = 0.42134, precision = 0.37582, map = 0.11920\n",
            "Epoch 46 (train)1.0s: train loss = 0.07682 = (mf)0.06787 + (embed)0.00895\n",
            "Epoch 47 (train)1.0s: train loss = 0.07716 = (mf)0.06803 + (embed)0.00912\n",
            "Epoch 48 (train)1.0s: train loss = 0.07401 = (mf)0.06469 + (embed)0.00932\n",
            "Epoch 49 (train)1.0s: train loss = 0.07388 = (mf)0.06436 + (embed)0.00951\n",
            "Epoch 50 (train)1.0s + (eval)0.2s: train loss = 0.07263 = (mf)0.06295 + (embed)0.00969, recall = 0.19396, ndcg = 0.41930, precision = 0.37476, map = 0.11758\n",
            "Took 50.231346248000136 seconds for training.\n"
          ]
        }
      ]
    },
    {
      "cell_type": "code",
      "metadata": {
        "colab": {
          "base_uri": "https://localhost:8080/",
          "height": 363
        },
        "id": "KQ59VjTvO2dd",
        "outputId": "d16e3a34-bd15-4af4-8f47-cea9e97cd5e8"
      },
      "source": [
        "topk_scores = model.recommend_k_items(test, top_k=TOP_K, remove_seen=True)\n",
        "\n",
        "topk_scores.head(10)"
      ],
      "execution_count": null,
      "outputs": [
        {
          "output_type": "execute_result",
          "data": {
            "text/html": [
              "<div>\n",
              "<style scoped>\n",
              "    .dataframe tbody tr th:only-of-type {\n",
              "        vertical-align: middle;\n",
              "    }\n",
              "\n",
              "    .dataframe tbody tr th {\n",
              "        vertical-align: top;\n",
              "    }\n",
              "\n",
              "    .dataframe thead th {\n",
              "        text-align: right;\n",
              "    }\n",
              "</style>\n",
              "<table border=\"1\" class=\"dataframe\">\n",
              "  <thead>\n",
              "    <tr style=\"text-align: right;\">\n",
              "      <th></th>\n",
              "      <th>userID</th>\n",
              "      <th>itemID</th>\n",
              "      <th>prediction</th>\n",
              "    </tr>\n",
              "  </thead>\n",
              "  <tbody>\n",
              "    <tr>\n",
              "      <th>0</th>\n",
              "      <td>1</td>\n",
              "      <td>423</td>\n",
              "      <td>5.976227</td>\n",
              "    </tr>\n",
              "    <tr>\n",
              "      <th>1</th>\n",
              "      <td>1</td>\n",
              "      <td>91</td>\n",
              "      <td>5.649329</td>\n",
              "    </tr>\n",
              "    <tr>\n",
              "      <th>2</th>\n",
              "      <td>1</td>\n",
              "      <td>405</td>\n",
              "      <td>5.356187</td>\n",
              "    </tr>\n",
              "    <tr>\n",
              "      <th>3</th>\n",
              "      <td>1</td>\n",
              "      <td>919</td>\n",
              "      <td>5.339531</td>\n",
              "    </tr>\n",
              "    <tr>\n",
              "      <th>4</th>\n",
              "      <td>1</td>\n",
              "      <td>588</td>\n",
              "      <td>5.309151</td>\n",
              "    </tr>\n",
              "    <tr>\n",
              "      <th>5</th>\n",
              "      <td>1</td>\n",
              "      <td>433</td>\n",
              "      <td>5.275554</td>\n",
              "    </tr>\n",
              "    <tr>\n",
              "      <th>6</th>\n",
              "      <td>1</td>\n",
              "      <td>403</td>\n",
              "      <td>5.261531</td>\n",
              "    </tr>\n",
              "    <tr>\n",
              "      <th>7</th>\n",
              "      <td>1</td>\n",
              "      <td>432</td>\n",
              "      <td>5.150821</td>\n",
              "    </tr>\n",
              "    <tr>\n",
              "      <th>8</th>\n",
              "      <td>1</td>\n",
              "      <td>56</td>\n",
              "      <td>5.063169</td>\n",
              "    </tr>\n",
              "    <tr>\n",
              "      <th>9</th>\n",
              "      <td>1</td>\n",
              "      <td>568</td>\n",
              "      <td>5.045245</td>\n",
              "    </tr>\n",
              "  </tbody>\n",
              "</table>\n",
              "</div>"
            ],
            "text/plain": [
              "   userID  itemID  prediction\n",
              "0       1     423    5.976227\n",
              "1       1      91    5.649329\n",
              "2       1     405    5.356187\n",
              "3       1     919    5.339531\n",
              "4       1     588    5.309151\n",
              "5       1     433    5.275554\n",
              "6       1     403    5.261531\n",
              "7       1     432    5.150821\n",
              "8       1      56    5.063169\n",
              "9       1     568    5.045245"
            ]
          },
          "metadata": {},
          "execution_count": 63
        }
      ]
    },
    {
      "cell_type": "code",
      "metadata": {
        "colab": {
          "base_uri": "https://localhost:8080/"
        },
        "id": "hTyijxoHOzUf",
        "outputId": "394349e8-56cf-40f1-91ea-825796b613e8"
      },
      "source": [
        "eval_map = map_at_k(test, topk_scores, k=TOP_K)\n",
        "eval_ndcg = ndcg_at_k(test, topk_scores, k=TOP_K)\n",
        "eval_precision = precision_at_k(test, topk_scores, k=TOP_K)\n",
        "eval_recall = recall_at_k(test, topk_scores, k=TOP_K)\n",
        "\n",
        "print(\"MAP:\\t%f\" % eval_map,\n",
        "      \"NDCG:\\t%f\" % eval_ndcg,\n",
        "      \"Precision@K:\\t%f\" % eval_precision,\n",
        "      \"Recall@K:\\t%f\" % eval_recall, sep='\\n')"
      ],
      "execution_count": null,
      "outputs": [
        {
          "output_type": "stream",
          "name": "stdout",
          "text": [
            "MAP:\t0.117577\n",
            "NDCG:\t0.419296\n",
            "Precision@K:\t0.374761\n",
            "Recall@K:\t0.193959\n"
          ]
        }
      ]
    },
    {
      "cell_type": "code",
      "metadata": {
        "id": "ubOUR1pXO6KQ"
      },
      "source": [],
      "execution_count": null,
      "outputs": []
    },
    {
      "cell_type": "markdown",
      "metadata": {
        "id": "fHTiwJNsO7Dh"
      },
      "source": [
        "## Embedding size = 32"
      ]
    },
    {
      "cell_type": "code",
      "metadata": {
        "id": "n73K0EPEO_Qf"
      },
      "source": [
        "hparams = prepare_hparams('/content/recommenders/recommenders/models/deeprec/config/lightgcn.yaml',\n",
        "                          n_layers=3,\n",
        "                          batch_size=BATCH_SIZE,\n",
        "                          epochs=EPOCHS,\n",
        "                          learning_rate=0.005,\n",
        "                          eval_epoch=5,\n",
        "                          top_k=TOP_K,\n",
        "                          embed_size=32\n",
        "                         )"
      ],
      "execution_count": null,
      "outputs": []
    },
    {
      "cell_type": "code",
      "metadata": {
        "colab": {
          "base_uri": "https://localhost:8080/"
        },
        "id": "-mA6-2CcPGAo",
        "outputId": "8da6e4a1-c459-4dda-ee18-20846852eb74"
      },
      "source": [
        "model = LightGCN(hparams, data, seed=SEED)"
      ],
      "execution_count": null,
      "outputs": [
        {
          "output_type": "stream",
          "name": "stdout",
          "text": [
            "Already create adjacency matrix.\n",
            "Already normalize adjacency matrix.\n",
            "Using xavier initialization.\n"
          ]
        }
      ]
    },
    {
      "cell_type": "code",
      "metadata": {
        "colab": {
          "base_uri": "https://localhost:8080/"
        },
        "id": "gaAd15tUPJHQ",
        "outputId": "3a2050d7-52d1-4818-81f5-06a5d227a8fb"
      },
      "source": [
        "with Timer() as train_time:\n",
        "    model.fit()\n",
        "\n",
        "print(\"Took {} seconds for training.\".format(train_time.interval))"
      ],
      "execution_count": null,
      "outputs": [
        {
          "output_type": "stream",
          "name": "stdout",
          "text": [
            "Epoch 1 (train)1.2s: train loss = 0.51397 = (mf)0.51382 + (embed)0.00015\n",
            "Epoch 2 (train)0.7s: train loss = 0.29497 = (mf)0.29441 + (embed)0.00055\n",
            "Epoch 3 (train)0.7s: train loss = 0.26023 = (mf)0.25954 + (embed)0.00069\n",
            "Epoch 4 (train)0.7s: train loss = 0.24162 = (mf)0.24080 + (embed)0.00082\n",
            "Epoch 5 (train)0.7s + (eval)0.3s: train loss = 0.23057 = (mf)0.22963 + (embed)0.00094, recall = 0.12915, ndcg = 0.29708, precision = 0.26649, map = 0.06719\n",
            "Epoch 6 (train)0.7s: train loss = 0.22343 = (mf)0.22239 + (embed)0.00104\n",
            "Epoch 7 (train)0.7s: train loss = 0.21757 = (mf)0.21645 + (embed)0.00112\n",
            "Epoch 8 (train)0.8s: train loss = 0.21970 = (mf)0.21851 + (embed)0.00118\n",
            "Epoch 9 (train)0.7s: train loss = 0.21457 = (mf)0.21333 + (embed)0.00124\n",
            "Epoch 10 (train)0.7s + (eval)0.2s: train loss = 0.20432 = (mf)0.20301 + (embed)0.00132, recall = 0.13493, ndcg = 0.30947, precision = 0.27731, map = 0.07094\n",
            "Epoch 11 (train)0.7s: train loss = 0.20515 = (mf)0.20376 + (embed)0.00138\n",
            "Epoch 12 (train)0.7s: train loss = 0.19831 = (mf)0.19685 + (embed)0.00146\n",
            "Epoch 13 (train)0.7s: train loss = 0.18943 = (mf)0.18789 + (embed)0.00155\n",
            "Epoch 14 (train)0.7s: train loss = 0.18502 = (mf)0.18339 + (embed)0.00163\n",
            "Epoch 15 (train)0.7s + (eval)0.2s: train loss = 0.17789 = (mf)0.17615 + (embed)0.00174, recall = 0.14262, ndcg = 0.33179, precision = 0.29883, map = 0.07954\n",
            "Epoch 16 (train)0.7s: train loss = 0.17528 = (mf)0.17344 + (embed)0.00184\n",
            "Epoch 17 (train)0.7s: train loss = 0.17222 = (mf)0.17028 + (embed)0.00193\n",
            "Epoch 18 (train)0.7s: train loss = 0.16747 = (mf)0.16544 + (embed)0.00203\n",
            "Epoch 19 (train)0.7s: train loss = 0.16659 = (mf)0.16447 + (embed)0.00212\n",
            "Epoch 20 (train)0.7s + (eval)0.2s: train loss = 0.16334 = (mf)0.16114 + (embed)0.00220, recall = 0.15518, ndcg = 0.34658, precision = 0.31474, map = 0.08551\n",
            "Epoch 21 (train)0.7s: train loss = 0.16303 = (mf)0.16076 + (embed)0.00227\n",
            "Epoch 22 (train)0.7s: train loss = 0.15861 = (mf)0.15627 + (embed)0.00234\n",
            "Epoch 23 (train)0.7s: train loss = 0.15788 = (mf)0.15546 + (embed)0.00242\n",
            "Epoch 24 (train)0.8s: train loss = 0.15517 = (mf)0.15267 + (embed)0.00250\n",
            "Epoch 25 (train)0.7s + (eval)0.2s: train loss = 0.15424 = (mf)0.15168 + (embed)0.00256, recall = 0.16160, ndcg = 0.35516, precision = 0.32407, map = 0.08860\n",
            "Epoch 26 (train)0.7s: train loss = 0.15084 = (mf)0.14822 + (embed)0.00263\n",
            "Epoch 27 (train)0.7s: train loss = 0.15180 = (mf)0.14911 + (embed)0.00269\n",
            "Epoch 28 (train)0.7s: train loss = 0.14848 = (mf)0.14572 + (embed)0.00276\n",
            "Epoch 29 (train)0.7s: train loss = 0.14749 = (mf)0.14467 + (embed)0.00282\n",
            "Epoch 30 (train)0.8s + (eval)0.2s: train loss = 0.14706 = (mf)0.14417 + (embed)0.00289, recall = 0.16639, ndcg = 0.36473, precision = 0.33404, map = 0.09178\n",
            "Epoch 31 (train)0.8s: train loss = 0.14486 = (mf)0.14190 + (embed)0.00296\n",
            "Epoch 32 (train)0.7s: train loss = 0.14784 = (mf)0.14481 + (embed)0.00303\n",
            "Epoch 33 (train)0.7s: train loss = 0.14143 = (mf)0.13833 + (embed)0.00310\n",
            "Epoch 34 (train)0.7s: train loss = 0.13969 = (mf)0.13651 + (embed)0.00318\n",
            "Epoch 35 (train)0.7s + (eval)0.2s: train loss = 0.13801 = (mf)0.13475 + (embed)0.00326, recall = 0.17079, ndcg = 0.37547, precision = 0.34189, map = 0.09695\n",
            "Epoch 36 (train)0.7s: train loss = 0.13423 = (mf)0.13090 + (embed)0.00333\n",
            "Epoch 37 (train)0.7s: train loss = 0.13398 = (mf)0.13056 + (embed)0.00342\n",
            "Epoch 38 (train)0.7s: train loss = 0.13139 = (mf)0.12791 + (embed)0.00349\n",
            "Epoch 39 (train)0.7s: train loss = 0.13041 = (mf)0.12684 + (embed)0.00357\n",
            "Epoch 40 (train)0.7s + (eval)0.2s: train loss = 0.12934 = (mf)0.12568 + (embed)0.00366, recall = 0.17804, ndcg = 0.39001, precision = 0.34995, map = 0.10398\n",
            "Epoch 41 (train)0.7s: train loss = 0.12751 = (mf)0.12378 + (embed)0.00374\n",
            "Epoch 42 (train)0.7s: train loss = 0.12798 = (mf)0.12416 + (embed)0.00382\n",
            "Epoch 43 (train)0.7s: train loss = 0.12886 = (mf)0.12499 + (embed)0.00387\n",
            "Epoch 44 (train)0.7s: train loss = 0.12616 = (mf)0.12220 + (embed)0.00396\n",
            "Epoch 45 (train)0.7s + (eval)0.2s: train loss = 0.12409 = (mf)0.12005 + (embed)0.00404, recall = 0.18038, ndcg = 0.39512, precision = 0.35514, map = 0.10638\n",
            "Epoch 46 (train)0.7s: train loss = 0.12472 = (mf)0.12060 + (embed)0.00412\n",
            "Epoch 47 (train)0.7s: train loss = 0.12404 = (mf)0.11985 + (embed)0.00419\n",
            "Epoch 48 (train)0.7s: train loss = 0.12328 = (mf)0.11904 + (embed)0.00424\n",
            "Epoch 49 (train)0.7s: train loss = 0.12160 = (mf)0.11728 + (embed)0.00432\n",
            "Epoch 50 (train)0.7s + (eval)0.2s: train loss = 0.12137 = (mf)0.11697 + (embed)0.00440, recall = 0.18428, ndcg = 0.40051, precision = 0.35811, map = 0.10915\n",
            "Took 38.45098489399993 seconds for training.\n"
          ]
        }
      ]
    },
    {
      "cell_type": "code",
      "metadata": {
        "colab": {
          "base_uri": "https://localhost:8080/",
          "height": 363
        },
        "id": "-Ml4sMvePOoF",
        "outputId": "9a7cfbb8-385e-40fe-895e-55cb6c5e29de"
      },
      "source": [
        "topk_scores = model.recommend_k_items(test, top_k=TOP_K, remove_seen=True)\n",
        "\n",
        "topk_scores.head(10)"
      ],
      "execution_count": null,
      "outputs": [
        {
          "output_type": "execute_result",
          "data": {
            "text/html": [
              "<div>\n",
              "<style scoped>\n",
              "    .dataframe tbody tr th:only-of-type {\n",
              "        vertical-align: middle;\n",
              "    }\n",
              "\n",
              "    .dataframe tbody tr th {\n",
              "        vertical-align: top;\n",
              "    }\n",
              "\n",
              "    .dataframe thead th {\n",
              "        text-align: right;\n",
              "    }\n",
              "</style>\n",
              "<table border=\"1\" class=\"dataframe\">\n",
              "  <thead>\n",
              "    <tr style=\"text-align: right;\">\n",
              "      <th></th>\n",
              "      <th>userID</th>\n",
              "      <th>itemID</th>\n",
              "      <th>prediction</th>\n",
              "    </tr>\n",
              "  </thead>\n",
              "  <tbody>\n",
              "    <tr>\n",
              "      <th>0</th>\n",
              "      <td>1</td>\n",
              "      <td>98</td>\n",
              "      <td>5.400963</td>\n",
              "    </tr>\n",
              "    <tr>\n",
              "      <th>1</th>\n",
              "      <td>1</td>\n",
              "      <td>56</td>\n",
              "      <td>5.146634</td>\n",
              "    </tr>\n",
              "    <tr>\n",
              "      <th>2</th>\n",
              "      <td>1</td>\n",
              "      <td>204</td>\n",
              "      <td>4.753932</td>\n",
              "    </tr>\n",
              "    <tr>\n",
              "      <th>3</th>\n",
              "      <td>1</td>\n",
              "      <td>238</td>\n",
              "      <td>4.718017</td>\n",
              "    </tr>\n",
              "    <tr>\n",
              "      <th>4</th>\n",
              "      <td>1</td>\n",
              "      <td>423</td>\n",
              "      <td>4.527374</td>\n",
              "    </tr>\n",
              "    <tr>\n",
              "      <th>5</th>\n",
              "      <td>1</td>\n",
              "      <td>144</td>\n",
              "      <td>4.496536</td>\n",
              "    </tr>\n",
              "    <tr>\n",
              "      <th>6</th>\n",
              "      <td>1</td>\n",
              "      <td>28</td>\n",
              "      <td>4.464203</td>\n",
              "    </tr>\n",
              "    <tr>\n",
              "      <th>7</th>\n",
              "      <td>1</td>\n",
              "      <td>405</td>\n",
              "      <td>4.418415</td>\n",
              "    </tr>\n",
              "    <tr>\n",
              "      <th>8</th>\n",
              "      <td>1</td>\n",
              "      <td>69</td>\n",
              "      <td>4.400910</td>\n",
              "    </tr>\n",
              "    <tr>\n",
              "      <th>9</th>\n",
              "      <td>1</td>\n",
              "      <td>655</td>\n",
              "      <td>4.337403</td>\n",
              "    </tr>\n",
              "  </tbody>\n",
              "</table>\n",
              "</div>"
            ],
            "text/plain": [
              "   userID  itemID  prediction\n",
              "0       1      98    5.400963\n",
              "1       1      56    5.146634\n",
              "2       1     204    4.753932\n",
              "3       1     238    4.718017\n",
              "4       1     423    4.527374\n",
              "5       1     144    4.496536\n",
              "6       1      28    4.464203\n",
              "7       1     405    4.418415\n",
              "8       1      69    4.400910\n",
              "9       1     655    4.337403"
            ]
          },
          "metadata": {},
          "execution_count": 68
        }
      ]
    },
    {
      "cell_type": "code",
      "metadata": {
        "colab": {
          "base_uri": "https://localhost:8080/"
        },
        "id": "WU757wSbPMSn",
        "outputId": "1f3ccfd4-4a6d-4320-fb03-c90fa8a87413"
      },
      "source": [
        "eval_map = map_at_k(test, topk_scores, k=TOP_K)\n",
        "eval_ndcg = ndcg_at_k(test, topk_scores, k=TOP_K)\n",
        "eval_precision = precision_at_k(test, topk_scores, k=TOP_K)\n",
        "eval_recall = recall_at_k(test, topk_scores, k=TOP_K)\n",
        "\n",
        "print(\"MAP:\\t%f\" % eval_map,\n",
        "      \"NDCG:\\t%f\" % eval_ndcg,\n",
        "      \"Precision@K:\\t%f\" % eval_precision,\n",
        "      \"Recall@K:\\t%f\" % eval_recall, sep='\\n')"
      ],
      "execution_count": null,
      "outputs": [
        {
          "output_type": "stream",
          "name": "stdout",
          "text": [
            "MAP:\t0.109146\n",
            "NDCG:\t0.400512\n",
            "Precision@K:\t0.358112\n",
            "Recall@K:\t0.184278\n"
          ]
        }
      ]
    },
    {
      "cell_type": "code",
      "metadata": {
        "id": "9q8svsMtPSlX"
      },
      "source": [],
      "execution_count": null,
      "outputs": []
    },
    {
      "cell_type": "markdown",
      "metadata": {
        "id": "LTZ0r1HaAW5a"
      },
      "source": [
        "# **Ablation Study**"
      ]
    },
    {
      "cell_type": "markdown",
      "metadata": {
        "id": "sICSsO9lAeZM"
      },
      "source": [
        "# Dropout = 0.1"
      ]
    },
    {
      "cell_type": "markdown",
      "metadata": {
        "id": "SbHaAQA0Cm3r"
      },
      "source": [
        "L2 Regularization = 0.0"
      ]
    },
    {
      "cell_type": "code",
      "metadata": {
        "id": "KkbFmG50AXzH"
      },
      "source": [
        "hparams = prepare_hparams('/content/recommenders/recommenders/models/deeprec/config/lightgcn.yaml',\n",
        "                          n_layers=3,\n",
        "                          batch_size=BATCH_SIZE,\n",
        "                          epochs=EPOCHS,\n",
        "                          learning_rate=0.005,\n",
        "                          eval_epoch=5,\n",
        "                          top_k=TOP_K,\n",
        "                          decay=0.000 # l2 regularization for embedding parameters\n",
        "                         )"
      ],
      "execution_count": null,
      "outputs": []
    },
    {
      "cell_type": "code",
      "metadata": {
        "colab": {
          "base_uri": "https://localhost:8080/"
        },
        "id": "D8jMCi5oCKhB",
        "outputId": "d8c91227-b4e6-41bb-d390-3e04cea729ae"
      },
      "source": [
        "model = LightGCN(hparams, data, seed=SEED)"
      ],
      "execution_count": null,
      "outputs": [
        {
          "output_type": "stream",
          "name": "stdout",
          "text": [
            "Already create adjacency matrix.\n",
            "Already normalize adjacency matrix.\n",
            "Using xavier initialization.\n"
          ]
        }
      ]
    },
    {
      "cell_type": "code",
      "metadata": {
        "colab": {
          "base_uri": "https://localhost:8080/"
        },
        "id": "GfEqBnjVCUhw",
        "outputId": "40f29367-5b85-4fd3-a0d9-ce2723c2bfd9"
      },
      "source": [
        "with Timer() as train_time:\n",
        "    model.fit()\n",
        "\n",
        "print(\"Took {} seconds for training.\".format(train_time.interval))"
      ],
      "execution_count": null,
      "outputs": [
        {
          "output_type": "stream",
          "name": "stdout",
          "text": [
            "Epoch 1 (train)1.5s: train loss = 0.46578 = (mf)0.46578 + (embed)0.00000\n",
            "Epoch 2 (train)0.9s: train loss = 0.27583 = (mf)0.27583 + (embed)0.00000\n",
            "Epoch 3 (train)1.0s: train loss = 0.24743 = (mf)0.24743 + (embed)0.00000\n",
            "Epoch 4 (train)0.9s: train loss = 0.23029 = (mf)0.23029 + (embed)0.00000\n",
            "Epoch 5 (train)0.9s + (eval)1.0s: train loss = 0.22071 = (mf)0.22071 + (embed)0.00000, recall = 0.13081, ndcg = 0.29661, precision = 0.26585, map = 0.06725\n",
            "Epoch 6 (train)0.9s: train loss = 0.21596 = (mf)0.21596 + (embed)0.00000\n",
            "Epoch 7 (train)0.9s: train loss = 0.20992 = (mf)0.20992 + (embed)0.00000\n",
            "Epoch 8 (train)0.9s: train loss = 0.19953 = (mf)0.19953 + (embed)0.00000\n",
            "Epoch 9 (train)0.9s: train loss = 0.18842 = (mf)0.18842 + (embed)0.00000\n",
            "Epoch 10 (train)0.9s + (eval)0.2s: train loss = 0.17928 = (mf)0.17928 + (embed)0.00000, recall = 0.14730, ndcg = 0.33284, precision = 0.30329, map = 0.07831\n",
            "Epoch 11 (train)0.9s: train loss = 0.17104 = (mf)0.17104 + (embed)0.00000\n",
            "Epoch 12 (train)0.9s: train loss = 0.16541 = (mf)0.16541 + (embed)0.00000\n",
            "Epoch 13 (train)0.9s: train loss = 0.16253 = (mf)0.16253 + (embed)0.00000\n",
            "Epoch 14 (train)0.9s: train loss = 0.15996 = (mf)0.15996 + (embed)0.00000\n",
            "Epoch 15 (train)0.9s + (eval)0.2s: train loss = 0.15619 = (mf)0.15619 + (embed)0.00000, recall = 0.15968, ndcg = 0.34885, precision = 0.31824, map = 0.08532\n",
            "Epoch 16 (train)0.9s: train loss = 0.15324 = (mf)0.15324 + (embed)0.00000\n",
            "Epoch 17 (train)0.9s: train loss = 0.15012 = (mf)0.15012 + (embed)0.00000\n",
            "Epoch 18 (train)0.9s: train loss = 0.14851 = (mf)0.14851 + (embed)0.00000\n",
            "Epoch 19 (train)0.9s: train loss = 0.14827 = (mf)0.14827 + (embed)0.00000\n",
            "Epoch 20 (train)0.9s + (eval)0.2s: train loss = 0.14572 = (mf)0.14572 + (embed)0.00000, recall = 0.16479, ndcg = 0.36315, precision = 0.33054, map = 0.09076\n",
            "Epoch 21 (train)0.9s: train loss = 0.14197 = (mf)0.14197 + (embed)0.00000\n",
            "Epoch 22 (train)0.9s: train loss = 0.13828 = (mf)0.13828 + (embed)0.00000\n",
            "Epoch 23 (train)0.9s: train loss = 0.13539 = (mf)0.13539 + (embed)0.00000\n",
            "Epoch 24 (train)0.9s: train loss = 0.13133 = (mf)0.13133 + (embed)0.00000\n",
            "Epoch 25 (train)0.9s + (eval)0.3s: train loss = 0.13448 = (mf)0.13448 + (embed)0.00000, recall = 0.17899, ndcg = 0.38622, precision = 0.34952, map = 0.10079\n",
            "Epoch 26 (train)0.9s: train loss = 0.12696 = (mf)0.12696 + (embed)0.00000\n",
            "Epoch 27 (train)0.9s: train loss = 0.12626 = (mf)0.12626 + (embed)0.00000\n",
            "Epoch 28 (train)0.9s: train loss = 0.12320 = (mf)0.12320 + (embed)0.00000\n",
            "Epoch 29 (train)0.9s: train loss = 0.12411 = (mf)0.12411 + (embed)0.00000\n",
            "Epoch 30 (train)0.9s + (eval)0.2s: train loss = 0.12049 = (mf)0.12049 + (embed)0.00000, recall = 0.18409, ndcg = 0.40043, precision = 0.35695, map = 0.10895\n",
            "Epoch 31 (train)0.9s: train loss = 0.12033 = (mf)0.12033 + (embed)0.00000\n",
            "Epoch 32 (train)0.9s: train loss = 0.11827 = (mf)0.11827 + (embed)0.00000\n",
            "Epoch 33 (train)0.9s: train loss = 0.11231 = (mf)0.11231 + (embed)0.00000\n",
            "Epoch 34 (train)0.9s: train loss = 0.11137 = (mf)0.11137 + (embed)0.00000\n",
            "Epoch 35 (train)0.9s + (eval)0.3s: train loss = 0.10984 = (mf)0.10984 + (embed)0.00000, recall = 0.18734, ndcg = 0.40887, precision = 0.36320, map = 0.11326\n",
            "Epoch 36 (train)0.9s: train loss = 0.10971 = (mf)0.10971 + (embed)0.00000\n",
            "Epoch 37 (train)0.9s: train loss = 0.10818 = (mf)0.10818 + (embed)0.00000\n",
            "Epoch 38 (train)0.9s: train loss = 0.10536 = (mf)0.10536 + (embed)0.00000\n",
            "Epoch 39 (train)0.9s: train loss = 0.10434 = (mf)0.10434 + (embed)0.00000\n",
            "Epoch 40 (train)0.9s + (eval)0.2s: train loss = 0.10243 = (mf)0.10243 + (embed)0.00000, recall = 0.18878, ndcg = 0.41539, precision = 0.36903, map = 0.11672\n",
            "Epoch 41 (train)0.9s: train loss = 0.10276 = (mf)0.10276 + (embed)0.00000\n",
            "Epoch 42 (train)0.9s: train loss = 0.09850 = (mf)0.09850 + (embed)0.00000\n",
            "Epoch 43 (train)0.9s: train loss = 0.09512 = (mf)0.09512 + (embed)0.00000\n",
            "Epoch 44 (train)0.9s: train loss = 0.09412 = (mf)0.09412 + (embed)0.00000\n",
            "Epoch 45 (train)0.9s + (eval)0.3s: train loss = 0.09361 = (mf)0.09361 + (embed)0.00000, recall = 0.18844, ndcg = 0.41155, precision = 0.36448, map = 0.11423\n",
            "Epoch 46 (train)0.9s: train loss = 0.09163 = (mf)0.09163 + (embed)0.00000\n",
            "Epoch 47 (train)0.9s: train loss = 0.09305 = (mf)0.09305 + (embed)0.00000\n",
            "Epoch 48 (train)0.9s: train loss = 0.09150 = (mf)0.09150 + (embed)0.00000\n",
            "Epoch 49 (train)0.9s: train loss = 0.08946 = (mf)0.08946 + (embed)0.00000\n",
            "Epoch 50 (train)0.9s + (eval)0.2s: train loss = 0.08598 = (mf)0.08598 + (embed)0.00000, recall = 0.19304, ndcg = 0.42016, precision = 0.37317, map = 0.11722\n",
            "Took 50.23312935000001 seconds for training.\n"
          ]
        }
      ]
    },
    {
      "cell_type": "code",
      "metadata": {
        "colab": {
          "base_uri": "https://localhost:8080/",
          "height": 363
        },
        "id": "ye0JtxepCYKI",
        "outputId": "901f8f11-1d63-42b9-ca70-a30dcf143a73"
      },
      "source": [
        "topk_scores = model.recommend_k_items(test, top_k=TOP_K, remove_seen=True)\n",
        "\n",
        "topk_scores.head(10)"
      ],
      "execution_count": null,
      "outputs": [
        {
          "output_type": "execute_result",
          "data": {
            "text/html": [
              "<div>\n",
              "<style scoped>\n",
              "    .dataframe tbody tr th:only-of-type {\n",
              "        vertical-align: middle;\n",
              "    }\n",
              "\n",
              "    .dataframe tbody tr th {\n",
              "        vertical-align: top;\n",
              "    }\n",
              "\n",
              "    .dataframe thead th {\n",
              "        text-align: right;\n",
              "    }\n",
              "</style>\n",
              "<table border=\"1\" class=\"dataframe\">\n",
              "  <thead>\n",
              "    <tr style=\"text-align: right;\">\n",
              "      <th></th>\n",
              "      <th>userID</th>\n",
              "      <th>itemID</th>\n",
              "      <th>prediction</th>\n",
              "    </tr>\n",
              "  </thead>\n",
              "  <tbody>\n",
              "    <tr>\n",
              "      <th>0</th>\n",
              "      <td>1</td>\n",
              "      <td>98</td>\n",
              "      <td>5.482670</td>\n",
              "    </tr>\n",
              "    <tr>\n",
              "      <th>1</th>\n",
              "      <td>1</td>\n",
              "      <td>919</td>\n",
              "      <td>5.222923</td>\n",
              "    </tr>\n",
              "    <tr>\n",
              "      <th>2</th>\n",
              "      <td>1</td>\n",
              "      <td>423</td>\n",
              "      <td>5.219283</td>\n",
              "    </tr>\n",
              "    <tr>\n",
              "      <th>3</th>\n",
              "      <td>1</td>\n",
              "      <td>69</td>\n",
              "      <td>5.187056</td>\n",
              "    </tr>\n",
              "    <tr>\n",
              "      <th>4</th>\n",
              "      <td>1</td>\n",
              "      <td>408</td>\n",
              "      <td>5.180061</td>\n",
              "    </tr>\n",
              "    <tr>\n",
              "      <th>5</th>\n",
              "      <td>1</td>\n",
              "      <td>403</td>\n",
              "      <td>5.174940</td>\n",
              "    </tr>\n",
              "    <tr>\n",
              "      <th>6</th>\n",
              "      <td>1</td>\n",
              "      <td>405</td>\n",
              "      <td>5.133166</td>\n",
              "    </tr>\n",
              "    <tr>\n",
              "      <th>7</th>\n",
              "      <td>1</td>\n",
              "      <td>91</td>\n",
              "      <td>5.075123</td>\n",
              "    </tr>\n",
              "    <tr>\n",
              "      <th>8</th>\n",
              "      <td>1</td>\n",
              "      <td>582</td>\n",
              "      <td>5.057949</td>\n",
              "    </tr>\n",
              "    <tr>\n",
              "      <th>9</th>\n",
              "      <td>1</td>\n",
              "      <td>28</td>\n",
              "      <td>5.049814</td>\n",
              "    </tr>\n",
              "  </tbody>\n",
              "</table>\n",
              "</div>"
            ],
            "text/plain": [
              "   userID  itemID  prediction\n",
              "0       1      98    5.482670\n",
              "1       1     919    5.222923\n",
              "2       1     423    5.219283\n",
              "3       1      69    5.187056\n",
              "4       1     408    5.180061\n",
              "5       1     403    5.174940\n",
              "6       1     405    5.133166\n",
              "7       1      91    5.075123\n",
              "8       1     582    5.057949\n",
              "9       1      28    5.049814"
            ]
          },
          "metadata": {},
          "execution_count": 16
        }
      ]
    },
    {
      "cell_type": "code",
      "metadata": {
        "colab": {
          "base_uri": "https://localhost:8080/"
        },
        "id": "zy0WK_lFCcS4",
        "outputId": "cdd32aac-4eb1-4e99-a265-a5aea306d10e"
      },
      "source": [
        "eval_map = map_at_k(test, topk_scores, k=TOP_K)\n",
        "eval_ndcg = ndcg_at_k(test, topk_scores, k=TOP_K)\n",
        "eval_precision = precision_at_k(test, topk_scores, k=TOP_K)\n",
        "eval_recall = recall_at_k(test, topk_scores, k=TOP_K)\n",
        "\n",
        "print(\"MAP:\\t%f\" % eval_map,\n",
        "      \"NDCG:\\t%f\" % eval_ndcg,\n",
        "      \"Precision@K:\\t%f\" % eval_precision,\n",
        "      \"Recall@K:\\t%f\" % eval_recall, sep='\\n')"
      ],
      "execution_count": null,
      "outputs": [
        {
          "output_type": "stream",
          "name": "stdout",
          "text": [
            "MAP:\t0.117221\n",
            "NDCG:\t0.420160\n",
            "Precision@K:\t0.373171\n",
            "Recall@K:\t0.193042\n"
          ]
        }
      ]
    },
    {
      "cell_type": "code",
      "metadata": {
        "id": "V-m101ioCf54"
      },
      "source": [],
      "execution_count": null,
      "outputs": []
    },
    {
      "cell_type": "markdown",
      "metadata": {
        "id": "Jw9iS-_qCs3I"
      },
      "source": [
        "L2 Regularization = 0.0001"
      ]
    },
    {
      "cell_type": "code",
      "metadata": {
        "id": "PWTl_VnbCy0G"
      },
      "source": [
        "hparams = prepare_hparams('/content/recommenders/recommenders/models/deeprec/config/lightgcn.yaml',\n",
        "                          n_layers=3,\n",
        "                          batch_size=BATCH_SIZE,\n",
        "                          epochs=EPOCHS,\n",
        "                          learning_rate=0.005,\n",
        "                          eval_epoch=5,\n",
        "                          top_k=TOP_K,\n",
        "                          decay=0.0001 # l2 regularization for embedding parameters\n",
        "                         )"
      ],
      "execution_count": null,
      "outputs": []
    },
    {
      "cell_type": "code",
      "metadata": {
        "colab": {
          "base_uri": "https://localhost:8080/"
        },
        "id": "DYV04TVHC0jw",
        "outputId": "889b2cd6-8802-438c-fc71-70dfe0f50a83"
      },
      "source": [
        "model = LightGCN(hparams, data, seed=SEED)"
      ],
      "execution_count": null,
      "outputs": [
        {
          "output_type": "stream",
          "name": "stdout",
          "text": [
            "Already create adjacency matrix.\n",
            "Already normalize adjacency matrix.\n",
            "Using xavier initialization.\n"
          ]
        }
      ]
    },
    {
      "cell_type": "code",
      "metadata": {
        "colab": {
          "base_uri": "https://localhost:8080/"
        },
        "id": "yXZAbXMsC5ox",
        "outputId": "ab3730d6-dd3c-4ba1-8103-cd95c395b82b"
      },
      "source": [
        "with Timer() as train_time:\n",
        "    model.fit()\n",
        "\n",
        "print(\"Took {} seconds for training.\".format(train_time.interval))"
      ],
      "execution_count": null,
      "outputs": [
        {
          "output_type": "stream",
          "name": "stdout",
          "text": [
            "Epoch 1 (train)1.4s: train loss = 0.46632 = (mf)0.46607 + (embed)0.00024\n",
            "Epoch 2 (train)0.9s: train loss = 0.27984 = (mf)0.27920 + (embed)0.00064\n",
            "Epoch 3 (train)0.9s: train loss = 0.24628 = (mf)0.24547 + (embed)0.00081\n",
            "Epoch 4 (train)0.9s: train loss = 0.23294 = (mf)0.23197 + (embed)0.00097\n",
            "Epoch 5 (train)0.9s + (eval)0.3s: train loss = 0.22447 = (mf)0.22336 + (embed)0.00110, recall = 0.12909, ndcg = 0.29692, precision = 0.26575, map = 0.06710\n",
            "Epoch 6 (train)0.9s: train loss = 0.21859 = (mf)0.21738 + (embed)0.00121\n",
            "Epoch 7 (train)0.9s: train loss = 0.20841 = (mf)0.20709 + (embed)0.00132\n",
            "Epoch 8 (train)0.9s: train loss = 0.19767 = (mf)0.19622 + (embed)0.00145\n",
            "Epoch 9 (train)0.9s: train loss = 0.18702 = (mf)0.18542 + (embed)0.00160\n",
            "Epoch 10 (train)0.9s + (eval)0.2s: train loss = 0.17480 = (mf)0.17304 + (embed)0.00176, recall = 0.14608, ndcg = 0.33305, precision = 0.30191, map = 0.07861\n",
            "Epoch 11 (train)0.9s: train loss = 0.17110 = (mf)0.16918 + (embed)0.00192\n",
            "Epoch 12 (train)0.9s: train loss = 0.16693 = (mf)0.16488 + (embed)0.00205\n",
            "Epoch 13 (train)0.9s: train loss = 0.16109 = (mf)0.15890 + (embed)0.00219\n",
            "Epoch 14 (train)0.9s: train loss = 0.15823 = (mf)0.15592 + (embed)0.00231\n",
            "Epoch 15 (train)0.9s + (eval)0.3s: train loss = 0.15800 = (mf)0.15559 + (embed)0.00240, recall = 0.15419, ndcg = 0.34212, precision = 0.31135, map = 0.08337\n",
            "Epoch 16 (train)0.9s: train loss = 0.15691 = (mf)0.15441 + (embed)0.00250\n",
            "Epoch 17 (train)0.9s: train loss = 0.15411 = (mf)0.15151 + (embed)0.00260\n",
            "Epoch 18 (train)0.9s: train loss = 0.15356 = (mf)0.15088 + (embed)0.00268\n",
            "Epoch 19 (train)0.9s: train loss = 0.14957 = (mf)0.14679 + (embed)0.00278\n",
            "Epoch 20 (train)0.9s + (eval)0.2s: train loss = 0.14970 = (mf)0.14683 + (embed)0.00287, recall = 0.16343, ndcg = 0.35993, precision = 0.32778, map = 0.09073\n",
            "Epoch 21 (train)0.9s: train loss = 0.14565 = (mf)0.14268 + (embed)0.00297\n",
            "Epoch 22 (train)0.9s: train loss = 0.14306 = (mf)0.13998 + (embed)0.00308\n",
            "Epoch 23 (train)0.9s: train loss = 0.14048 = (mf)0.13728 + (embed)0.00320\n",
            "Epoch 24 (train)0.9s: train loss = 0.13465 = (mf)0.13134 + (embed)0.00331\n",
            "Epoch 25 (train)0.9s + (eval)0.2s: train loss = 0.13418 = (mf)0.13075 + (embed)0.00343, recall = 0.17391, ndcg = 0.38216, precision = 0.34337, map = 0.10040\n",
            "Epoch 26 (train)0.9s: train loss = 0.13501 = (mf)0.13148 + (embed)0.00354\n",
            "Epoch 27 (train)0.9s: train loss = 0.13264 = (mf)0.12900 + (embed)0.00364\n",
            "Epoch 28 (train)0.9s: train loss = 0.12959 = (mf)0.12583 + (embed)0.00376\n",
            "Epoch 29 (train)0.9s: train loss = 0.12877 = (mf)0.12490 + (embed)0.00387\n",
            "Epoch 30 (train)0.9s + (eval)0.2s: train loss = 0.12345 = (mf)0.11947 + (embed)0.00399, recall = 0.18571, ndcg = 0.39923, precision = 0.35695, map = 0.10878\n",
            "Epoch 31 (train)0.9s: train loss = 0.12383 = (mf)0.11973 + (embed)0.00410\n",
            "Epoch 32 (train)0.9s: train loss = 0.12477 = (mf)0.12054 + (embed)0.00423\n",
            "Epoch 33 (train)0.9s: train loss = 0.12048 = (mf)0.11613 + (embed)0.00435\n",
            "Epoch 34 (train)0.9s: train loss = 0.12040 = (mf)0.11594 + (embed)0.00446\n",
            "Epoch 35 (train)0.9s + (eval)0.2s: train loss = 0.11526 = (mf)0.11068 + (embed)0.00458, recall = 0.18741, ndcg = 0.40498, precision = 0.36119, map = 0.11149\n",
            "Epoch 36 (train)0.9s: train loss = 0.11423 = (mf)0.10953 + (embed)0.00470\n",
            "Epoch 37 (train)0.9s: train loss = 0.11372 = (mf)0.10889 + (embed)0.00482\n",
            "Epoch 38 (train)0.9s: train loss = 0.11129 = (mf)0.10634 + (embed)0.00495\n",
            "Epoch 39 (train)0.9s: train loss = 0.11219 = (mf)0.10711 + (embed)0.00508\n",
            "Epoch 40 (train)0.9s + (eval)0.3s: train loss = 0.11080 = (mf)0.10562 + (embed)0.00518, recall = 0.18553, ndcg = 0.40853, precision = 0.36246, map = 0.11302\n",
            "Epoch 41 (train)0.9s: train loss = 0.10773 = (mf)0.10241 + (embed)0.00531\n",
            "Epoch 42 (train)0.9s: train loss = 0.10538 = (mf)0.09994 + (embed)0.00543\n",
            "Epoch 43 (train)0.9s: train loss = 0.10624 = (mf)0.10069 + (embed)0.00555\n",
            "Epoch 44 (train)0.9s: train loss = 0.10249 = (mf)0.09681 + (embed)0.00568\n",
            "Epoch 45 (train)0.9s + (eval)0.2s: train loss = 0.10084 = (mf)0.09503 + (embed)0.00581, recall = 0.19140, ndcg = 0.42006, precision = 0.36787, map = 0.11902\n",
            "Epoch 46 (train)0.9s: train loss = 0.10053 = (mf)0.09459 + (embed)0.00594\n",
            "Epoch 47 (train)0.9s: train loss = 0.09977 = (mf)0.09370 + (embed)0.00607\n",
            "Epoch 48 (train)0.9s: train loss = 0.09847 = (mf)0.09227 + (embed)0.00620\n",
            "Epoch 49 (train)0.9s: train loss = 0.09840 = (mf)0.09210 + (embed)0.00630\n",
            "Epoch 50 (train)0.9s + (eval)0.2s: train loss = 0.09677 = (mf)0.09034 + (embed)0.00642, recall = 0.19248, ndcg = 0.41646, precision = 0.36978, map = 0.11617\n",
            "Took 48.88852647199997 seconds for training.\n"
          ]
        }
      ]
    },
    {
      "cell_type": "code",
      "metadata": {
        "colab": {
          "base_uri": "https://localhost:8080/",
          "height": 363
        },
        "id": "_Jq9H1U5C9h4",
        "outputId": "ef0257bb-95b5-4385-9644-94e8e4514486"
      },
      "source": [
        "topk_scores = model.recommend_k_items(test, top_k=TOP_K, remove_seen=True)\n",
        "\n",
        "topk_scores.head(10)"
      ],
      "execution_count": null,
      "outputs": [
        {
          "output_type": "execute_result",
          "data": {
            "text/html": [
              "<div>\n",
              "<style scoped>\n",
              "    .dataframe tbody tr th:only-of-type {\n",
              "        vertical-align: middle;\n",
              "    }\n",
              "\n",
              "    .dataframe tbody tr th {\n",
              "        vertical-align: top;\n",
              "    }\n",
              "\n",
              "    .dataframe thead th {\n",
              "        text-align: right;\n",
              "    }\n",
              "</style>\n",
              "<table border=\"1\" class=\"dataframe\">\n",
              "  <thead>\n",
              "    <tr style=\"text-align: right;\">\n",
              "      <th></th>\n",
              "      <th>userID</th>\n",
              "      <th>itemID</th>\n",
              "      <th>prediction</th>\n",
              "    </tr>\n",
              "  </thead>\n",
              "  <tbody>\n",
              "    <tr>\n",
              "      <th>0</th>\n",
              "      <td>1</td>\n",
              "      <td>432</td>\n",
              "      <td>5.463423</td>\n",
              "    </tr>\n",
              "    <tr>\n",
              "      <th>1</th>\n",
              "      <td>1</td>\n",
              "      <td>588</td>\n",
              "      <td>5.325284</td>\n",
              "    </tr>\n",
              "    <tr>\n",
              "      <th>2</th>\n",
              "      <td>1</td>\n",
              "      <td>91</td>\n",
              "      <td>5.176545</td>\n",
              "    </tr>\n",
              "    <tr>\n",
              "      <th>3</th>\n",
              "      <td>1</td>\n",
              "      <td>423</td>\n",
              "      <td>5.050926</td>\n",
              "    </tr>\n",
              "    <tr>\n",
              "      <th>4</th>\n",
              "      <td>1</td>\n",
              "      <td>98</td>\n",
              "      <td>4.976696</td>\n",
              "    </tr>\n",
              "    <tr>\n",
              "      <th>5</th>\n",
              "      <td>1</td>\n",
              "      <td>408</td>\n",
              "      <td>4.857317</td>\n",
              "    </tr>\n",
              "    <tr>\n",
              "      <th>6</th>\n",
              "      <td>1</td>\n",
              "      <td>455</td>\n",
              "      <td>4.788647</td>\n",
              "    </tr>\n",
              "    <tr>\n",
              "      <th>7</th>\n",
              "      <td>1</td>\n",
              "      <td>144</td>\n",
              "      <td>4.734303</td>\n",
              "    </tr>\n",
              "    <tr>\n",
              "      <th>8</th>\n",
              "      <td>1</td>\n",
              "      <td>204</td>\n",
              "      <td>4.620701</td>\n",
              "    </tr>\n",
              "    <tr>\n",
              "      <th>9</th>\n",
              "      <td>1</td>\n",
              "      <td>69</td>\n",
              "      <td>4.579630</td>\n",
              "    </tr>\n",
              "  </tbody>\n",
              "</table>\n",
              "</div>"
            ],
            "text/plain": [
              "   userID  itemID  prediction\n",
              "0       1     432    5.463423\n",
              "1       1     588    5.325284\n",
              "2       1      91    5.176545\n",
              "3       1     423    5.050926\n",
              "4       1      98    4.976696\n",
              "5       1     408    4.857317\n",
              "6       1     455    4.788647\n",
              "7       1     144    4.734303\n",
              "8       1     204    4.620701\n",
              "9       1      69    4.579630"
            ]
          },
          "metadata": {},
          "execution_count": 21
        }
      ]
    },
    {
      "cell_type": "code",
      "metadata": {
        "colab": {
          "base_uri": "https://localhost:8080/"
        },
        "id": "UnQKoBIODAdn",
        "outputId": "1d03e074-d6b8-4b4b-ea6b-cfd543b40c02"
      },
      "source": [
        "eval_map = map_at_k(test, topk_scores, k=TOP_K)\n",
        "eval_ndcg = ndcg_at_k(test, topk_scores, k=TOP_K)\n",
        "eval_precision = precision_at_k(test, topk_scores, k=TOP_K)\n",
        "eval_recall = recall_at_k(test, topk_scores, k=TOP_K)\n",
        "\n",
        "print(\"MAP:\\t%f\" % eval_map,\n",
        "      \"NDCG:\\t%f\" % eval_ndcg,\n",
        "      \"Precision@K:\\t%f\" % eval_precision,\n",
        "      \"Recall@K:\\t%f\" % eval_recall, sep='\\n')"
      ],
      "execution_count": null,
      "outputs": [
        {
          "output_type": "stream",
          "name": "stdout",
          "text": [
            "MAP:\t0.116167\n",
            "NDCG:\t0.416462\n",
            "Precision@K:\t0.369777\n",
            "Recall@K:\t0.192483\n"
          ]
        }
      ]
    },
    {
      "cell_type": "code",
      "metadata": {
        "id": "1l-47fO5DDo4"
      },
      "source": [],
      "execution_count": null,
      "outputs": []
    },
    {
      "cell_type": "markdown",
      "metadata": {
        "id": "jJWJKq86DElm"
      },
      "source": [
        "L2 Regularization = 0.0005"
      ]
    },
    {
      "cell_type": "code",
      "metadata": {
        "id": "ameQc3HeDIDp"
      },
      "source": [
        "hparams = prepare_hparams('/content/recommenders/recommenders/models/deeprec/config/lightgcn.yaml',\n",
        "                          n_layers=3,\n",
        "                          batch_size=BATCH_SIZE,\n",
        "                          epochs=EPOCHS,\n",
        "                          learning_rate=0.005,\n",
        "                          eval_epoch=5,\n",
        "                          top_k=TOP_K,\n",
        "                          decay=0.0005 # l2 regularization for embedding parameters\n",
        "                         )"
      ],
      "execution_count": null,
      "outputs": []
    },
    {
      "cell_type": "code",
      "metadata": {
        "colab": {
          "base_uri": "https://localhost:8080/"
        },
        "id": "aUSzUQArDTgf",
        "outputId": "0c3cf091-599e-4da0-e729-17b41f44f2f2"
      },
      "source": [
        "model = LightGCN(hparams, data, seed=SEED)"
      ],
      "execution_count": null,
      "outputs": [
        {
          "output_type": "stream",
          "name": "stdout",
          "text": [
            "Already create adjacency matrix.\n",
            "Already normalize adjacency matrix.\n",
            "Using xavier initialization.\n"
          ]
        }
      ]
    },
    {
      "cell_type": "code",
      "metadata": {
        "colab": {
          "base_uri": "https://localhost:8080/"
        },
        "id": "WxzZc2eMDTxI",
        "outputId": "e3424556-e222-4523-d436-1bd268d35702"
      },
      "source": [
        "with Timer() as train_time:\n",
        "    model.fit()\n",
        "\n",
        "print(\"Took {} seconds for training.\".format(train_time.interval))"
      ],
      "execution_count": null,
      "outputs": [
        {
          "output_type": "stream",
          "name": "stdout",
          "text": [
            "Epoch 1 (train)1.4s: train loss = 0.46508 = (mf)0.46484 + (embed)0.00024\n",
            "Epoch 2 (train)0.9s: train loss = 0.28421 = (mf)0.28357 + (embed)0.00063\n",
            "Epoch 3 (train)0.9s: train loss = 0.24773 = (mf)0.24692 + (embed)0.00080\n",
            "Epoch 4 (train)0.9s: train loss = 0.22829 = (mf)0.22730 + (embed)0.00099\n",
            "Epoch 5 (train)0.9s + (eval)0.3s: train loss = 0.21923 = (mf)0.21810 + (embed)0.00113, recall = 0.13137, ndcg = 0.30282, precision = 0.26819, map = 0.06975\n",
            "Epoch 6 (train)0.9s: train loss = 0.21374 = (mf)0.21251 + (embed)0.00123\n",
            "Epoch 7 (train)0.9s: train loss = 0.20191 = (mf)0.20056 + (embed)0.00135\n",
            "Epoch 8 (train)0.9s: train loss = 0.19828 = (mf)0.19681 + (embed)0.00148\n",
            "Epoch 9 (train)0.9s: train loss = 0.18507 = (mf)0.18345 + (embed)0.00161\n",
            "Epoch 10 (train)0.9s + (eval)0.2s: train loss = 0.17931 = (mf)0.17755 + (embed)0.00177, recall = 0.14713, ndcg = 0.33373, precision = 0.30329, map = 0.07902\n",
            "Epoch 11 (train)0.9s: train loss = 0.17080 = (mf)0.16888 + (embed)0.00192\n",
            "Epoch 12 (train)0.9s: train loss = 0.16902 = (mf)0.16697 + (embed)0.00205\n",
            "Epoch 13 (train)0.9s: train loss = 0.16370 = (mf)0.16153 + (embed)0.00217\n",
            "Epoch 14 (train)0.9s: train loss = 0.16296 = (mf)0.16067 + (embed)0.00228\n",
            "Epoch 15 (train)0.9s + (eval)0.2s: train loss = 0.15825 = (mf)0.15585 + (embed)0.00240, recall = 0.15602, ndcg = 0.34862, precision = 0.31559, map = 0.08571\n",
            "Epoch 16 (train)0.9s: train loss = 0.15759 = (mf)0.15510 + (embed)0.00249\n",
            "Epoch 17 (train)0.9s: train loss = 0.15401 = (mf)0.15142 + (embed)0.00259\n",
            "Epoch 18 (train)0.9s: train loss = 0.15321 = (mf)0.15052 + (embed)0.00269\n",
            "Epoch 19 (train)0.9s: train loss = 0.14777 = (mf)0.14498 + (embed)0.00279\n",
            "Epoch 20 (train)0.9s + (eval)0.2s: train loss = 0.14529 = (mf)0.14239 + (embed)0.00290, recall = 0.16630, ndcg = 0.36124, precision = 0.33054, map = 0.09189\n",
            "Epoch 21 (train)0.9s: train loss = 0.14373 = (mf)0.14072 + (embed)0.00301\n",
            "Epoch 22 (train)0.9s: train loss = 0.14522 = (mf)0.14212 + (embed)0.00310\n",
            "Epoch 23 (train)0.9s: train loss = 0.13992 = (mf)0.13671 + (embed)0.00321\n",
            "Epoch 24 (train)0.9s: train loss = 0.13940 = (mf)0.13609 + (embed)0.00331\n",
            "Epoch 25 (train)0.9s + (eval)0.3s: train loss = 0.13640 = (mf)0.13297 + (embed)0.00343, recall = 0.17207, ndcg = 0.37750, precision = 0.34062, map = 0.09900\n",
            "Epoch 26 (train)0.9s: train loss = 0.13201 = (mf)0.12847 + (embed)0.00354\n",
            "Epoch 27 (train)0.9s: train loss = 0.12929 = (mf)0.12563 + (embed)0.00366\n",
            "Epoch 28 (train)0.9s: train loss = 0.12803 = (mf)0.12426 + (embed)0.00377\n",
            "Epoch 29 (train)0.9s: train loss = 0.12911 = (mf)0.12523 + (embed)0.00388\n",
            "Epoch 30 (train)0.9s + (eval)0.2s: train loss = 0.12717 = (mf)0.12318 + (embed)0.00399, recall = 0.18302, ndcg = 0.39813, precision = 0.35504, map = 0.10861\n",
            "Epoch 31 (train)0.9s: train loss = 0.12328 = (mf)0.11917 + (embed)0.00411\n",
            "Epoch 32 (train)0.9s: train loss = 0.12057 = (mf)0.11633 + (embed)0.00424\n",
            "Epoch 33 (train)0.9s: train loss = 0.12015 = (mf)0.11581 + (embed)0.00435\n",
            "Epoch 34 (train)0.9s: train loss = 0.11814 = (mf)0.11366 + (embed)0.00448\n",
            "Epoch 35 (train)0.9s + (eval)0.2s: train loss = 0.11850 = (mf)0.11391 + (embed)0.00459, recall = 0.18744, ndcg = 0.40654, precision = 0.36076, map = 0.11245\n",
            "Epoch 36 (train)0.9s: train loss = 0.11533 = (mf)0.11062 + (embed)0.00471\n",
            "Epoch 37 (train)0.9s: train loss = 0.11557 = (mf)0.11075 + (embed)0.00483\n",
            "Epoch 38 (train)0.9s: train loss = 0.11453 = (mf)0.10957 + (embed)0.00495\n",
            "Epoch 39 (train)0.9s: train loss = 0.11013 = (mf)0.10505 + (embed)0.00508\n",
            "Epoch 40 (train)0.9s + (eval)0.3s: train loss = 0.10919 = (mf)0.10400 + (embed)0.00519, recall = 0.18928, ndcg = 0.40943, precision = 0.36501, map = 0.11298\n",
            "Epoch 41 (train)0.9s: train loss = 0.10923 = (mf)0.10389 + (embed)0.00533\n",
            "Epoch 42 (train)0.9s: train loss = 0.10574 = (mf)0.10027 + (embed)0.00547\n",
            "Epoch 43 (train)0.9s: train loss = 0.10737 = (mf)0.10180 + (embed)0.00558\n",
            "Epoch 44 (train)0.9s: train loss = 0.10311 = (mf)0.09740 + (embed)0.00571\n",
            "Epoch 45 (train)0.9s + (eval)0.2s: train loss = 0.10117 = (mf)0.09533 + (embed)0.00584, recall = 0.19428, ndcg = 0.41726, precision = 0.37243, map = 0.11688\n",
            "Epoch 46 (train)0.9s: train loss = 0.10116 = (mf)0.09519 + (embed)0.00596\n",
            "Epoch 47 (train)0.9s: train loss = 0.09929 = (mf)0.09320 + (embed)0.00609\n",
            "Epoch 48 (train)0.9s: train loss = 0.09939 = (mf)0.09316 + (embed)0.00623\n",
            "Epoch 49 (train)0.9s: train loss = 0.09644 = (mf)0.09009 + (embed)0.00635\n",
            "Epoch 50 (train)0.9s + (eval)0.2s: train loss = 0.09658 = (mf)0.09011 + (embed)0.00647, recall = 0.19667, ndcg = 0.42180, precision = 0.37582, map = 0.11944\n",
            "Took 48.79876099299997 seconds for training.\n"
          ]
        }
      ]
    },
    {
      "cell_type": "code",
      "metadata": {
        "colab": {
          "base_uri": "https://localhost:8080/",
          "height": 363
        },
        "id": "_y0ThQ7-DX0J",
        "outputId": "74ddfa1e-3575-4358-f2b7-1010b953321f"
      },
      "source": [
        "topk_scores = model.recommend_k_items(test, top_k=TOP_K, remove_seen=True)\n",
        "\n",
        "topk_scores.head(10)"
      ],
      "execution_count": null,
      "outputs": [
        {
          "output_type": "execute_result",
          "data": {
            "text/html": [
              "<div>\n",
              "<style scoped>\n",
              "    .dataframe tbody tr th:only-of-type {\n",
              "        vertical-align: middle;\n",
              "    }\n",
              "\n",
              "    .dataframe tbody tr th {\n",
              "        vertical-align: top;\n",
              "    }\n",
              "\n",
              "    .dataframe thead th {\n",
              "        text-align: right;\n",
              "    }\n",
              "</style>\n",
              "<table border=\"1\" class=\"dataframe\">\n",
              "  <thead>\n",
              "    <tr style=\"text-align: right;\">\n",
              "      <th></th>\n",
              "      <th>userID</th>\n",
              "      <th>itemID</th>\n",
              "      <th>prediction</th>\n",
              "    </tr>\n",
              "  </thead>\n",
              "  <tbody>\n",
              "    <tr>\n",
              "      <th>0</th>\n",
              "      <td>1</td>\n",
              "      <td>91</td>\n",
              "      <td>6.189005</td>\n",
              "    </tr>\n",
              "    <tr>\n",
              "      <th>1</th>\n",
              "      <td>1</td>\n",
              "      <td>423</td>\n",
              "      <td>5.415013</td>\n",
              "    </tr>\n",
              "    <tr>\n",
              "      <th>2</th>\n",
              "      <td>1</td>\n",
              "      <td>250</td>\n",
              "      <td>5.392582</td>\n",
              "    </tr>\n",
              "    <tr>\n",
              "      <th>3</th>\n",
              "      <td>1</td>\n",
              "      <td>144</td>\n",
              "      <td>5.386692</td>\n",
              "    </tr>\n",
              "    <tr>\n",
              "      <th>4</th>\n",
              "      <td>1</td>\n",
              "      <td>408</td>\n",
              "      <td>5.306597</td>\n",
              "    </tr>\n",
              "    <tr>\n",
              "      <th>5</th>\n",
              "      <td>1</td>\n",
              "      <td>588</td>\n",
              "      <td>5.282079</td>\n",
              "    </tr>\n",
              "    <tr>\n",
              "      <th>6</th>\n",
              "      <td>1</td>\n",
              "      <td>919</td>\n",
              "      <td>5.264353</td>\n",
              "    </tr>\n",
              "    <tr>\n",
              "      <th>7</th>\n",
              "      <td>1</td>\n",
              "      <td>405</td>\n",
              "      <td>5.239684</td>\n",
              "    </tr>\n",
              "    <tr>\n",
              "      <th>8</th>\n",
              "      <td>1</td>\n",
              "      <td>56</td>\n",
              "      <td>5.231057</td>\n",
              "    </tr>\n",
              "    <tr>\n",
              "      <th>9</th>\n",
              "      <td>1</td>\n",
              "      <td>204</td>\n",
              "      <td>5.223225</td>\n",
              "    </tr>\n",
              "  </tbody>\n",
              "</table>\n",
              "</div>"
            ],
            "text/plain": [
              "   userID  itemID  prediction\n",
              "0       1      91    6.189005\n",
              "1       1     423    5.415013\n",
              "2       1     250    5.392582\n",
              "3       1     144    5.386692\n",
              "4       1     408    5.306597\n",
              "5       1     588    5.282079\n",
              "6       1     919    5.264353\n",
              "7       1     405    5.239684\n",
              "8       1      56    5.231057\n",
              "9       1     204    5.223225"
            ]
          },
          "metadata": {},
          "execution_count": 25
        }
      ]
    },
    {
      "cell_type": "code",
      "metadata": {
        "colab": {
          "base_uri": "https://localhost:8080/"
        },
        "id": "0lplZ0wmDbSH",
        "outputId": "a7d03a7c-4c3f-4e79-d481-9b5ca43039bc"
      },
      "source": [
        "eval_map = map_at_k(test, topk_scores, k=TOP_K)\n",
        "eval_ndcg = ndcg_at_k(test, topk_scores, k=TOP_K)\n",
        "eval_precision = precision_at_k(test, topk_scores, k=TOP_K)\n",
        "eval_recall = recall_at_k(test, topk_scores, k=TOP_K)\n",
        "\n",
        "print(\"MAP:\\t%f\" % eval_map,\n",
        "      \"NDCG:\\t%f\" % eval_ndcg,\n",
        "      \"Precision@K:\\t%f\" % eval_precision,\n",
        "      \"Recall@K:\\t%f\" % eval_recall, sep='\\n')"
      ],
      "execution_count": null,
      "outputs": [
        {
          "output_type": "stream",
          "name": "stdout",
          "text": [
            "MAP:\t0.119439\n",
            "NDCG:\t0.421800\n",
            "Precision@K:\t0.375822\n",
            "Recall@K:\t0.196670\n"
          ]
        }
      ]
    },
    {
      "cell_type": "code",
      "metadata": {
        "id": "RhJaEMESDfOY"
      },
      "source": [],
      "execution_count": null,
      "outputs": []
    },
    {
      "cell_type": "markdown",
      "metadata": {
        "id": "6DxxyO_KEmDP"
      },
      "source": [
        "# Dropout = 0.25"
      ]
    },
    {
      "cell_type": "markdown",
      "metadata": {
        "id": "2NzrYe2QFCB_"
      },
      "source": [
        "L2 Regularization = 0.0"
      ]
    },
    {
      "cell_type": "code",
      "metadata": {
        "id": "I5L8_zorFCCI"
      },
      "source": [
        "hparams = prepare_hparams('/content/recommenders/recommenders/models/deeprec/config/lightgcn.yaml',\n",
        "                          n_layers=3,\n",
        "                          batch_size=BATCH_SIZE,\n",
        "                          epochs=EPOCHS,\n",
        "                          learning_rate=0.005,\n",
        "                          eval_epoch=5,\n",
        "                          top_k=TOP_K,\n",
        "                          decay=0.000, # l2 regularization for embedding parameters\n",
        "                         )"
      ],
      "execution_count": null,
      "outputs": []
    },
    {
      "cell_type": "code",
      "metadata": {
        "colab": {
          "base_uri": "https://localhost:8080/"
        },
        "id": "c6xGSwaCFCCI",
        "outputId": "1394caa2-c9b8-4ef9-9d46-ddeae7b6ca5c"
      },
      "source": [
        "model = LightGCN(hparams, data, seed=SEED)"
      ],
      "execution_count": null,
      "outputs": [
        {
          "output_type": "stream",
          "name": "stdout",
          "text": [
            "Already create adjacency matrix.\n",
            "Already normalize adjacency matrix.\n",
            "Using xavier initialization.\n"
          ]
        }
      ]
    },
    {
      "cell_type": "code",
      "metadata": {
        "colab": {
          "base_uri": "https://localhost:8080/"
        },
        "id": "yEnUty2NFCCI",
        "outputId": "dc65d84a-eec3-495c-d1ab-0ead9044f737"
      },
      "source": [
        "with Timer() as train_time:\n",
        "    model.fit()\n",
        "\n",
        "print(\"Took {} seconds for training.\".format(train_time.interval))"
      ],
      "execution_count": null,
      "outputs": [
        {
          "output_type": "stream",
          "name": "stdout",
          "text": [
            "Epoch 1 (train)1.7s: train loss = 0.43004 = (mf)0.43004 + (embed)0.00000\n",
            "Epoch 2 (train)1.1s: train loss = 0.28745 = (mf)0.28745 + (embed)0.00000\n",
            "Epoch 3 (train)1.1s: train loss = 0.24860 = (mf)0.24860 + (embed)0.00000\n",
            "Epoch 4 (train)1.1s: train loss = 0.22786 = (mf)0.22786 + (embed)0.00000\n",
            "Epoch 5 (train)1.1s + (eval)0.3s: train loss = 0.22238 = (mf)0.22238 + (embed)0.00000, recall = 0.12787, ndcg = 0.29717, precision = 0.26363, map = 0.06738\n",
            "Epoch 6 (train)1.1s: train loss = 0.21764 = (mf)0.21764 + (embed)0.00000\n",
            "Epoch 7 (train)1.1s: train loss = 0.20348 = (mf)0.20348 + (embed)0.00000\n",
            "Epoch 8 (train)1.1s: train loss = 0.19269 = (mf)0.19269 + (embed)0.00000\n",
            "Epoch 9 (train)1.1s: train loss = 0.18101 = (mf)0.18101 + (embed)0.00000\n",
            "Epoch 10 (train)1.1s + (eval)0.3s: train loss = 0.17247 = (mf)0.17247 + (embed)0.00000, recall = 0.14727, ndcg = 0.33517, precision = 0.30615, map = 0.07927\n",
            "Epoch 11 (train)1.1s: train loss = 0.16747 = (mf)0.16747 + (embed)0.00000\n",
            "Epoch 12 (train)1.1s: train loss = 0.16443 = (mf)0.16443 + (embed)0.00000\n",
            "Epoch 13 (train)1.1s: train loss = 0.15715 = (mf)0.15715 + (embed)0.00000\n",
            "Epoch 14 (train)1.2s: train loss = 0.15307 = (mf)0.15307 + (embed)0.00000\n",
            "Epoch 15 (train)1.1s + (eval)0.2s: train loss = 0.14977 = (mf)0.14977 + (embed)0.00000, recall = 0.15965, ndcg = 0.35249, precision = 0.32004, map = 0.08771\n",
            "Epoch 16 (train)1.2s: train loss = 0.14814 = (mf)0.14814 + (embed)0.00000\n",
            "Epoch 17 (train)1.1s: train loss = 0.14530 = (mf)0.14530 + (embed)0.00000\n",
            "Epoch 18 (train)1.1s: train loss = 0.14320 = (mf)0.14320 + (embed)0.00000\n",
            "Epoch 19 (train)1.1s: train loss = 0.14116 = (mf)0.14116 + (embed)0.00000\n",
            "Epoch 20 (train)1.1s + (eval)0.2s: train loss = 0.13638 = (mf)0.13638 + (embed)0.00000, recall = 0.16927, ndcg = 0.37442, precision = 0.33743, map = 0.09729\n",
            "Epoch 21 (train)1.1s: train loss = 0.13470 = (mf)0.13470 + (embed)0.00000\n",
            "Epoch 22 (train)1.2s: train loss = 0.13346 = (mf)0.13346 + (embed)0.00000\n",
            "Epoch 23 (train)1.1s: train loss = 0.12738 = (mf)0.12738 + (embed)0.00000\n",
            "Epoch 24 (train)1.1s: train loss = 0.12626 = (mf)0.12626 + (embed)0.00000\n",
            "Epoch 25 (train)1.1s + (eval)0.2s: train loss = 0.12297 = (mf)0.12297 + (embed)0.00000, recall = 0.18038, ndcg = 0.39386, precision = 0.35101, map = 0.10680\n",
            "Epoch 26 (train)1.2s: train loss = 0.12212 = (mf)0.12212 + (embed)0.00000\n",
            "Epoch 27 (train)1.1s: train loss = 0.11903 = (mf)0.11903 + (embed)0.00000\n",
            "Epoch 28 (train)1.1s: train loss = 0.11445 = (mf)0.11445 + (embed)0.00000\n",
            "Epoch 29 (train)1.1s: train loss = 0.11468 = (mf)0.11468 + (embed)0.00000\n",
            "Epoch 30 (train)1.1s + (eval)0.3s: train loss = 0.11015 = (mf)0.11015 + (embed)0.00000, recall = 0.18953, ndcg = 0.40819, precision = 0.36564, map = 0.11212\n",
            "Epoch 31 (train)1.1s: train loss = 0.10961 = (mf)0.10961 + (embed)0.00000\n",
            "Epoch 32 (train)1.1s: train loss = 0.10733 = (mf)0.10733 + (embed)0.00000\n",
            "Epoch 33 (train)1.1s: train loss = 0.10631 = (mf)0.10631 + (embed)0.00000\n",
            "Epoch 34 (train)1.1s: train loss = 0.10329 = (mf)0.10329 + (embed)0.00000\n",
            "Epoch 35 (train)1.1s + (eval)0.2s: train loss = 0.10202 = (mf)0.10202 + (embed)0.00000, recall = 0.19111, ndcg = 0.41513, precision = 0.36776, map = 0.11668\n",
            "Epoch 36 (train)1.1s: train loss = 0.10112 = (mf)0.10112 + (embed)0.00000\n",
            "Epoch 37 (train)1.1s: train loss = 0.09855 = (mf)0.09855 + (embed)0.00000\n",
            "Epoch 38 (train)1.1s: train loss = 0.09714 = (mf)0.09714 + (embed)0.00000\n",
            "Epoch 39 (train)1.1s: train loss = 0.09498 = (mf)0.09498 + (embed)0.00000\n",
            "Epoch 40 (train)1.1s + (eval)0.2s: train loss = 0.09338 = (mf)0.09338 + (embed)0.00000, recall = 0.19128, ndcg = 0.41782, precision = 0.36999, map = 0.11704\n",
            "Epoch 41 (train)1.2s: train loss = 0.08810 = (mf)0.08810 + (embed)0.00000\n",
            "Epoch 42 (train)1.2s: train loss = 0.08925 = (mf)0.08925 + (embed)0.00000\n",
            "Epoch 43 (train)1.2s: train loss = 0.08619 = (mf)0.08619 + (embed)0.00000\n",
            "Epoch 44 (train)1.1s: train loss = 0.08590 = (mf)0.08590 + (embed)0.00000\n",
            "Epoch 45 (train)1.1s + (eval)0.2s: train loss = 0.08518 = (mf)0.08518 + (embed)0.00000, recall = 0.19443, ndcg = 0.42134, precision = 0.37529, map = 0.11990\n",
            "Epoch 46 (train)1.2s: train loss = 0.08327 = (mf)0.08327 + (embed)0.00000\n",
            "Epoch 47 (train)1.1s: train loss = 0.08006 = (mf)0.08006 + (embed)0.00000\n",
            "Epoch 48 (train)1.1s: train loss = 0.08018 = (mf)0.08018 + (embed)0.00000\n",
            "Epoch 49 (train)1.1s: train loss = 0.07925 = (mf)0.07925 + (embed)0.00000\n",
            "Epoch 50 (train)1.1s + (eval)0.2s: train loss = 0.07939 = (mf)0.07939 + (embed)0.00000, recall = 0.19812, ndcg = 0.42431, precision = 0.37773, map = 0.12133\n",
            "Took 60.31803810600013 seconds for training.\n"
          ]
        }
      ]
    },
    {
      "cell_type": "code",
      "metadata": {
        "colab": {
          "base_uri": "https://localhost:8080/",
          "height": 363
        },
        "id": "WaqpBfY9FCCJ",
        "outputId": "5b44f4c7-ab96-487a-dfd9-4a89af13fd71"
      },
      "source": [
        "topk_scores = model.recommend_k_items(test, top_k=TOP_K, remove_seen=True)\n",
        "\n",
        "topk_scores.head(10)"
      ],
      "execution_count": null,
      "outputs": [
        {
          "output_type": "execute_result",
          "data": {
            "text/html": [
              "<div>\n",
              "<style scoped>\n",
              "    .dataframe tbody tr th:only-of-type {\n",
              "        vertical-align: middle;\n",
              "    }\n",
              "\n",
              "    .dataframe tbody tr th {\n",
              "        vertical-align: top;\n",
              "    }\n",
              "\n",
              "    .dataframe thead th {\n",
              "        text-align: right;\n",
              "    }\n",
              "</style>\n",
              "<table border=\"1\" class=\"dataframe\">\n",
              "  <thead>\n",
              "    <tr style=\"text-align: right;\">\n",
              "      <th></th>\n",
              "      <th>userID</th>\n",
              "      <th>itemID</th>\n",
              "      <th>prediction</th>\n",
              "    </tr>\n",
              "  </thead>\n",
              "  <tbody>\n",
              "    <tr>\n",
              "      <th>0</th>\n",
              "      <td>1</td>\n",
              "      <td>919</td>\n",
              "      <td>5.483072</td>\n",
              "    </tr>\n",
              "    <tr>\n",
              "      <th>1</th>\n",
              "      <td>1</td>\n",
              "      <td>91</td>\n",
              "      <td>5.458663</td>\n",
              "    </tr>\n",
              "    <tr>\n",
              "      <th>2</th>\n",
              "      <td>1</td>\n",
              "      <td>455</td>\n",
              "      <td>5.217731</td>\n",
              "    </tr>\n",
              "    <tr>\n",
              "      <th>3</th>\n",
              "      <td>1</td>\n",
              "      <td>423</td>\n",
              "      <td>5.201761</td>\n",
              "    </tr>\n",
              "    <tr>\n",
              "      <th>4</th>\n",
              "      <td>1</td>\n",
              "      <td>405</td>\n",
              "      <td>5.187254</td>\n",
              "    </tr>\n",
              "    <tr>\n",
              "      <th>5</th>\n",
              "      <td>1</td>\n",
              "      <td>250</td>\n",
              "      <td>5.146599</td>\n",
              "    </tr>\n",
              "    <tr>\n",
              "      <th>6</th>\n",
              "      <td>1</td>\n",
              "      <td>640</td>\n",
              "      <td>5.086217</td>\n",
              "    </tr>\n",
              "    <tr>\n",
              "      <th>7</th>\n",
              "      <td>1</td>\n",
              "      <td>83</td>\n",
              "      <td>5.043797</td>\n",
              "    </tr>\n",
              "    <tr>\n",
              "      <th>8</th>\n",
              "      <td>1</td>\n",
              "      <td>408</td>\n",
              "      <td>4.924489</td>\n",
              "    </tr>\n",
              "    <tr>\n",
              "      <th>9</th>\n",
              "      <td>1</td>\n",
              "      <td>652</td>\n",
              "      <td>4.869185</td>\n",
              "    </tr>\n",
              "  </tbody>\n",
              "</table>\n",
              "</div>"
            ],
            "text/plain": [
              "   userID  itemID  prediction\n",
              "0       1     919    5.483072\n",
              "1       1      91    5.458663\n",
              "2       1     455    5.217731\n",
              "3       1     423    5.201761\n",
              "4       1     405    5.187254\n",
              "5       1     250    5.146599\n",
              "6       1     640    5.086217\n",
              "7       1      83    5.043797\n",
              "8       1     408    4.924489\n",
              "9       1     652    4.869185"
            ]
          },
          "metadata": {},
          "execution_count": 30
        }
      ]
    },
    {
      "cell_type": "code",
      "metadata": {
        "colab": {
          "base_uri": "https://localhost:8080/"
        },
        "id": "9Hy6dCnuFCCJ",
        "outputId": "894d19f9-5df5-48b4-d4e4-3a9fe6d6ede2"
      },
      "source": [
        "eval_map = map_at_k(test, topk_scores, k=TOP_K)\n",
        "eval_ndcg = ndcg_at_k(test, topk_scores, k=TOP_K)\n",
        "eval_precision = precision_at_k(test, topk_scores, k=TOP_K)\n",
        "eval_recall = recall_at_k(test, topk_scores, k=TOP_K)\n",
        "\n",
        "print(\"MAP:\\t%f\" % eval_map,\n",
        "      \"NDCG:\\t%f\" % eval_ndcg,\n",
        "      \"Precision@K:\\t%f\" % eval_precision,\n",
        "      \"Recall@K:\\t%f\" % eval_recall, sep='\\n')"
      ],
      "execution_count": null,
      "outputs": [
        {
          "output_type": "stream",
          "name": "stdout",
          "text": [
            "MAP:\t0.121333\n",
            "NDCG:\t0.424306\n",
            "Precision@K:\t0.377731\n",
            "Recall@K:\t0.198118\n"
          ]
        }
      ]
    },
    {
      "cell_type": "code",
      "metadata": {
        "id": "SHgkDAAeFCCJ"
      },
      "source": [],
      "execution_count": null,
      "outputs": []
    },
    {
      "cell_type": "markdown",
      "metadata": {
        "id": "YQ9HMVcsFCCJ"
      },
      "source": [
        "L2 Regularization = 0.0001"
      ]
    },
    {
      "cell_type": "code",
      "metadata": {
        "id": "4DyhoV5VFCCJ"
      },
      "source": [
        "hparams = prepare_hparams('/content/recommenders/recommenders/models/deeprec/config/lightgcn.yaml',\n",
        "                          n_layers=3,\n",
        "                          batch_size=BATCH_SIZE,\n",
        "                          epochs=EPOCHS,\n",
        "                          learning_rate=0.005,\n",
        "                          eval_epoch=5,\n",
        "                          top_k=TOP_K,\n",
        "                          decay=0.0001, # l2 regularization for embedding parameters\n",
        "                         )"
      ],
      "execution_count": null,
      "outputs": []
    },
    {
      "cell_type": "code",
      "metadata": {
        "colab": {
          "base_uri": "https://localhost:8080/"
        },
        "id": "2foiRihJFCCJ",
        "outputId": "cce4d554-5b0a-46d2-9fdb-0e42a5294613"
      },
      "source": [
        "model = LightGCN(hparams, data, seed=SEED)"
      ],
      "execution_count": null,
      "outputs": [
        {
          "output_type": "stream",
          "name": "stdout",
          "text": [
            "Already create adjacency matrix.\n",
            "Already normalize adjacency matrix.\n",
            "Using xavier initialization.\n"
          ]
        }
      ]
    },
    {
      "cell_type": "code",
      "metadata": {
        "colab": {
          "base_uri": "https://localhost:8080/"
        },
        "id": "ftFygMwpFCCJ",
        "outputId": "02b9f27c-4760-4ad6-8694-fba242091646"
      },
      "source": [
        "with Timer() as train_time:\n",
        "    model.fit()\n",
        "\n",
        "print(\"Took {} seconds for training.\".format(train_time.interval))"
      ],
      "execution_count": null,
      "outputs": [
        {
          "output_type": "stream",
          "name": "stdout",
          "text": [
            "Epoch 1 (train)1.8s: train loss = 0.42557 = (mf)0.42519 + (embed)0.00038\n",
            "Epoch 2 (train)1.2s: train loss = 0.29158 = (mf)0.29088 + (embed)0.00071\n",
            "Epoch 3 (train)1.1s: train loss = 0.25394 = (mf)0.25296 + (embed)0.00098\n",
            "Epoch 4 (train)1.1s: train loss = 0.23355 = (mf)0.23227 + (embed)0.00128\n",
            "Epoch 5 (train)1.1s + (eval)0.3s: train loss = 0.22401 = (mf)0.22250 + (embed)0.00151, recall = 0.12609, ndcg = 0.29389, precision = 0.26161, map = 0.06590\n",
            "Epoch 6 (train)1.1s: train loss = 0.21571 = (mf)0.21403 + (embed)0.00168\n",
            "Epoch 7 (train)1.1s: train loss = 0.20666 = (mf)0.20480 + (embed)0.00186\n",
            "Epoch 8 (train)1.1s: train loss = 0.19443 = (mf)0.19234 + (embed)0.00209\n",
            "Epoch 9 (train)1.1s: train loss = 0.18345 = (mf)0.18108 + (embed)0.00237\n",
            "Epoch 10 (train)1.1s + (eval)0.3s: train loss = 0.17140 = (mf)0.16875 + (embed)0.00265, recall = 0.15075, ndcg = 0.34092, precision = 0.30891, map = 0.08251\n",
            "Epoch 11 (train)1.1s: train loss = 0.16635 = (mf)0.16344 + (embed)0.00291\n",
            "Epoch 12 (train)1.1s: train loss = 0.16174 = (mf)0.15861 + (embed)0.00313\n",
            "Epoch 13 (train)1.1s: train loss = 0.16315 = (mf)0.15984 + (embed)0.00331\n",
            "Epoch 14 (train)1.1s: train loss = 0.15956 = (mf)0.15606 + (embed)0.00350\n",
            "Epoch 15 (train)1.1s + (eval)0.2s: train loss = 0.15604 = (mf)0.15239 + (embed)0.00365, recall = 0.16227, ndcg = 0.35440, precision = 0.32153, map = 0.08901\n",
            "Epoch 16 (train)1.1s: train loss = 0.15188 = (mf)0.14807 + (embed)0.00381\n",
            "Epoch 17 (train)1.1s: train loss = 0.15365 = (mf)0.14968 + (embed)0.00397\n",
            "Epoch 18 (train)1.1s: train loss = 0.15123 = (mf)0.14710 + (embed)0.00413\n",
            "Epoch 19 (train)1.1s: train loss = 0.14492 = (mf)0.14064 + (embed)0.00428\n",
            "Epoch 20 (train)1.1s + (eval)0.3s: train loss = 0.14148 = (mf)0.13700 + (embed)0.00448, recall = 0.17247, ndcg = 0.37699, precision = 0.33818, map = 0.09878\n",
            "Epoch 21 (train)1.1s: train loss = 0.13912 = (mf)0.13446 + (embed)0.00466\n",
            "Epoch 22 (train)1.1s: train loss = 0.13843 = (mf)0.13360 + (embed)0.00484\n",
            "Epoch 23 (train)1.1s: train loss = 0.13530 = (mf)0.13026 + (embed)0.00504\n",
            "Epoch 24 (train)1.1s: train loss = 0.13517 = (mf)0.12995 + (embed)0.00522\n",
            "Epoch 25 (train)1.1s + (eval)0.3s: train loss = 0.13257 = (mf)0.12718 + (embed)0.00539, recall = 0.17891, ndcg = 0.38834, precision = 0.34995, map = 0.10369\n",
            "Epoch 26 (train)1.1s: train loss = 0.13095 = (mf)0.12537 + (embed)0.00558\n",
            "Epoch 27 (train)1.1s: train loss = 0.12570 = (mf)0.11991 + (embed)0.00579\n",
            "Epoch 28 (train)1.1s: train loss = 0.12423 = (mf)0.11822 + (embed)0.00601\n",
            "Epoch 29 (train)1.1s: train loss = 0.12366 = (mf)0.11747 + (embed)0.00619\n",
            "Epoch 30 (train)1.1s + (eval)0.2s: train loss = 0.12387 = (mf)0.11747 + (embed)0.00640, recall = 0.18594, ndcg = 0.40264, precision = 0.36108, map = 0.11000\n",
            "Epoch 31 (train)1.1s: train loss = 0.11972 = (mf)0.11313 + (embed)0.00659\n",
            "Epoch 32 (train)1.1s: train loss = 0.11841 = (mf)0.11160 + (embed)0.00680\n",
            "Epoch 33 (train)1.1s: train loss = 0.11728 = (mf)0.11027 + (embed)0.00701\n",
            "Epoch 34 (train)1.1s: train loss = 0.11394 = (mf)0.10674 + (embed)0.00720\n",
            "Epoch 35 (train)1.1s + (eval)0.2s: train loss = 0.11640 = (mf)0.10902 + (embed)0.00739, recall = 0.18732, ndcg = 0.40624, precision = 0.36373, map = 0.11166\n",
            "Epoch 36 (train)1.1s: train loss = 0.11202 = (mf)0.10443 + (embed)0.00759\n",
            "Epoch 37 (train)1.1s: train loss = 0.10917 = (mf)0.10136 + (embed)0.00781\n",
            "Epoch 38 (train)1.1s: train loss = 0.10817 = (mf)0.10014 + (embed)0.00803\n",
            "Epoch 39 (train)1.1s: train loss = 0.10598 = (mf)0.09773 + (embed)0.00825\n",
            "Epoch 40 (train)1.1s + (eval)0.3s: train loss = 0.10777 = (mf)0.09932 + (embed)0.00845, recall = 0.19221, ndcg = 0.41695, precision = 0.37190, map = 0.11642\n",
            "Epoch 41 (train)1.1s: train loss = 0.10502 = (mf)0.09637 + (embed)0.00865\n",
            "Epoch 42 (train)1.1s: train loss = 0.10348 = (mf)0.09464 + (embed)0.00884\n",
            "Epoch 43 (train)1.1s: train loss = 0.10296 = (mf)0.09392 + (embed)0.00904\n",
            "Epoch 44 (train)1.1s: train loss = 0.10165 = (mf)0.09240 + (embed)0.00925\n",
            "Epoch 45 (train)1.1s + (eval)0.2s: train loss = 0.10010 = (mf)0.09066 + (embed)0.00944, recall = 0.19207, ndcg = 0.42002, precision = 0.37084, map = 0.11831\n",
            "Epoch 46 (train)1.1s: train loss = 0.09816 = (mf)0.08853 + (embed)0.00963\n",
            "Epoch 47 (train)1.1s: train loss = 0.09550 = (mf)0.08564 + (embed)0.00986\n",
            "Epoch 48 (train)1.1s: train loss = 0.09499 = (mf)0.08493 + (embed)0.01006\n",
            "Epoch 49 (train)1.1s: train loss = 0.09400 = (mf)0.08374 + (embed)0.01027\n",
            "Epoch 50 (train)1.1s + (eval)0.2s: train loss = 0.09425 = (mf)0.08379 + (embed)0.01046, recall = 0.19375, ndcg = 0.41953, precision = 0.37200, map = 0.11709\n",
            "Took 59.0206716539999 seconds for training.\n"
          ]
        }
      ]
    },
    {
      "cell_type": "code",
      "metadata": {
        "colab": {
          "base_uri": "https://localhost:8080/",
          "height": 363
        },
        "id": "wqXY5dsaFCCK",
        "outputId": "f235cba4-10da-4e29-bcfe-76ba0661d34e"
      },
      "source": [
        "topk_scores = model.recommend_k_items(test, top_k=TOP_K, remove_seen=True)\n",
        "\n",
        "topk_scores.head(10)"
      ],
      "execution_count": null,
      "outputs": [
        {
          "output_type": "execute_result",
          "data": {
            "text/html": [
              "<div>\n",
              "<style scoped>\n",
              "    .dataframe tbody tr th:only-of-type {\n",
              "        vertical-align: middle;\n",
              "    }\n",
              "\n",
              "    .dataframe tbody tr th {\n",
              "        vertical-align: top;\n",
              "    }\n",
              "\n",
              "    .dataframe thead th {\n",
              "        text-align: right;\n",
              "    }\n",
              "</style>\n",
              "<table border=\"1\" class=\"dataframe\">\n",
              "  <thead>\n",
              "    <tr style=\"text-align: right;\">\n",
              "      <th></th>\n",
              "      <th>userID</th>\n",
              "      <th>itemID</th>\n",
              "      <th>prediction</th>\n",
              "    </tr>\n",
              "  </thead>\n",
              "  <tbody>\n",
              "    <tr>\n",
              "      <th>0</th>\n",
              "      <td>1</td>\n",
              "      <td>275</td>\n",
              "      <td>5.149033</td>\n",
              "    </tr>\n",
              "    <tr>\n",
              "      <th>1</th>\n",
              "      <td>1</td>\n",
              "      <td>403</td>\n",
              "      <td>5.132240</td>\n",
              "    </tr>\n",
              "    <tr>\n",
              "      <th>2</th>\n",
              "      <td>1</td>\n",
              "      <td>91</td>\n",
              "      <td>5.084153</td>\n",
              "    </tr>\n",
              "    <tr>\n",
              "      <th>3</th>\n",
              "      <td>1</td>\n",
              "      <td>640</td>\n",
              "      <td>5.061930</td>\n",
              "    </tr>\n",
              "    <tr>\n",
              "      <th>4</th>\n",
              "      <td>1</td>\n",
              "      <td>423</td>\n",
              "      <td>5.034047</td>\n",
              "    </tr>\n",
              "    <tr>\n",
              "      <th>5</th>\n",
              "      <td>1</td>\n",
              "      <td>919</td>\n",
              "      <td>4.841353</td>\n",
              "    </tr>\n",
              "    <tr>\n",
              "      <th>6</th>\n",
              "      <td>1</td>\n",
              "      <td>405</td>\n",
              "      <td>4.785663</td>\n",
              "    </tr>\n",
              "    <tr>\n",
              "      <th>7</th>\n",
              "      <td>1</td>\n",
              "      <td>432</td>\n",
              "      <td>4.760918</td>\n",
              "    </tr>\n",
              "    <tr>\n",
              "      <th>8</th>\n",
              "      <td>1</td>\n",
              "      <td>582</td>\n",
              "      <td>4.738551</td>\n",
              "    </tr>\n",
              "    <tr>\n",
              "      <th>9</th>\n",
              "      <td>1</td>\n",
              "      <td>588</td>\n",
              "      <td>4.718047</td>\n",
              "    </tr>\n",
              "  </tbody>\n",
              "</table>\n",
              "</div>"
            ],
            "text/plain": [
              "   userID  itemID  prediction\n",
              "0       1     275    5.149033\n",
              "1       1     403    5.132240\n",
              "2       1      91    5.084153\n",
              "3       1     640    5.061930\n",
              "4       1     423    5.034047\n",
              "5       1     919    4.841353\n",
              "6       1     405    4.785663\n",
              "7       1     432    4.760918\n",
              "8       1     582    4.738551\n",
              "9       1     588    4.718047"
            ]
          },
          "metadata": {},
          "execution_count": 35
        }
      ]
    },
    {
      "cell_type": "code",
      "metadata": {
        "colab": {
          "base_uri": "https://localhost:8080/"
        },
        "id": "61Fc61hQFCCK",
        "outputId": "183fb85b-2a3d-41af-9a4a-563691bc64eb"
      },
      "source": [
        "eval_map = map_at_k(test, topk_scores, k=TOP_K)\n",
        "eval_ndcg = ndcg_at_k(test, topk_scores, k=TOP_K)\n",
        "eval_precision = precision_at_k(test, topk_scores, k=TOP_K)\n",
        "eval_recall = recall_at_k(test, topk_scores, k=TOP_K)\n",
        "\n",
        "print(\"MAP:\\t%f\" % eval_map,\n",
        "      \"NDCG:\\t%f\" % eval_ndcg,\n",
        "      \"Precision@K:\\t%f\" % eval_precision,\n",
        "      \"Recall@K:\\t%f\" % eval_recall, sep='\\n')"
      ],
      "execution_count": null,
      "outputs": [
        {
          "output_type": "stream",
          "name": "stdout",
          "text": [
            "MAP:\t0.117092\n",
            "NDCG:\t0.419531\n",
            "Precision@K:\t0.372004\n",
            "Recall@K:\t0.193749\n"
          ]
        }
      ]
    },
    {
      "cell_type": "code",
      "metadata": {
        "id": "HXAxbbVgFCCK"
      },
      "source": [],
      "execution_count": null,
      "outputs": []
    },
    {
      "cell_type": "markdown",
      "metadata": {
        "id": "F0XuqUWbFCCK"
      },
      "source": [
        "L2 Regularization = 0.0005"
      ]
    },
    {
      "cell_type": "code",
      "metadata": {
        "id": "4sTx7k7MFCCK"
      },
      "source": [
        "hparams = prepare_hparams('/content/recommenders/recommenders/models/deeprec/config/lightgcn.yaml',\n",
        "                          n_layers=3,\n",
        "                          batch_size=BATCH_SIZE,\n",
        "                          epochs=EPOCHS,\n",
        "                          learning_rate=0.005,\n",
        "                          eval_epoch=5,\n",
        "                          top_k=TOP_K,\n",
        "                          decay=0.0005, # l2 regularization for embedding parameters\n",
        "                         )"
      ],
      "execution_count": null,
      "outputs": []
    },
    {
      "cell_type": "code",
      "metadata": {
        "colab": {
          "base_uri": "https://localhost:8080/"
        },
        "id": "dP7S9s_hFCCK",
        "outputId": "4731fb43-d4b1-4164-d136-9bfa355078dd"
      },
      "source": [
        "model = LightGCN(hparams, data, seed=SEED)"
      ],
      "execution_count": null,
      "outputs": [
        {
          "output_type": "stream",
          "name": "stdout",
          "text": [
            "Already create adjacency matrix.\n",
            "Already normalize adjacency matrix.\n",
            "Using xavier initialization.\n"
          ]
        }
      ]
    },
    {
      "cell_type": "code",
      "metadata": {
        "colab": {
          "base_uri": "https://localhost:8080/"
        },
        "id": "qSuwtu19FCCK",
        "outputId": "4f68b9e8-803e-4aab-9184-4512756e1cee"
      },
      "source": [
        "with Timer() as train_time:\n",
        "    model.fit()\n",
        "\n",
        "print(\"Took {} seconds for training.\".format(train_time.interval))"
      ],
      "execution_count": null,
      "outputs": [
        {
          "output_type": "stream",
          "name": "stdout",
          "text": [
            "Epoch 1 (train)1.8s: train loss = 0.43393 = (mf)0.43209 + (embed)0.00184\n",
            "Epoch 2 (train)1.1s: train loss = 0.28546 = (mf)0.28186 + (embed)0.00360\n",
            "Epoch 3 (train)1.1s: train loss = 0.25053 = (mf)0.24539 + (embed)0.00514\n",
            "Epoch 4 (train)1.1s: train loss = 0.23295 = (mf)0.22653 + (embed)0.00642\n",
            "Epoch 5 (train)1.1s + (eval)0.3s: train loss = 0.23160 = (mf)0.22440 + (embed)0.00720, recall = 0.12882, ndcg = 0.29677, precision = 0.26607, map = 0.06634\n",
            "Epoch 6 (train)1.1s: train loss = 0.22137 = (mf)0.21346 + (embed)0.00792\n",
            "Epoch 7 (train)1.1s: train loss = 0.21155 = (mf)0.20274 + (embed)0.00880\n",
            "Epoch 8 (train)1.1s: train loss = 0.20273 = (mf)0.19292 + (embed)0.00981\n",
            "Epoch 9 (train)1.1s: train loss = 0.19303 = (mf)0.18208 + (embed)0.01095\n",
            "Epoch 10 (train)1.1s + (eval)0.3s: train loss = 0.18379 = (mf)0.17161 + (embed)0.01218, recall = 0.15021, ndcg = 0.33952, precision = 0.30976, map = 0.08066\n",
            "Epoch 11 (train)1.1s: train loss = 0.18047 = (mf)0.16739 + (embed)0.01308\n",
            "Epoch 12 (train)1.1s: train loss = 0.17608 = (mf)0.16228 + (embed)0.01380\n",
            "Epoch 13 (train)1.1s: train loss = 0.17204 = (mf)0.15763 + (embed)0.01441\n",
            "Epoch 14 (train)1.1s: train loss = 0.17401 = (mf)0.15910 + (embed)0.01491\n",
            "Epoch 15 (train)1.1s + (eval)0.3s: train loss = 0.17184 = (mf)0.15653 + (embed)0.01531, recall = 0.16217, ndcg = 0.35465, precision = 0.32227, map = 0.08853\n",
            "Epoch 16 (train)1.1s: train loss = 0.17270 = (mf)0.15705 + (embed)0.01565\n",
            "Epoch 17 (train)1.1s: train loss = 0.16844 = (mf)0.15217 + (embed)0.01627\n",
            "Epoch 18 (train)1.1s: train loss = 0.16584 = (mf)0.14910 + (embed)0.01674\n",
            "Epoch 19 (train)1.1s: train loss = 0.16597 = (mf)0.14873 + (embed)0.01724\n",
            "Epoch 20 (train)1.1s + (eval)0.3s: train loss = 0.16458 = (mf)0.14685 + (embed)0.01773, recall = 0.16723, ndcg = 0.36661, precision = 0.32853, map = 0.09565\n",
            "Epoch 21 (train)1.1s: train loss = 0.16040 = (mf)0.14216 + (embed)0.01824\n",
            "Epoch 22 (train)1.1s: train loss = 0.15847 = (mf)0.13963 + (embed)0.01884\n",
            "Epoch 23 (train)1.1s: train loss = 0.15811 = (mf)0.13870 + (embed)0.01941\n",
            "Epoch 24 (train)1.1s: train loss = 0.15700 = (mf)0.13701 + (embed)0.01999\n",
            "Epoch 25 (train)1.1s + (eval)0.2s: train loss = 0.15532 = (mf)0.13477 + (embed)0.02054, recall = 0.17337, ndcg = 0.38216, precision = 0.34507, map = 0.09998\n",
            "Epoch 26 (train)1.1s: train loss = 0.15464 = (mf)0.13354 + (embed)0.02110\n",
            "Epoch 27 (train)1.1s: train loss = 0.15343 = (mf)0.13177 + (embed)0.02166\n",
            "Epoch 28 (train)1.1s: train loss = 0.15305 = (mf)0.13092 + (embed)0.02213\n",
            "Epoch 29 (train)1.1s: train loss = 0.14938 = (mf)0.12681 + (embed)0.02257\n",
            "Epoch 30 (train)1.1s + (eval)0.2s: train loss = 0.15010 = (mf)0.12700 + (embed)0.02309, recall = 0.17766, ndcg = 0.38991, precision = 0.35175, map = 0.10234\n",
            "Epoch 31 (train)1.1s: train loss = 0.14892 = (mf)0.12540 + (embed)0.02352\n",
            "Epoch 32 (train)1.1s: train loss = 0.14859 = (mf)0.12460 + (embed)0.02399\n",
            "Epoch 33 (train)1.1s: train loss = 0.14473 = (mf)0.12026 + (embed)0.02447\n",
            "Epoch 34 (train)1.1s: train loss = 0.14680 = (mf)0.12182 + (embed)0.02499\n",
            "Epoch 35 (train)1.1s + (eval)0.2s: train loss = 0.14470 = (mf)0.11921 + (embed)0.02549, recall = 0.18407, ndcg = 0.39830, precision = 0.35864, map = 0.10640\n",
            "Epoch 36 (train)1.1s: train loss = 0.14310 = (mf)0.11719 + (embed)0.02591\n",
            "Epoch 37 (train)1.1s: train loss = 0.14190 = (mf)0.11541 + (embed)0.02649\n",
            "Epoch 38 (train)1.1s: train loss = 0.14258 = (mf)0.11574 + (embed)0.02684\n",
            "Epoch 39 (train)1.1s: train loss = 0.14485 = (mf)0.11755 + (embed)0.02730\n",
            "Epoch 40 (train)1.1s + (eval)0.3s: train loss = 0.14087 = (mf)0.11321 + (embed)0.02767, recall = 0.18616, ndcg = 0.40514, precision = 0.36394, map = 0.10974\n",
            "Epoch 41 (train)1.1s: train loss = 0.13876 = (mf)0.11062 + (embed)0.02814\n",
            "Epoch 42 (train)1.1s: train loss = 0.14042 = (mf)0.11180 + (embed)0.02862\n",
            "Epoch 43 (train)1.1s: train loss = 0.14092 = (mf)0.11193 + (embed)0.02899\n",
            "Epoch 44 (train)1.1s: train loss = 0.14080 = (mf)0.11140 + (embed)0.02940\n",
            "Epoch 45 (train)1.1s + (eval)0.2s: train loss = 0.13752 = (mf)0.10778 + (embed)0.02975, recall = 0.18748, ndcg = 0.41098, precision = 0.36882, map = 0.11223\n",
            "Epoch 46 (train)1.1s: train loss = 0.13910 = (mf)0.10883 + (embed)0.03027\n",
            "Epoch 47 (train)1.1s: train loss = 0.13598 = (mf)0.10536 + (embed)0.03063\n",
            "Epoch 48 (train)1.1s: train loss = 0.13652 = (mf)0.10542 + (embed)0.03110\n",
            "Epoch 49 (train)1.1s: train loss = 0.13551 = (mf)0.10393 + (embed)0.03159\n",
            "Epoch 50 (train)1.1s + (eval)0.2s: train loss = 0.13754 = (mf)0.10560 + (embed)0.03194, recall = 0.18660, ndcg = 0.41091, precision = 0.36702, map = 0.11244\n",
            "Took 59.336535696000055 seconds for training.\n"
          ]
        }
      ]
    },
    {
      "cell_type": "code",
      "metadata": {
        "colab": {
          "base_uri": "https://localhost:8080/",
          "height": 363
        },
        "id": "aj6lyX0WFCCK",
        "outputId": "20b595ac-bf4f-4a46-9f08-63b4f01c1970"
      },
      "source": [
        "topk_scores = model.recommend_k_items(test, top_k=TOP_K, remove_seen=True)\n",
        "\n",
        "topk_scores.head(10)"
      ],
      "execution_count": null,
      "outputs": [
        {
          "output_type": "execute_result",
          "data": {
            "text/html": [
              "<div>\n",
              "<style scoped>\n",
              "    .dataframe tbody tr th:only-of-type {\n",
              "        vertical-align: middle;\n",
              "    }\n",
              "\n",
              "    .dataframe tbody tr th {\n",
              "        vertical-align: top;\n",
              "    }\n",
              "\n",
              "    .dataframe thead th {\n",
              "        text-align: right;\n",
              "    }\n",
              "</style>\n",
              "<table border=\"1\" class=\"dataframe\">\n",
              "  <thead>\n",
              "    <tr style=\"text-align: right;\">\n",
              "      <th></th>\n",
              "      <th>userID</th>\n",
              "      <th>itemID</th>\n",
              "      <th>prediction</th>\n",
              "    </tr>\n",
              "  </thead>\n",
              "  <tbody>\n",
              "    <tr>\n",
              "      <th>0</th>\n",
              "      <td>1</td>\n",
              "      <td>98</td>\n",
              "      <td>5.631125</td>\n",
              "    </tr>\n",
              "    <tr>\n",
              "      <th>1</th>\n",
              "      <td>1</td>\n",
              "      <td>588</td>\n",
              "      <td>5.412727</td>\n",
              "    </tr>\n",
              "    <tr>\n",
              "      <th>2</th>\n",
              "      <td>1</td>\n",
              "      <td>56</td>\n",
              "      <td>5.356334</td>\n",
              "    </tr>\n",
              "    <tr>\n",
              "      <th>3</th>\n",
              "      <td>1</td>\n",
              "      <td>423</td>\n",
              "      <td>5.150239</td>\n",
              "    </tr>\n",
              "    <tr>\n",
              "      <th>4</th>\n",
              "      <td>1</td>\n",
              "      <td>204</td>\n",
              "      <td>5.148867</td>\n",
              "    </tr>\n",
              "    <tr>\n",
              "      <th>5</th>\n",
              "      <td>1</td>\n",
              "      <td>91</td>\n",
              "      <td>5.130593</td>\n",
              "    </tr>\n",
              "    <tr>\n",
              "      <th>6</th>\n",
              "      <td>1</td>\n",
              "      <td>432</td>\n",
              "      <td>5.067955</td>\n",
              "    </tr>\n",
              "    <tr>\n",
              "      <th>7</th>\n",
              "      <td>1</td>\n",
              "      <td>144</td>\n",
              "      <td>5.057610</td>\n",
              "    </tr>\n",
              "    <tr>\n",
              "      <th>8</th>\n",
              "      <td>1</td>\n",
              "      <td>83</td>\n",
              "      <td>5.034612</td>\n",
              "    </tr>\n",
              "    <tr>\n",
              "      <th>9</th>\n",
              "      <td>1</td>\n",
              "      <td>28</td>\n",
              "      <td>4.800485</td>\n",
              "    </tr>\n",
              "  </tbody>\n",
              "</table>\n",
              "</div>"
            ],
            "text/plain": [
              "   userID  itemID  prediction\n",
              "0       1      98    5.631125\n",
              "1       1     588    5.412727\n",
              "2       1      56    5.356334\n",
              "3       1     423    5.150239\n",
              "4       1     204    5.148867\n",
              "5       1      91    5.130593\n",
              "6       1     432    5.067955\n",
              "7       1     144    5.057610\n",
              "8       1      83    5.034612\n",
              "9       1      28    4.800485"
            ]
          },
          "metadata": {},
          "execution_count": 40
        }
      ]
    },
    {
      "cell_type": "code",
      "metadata": {
        "colab": {
          "base_uri": "https://localhost:8080/"
        },
        "id": "S2ETluV5FCCL",
        "outputId": "fac4723f-a0a9-4bab-c28d-8acccc22edd1"
      },
      "source": [
        "eval_map = map_at_k(test, topk_scores, k=TOP_K)\n",
        "eval_ndcg = ndcg_at_k(test, topk_scores, k=TOP_K)\n",
        "eval_precision = precision_at_k(test, topk_scores, k=TOP_K)\n",
        "eval_recall = recall_at_k(test, topk_scores, k=TOP_K)\n",
        "\n",
        "print(\"MAP:\\t%f\" % eval_map,\n",
        "      \"NDCG:\\t%f\" % eval_ndcg,\n",
        "      \"Precision@K:\\t%f\" % eval_precision,\n",
        "      \"Recall@K:\\t%f\" % eval_recall, sep='\\n')"
      ],
      "execution_count": null,
      "outputs": [
        {
          "output_type": "stream",
          "name": "stdout",
          "text": [
            "MAP:\t0.112445\n",
            "NDCG:\t0.410911\n",
            "Precision@K:\t0.367020\n",
            "Recall@K:\t0.186597\n"
          ]
        }
      ]
    },
    {
      "cell_type": "code",
      "metadata": {
        "id": "_6msqKhKFCCL"
      },
      "source": [],
      "execution_count": null,
      "outputs": []
    },
    {
      "cell_type": "markdown",
      "metadata": {
        "id": "aYH3Cnr4GWu9"
      },
      "source": [
        "# Dropout = 0.50"
      ]
    },
    {
      "cell_type": "markdown",
      "metadata": {
        "id": "Wi2fR5tvGWu-"
      },
      "source": [
        "L2 Regularization = 0.0"
      ]
    },
    {
      "cell_type": "code",
      "metadata": {
        "id": "1iDUaYflGWu-"
      },
      "source": [
        "hparams = prepare_hparams('/content/recommenders/recommenders/models/deeprec/config/lightgcn.yaml',\n",
        "                          n_layers=3,\n",
        "                          batch_size=BATCH_SIZE,\n",
        "                          epochs=EPOCHS,\n",
        "                          learning_rate=0.005,\n",
        "                          eval_epoch=5,\n",
        "                          top_k=TOP_K,\n",
        "                          decay=0.000, # l2 regularization for embedding parameters,\n",
        "                         )"
      ],
      "execution_count": null,
      "outputs": []
    },
    {
      "cell_type": "code",
      "metadata": {
        "colab": {
          "base_uri": "https://localhost:8080/"
        },
        "id": "D4raIFbZGWu-",
        "outputId": "bc1588a1-6c9d-4a99-e53f-bb873795a284"
      },
      "source": [
        "model = LightGCN(hparams, data, seed=SEED)"
      ],
      "execution_count": null,
      "outputs": [
        {
          "output_type": "stream",
          "name": "stdout",
          "text": [
            "Already create adjacency matrix.\n",
            "Already normalize adjacency matrix.\n",
            "Using xavier initialization.\n"
          ]
        }
      ]
    },
    {
      "cell_type": "code",
      "metadata": {
        "colab": {
          "base_uri": "https://localhost:8080/"
        },
        "id": "_2L8MzPKGWu-",
        "outputId": "196783fd-3eb1-457f-d5f8-b465b823de53"
      },
      "source": [
        "with Timer() as train_time:\n",
        "    model.fit()\n",
        "\n",
        "print(\"Took {} seconds for training.\".format(train_time.interval))"
      ],
      "execution_count": null,
      "outputs": [
        {
          "output_type": "stream",
          "name": "stdout",
          "text": [
            "Epoch 1 (train)2.0s: train loss = 0.42795 = (mf)0.42795 + (embed)0.00000\n",
            "Epoch 2 (train)1.2s: train loss = 0.30287 = (mf)0.30287 + (embed)0.00000\n",
            "Epoch 3 (train)1.2s: train loss = 0.27267 = (mf)0.27267 + (embed)0.00000\n",
            "Epoch 4 (train)1.2s: train loss = 0.24442 = (mf)0.24442 + (embed)0.00000\n",
            "Epoch 5 (train)1.2s + (eval)0.3s: train loss = 0.23184 = (mf)0.23184 + (embed)0.00000, recall = 0.12517, ndcg = 0.29344, precision = 0.26013, map = 0.06624\n",
            "Epoch 6 (train)1.2s: train loss = 0.22600 = (mf)0.22600 + (embed)0.00000\n",
            "Epoch 7 (train)1.2s: train loss = 0.22133 = (mf)0.22133 + (embed)0.00000\n",
            "Epoch 8 (train)1.2s: train loss = 0.21365 = (mf)0.21365 + (embed)0.00000\n",
            "Epoch 9 (train)1.2s: train loss = 0.20292 = (mf)0.20292 + (embed)0.00000\n",
            "Epoch 10 (train)1.2s + (eval)0.2s: train loss = 0.19140 = (mf)0.19140 + (embed)0.00000, recall = 0.14221, ndcg = 0.32686, precision = 0.29682, map = 0.07644\n",
            "Epoch 11 (train)1.2s: train loss = 0.17903 = (mf)0.17903 + (embed)0.00000\n",
            "Epoch 12 (train)1.2s: train loss = 0.17153 = (mf)0.17153 + (embed)0.00000\n",
            "Epoch 13 (train)1.2s: train loss = 0.16490 = (mf)0.16490 + (embed)0.00000\n",
            "Epoch 14 (train)1.2s: train loss = 0.16172 = (mf)0.16172 + (embed)0.00000\n",
            "Epoch 15 (train)1.2s + (eval)0.3s: train loss = 0.16169 = (mf)0.16169 + (embed)0.00000, recall = 0.15244, ndcg = 0.34108, precision = 0.31103, map = 0.08200\n",
            "Epoch 16 (train)1.2s: train loss = 0.15826 = (mf)0.15826 + (embed)0.00000\n",
            "Epoch 17 (train)1.2s: train loss = 0.15321 = (mf)0.15321 + (embed)0.00000\n",
            "Epoch 18 (train)1.2s: train loss = 0.15218 = (mf)0.15218 + (embed)0.00000\n",
            "Epoch 19 (train)1.2s: train loss = 0.15075 = (mf)0.15075 + (embed)0.00000\n",
            "Epoch 20 (train)1.2s + (eval)0.3s: train loss = 0.14846 = (mf)0.14846 + (embed)0.00000, recall = 0.16107, ndcg = 0.35445, precision = 0.32280, map = 0.08882\n",
            "Epoch 21 (train)1.2s: train loss = 0.14571 = (mf)0.14571 + (embed)0.00000\n",
            "Epoch 22 (train)1.2s: train loss = 0.14739 = (mf)0.14739 + (embed)0.00000\n",
            "Epoch 23 (train)1.2s: train loss = 0.14353 = (mf)0.14353 + (embed)0.00000\n",
            "Epoch 24 (train)1.2s: train loss = 0.13880 = (mf)0.13880 + (embed)0.00000\n",
            "Epoch 25 (train)1.2s + (eval)0.2s: train loss = 0.13478 = (mf)0.13478 + (embed)0.00000, recall = 0.17116, ndcg = 0.37434, precision = 0.33818, map = 0.09785\n",
            "Epoch 26 (train)1.2s: train loss = 0.13600 = (mf)0.13600 + (embed)0.00000\n",
            "Epoch 27 (train)1.2s: train loss = 0.13318 = (mf)0.13318 + (embed)0.00000\n",
            "Epoch 28 (train)1.2s: train loss = 0.12886 = (mf)0.12886 + (embed)0.00000\n",
            "Epoch 29 (train)1.2s: train loss = 0.12774 = (mf)0.12774 + (embed)0.00000\n",
            "Epoch 30 (train)1.2s + (eval)0.3s: train loss = 0.12745 = (mf)0.12745 + (embed)0.00000, recall = 0.17476, ndcg = 0.38562, precision = 0.34592, map = 0.10311\n",
            "Epoch 31 (train)1.2s: train loss = 0.12307 = (mf)0.12307 + (embed)0.00000\n",
            "Epoch 32 (train)1.2s: train loss = 0.12010 = (mf)0.12010 + (embed)0.00000\n",
            "Epoch 33 (train)1.2s: train loss = 0.11994 = (mf)0.11994 + (embed)0.00000\n",
            "Epoch 34 (train)1.2s: train loss = 0.11770 = (mf)0.11770 + (embed)0.00000\n",
            "Epoch 35 (train)1.2s + (eval)0.2s: train loss = 0.11749 = (mf)0.11749 + (embed)0.00000, recall = 0.18297, ndcg = 0.39601, precision = 0.35323, map = 0.10856\n",
            "Epoch 36 (train)1.2s: train loss = 0.11384 = (mf)0.11384 + (embed)0.00000\n",
            "Epoch 37 (train)1.2s: train loss = 0.11474 = (mf)0.11474 + (embed)0.00000\n",
            "Epoch 38 (train)1.2s: train loss = 0.11247 = (mf)0.11247 + (embed)0.00000\n",
            "Epoch 39 (train)1.2s: train loss = 0.10993 = (mf)0.10993 + (embed)0.00000\n",
            "Epoch 40 (train)1.2s + (eval)0.2s: train loss = 0.10898 = (mf)0.10898 + (embed)0.00000, recall = 0.18810, ndcg = 0.40624, precision = 0.35981, map = 0.11356\n",
            "Epoch 41 (train)1.2s: train loss = 0.10846 = (mf)0.10846 + (embed)0.00000\n",
            "Epoch 42 (train)1.2s: train loss = 0.10599 = (mf)0.10599 + (embed)0.00000\n",
            "Epoch 43 (train)1.2s: train loss = 0.10324 = (mf)0.10324 + (embed)0.00000\n",
            "Epoch 44 (train)1.2s: train loss = 0.10107 = (mf)0.10107 + (embed)0.00000\n",
            "Epoch 45 (train)1.2s + (eval)0.2s: train loss = 0.09877 = (mf)0.09877 + (embed)0.00000, recall = 0.19144, ndcg = 0.41273, precision = 0.36776, map = 0.11498\n",
            "Epoch 46 (train)1.2s: train loss = 0.09757 = (mf)0.09757 + (embed)0.00000\n",
            "Epoch 47 (train)1.2s: train loss = 0.09537 = (mf)0.09537 + (embed)0.00000\n",
            "Epoch 48 (train)1.2s: train loss = 0.09576 = (mf)0.09576 + (embed)0.00000\n",
            "Epoch 49 (train)1.2s: train loss = 0.09204 = (mf)0.09204 + (embed)0.00000\n",
            "Epoch 50 (train)1.2s + (eval)0.3s: train loss = 0.09374 = (mf)0.09374 + (embed)0.00000, recall = 0.19453, ndcg = 0.41812, precision = 0.37232, map = 0.11717\n",
            "Took 64.32628922200001 seconds for training.\n"
          ]
        }
      ]
    },
    {
      "cell_type": "code",
      "metadata": {
        "colab": {
          "base_uri": "https://localhost:8080/",
          "height": 363
        },
        "id": "lfQqzx5vGWu-",
        "outputId": "5cfff222-1f0e-4bc3-a54b-1be4f40e4eb9"
      },
      "source": [
        "topk_scores = model.recommend_k_items(test, top_k=TOP_K, remove_seen=True)\n",
        "\n",
        "topk_scores.head(10)"
      ],
      "execution_count": null,
      "outputs": [
        {
          "output_type": "execute_result",
          "data": {
            "text/html": [
              "<div>\n",
              "<style scoped>\n",
              "    .dataframe tbody tr th:only-of-type {\n",
              "        vertical-align: middle;\n",
              "    }\n",
              "\n",
              "    .dataframe tbody tr th {\n",
              "        vertical-align: top;\n",
              "    }\n",
              "\n",
              "    .dataframe thead th {\n",
              "        text-align: right;\n",
              "    }\n",
              "</style>\n",
              "<table border=\"1\" class=\"dataframe\">\n",
              "  <thead>\n",
              "    <tr style=\"text-align: right;\">\n",
              "      <th></th>\n",
              "      <th>userID</th>\n",
              "      <th>itemID</th>\n",
              "      <th>prediction</th>\n",
              "    </tr>\n",
              "  </thead>\n",
              "  <tbody>\n",
              "    <tr>\n",
              "      <th>0</th>\n",
              "      <td>1</td>\n",
              "      <td>91</td>\n",
              "      <td>5.400868</td>\n",
              "    </tr>\n",
              "    <tr>\n",
              "      <th>1</th>\n",
              "      <td>1</td>\n",
              "      <td>98</td>\n",
              "      <td>5.346801</td>\n",
              "    </tr>\n",
              "    <tr>\n",
              "      <th>2</th>\n",
              "      <td>1</td>\n",
              "      <td>405</td>\n",
              "      <td>5.323782</td>\n",
              "    </tr>\n",
              "    <tr>\n",
              "      <th>3</th>\n",
              "      <td>1</td>\n",
              "      <td>56</td>\n",
              "      <td>5.222795</td>\n",
              "    </tr>\n",
              "    <tr>\n",
              "      <th>4</th>\n",
              "      <td>1</td>\n",
              "      <td>117</td>\n",
              "      <td>5.205643</td>\n",
              "    </tr>\n",
              "    <tr>\n",
              "      <th>5</th>\n",
              "      <td>1</td>\n",
              "      <td>403</td>\n",
              "      <td>5.197556</td>\n",
              "    </tr>\n",
              "    <tr>\n",
              "      <th>6</th>\n",
              "      <td>1</td>\n",
              "      <td>250</td>\n",
              "      <td>5.103917</td>\n",
              "    </tr>\n",
              "    <tr>\n",
              "      <th>7</th>\n",
              "      <td>1</td>\n",
              "      <td>475</td>\n",
              "      <td>5.084016</td>\n",
              "    </tr>\n",
              "    <tr>\n",
              "      <th>8</th>\n",
              "      <td>1</td>\n",
              "      <td>423</td>\n",
              "      <td>5.083714</td>\n",
              "    </tr>\n",
              "    <tr>\n",
              "      <th>9</th>\n",
              "      <td>1</td>\n",
              "      <td>455</td>\n",
              "      <td>5.059406</td>\n",
              "    </tr>\n",
              "  </tbody>\n",
              "</table>\n",
              "</div>"
            ],
            "text/plain": [
              "   userID  itemID  prediction\n",
              "0       1      91    5.400868\n",
              "1       1      98    5.346801\n",
              "2       1     405    5.323782\n",
              "3       1      56    5.222795\n",
              "4       1     117    5.205643\n",
              "5       1     403    5.197556\n",
              "6       1     250    5.103917\n",
              "7       1     475    5.084016\n",
              "8       1     423    5.083714\n",
              "9       1     455    5.059406"
            ]
          },
          "metadata": {},
          "execution_count": 45
        }
      ]
    },
    {
      "cell_type": "code",
      "metadata": {
        "colab": {
          "base_uri": "https://localhost:8080/"
        },
        "id": "fOjBpBYAGWu_",
        "outputId": "5551c22d-7e74-4338-b994-66dfcfeff34d"
      },
      "source": [
        "eval_map = map_at_k(test, topk_scores, k=TOP_K)\n",
        "eval_ndcg = ndcg_at_k(test, topk_scores, k=TOP_K)\n",
        "eval_precision = precision_at_k(test, topk_scores, k=TOP_K)\n",
        "eval_recall = recall_at_k(test, topk_scores, k=TOP_K)\n",
        "\n",
        "print(\"MAP:\\t%f\" % eval_map,\n",
        "      \"NDCG:\\t%f\" % eval_ndcg,\n",
        "      \"Precision@K:\\t%f\" % eval_precision,\n",
        "      \"Recall@K:\\t%f\" % eval_recall, sep='\\n')"
      ],
      "execution_count": null,
      "outputs": [
        {
          "output_type": "stream",
          "name": "stdout",
          "text": [
            "MAP:\t0.117167\n",
            "NDCG:\t0.418116\n",
            "Precision@K:\t0.372322\n",
            "Recall@K:\t0.194535\n"
          ]
        }
      ]
    },
    {
      "cell_type": "code",
      "metadata": {
        "id": "Pm_32afSGWu_"
      },
      "source": [],
      "execution_count": null,
      "outputs": []
    },
    {
      "cell_type": "markdown",
      "metadata": {
        "id": "4Lb46rStGWu_"
      },
      "source": [
        "L2 Regularization = 0.0001"
      ]
    },
    {
      "cell_type": "code",
      "metadata": {
        "id": "4wEvvil2GWu_"
      },
      "source": [
        "hparams = prepare_hparams('/content/recommenders/recommenders/models/deeprec/config/lightgcn.yaml',\n",
        "                          n_layers=3,\n",
        "                          batch_size=BATCH_SIZE,\n",
        "                          epochs=EPOCHS,\n",
        "                          learning_rate=0.005,\n",
        "                          eval_epoch=5,\n",
        "                          top_k=TOP_K,\n",
        "                          decay=0.0001, # l2 regularization for embedding parameters\n",
        "                         )"
      ],
      "execution_count": null,
      "outputs": []
    },
    {
      "cell_type": "code",
      "metadata": {
        "colab": {
          "base_uri": "https://localhost:8080/"
        },
        "id": "KTfEtlycGWu_",
        "outputId": "44cc18af-2675-40d2-f610-4fb8f2d86217"
      },
      "source": [
        "model = LightGCN(hparams, data, seed=SEED)"
      ],
      "execution_count": null,
      "outputs": [
        {
          "output_type": "stream",
          "name": "stdout",
          "text": [
            "Already create adjacency matrix.\n",
            "Already normalize adjacency matrix.\n",
            "Using xavier initialization.\n"
          ]
        }
      ]
    },
    {
      "cell_type": "code",
      "metadata": {
        "colab": {
          "base_uri": "https://localhost:8080/"
        },
        "id": "QyIm5_lzGWu_",
        "outputId": "7748948f-bdb6-446f-b4c2-06df31ad20aa"
      },
      "source": [
        "with Timer() as train_time:\n",
        "    model.fit()\n",
        "\n",
        "print(\"Took {} seconds for training.\".format(train_time.interval))"
      ],
      "execution_count": null,
      "outputs": [
        {
          "output_type": "stream",
          "name": "stdout",
          "text": [
            "Epoch 1 (train)2.0s: train loss = 0.43150 = (mf)0.43112 + (embed)0.00038\n",
            "Epoch 2 (train)1.2s: train loss = 0.31095 = (mf)0.31028 + (embed)0.00067\n",
            "Epoch 3 (train)1.2s: train loss = 0.28010 = (mf)0.27921 + (embed)0.00090\n",
            "Epoch 4 (train)1.2s: train loss = 0.24594 = (mf)0.24467 + (embed)0.00127\n",
            "Epoch 5 (train)1.2s + (eval)0.3s: train loss = 0.23262 = (mf)0.23101 + (embed)0.00161, recall = 0.12265, ndcg = 0.28579, precision = 0.25323, map = 0.06322\n",
            "Epoch 6 (train)1.2s: train loss = 0.22431 = (mf)0.22245 + (embed)0.00186\n",
            "Epoch 7 (train)1.2s: train loss = 0.22128 = (mf)0.21923 + (embed)0.00205\n",
            "Epoch 8 (train)1.2s: train loss = 0.21407 = (mf)0.21181 + (embed)0.00226\n",
            "Epoch 9 (train)1.2s: train loss = 0.20413 = (mf)0.20164 + (embed)0.00249\n",
            "Epoch 10 (train)1.2s + (eval)0.2s: train loss = 0.19392 = (mf)0.19113 + (embed)0.00279, recall = 0.14172, ndcg = 0.32782, precision = 0.29502, map = 0.07727\n",
            "Epoch 11 (train)1.2s: train loss = 0.18434 = (mf)0.18122 + (embed)0.00311\n",
            "Epoch 12 (train)1.2s: train loss = 0.17717 = (mf)0.17376 + (embed)0.00341\n",
            "Epoch 13 (train)1.2s: train loss = 0.17416 = (mf)0.17046 + (embed)0.00370\n",
            "Epoch 14 (train)1.2s: train loss = 0.16644 = (mf)0.16250 + (embed)0.00395\n",
            "Epoch 15 (train)1.2s + (eval)0.2s: train loss = 0.16459 = (mf)0.16042 + (embed)0.00417, recall = 0.14923, ndcg = 0.33970, precision = 0.30541, map = 0.08301\n",
            "Epoch 16 (train)1.2s: train loss = 0.16230 = (mf)0.15791 + (embed)0.00439\n",
            "Epoch 17 (train)1.2s: train loss = 0.16133 = (mf)0.15675 + (embed)0.00458\n",
            "Epoch 18 (train)1.2s: train loss = 0.15648 = (mf)0.15174 + (embed)0.00474\n",
            "Epoch 19 (train)1.2s: train loss = 0.15825 = (mf)0.15332 + (embed)0.00492\n",
            "Epoch 20 (train)1.2s + (eval)0.3s: train loss = 0.15558 = (mf)0.15051 + (embed)0.00506, recall = 0.16184, ndcg = 0.35261, precision = 0.31994, map = 0.08882\n",
            "Epoch 21 (train)1.2s: train loss = 0.15483 = (mf)0.14958 + (embed)0.00525\n",
            "Epoch 22 (train)1.2s: train loss = 0.15443 = (mf)0.14904 + (embed)0.00539\n",
            "Epoch 23 (train)1.2s: train loss = 0.15098 = (mf)0.14540 + (embed)0.00558\n",
            "Epoch 24 (train)1.2s: train loss = 0.14555 = (mf)0.13978 + (embed)0.00577\n",
            "Epoch 25 (train)1.2s + (eval)0.2s: train loss = 0.14551 = (mf)0.13957 + (embed)0.00595, recall = 0.16884, ndcg = 0.36835, precision = 0.33415, map = 0.09534\n",
            "Epoch 26 (train)1.2s: train loss = 0.14278 = (mf)0.13665 + (embed)0.00613\n",
            "Epoch 27 (train)1.2s: train loss = 0.14036 = (mf)0.13403 + (embed)0.00633\n",
            "Epoch 28 (train)1.2s: train loss = 0.13691 = (mf)0.13036 + (embed)0.00655\n",
            "Epoch 29 (train)1.2s: train loss = 0.14057 = (mf)0.13384 + (embed)0.00673\n",
            "Epoch 30 (train)1.2s + (eval)0.2s: train loss = 0.13650 = (mf)0.12956 + (embed)0.00694, recall = 0.17829, ndcg = 0.38399, precision = 0.34687, map = 0.10203\n",
            "Epoch 31 (train)1.2s: train loss = 0.13575 = (mf)0.12862 + (embed)0.00713\n",
            "Epoch 32 (train)1.2s: train loss = 0.13535 = (mf)0.12803 + (embed)0.00732\n",
            "Epoch 33 (train)1.2s: train loss = 0.13356 = (mf)0.12605 + (embed)0.00751\n",
            "Epoch 34 (train)1.2s: train loss = 0.13100 = (mf)0.12332 + (embed)0.00768\n",
            "Epoch 35 (train)1.2s + (eval)0.2s: train loss = 0.12898 = (mf)0.12110 + (embed)0.00788, recall = 0.17765, ndcg = 0.38559, precision = 0.34719, map = 0.10134\n",
            "Epoch 36 (train)1.2s: train loss = 0.12861 = (mf)0.12056 + (embed)0.00806\n",
            "Epoch 37 (train)1.2s: train loss = 0.12835 = (mf)0.12012 + (embed)0.00822\n",
            "Epoch 38 (train)1.2s: train loss = 0.12644 = (mf)0.11801 + (embed)0.00843\n",
            "Epoch 39 (train)1.2s: train loss = 0.12394 = (mf)0.11533 + (embed)0.00861\n",
            "Epoch 40 (train)1.2s + (eval)0.2s: train loss = 0.12384 = (mf)0.11502 + (embed)0.00881, recall = 0.18481, ndcg = 0.39991, precision = 0.35885, map = 0.10858\n",
            "Epoch 41 (train)1.2s: train loss = 0.12214 = (mf)0.11315 + (embed)0.00899\n",
            "Epoch 42 (train)1.2s: train loss = 0.11919 = (mf)0.10998 + (embed)0.00921\n",
            "Epoch 43 (train)1.2s: train loss = 0.12014 = (mf)0.11074 + (embed)0.00940\n",
            "Epoch 44 (train)1.2s: train loss = 0.11876 = (mf)0.10918 + (embed)0.00958\n",
            "Epoch 45 (train)1.2s + (eval)0.2s: train loss = 0.11762 = (mf)0.10783 + (embed)0.00978, recall = 0.18649, ndcg = 0.40830, precision = 0.36363, map = 0.11205\n",
            "Epoch 46 (train)1.2s: train loss = 0.11634 = (mf)0.10635 + (embed)0.00999\n",
            "Epoch 47 (train)1.2s: train loss = 0.11522 = (mf)0.10504 + (embed)0.01019\n",
            "Epoch 48 (train)1.2s: train loss = 0.11327 = (mf)0.10287 + (embed)0.01040\n",
            "Epoch 49 (train)1.2s: train loss = 0.11353 = (mf)0.10292 + (embed)0.01061\n",
            "Epoch 50 (train)1.2s + (eval)0.3s: train loss = 0.11381 = (mf)0.10301 + (embed)0.01080, recall = 0.18788, ndcg = 0.41297, precision = 0.36522, map = 0.11545\n",
            "Took 64.2930735519999 seconds for training.\n"
          ]
        }
      ]
    },
    {
      "cell_type": "code",
      "metadata": {
        "colab": {
          "base_uri": "https://localhost:8080/",
          "height": 363
        },
        "id": "oeAC3TenGWu_",
        "outputId": "612b0526-06f8-42af-93a1-5c34b6a84450"
      },
      "source": [
        "topk_scores = model.recommend_k_items(test, top_k=TOP_K, remove_seen=True)\n",
        "\n",
        "topk_scores.head(10)"
      ],
      "execution_count": null,
      "outputs": [
        {
          "output_type": "execute_result",
          "data": {
            "text/html": [
              "<div>\n",
              "<style scoped>\n",
              "    .dataframe tbody tr th:only-of-type {\n",
              "        vertical-align: middle;\n",
              "    }\n",
              "\n",
              "    .dataframe tbody tr th {\n",
              "        vertical-align: top;\n",
              "    }\n",
              "\n",
              "    .dataframe thead th {\n",
              "        text-align: right;\n",
              "    }\n",
              "</style>\n",
              "<table border=\"1\" class=\"dataframe\">\n",
              "  <thead>\n",
              "    <tr style=\"text-align: right;\">\n",
              "      <th></th>\n",
              "      <th>userID</th>\n",
              "      <th>itemID</th>\n",
              "      <th>prediction</th>\n",
              "    </tr>\n",
              "  </thead>\n",
              "  <tbody>\n",
              "    <tr>\n",
              "      <th>0</th>\n",
              "      <td>1</td>\n",
              "      <td>423</td>\n",
              "      <td>5.316727</td>\n",
              "    </tr>\n",
              "    <tr>\n",
              "      <th>1</th>\n",
              "      <td>1</td>\n",
              "      <td>98</td>\n",
              "      <td>5.302406</td>\n",
              "    </tr>\n",
              "    <tr>\n",
              "      <th>2</th>\n",
              "      <td>1</td>\n",
              "      <td>56</td>\n",
              "      <td>5.110453</td>\n",
              "    </tr>\n",
              "    <tr>\n",
              "      <th>3</th>\n",
              "      <td>1</td>\n",
              "      <td>91</td>\n",
              "      <td>5.109349</td>\n",
              "    </tr>\n",
              "    <tr>\n",
              "      <th>4</th>\n",
              "      <td>1</td>\n",
              "      <td>403</td>\n",
              "      <td>4.997742</td>\n",
              "    </tr>\n",
              "    <tr>\n",
              "      <th>5</th>\n",
              "      <td>1</td>\n",
              "      <td>588</td>\n",
              "      <td>4.976910</td>\n",
              "    </tr>\n",
              "    <tr>\n",
              "      <th>6</th>\n",
              "      <td>1</td>\n",
              "      <td>204</td>\n",
              "      <td>4.926675</td>\n",
              "    </tr>\n",
              "    <tr>\n",
              "      <th>7</th>\n",
              "      <td>1</td>\n",
              "      <td>433</td>\n",
              "      <td>4.917244</td>\n",
              "    </tr>\n",
              "    <tr>\n",
              "      <th>8</th>\n",
              "      <td>1</td>\n",
              "      <td>405</td>\n",
              "      <td>4.879293</td>\n",
              "    </tr>\n",
              "    <tr>\n",
              "      <th>9</th>\n",
              "      <td>1</td>\n",
              "      <td>432</td>\n",
              "      <td>4.792632</td>\n",
              "    </tr>\n",
              "  </tbody>\n",
              "</table>\n",
              "</div>"
            ],
            "text/plain": [
              "   userID  itemID  prediction\n",
              "0       1     423    5.316727\n",
              "1       1      98    5.302406\n",
              "2       1      56    5.110453\n",
              "3       1      91    5.109349\n",
              "4       1     403    4.997742\n",
              "5       1     588    4.976910\n",
              "6       1     204    4.926675\n",
              "7       1     433    4.917244\n",
              "8       1     405    4.879293\n",
              "9       1     432    4.792632"
            ]
          },
          "metadata": {},
          "execution_count": 50
        }
      ]
    },
    {
      "cell_type": "code",
      "metadata": {
        "colab": {
          "base_uri": "https://localhost:8080/"
        },
        "id": "RGTu3reZGWvA",
        "outputId": "efd48e5c-35e9-4564-ab77-63e970ee9882"
      },
      "source": [
        "eval_map = map_at_k(test, topk_scores, k=TOP_K)\n",
        "eval_ndcg = ndcg_at_k(test, topk_scores, k=TOP_K)\n",
        "eval_precision = precision_at_k(test, topk_scores, k=TOP_K)\n",
        "eval_recall = recall_at_k(test, topk_scores, k=TOP_K)\n",
        "\n",
        "print(\"MAP:\\t%f\" % eval_map,\n",
        "      \"NDCG:\\t%f\" % eval_ndcg,\n",
        "      \"Precision@K:\\t%f\" % eval_precision,\n",
        "      \"Recall@K:\\t%f\" % eval_recall, sep='\\n')"
      ],
      "execution_count": null,
      "outputs": [
        {
          "output_type": "stream",
          "name": "stdout",
          "text": [
            "MAP:\t0.115448\n",
            "NDCG:\t0.412973\n",
            "Precision@K:\t0.365217\n",
            "Recall@K:\t0.187879\n"
          ]
        }
      ]
    },
    {
      "cell_type": "code",
      "metadata": {
        "id": "d5-VIw7xGWvA"
      },
      "source": [],
      "execution_count": null,
      "outputs": []
    },
    {
      "cell_type": "markdown",
      "metadata": {
        "id": "rToXmqA4GWvA"
      },
      "source": [
        "L2 Regularization = 0.0005"
      ]
    },
    {
      "cell_type": "code",
      "metadata": {
        "id": "bUqMxUWuGWvA"
      },
      "source": [
        "hparams = prepare_hparams('/content/recommenders/recommenders/models/deeprec/config/lightgcn.yaml',\n",
        "                          n_layers=3,\n",
        "                          batch_size=BATCH_SIZE,\n",
        "                          epochs=EPOCHS,\n",
        "                          learning_rate=0.005,\n",
        "                          eval_epoch=5,\n",
        "                          top_k=TOP_K,\n",
        "                          decay=0.000, # l2 regularization for embedding parameters\n",
        "                         )"
      ],
      "execution_count": null,
      "outputs": []
    },
    {
      "cell_type": "code",
      "metadata": {
        "colab": {
          "base_uri": "https://localhost:8080/"
        },
        "id": "dxjbO0WnGWvA",
        "outputId": "110c9583-fcb9-47fd-f0c3-8dfb3ea13e3d"
      },
      "source": [
        "model = LightGCN(hparams, data, seed=SEED)"
      ],
      "execution_count": null,
      "outputs": [
        {
          "output_type": "stream",
          "name": "stdout",
          "text": [
            "Already create adjacency matrix.\n",
            "Already normalize adjacency matrix.\n",
            "Using xavier initialization.\n"
          ]
        }
      ]
    },
    {
      "cell_type": "code",
      "metadata": {
        "colab": {
          "base_uri": "https://localhost:8080/"
        },
        "id": "k3ZKnHF-GWvA",
        "outputId": "885c1682-91ff-4a6b-d479-27de40692481"
      },
      "source": [
        "with Timer() as train_time:\n",
        "    model.fit()\n",
        "\n",
        "print(\"Took {} seconds for training.\".format(train_time.interval))"
      ],
      "execution_count": null,
      "outputs": [
        {
          "output_type": "stream",
          "name": "stdout",
          "text": [
            "Epoch 1 (train)2.0s: train loss = 0.43160 = (mf)0.43160 + (embed)0.00000\n",
            "Epoch 2 (train)1.2s: train loss = 0.30431 = (mf)0.30431 + (embed)0.00000\n",
            "Epoch 3 (train)1.2s: train loss = 0.27066 = (mf)0.27066 + (embed)0.00000\n",
            "Epoch 4 (train)1.2s: train loss = 0.23723 = (mf)0.23723 + (embed)0.00000\n",
            "Epoch 5 (train)1.2s + (eval)0.4s: train loss = 0.22855 = (mf)0.22855 + (embed)0.00000, recall = 0.12608, ndcg = 0.29095, precision = 0.25843, map = 0.06665\n",
            "Epoch 6 (train)1.2s: train loss = 0.22338 = (mf)0.22338 + (embed)0.00000\n",
            "Epoch 7 (train)1.2s: train loss = 0.21806 = (mf)0.21806 + (embed)0.00000\n",
            "Epoch 8 (train)1.2s: train loss = 0.21201 = (mf)0.21201 + (embed)0.00000\n",
            "Epoch 9 (train)1.2s: train loss = 0.20073 = (mf)0.20073 + (embed)0.00000\n",
            "Epoch 10 (train)1.2s + (eval)0.2s: train loss = 0.18964 = (mf)0.18964 + (embed)0.00000, recall = 0.13864, ndcg = 0.32395, precision = 0.29152, map = 0.07607\n",
            "Epoch 11 (train)1.2s: train loss = 0.18271 = (mf)0.18271 + (embed)0.00000\n",
            "Epoch 12 (train)1.2s: train loss = 0.17613 = (mf)0.17613 + (embed)0.00000\n",
            "Epoch 13 (train)1.2s: train loss = 0.16678 = (mf)0.16678 + (embed)0.00000\n",
            "Epoch 14 (train)1.2s: train loss = 0.16178 = (mf)0.16178 + (embed)0.00000\n",
            "Epoch 15 (train)1.2s + (eval)0.2s: train loss = 0.16245 = (mf)0.16245 + (embed)0.00000, recall = 0.15489, ndcg = 0.34531, precision = 0.31209, map = 0.08508\n",
            "Epoch 16 (train)1.2s: train loss = 0.15726 = (mf)0.15726 + (embed)0.00000\n",
            "Epoch 17 (train)1.2s: train loss = 0.15423 = (mf)0.15423 + (embed)0.00000\n",
            "Epoch 18 (train)1.2s: train loss = 0.15207 = (mf)0.15207 + (embed)0.00000\n",
            "Epoch 19 (train)1.2s: train loss = 0.14837 = (mf)0.14837 + (embed)0.00000\n",
            "Epoch 20 (train)1.2s + (eval)0.3s: train loss = 0.15124 = (mf)0.15124 + (embed)0.00000, recall = 0.16325, ndcg = 0.35902, precision = 0.32397, map = 0.09129\n",
            "Epoch 21 (train)1.2s: train loss = 0.14880 = (mf)0.14880 + (embed)0.00000\n",
            "Epoch 22 (train)1.2s: train loss = 0.14596 = (mf)0.14596 + (embed)0.00000\n",
            "Epoch 23 (train)1.2s: train loss = 0.14180 = (mf)0.14180 + (embed)0.00000\n",
            "Epoch 24 (train)1.2s: train loss = 0.13951 = (mf)0.13951 + (embed)0.00000\n",
            "Epoch 25 (train)1.2s + (eval)0.3s: train loss = 0.13943 = (mf)0.13943 + (embed)0.00000, recall = 0.17420, ndcg = 0.37801, precision = 0.34168, map = 0.09973\n",
            "Epoch 26 (train)1.2s: train loss = 0.13430 = (mf)0.13430 + (embed)0.00000\n",
            "Epoch 27 (train)1.2s: train loss = 0.13286 = (mf)0.13286 + (embed)0.00000\n",
            "Epoch 28 (train)1.2s: train loss = 0.13103 = (mf)0.13103 + (embed)0.00000\n",
            "Epoch 29 (train)1.2s: train loss = 0.12796 = (mf)0.12796 + (embed)0.00000\n",
            "Epoch 30 (train)1.2s + (eval)0.3s: train loss = 0.12633 = (mf)0.12633 + (embed)0.00000, recall = 0.17807, ndcg = 0.38691, precision = 0.35005, map = 0.10333\n",
            "Epoch 31 (train)1.2s: train loss = 0.12573 = (mf)0.12573 + (embed)0.00000\n",
            "Epoch 32 (train)1.2s: train loss = 0.12233 = (mf)0.12233 + (embed)0.00000\n",
            "Epoch 33 (train)1.2s: train loss = 0.12294 = (mf)0.12294 + (embed)0.00000\n",
            "Epoch 34 (train)1.2s: train loss = 0.11918 = (mf)0.11918 + (embed)0.00000\n",
            "Epoch 35 (train)1.2s + (eval)0.2s: train loss = 0.11917 = (mf)0.11917 + (embed)0.00000, recall = 0.18334, ndcg = 0.39606, precision = 0.35779, map = 0.10709\n",
            "Epoch 36 (train)1.2s: train loss = 0.11768 = (mf)0.11768 + (embed)0.00000\n",
            "Epoch 37 (train)1.2s: train loss = 0.11606 = (mf)0.11606 + (embed)0.00000\n",
            "Epoch 38 (train)1.2s: train loss = 0.11258 = (mf)0.11258 + (embed)0.00000\n",
            "Epoch 39 (train)1.2s: train loss = 0.10989 = (mf)0.10989 + (embed)0.00000\n",
            "Epoch 40 (train)1.2s + (eval)0.3s: train loss = 0.10764 = (mf)0.10764 + (embed)0.00000, recall = 0.18521, ndcg = 0.40449, precision = 0.36066, map = 0.11175\n",
            "Epoch 41 (train)1.2s: train loss = 0.10655 = (mf)0.10655 + (embed)0.00000\n",
            "Epoch 42 (train)1.2s: train loss = 0.10461 = (mf)0.10461 + (embed)0.00000\n",
            "Epoch 43 (train)1.2s: train loss = 0.10295 = (mf)0.10295 + (embed)0.00000\n",
            "Epoch 44 (train)1.2s: train loss = 0.10160 = (mf)0.10160 + (embed)0.00000\n",
            "Epoch 45 (train)1.2s + (eval)0.3s: train loss = 0.09795 = (mf)0.09795 + (embed)0.00000, recall = 0.19259, ndcg = 0.41770, precision = 0.37105, map = 0.11722\n",
            "Epoch 46 (train)1.2s: train loss = 0.10101 = (mf)0.10101 + (embed)0.00000\n",
            "Epoch 47 (train)1.2s: train loss = 0.09843 = (mf)0.09843 + (embed)0.00000\n",
            "Epoch 48 (train)1.2s: train loss = 0.09701 = (mf)0.09701 + (embed)0.00000\n",
            "Epoch 49 (train)1.2s: train loss = 0.09365 = (mf)0.09365 + (embed)0.00000\n",
            "Epoch 50 (train)1.2s + (eval)0.2s: train loss = 0.09429 = (mf)0.09429 + (embed)0.00000, recall = 0.19471, ndcg = 0.42140, precision = 0.37413, map = 0.11993\n",
            "Took 63.60498937399984 seconds for training.\n"
          ]
        }
      ]
    },
    {
      "cell_type": "code",
      "metadata": {
        "colab": {
          "base_uri": "https://localhost:8080/",
          "height": 363
        },
        "id": "X3Eu-TqCGWvA",
        "outputId": "bd329934-913d-419e-8a80-0e9febe3da10"
      },
      "source": [
        "topk_scores = model.recommend_k_items(test, top_k=TOP_K, remove_seen=True)\n",
        "\n",
        "topk_scores.head(10)"
      ],
      "execution_count": null,
      "outputs": [
        {
          "output_type": "execute_result",
          "data": {
            "text/html": [
              "<div>\n",
              "<style scoped>\n",
              "    .dataframe tbody tr th:only-of-type {\n",
              "        vertical-align: middle;\n",
              "    }\n",
              "\n",
              "    .dataframe tbody tr th {\n",
              "        vertical-align: top;\n",
              "    }\n",
              "\n",
              "    .dataframe thead th {\n",
              "        text-align: right;\n",
              "    }\n",
              "</style>\n",
              "<table border=\"1\" class=\"dataframe\">\n",
              "  <thead>\n",
              "    <tr style=\"text-align: right;\">\n",
              "      <th></th>\n",
              "      <th>userID</th>\n",
              "      <th>itemID</th>\n",
              "      <th>prediction</th>\n",
              "    </tr>\n",
              "  </thead>\n",
              "  <tbody>\n",
              "    <tr>\n",
              "      <th>0</th>\n",
              "      <td>1</td>\n",
              "      <td>98</td>\n",
              "      <td>5.535970</td>\n",
              "    </tr>\n",
              "    <tr>\n",
              "      <th>1</th>\n",
              "      <td>1</td>\n",
              "      <td>91</td>\n",
              "      <td>5.481869</td>\n",
              "    </tr>\n",
              "    <tr>\n",
              "      <th>2</th>\n",
              "      <td>1</td>\n",
              "      <td>423</td>\n",
              "      <td>5.136875</td>\n",
              "    </tr>\n",
              "    <tr>\n",
              "      <th>3</th>\n",
              "      <td>1</td>\n",
              "      <td>432</td>\n",
              "      <td>5.103333</td>\n",
              "    </tr>\n",
              "    <tr>\n",
              "      <th>4</th>\n",
              "      <td>1</td>\n",
              "      <td>204</td>\n",
              "      <td>5.082915</td>\n",
              "    </tr>\n",
              "    <tr>\n",
              "      <th>5</th>\n",
              "      <td>1</td>\n",
              "      <td>56</td>\n",
              "      <td>5.064419</td>\n",
              "    </tr>\n",
              "    <tr>\n",
              "      <th>6</th>\n",
              "      <td>1</td>\n",
              "      <td>405</td>\n",
              "      <td>5.006147</td>\n",
              "    </tr>\n",
              "    <tr>\n",
              "      <th>7</th>\n",
              "      <td>1</td>\n",
              "      <td>238</td>\n",
              "      <td>4.987628</td>\n",
              "    </tr>\n",
              "    <tr>\n",
              "      <th>8</th>\n",
              "      <td>1</td>\n",
              "      <td>919</td>\n",
              "      <td>4.954514</td>\n",
              "    </tr>\n",
              "    <tr>\n",
              "      <th>9</th>\n",
              "      <td>1</td>\n",
              "      <td>183</td>\n",
              "      <td>4.901851</td>\n",
              "    </tr>\n",
              "  </tbody>\n",
              "</table>\n",
              "</div>"
            ],
            "text/plain": [
              "   userID  itemID  prediction\n",
              "0       1      98    5.535970\n",
              "1       1      91    5.481869\n",
              "2       1     423    5.136875\n",
              "3       1     432    5.103333\n",
              "4       1     204    5.082915\n",
              "5       1      56    5.064419\n",
              "6       1     405    5.006147\n",
              "7       1     238    4.987628\n",
              "8       1     919    4.954514\n",
              "9       1     183    4.901851"
            ]
          },
          "metadata": {},
          "execution_count": 55
        }
      ]
    },
    {
      "cell_type": "code",
      "metadata": {
        "colab": {
          "base_uri": "https://localhost:8080/"
        },
        "id": "6hzegj7MGWvB",
        "outputId": "cd3e3e96-54e4-4295-8a93-9eec49659bf4"
      },
      "source": [
        "eval_map = map_at_k(test, topk_scores, k=TOP_K)\n",
        "eval_ndcg = ndcg_at_k(test, topk_scores, k=TOP_K)\n",
        "eval_precision = precision_at_k(test, topk_scores, k=TOP_K)\n",
        "eval_recall = recall_at_k(test, topk_scores, k=TOP_K)\n",
        "\n",
        "print(\"MAP:\\t%f\" % eval_map,\n",
        "      \"NDCG:\\t%f\" % eval_ndcg,\n",
        "      \"Precision@K:\\t%f\" % eval_precision,\n",
        "      \"Recall@K:\\t%f\" % eval_recall, sep='\\n')"
      ],
      "execution_count": null,
      "outputs": [
        {
          "output_type": "stream",
          "name": "stdout",
          "text": [
            "MAP:\t0.119930\n",
            "NDCG:\t0.421403\n",
            "Precision@K:\t0.374125\n",
            "Recall@K:\t0.194712\n"
          ]
        }
      ]
    },
    {
      "cell_type": "code",
      "metadata": {
        "id": "sAkYpyEtGWvB"
      },
      "source": [],
      "execution_count": null,
      "outputs": []
    }
  ]
}