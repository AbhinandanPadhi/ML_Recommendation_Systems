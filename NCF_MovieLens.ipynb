{
  "nbformat": 4,
  "nbformat_minor": 0,
  "metadata": {
    "colab": {
      "provenance": [],
      "collapsed_sections": []
    },
    "kernelspec": {
      "name": "python3",
      "display_name": "Python 3"
    },
    "language_info": {
      "name": "python"
    },
    "accelerator": "GPU"
  },
  "cells": [
    {
      "cell_type": "markdown",
      "metadata": {
        "id": "SYN0qR_EKXma"
      },
      "source": [
        "# CZ4032 Project 2 - Neural Collaborative Filtering (NCF) Experiments\n",
        "\n",
        "The code used in this notebook is based on the codebase provided by Microsoft Research. The following is the reference:\n",
        "\n",
        "Microsoft, “microsoft/recommenders: Best Practices on Recommendation Systems,” GitHub. [Online]. Available: https://github.com/microsoft/recommenders. [Accessed: 22-Nov-2021].\n",
        "\n"
      ]
    },
    {
      "cell_type": "markdown",
      "metadata": {
        "id": "O9ROBhE2Ky4a"
      },
      "source": [
        "## Initial Setup, Installs, and Imports"
      ]
    },
    {
      "cell_type": "code",
      "metadata": {
        "colab": {
          "base_uri": "https://localhost:8080/"
        },
        "id": "wa4RpwyzgmAj",
        "outputId": "f9ba7ee9-61ea-47d2-a103-1fca703e59f4"
      },
      "source": [
        "%tensorflow_version 1.x"
      ],
      "execution_count": null,
      "outputs": [
        {
          "output_type": "stream",
          "name": "stdout",
          "text": [
            "TensorFlow 1.x selected.\n"
          ]
        }
      ]
    },
    {
      "cell_type": "code",
      "metadata": {
        "colab": {
          "base_uri": "https://localhost:8080/"
        },
        "id": "O79PjiFWg6Y4",
        "outputId": "f9132fd2-47bb-4459-e0c4-6c2572d4f98c"
      },
      "source": [
        "cd recommenders/"
      ],
      "execution_count": null,
      "outputs": [
        {
          "output_type": "stream",
          "name": "stdout",
          "text": [
            "/content/recommenders\n"
          ]
        }
      ]
    },
    {
      "cell_type": "code",
      "metadata": {
        "id": "HWLd77a-g9Df"
      },
      "source": [
        "!pip install ."
      ],
      "execution_count": null,
      "outputs": []
    },
    {
      "cell_type": "code",
      "metadata": {
        "colab": {
          "base_uri": "https://localhost:8080/"
        },
        "id": "eAzQLwnQg_VB",
        "outputId": "096e46be-d02a-4dff-d23d-3d01bc4cc7eb"
      },
      "source": [
        "import sys\n",
        "import pandas as pd\n",
        "import tensorflow as tf\n",
        "tf.get_logger().setLevel('ERROR') # only show error messages\n",
        "\n",
        "from recommenders.utils.timer import Timer\n",
        "from recommenders.models.ncf.ncf_singlenode import NCF\n",
        "from recommenders.models.ncf.dataset import Dataset as NCFDataset\n",
        "from recommenders.datasets import movielens\n",
        "from recommenders.utils.notebook_utils import is_jupyter\n",
        "from recommenders.datasets.python_splitters import python_chrono_split\n",
        "from recommenders.evaluation.python_evaluation import (rmse, mae, rsquared, exp_var, map_at_k, ndcg_at_k, precision_at_k, \n",
        "                                                     recall_at_k, get_top_k_items)\n",
        "from recommenders.utils.constants import SEED as DEFAULT_SEED\n",
        "\n",
        "print(\"System version: {}\".format(sys.version))\n",
        "print(\"Pandas version: {}\".format(pd.__version__))\n",
        "print(\"Tensorflow version: {}\".format(tf.__version__))"
      ],
      "execution_count": null,
      "outputs": [
        {
          "output_type": "stream",
          "name": "stdout",
          "text": [
            "System version: 3.7.12 (default, Sep 10 2021, 00:21:48) \n",
            "[GCC 7.5.0]\n",
            "Pandas version: 1.1.5\n",
            "Tensorflow version: 1.15.2\n"
          ]
        }
      ]
    },
    {
      "cell_type": "code",
      "metadata": {
        "id": "4BLmKzLJ8VyK"
      },
      "source": [
        "import warnings\n",
        "warnings.filterwarnings(\"ignore\")"
      ],
      "execution_count": null,
      "outputs": []
    },
    {
      "cell_type": "markdown",
      "metadata": {
        "id": "Mv_LqsyFK-z8"
      },
      "source": [
        "## Initial Model Parameters"
      ]
    },
    {
      "cell_type": "code",
      "metadata": {
        "id": "oFZyGuyuhG7K"
      },
      "source": [
        "# top k items to recommend\n",
        "TOP_K = 10\n",
        "\n",
        "# Select MovieLens data size: 100k, 1m, 10m, or 20m\n",
        "MOVIELENS_DATA_SIZE = '100k'\n",
        "\n",
        "# Model parameters\n",
        "EPOCHS = 50\n",
        "BATCH_SIZE = 256\n",
        "\n",
        "SEED = DEFAULT_SEED"
      ],
      "execution_count": null,
      "outputs": []
    },
    {
      "cell_type": "code",
      "metadata": {
        "colab": {
          "base_uri": "https://localhost:8080/",
          "height": 223
        },
        "id": "aiB_2QohhVEZ",
        "outputId": "71e69b96-139e-482d-f71a-8aec594ae3ca"
      },
      "source": [
        "df = movielens.load_pandas_df(\n",
        "    size=MOVIELENS_DATA_SIZE,\n",
        "    header=[\"userID\", \"itemID\", \"rating\", \"timestamp\"],\n",
        "    title_col=\"movie_title\"\n",
        ")\n",
        "\n",
        "df.head()"
      ],
      "execution_count": null,
      "outputs": [
        {
          "output_type": "stream",
          "name": "stderr",
          "text": [
            "100%|██████████| 4.81k/4.81k [00:00<00:00, 11.1kKB/s]\n"
          ]
        },
        {
          "output_type": "execute_result",
          "data": {
            "text/html": [
              "<div>\n",
              "<style scoped>\n",
              "    .dataframe tbody tr th:only-of-type {\n",
              "        vertical-align: middle;\n",
              "    }\n",
              "\n",
              "    .dataframe tbody tr th {\n",
              "        vertical-align: top;\n",
              "    }\n",
              "\n",
              "    .dataframe thead th {\n",
              "        text-align: right;\n",
              "    }\n",
              "</style>\n",
              "<table border=\"1\" class=\"dataframe\">\n",
              "  <thead>\n",
              "    <tr style=\"text-align: right;\">\n",
              "      <th></th>\n",
              "      <th>userID</th>\n",
              "      <th>itemID</th>\n",
              "      <th>rating</th>\n",
              "      <th>timestamp</th>\n",
              "      <th>movie_title</th>\n",
              "    </tr>\n",
              "  </thead>\n",
              "  <tbody>\n",
              "    <tr>\n",
              "      <th>0</th>\n",
              "      <td>196</td>\n",
              "      <td>242</td>\n",
              "      <td>3.0</td>\n",
              "      <td>881250949</td>\n",
              "      <td>Kolya (1996)</td>\n",
              "    </tr>\n",
              "    <tr>\n",
              "      <th>1</th>\n",
              "      <td>63</td>\n",
              "      <td>242</td>\n",
              "      <td>3.0</td>\n",
              "      <td>875747190</td>\n",
              "      <td>Kolya (1996)</td>\n",
              "    </tr>\n",
              "    <tr>\n",
              "      <th>2</th>\n",
              "      <td>226</td>\n",
              "      <td>242</td>\n",
              "      <td>5.0</td>\n",
              "      <td>883888671</td>\n",
              "      <td>Kolya (1996)</td>\n",
              "    </tr>\n",
              "    <tr>\n",
              "      <th>3</th>\n",
              "      <td>154</td>\n",
              "      <td>242</td>\n",
              "      <td>3.0</td>\n",
              "      <td>879138235</td>\n",
              "      <td>Kolya (1996)</td>\n",
              "    </tr>\n",
              "    <tr>\n",
              "      <th>4</th>\n",
              "      <td>306</td>\n",
              "      <td>242</td>\n",
              "      <td>5.0</td>\n",
              "      <td>876503793</td>\n",
              "      <td>Kolya (1996)</td>\n",
              "    </tr>\n",
              "  </tbody>\n",
              "</table>\n",
              "</div>"
            ],
            "text/plain": [
              "   userID  itemID  rating  timestamp   movie_title\n",
              "0     196     242     3.0  881250949  Kolya (1996)\n",
              "1      63     242     3.0  875747190  Kolya (1996)\n",
              "2     226     242     5.0  883888671  Kolya (1996)\n",
              "3     154     242     3.0  879138235  Kolya (1996)\n",
              "4     306     242     5.0  876503793  Kolya (1996)"
            ]
          },
          "metadata": {},
          "execution_count": 24
        }
      ]
    },
    {
      "cell_type": "code",
      "metadata": {
        "colab": {
          "base_uri": "https://localhost:8080/"
        },
        "id": "8DhjoezE87pg",
        "outputId": "e8956197-d3af-4328-efbd-e84ec007c3d5"
      },
      "source": [
        "df.shape"
      ],
      "execution_count": null,
      "outputs": [
        {
          "output_type": "execute_result",
          "data": {
            "text/plain": [
              "(100000, 5)"
            ]
          },
          "metadata": {},
          "execution_count": 25
        }
      ]
    },
    {
      "cell_type": "code",
      "metadata": {
        "id": "jQf1EAfIhXrY"
      },
      "source": [
        "train, test = python_chrono_split(df, 0.75)"
      ],
      "execution_count": null,
      "outputs": []
    },
    {
      "cell_type": "code",
      "metadata": {
        "id": "5NxSKYghhZzB"
      },
      "source": [
        "data = NCFDataset(train=train, test=test, seed=SEED)"
      ],
      "execution_count": null,
      "outputs": []
    },
    {
      "cell_type": "code",
      "metadata": {
        "id": "iGobZTd1heSZ"
      },
      "source": [
        "model = NCF (\n",
        "    n_users=data.n_users, \n",
        "    n_items=data.n_items,\n",
        "    model_type=\"NeuMF\",\n",
        "    n_factors=4,\n",
        "    layer_sizes=[16,8,4],\n",
        "    n_epochs=EPOCHS,\n",
        "    batch_size=BATCH_SIZE,\n",
        "    learning_rate=1e-3,\n",
        "    verbose=10,\n",
        "    seed=SEED\n",
        ")"
      ],
      "execution_count": null,
      "outputs": []
    },
    {
      "cell_type": "code",
      "metadata": {
        "colab": {
          "base_uri": "https://localhost:8080/"
        },
        "id": "2I6VocD6hh9q",
        "outputId": "85ee46a1-38ea-432b-f04a-dacb6be78afa"
      },
      "source": [
        "with Timer() as train_time:\n",
        "    model.fit(data)\n",
        "\n",
        "print(\"Took {} seconds for training.\".format(train_time))"
      ],
      "execution_count": null,
      "outputs": [
        {
          "output_type": "stream",
          "name": "stdout",
          "text": [
            "Took 305.7687 seconds for training.\n"
          ]
        }
      ]
    },
    {
      "cell_type": "code",
      "metadata": {
        "colab": {
          "base_uri": "https://localhost:8080/"
        },
        "id": "_OUkTHjHhktC",
        "outputId": "07e2bb1a-a924-49c5-9dff-1b9c41b640df"
      },
      "source": [
        "with Timer() as test_time:\n",
        "    users, items, preds = [], [], []\n",
        "    item = list(train.itemID.unique())\n",
        "    for user in train.userID.unique():\n",
        "        user = [user] * len(item) \n",
        "        users.extend(user)\n",
        "        items.extend(item)\n",
        "        preds.extend(list(model.predict(user, item, is_list=True)))\n",
        "\n",
        "    all_predictions = pd.DataFrame(data={\"userID\": users, \"itemID\":items, \"prediction\":preds})\n",
        "\n",
        "    merged = pd.merge(train, all_predictions, on=[\"userID\", \"itemID\"], how=\"outer\")\n",
        "    all_predictions = merged[merged.rating.isnull()].drop('rating', axis=1)\n",
        "    all_predictions = all_predictions.drop('timestamp', axis=1)\n",
        "\n",
        "print(\"Took {} seconds for prediction.\".format(test_time))"
      ],
      "execution_count": null,
      "outputs": [
        {
          "output_type": "stream",
          "name": "stdout",
          "text": [
            "Took 3.2560 seconds for prediction.\n"
          ]
        }
      ]
    },
    {
      "cell_type": "markdown",
      "metadata": {
        "id": "7w0hCLf1LGBK"
      },
      "source": [
        "## Method to recommend k items "
      ]
    },
    {
      "cell_type": "code",
      "metadata": {
        "id": "oGBMTZAlzmKk"
      },
      "source": [
        "def recommend_k_items(all_predictions, top_k=10, df=df):\n",
        "    df_ = all_predictions.copy()\n",
        "\n",
        "    df_sorted = df_.sort_values(['userID'], ascending=True) \\\n",
        "        .groupby(['userID'], sort=False) \\\n",
        "        .apply(lambda x: x.sort_values(['prediction'], ascending=False)) \\\n",
        "        .reset_index(drop=True)\n",
        "\n",
        "    user_counts = {}\n",
        "    indexes = []\n",
        "\n",
        "    for i in range(len(df_sorted)):\n",
        "        curr_user = int(df_sorted['userID'].iloc[i])\n",
        "\n",
        "        if not curr_user in user_counts:\n",
        "            user_counts[curr_user] = 1\n",
        "            indexes.append(i)\n",
        "        elif user_counts[curr_user] < top_k:\n",
        "            user_counts[curr_user] += 1\n",
        "            indexes.append(i)\n",
        "        else:\n",
        "            continue\n",
        "\n",
        "\n",
        "    df_sorted_top_k = df_sorted.iloc[indexes]\n",
        "    df_sorted_top_k.reset_index(drop=True, inplace=True)\n",
        "\n",
        "    id_to_title = {}\n",
        "\n",
        "    for i in range(len(df)):\n",
        "        curr_id = df['itemID'].iloc[i]\n",
        "\n",
        "        if not curr_id in id_to_title:\n",
        "            id_to_title[curr_id] = df['movie_title'].iloc[i]\n",
        "\n",
        "    df_sorted_top_k['movie_title'] = ''\n",
        "\n",
        "    for i in range(len(df_sorted_top_k)):\n",
        "        curr_id = df_sorted_top_k['itemID'].iloc[i]\n",
        "        if curr_id in id_to_title:\n",
        "            df_sorted_top_k['movie_title'].iloc[i] = id_to_title[curr_id]\n",
        "        else:\n",
        "            print(\"No movie title exists for itemID:\", curr_id)\n",
        "\n",
        "    return df_sorted_top_k    "
      ],
      "execution_count": null,
      "outputs": []
    },
    {
      "cell_type": "markdown",
      "metadata": {
        "id": "q_81RtpUEsLF"
      },
      "source": [
        "# Experiments"
      ]
    },
    {
      "cell_type": "markdown",
      "metadata": {
        "id": "lT3QkiTZHehg"
      },
      "source": [
        "## Top k = 10 (Original)"
      ]
    },
    {
      "cell_type": "code",
      "metadata": {
        "colab": {
          "base_uri": "https://localhost:8080/"
        },
        "id": "u0DedkVKhnEg",
        "outputId": "420b6a05-9c06-4935-f7d2-7135e1760fcf"
      },
      "source": [
        "TOP_K = 10\n",
        "\n",
        "eval_map = map_at_k(test, all_predictions, col_prediction='prediction', k=TOP_K)\n",
        "eval_ndcg = ndcg_at_k(test, all_predictions, col_prediction='prediction', k=TOP_K)\n",
        "eval_precision = precision_at_k(test, all_predictions, col_prediction='prediction', k=TOP_K)\n",
        "eval_recall = recall_at_k(test, all_predictions, col_prediction='prediction', k=TOP_K)\n",
        "\n",
        "print(\"MAP:\\t%f\" % eval_map,\n",
        "      \"NDCG:\\t%f\" % eval_ndcg,\n",
        "      \"Precision@K:\\t%f\" % eval_precision,\n",
        "      \"Recall@K:\\t%f\" % eval_recall, sep='\\n')"
      ],
      "execution_count": null,
      "outputs": [
        {
          "output_type": "stream",
          "name": "stdout",
          "text": [
            "MAP:\t0.051711\n",
            "NDCG:\t0.203581\n",
            "Precision@K:\t0.180806\n",
            "Recall@K:\t0.102204\n"
          ]
        }
      ]
    },
    {
      "cell_type": "code",
      "metadata": {
        "colab": {
          "base_uri": "https://localhost:8080/",
          "height": 1000
        },
        "id": "H6SurwudGFWF",
        "outputId": "e38da371-1f32-4209-fbc3-96dd34ac9ca3"
      },
      "source": [
        "df_sorted_top_10 = recommend_k_items(all_predictions, top_k=TOP_K)\n",
        "df_sorted_top_10.head(50)"
      ],
      "execution_count": null,
      "outputs": [
        {
          "output_type": "execute_result",
          "data": {
            "text/html": [
              "<div>\n",
              "<style scoped>\n",
              "    .dataframe tbody tr th:only-of-type {\n",
              "        vertical-align: middle;\n",
              "    }\n",
              "\n",
              "    .dataframe tbody tr th {\n",
              "        vertical-align: top;\n",
              "    }\n",
              "\n",
              "    .dataframe thead th {\n",
              "        text-align: right;\n",
              "    }\n",
              "</style>\n",
              "<table border=\"1\" class=\"dataframe\">\n",
              "  <thead>\n",
              "    <tr style=\"text-align: right;\">\n",
              "      <th></th>\n",
              "      <th>userID</th>\n",
              "      <th>itemID</th>\n",
              "      <th>movie_title</th>\n",
              "      <th>prediction</th>\n",
              "    </tr>\n",
              "  </thead>\n",
              "  <tbody>\n",
              "    <tr>\n",
              "      <th>0</th>\n",
              "      <td>1</td>\n",
              "      <td>100</td>\n",
              "      <td>Fargo (1996)</td>\n",
              "      <td>0.946887</td>\n",
              "    </tr>\n",
              "    <tr>\n",
              "      <th>1</th>\n",
              "      <td>1</td>\n",
              "      <td>12</td>\n",
              "      <td>Usual Suspects, The (1995)</td>\n",
              "      <td>0.902238</td>\n",
              "    </tr>\n",
              "    <tr>\n",
              "      <th>2</th>\n",
              "      <td>1</td>\n",
              "      <td>475</td>\n",
              "      <td>Trainspotting (1996)</td>\n",
              "      <td>0.884382</td>\n",
              "    </tr>\n",
              "    <tr>\n",
              "      <th>3</th>\n",
              "      <td>1</td>\n",
              "      <td>405</td>\n",
              "      <td>Mission: Impossible (1996)</td>\n",
              "      <td>0.822719</td>\n",
              "    </tr>\n",
              "    <tr>\n",
              "      <th>4</th>\n",
              "      <td>1</td>\n",
              "      <td>273</td>\n",
              "      <td>Heat (1995)</td>\n",
              "      <td>0.815772</td>\n",
              "    </tr>\n",
              "    <tr>\n",
              "      <th>5</th>\n",
              "      <td>1</td>\n",
              "      <td>154</td>\n",
              "      <td>Monty Python's Life of Brian (1979)</td>\n",
              "      <td>0.798393</td>\n",
              "    </tr>\n",
              "    <tr>\n",
              "      <th>6</th>\n",
              "      <td>1</td>\n",
              "      <td>288</td>\n",
              "      <td>Scream (1996)</td>\n",
              "      <td>0.765276</td>\n",
              "    </tr>\n",
              "    <tr>\n",
              "      <th>7</th>\n",
              "      <td>1</td>\n",
              "      <td>209</td>\n",
              "      <td>This Is Spinal Tap (1984)</td>\n",
              "      <td>0.764259</td>\n",
              "    </tr>\n",
              "    <tr>\n",
              "      <th>8</th>\n",
              "      <td>1</td>\n",
              "      <td>318</td>\n",
              "      <td>Schindler's List (1993)</td>\n",
              "      <td>0.750901</td>\n",
              "    </tr>\n",
              "    <tr>\n",
              "      <th>9</th>\n",
              "      <td>1</td>\n",
              "      <td>210</td>\n",
              "      <td>Indiana Jones and the Last Crusade (1989)</td>\n",
              "      <td>0.742695</td>\n",
              "    </tr>\n",
              "    <tr>\n",
              "      <th>10</th>\n",
              "      <td>2</td>\n",
              "      <td>283</td>\n",
              "      <td>Emma (1996)</td>\n",
              "      <td>0.972814</td>\n",
              "    </tr>\n",
              "    <tr>\n",
              "      <th>11</th>\n",
              "      <td>2</td>\n",
              "      <td>124</td>\n",
              "      <td>Lone Star (1996)</td>\n",
              "      <td>0.958005</td>\n",
              "    </tr>\n",
              "    <tr>\n",
              "      <th>12</th>\n",
              "      <td>2</td>\n",
              "      <td>9</td>\n",
              "      <td>Dead Man Walking (1995)</td>\n",
              "      <td>0.953126</td>\n",
              "    </tr>\n",
              "    <tr>\n",
              "      <th>13</th>\n",
              "      <td>2</td>\n",
              "      <td>15</td>\n",
              "      <td>Mr. Holland's Opus (1995)</td>\n",
              "      <td>0.952300</td>\n",
              "    </tr>\n",
              "    <tr>\n",
              "      <th>14</th>\n",
              "      <td>2</td>\n",
              "      <td>137</td>\n",
              "      <td>Big Night (1996)</td>\n",
              "      <td>0.950962</td>\n",
              "    </tr>\n",
              "    <tr>\n",
              "      <th>15</th>\n",
              "      <td>2</td>\n",
              "      <td>289</td>\n",
              "      <td>Evita (1996)</td>\n",
              "      <td>0.947421</td>\n",
              "    </tr>\n",
              "    <tr>\n",
              "      <th>16</th>\n",
              "      <td>2</td>\n",
              "      <td>300</td>\n",
              "      <td>Air Force One (1997)</td>\n",
              "      <td>0.939876</td>\n",
              "    </tr>\n",
              "    <tr>\n",
              "      <th>17</th>\n",
              "      <td>2</td>\n",
              "      <td>116</td>\n",
              "      <td>Cold Comfort Farm (1995)</td>\n",
              "      <td>0.935889</td>\n",
              "    </tr>\n",
              "    <tr>\n",
              "      <th>18</th>\n",
              "      <td>2</td>\n",
              "      <td>304</td>\n",
              "      <td>Fly Away Home (1996)</td>\n",
              "      <td>0.925595</td>\n",
              "    </tr>\n",
              "    <tr>\n",
              "      <th>19</th>\n",
              "      <td>2</td>\n",
              "      <td>319</td>\n",
              "      <td>Everyone Says I Love You (1996)</td>\n",
              "      <td>0.921995</td>\n",
              "    </tr>\n",
              "    <tr>\n",
              "      <th>20</th>\n",
              "      <td>3</td>\n",
              "      <td>327</td>\n",
              "      <td>Cop Land (1997)</td>\n",
              "      <td>0.967462</td>\n",
              "    </tr>\n",
              "    <tr>\n",
              "      <th>21</th>\n",
              "      <td>3</td>\n",
              "      <td>881</td>\n",
              "      <td>Money Talks (1997)</td>\n",
              "      <td>0.954577</td>\n",
              "    </tr>\n",
              "    <tr>\n",
              "      <th>22</th>\n",
              "      <td>3</td>\n",
              "      <td>313</td>\n",
              "      <td>Titanic (1997)</td>\n",
              "      <td>0.951325</td>\n",
              "    </tr>\n",
              "    <tr>\n",
              "      <th>23</th>\n",
              "      <td>3</td>\n",
              "      <td>876</td>\n",
              "      <td>Money Talks (1997)</td>\n",
              "      <td>0.949731</td>\n",
              "    </tr>\n",
              "    <tr>\n",
              "      <th>24</th>\n",
              "      <td>3</td>\n",
              "      <td>286</td>\n",
              "      <td>English Patient, The (1996)</td>\n",
              "      <td>0.943487</td>\n",
              "    </tr>\n",
              "    <tr>\n",
              "      <th>25</th>\n",
              "      <td>3</td>\n",
              "      <td>872</td>\n",
              "      <td>Love Jones (1997)</td>\n",
              "      <td>0.942013</td>\n",
              "    </tr>\n",
              "    <tr>\n",
              "      <th>26</th>\n",
              "      <td>3</td>\n",
              "      <td>328</td>\n",
              "      <td>Conspiracy Theory (1997)</td>\n",
              "      <td>0.938952</td>\n",
              "    </tr>\n",
              "    <tr>\n",
              "      <th>27</th>\n",
              "      <td>3</td>\n",
              "      <td>269</td>\n",
              "      <td>Full Monty, The (1997)</td>\n",
              "      <td>0.930632</td>\n",
              "    </tr>\n",
              "    <tr>\n",
              "      <th>28</th>\n",
              "      <td>3</td>\n",
              "      <td>887</td>\n",
              "      <td>Eve's Bayou (1997)</td>\n",
              "      <td>0.924971</td>\n",
              "    </tr>\n",
              "    <tr>\n",
              "      <th>29</th>\n",
              "      <td>3</td>\n",
              "      <td>682</td>\n",
              "      <td>I Know What You Did Last Summer (1997)</td>\n",
              "      <td>0.916468</td>\n",
              "    </tr>\n",
              "    <tr>\n",
              "      <th>30</th>\n",
              "      <td>4</td>\n",
              "      <td>294</td>\n",
              "      <td>Liar Liar (1997)</td>\n",
              "      <td>0.945958</td>\n",
              "    </tr>\n",
              "    <tr>\n",
              "      <th>31</th>\n",
              "      <td>4</td>\n",
              "      <td>313</td>\n",
              "      <td>Titanic (1997)</td>\n",
              "      <td>0.944602</td>\n",
              "    </tr>\n",
              "    <tr>\n",
              "      <th>32</th>\n",
              "      <td>4</td>\n",
              "      <td>688</td>\n",
              "      <td>Leave It to Beaver (1997)</td>\n",
              "      <td>0.923223</td>\n",
              "    </tr>\n",
              "    <tr>\n",
              "      <th>33</th>\n",
              "      <td>4</td>\n",
              "      <td>306</td>\n",
              "      <td>Mrs. Brown (Her Majesty, Mrs. Brown) (1997)</td>\n",
              "      <td>0.919174</td>\n",
              "    </tr>\n",
              "    <tr>\n",
              "      <th>34</th>\n",
              "      <td>4</td>\n",
              "      <td>286</td>\n",
              "      <td>English Patient, The (1996)</td>\n",
              "      <td>0.917307</td>\n",
              "    </tr>\n",
              "    <tr>\n",
              "      <th>35</th>\n",
              "      <td>4</td>\n",
              "      <td>302</td>\n",
              "      <td>L.A. Confidential (1997)</td>\n",
              "      <td>0.910455</td>\n",
              "    </tr>\n",
              "    <tr>\n",
              "      <th>36</th>\n",
              "      <td>4</td>\n",
              "      <td>322</td>\n",
              "      <td>Murder at 1600 (1997)</td>\n",
              "      <td>0.910043</td>\n",
              "    </tr>\n",
              "    <tr>\n",
              "      <th>37</th>\n",
              "      <td>4</td>\n",
              "      <td>333</td>\n",
              "      <td>Game, The (1997)</td>\n",
              "      <td>0.907275</td>\n",
              "    </tr>\n",
              "    <tr>\n",
              "      <th>38</th>\n",
              "      <td>4</td>\n",
              "      <td>323</td>\n",
              "      <td>Dante's Peak (1997)</td>\n",
              "      <td>0.904395</td>\n",
              "    </tr>\n",
              "    <tr>\n",
              "      <th>39</th>\n",
              "      <td>4</td>\n",
              "      <td>259</td>\n",
              "      <td>George of the Jungle (1997)</td>\n",
              "      <td>0.903092</td>\n",
              "    </tr>\n",
              "    <tr>\n",
              "      <th>40</th>\n",
              "      <td>5</td>\n",
              "      <td>161</td>\n",
              "      <td>Top Gun (1986)</td>\n",
              "      <td>0.929577</td>\n",
              "    </tr>\n",
              "    <tr>\n",
              "      <th>41</th>\n",
              "      <td>5</td>\n",
              "      <td>96</td>\n",
              "      <td>Terminator 2: Judgment Day (1991)</td>\n",
              "      <td>0.926126</td>\n",
              "    </tr>\n",
              "    <tr>\n",
              "      <th>42</th>\n",
              "      <td>5</td>\n",
              "      <td>202</td>\n",
              "      <td>Groundhog Day (1993)</td>\n",
              "      <td>0.904399</td>\n",
              "    </tr>\n",
              "    <tr>\n",
              "      <th>43</th>\n",
              "      <td>5</td>\n",
              "      <td>195</td>\n",
              "      <td>Terminator, The (1984)</td>\n",
              "      <td>0.903663</td>\n",
              "    </tr>\n",
              "    <tr>\n",
              "      <th>44</th>\n",
              "      <td>5</td>\n",
              "      <td>82</td>\n",
              "      <td>Jurassic Park (1993)</td>\n",
              "      <td>0.900961</td>\n",
              "    </tr>\n",
              "    <tr>\n",
              "      <th>45</th>\n",
              "      <td>5</td>\n",
              "      <td>218</td>\n",
              "      <td>Cape Fear (1991)</td>\n",
              "      <td>0.892623</td>\n",
              "    </tr>\n",
              "    <tr>\n",
              "      <th>46</th>\n",
              "      <td>5</td>\n",
              "      <td>88</td>\n",
              "      <td>Sleepless in Seattle (1993)</td>\n",
              "      <td>0.892527</td>\n",
              "    </tr>\n",
              "    <tr>\n",
              "      <th>47</th>\n",
              "      <td>5</td>\n",
              "      <td>56</td>\n",
              "      <td>Pulp Fiction (1994)</td>\n",
              "      <td>0.887076</td>\n",
              "    </tr>\n",
              "    <tr>\n",
              "      <th>48</th>\n",
              "      <td>5</td>\n",
              "      <td>568</td>\n",
              "      <td>Speed (1994)</td>\n",
              "      <td>0.886494</td>\n",
              "    </tr>\n",
              "    <tr>\n",
              "      <th>49</th>\n",
              "      <td>5</td>\n",
              "      <td>559</td>\n",
              "      <td>Interview with the Vampire (1994)</td>\n",
              "      <td>0.886230</td>\n",
              "    </tr>\n",
              "  </tbody>\n",
              "</table>\n",
              "</div>"
            ],
            "text/plain": [
              "    userID  itemID                                  movie_title  prediction\n",
              "0        1     100                                 Fargo (1996)    0.946887\n",
              "1        1      12                   Usual Suspects, The (1995)    0.902238\n",
              "2        1     475                         Trainspotting (1996)    0.884382\n",
              "3        1     405                   Mission: Impossible (1996)    0.822719\n",
              "4        1     273                                  Heat (1995)    0.815772\n",
              "5        1     154          Monty Python's Life of Brian (1979)    0.798393\n",
              "6        1     288                                Scream (1996)    0.765276\n",
              "7        1     209                    This Is Spinal Tap (1984)    0.764259\n",
              "8        1     318                      Schindler's List (1993)    0.750901\n",
              "9        1     210    Indiana Jones and the Last Crusade (1989)    0.742695\n",
              "10       2     283                                  Emma (1996)    0.972814\n",
              "11       2     124                             Lone Star (1996)    0.958005\n",
              "12       2       9                      Dead Man Walking (1995)    0.953126\n",
              "13       2      15                    Mr. Holland's Opus (1995)    0.952300\n",
              "14       2     137                             Big Night (1996)    0.950962\n",
              "15       2     289                                 Evita (1996)    0.947421\n",
              "16       2     300                         Air Force One (1997)    0.939876\n",
              "17       2     116                     Cold Comfort Farm (1995)    0.935889\n",
              "18       2     304                         Fly Away Home (1996)    0.925595\n",
              "19       2     319              Everyone Says I Love You (1996)    0.921995\n",
              "20       3     327                              Cop Land (1997)    0.967462\n",
              "21       3     881                           Money Talks (1997)    0.954577\n",
              "22       3     313                               Titanic (1997)    0.951325\n",
              "23       3     876                           Money Talks (1997)    0.949731\n",
              "24       3     286                  English Patient, The (1996)    0.943487\n",
              "25       3     872                            Love Jones (1997)    0.942013\n",
              "26       3     328                     Conspiracy Theory (1997)    0.938952\n",
              "27       3     269                       Full Monty, The (1997)    0.930632\n",
              "28       3     887                           Eve's Bayou (1997)    0.924971\n",
              "29       3     682       I Know What You Did Last Summer (1997)    0.916468\n",
              "30       4     294                             Liar Liar (1997)    0.945958\n",
              "31       4     313                               Titanic (1997)    0.944602\n",
              "32       4     688                    Leave It to Beaver (1997)    0.923223\n",
              "33       4     306  Mrs. Brown (Her Majesty, Mrs. Brown) (1997)    0.919174\n",
              "34       4     286                  English Patient, The (1996)    0.917307\n",
              "35       4     302                     L.A. Confidential (1997)    0.910455\n",
              "36       4     322                        Murder at 1600 (1997)    0.910043\n",
              "37       4     333                             Game, The (1997)    0.907275\n",
              "38       4     323                          Dante's Peak (1997)    0.904395\n",
              "39       4     259                  George of the Jungle (1997)    0.903092\n",
              "40       5     161                               Top Gun (1986)    0.929577\n",
              "41       5      96            Terminator 2: Judgment Day (1991)    0.926126\n",
              "42       5     202                         Groundhog Day (1993)    0.904399\n",
              "43       5     195                       Terminator, The (1984)    0.903663\n",
              "44       5      82                         Jurassic Park (1993)    0.900961\n",
              "45       5     218                             Cape Fear (1991)    0.892623\n",
              "46       5      88                  Sleepless in Seattle (1993)    0.892527\n",
              "47       5      56                          Pulp Fiction (1994)    0.887076\n",
              "48       5     568                                 Speed (1994)    0.886494\n",
              "49       5     559            Interview with the Vampire (1994)    0.886230"
            ]
          },
          "metadata": {},
          "execution_count": 46
        }
      ]
    },
    {
      "cell_type": "markdown",
      "metadata": {
        "id": "3Rn2pVbWEvJ8"
      },
      "source": [
        "## Top k = 20"
      ]
    },
    {
      "cell_type": "code",
      "metadata": {
        "id": "CHgjCkHQFLgL"
      },
      "source": [
        "TOP_K=20"
      ],
      "execution_count": null,
      "outputs": []
    },
    {
      "cell_type": "code",
      "metadata": {
        "colab": {
          "base_uri": "https://localhost:8080/"
        },
        "id": "AJVrzoe0FBpC",
        "outputId": "4caff5e8-048f-4309-8ba6-2e5e7d770a4c"
      },
      "source": [
        "eval_map = map_at_k(test, all_predictions, col_prediction='prediction', k=TOP_K)\n",
        "eval_ndcg = ndcg_at_k(test, all_predictions, col_prediction='prediction', k=TOP_K)\n",
        "eval_precision = precision_at_k(test, all_predictions, col_prediction='prediction', k=TOP_K)\n",
        "eval_recall = recall_at_k(test, all_predictions, col_prediction='prediction', k=TOP_K)\n",
        "\n",
        "print(\"MAP:\\t%f\" % eval_map,\n",
        "      \"NDCG:\\t%f\" % eval_ndcg,\n",
        "      \"Precision@K:\\t%f\" % eval_precision,\n",
        "      \"Recall@K:\\t%f\" % eval_recall, sep='\\n')"
      ],
      "execution_count": null,
      "outputs": [
        {
          "output_type": "stream",
          "name": "stdout",
          "text": [
            "MAP:\t0.068953\n",
            "NDCG:\t0.214761\n",
            "Precision@K:\t0.159279\n",
            "Recall@K:\t0.177134\n"
          ]
        }
      ]
    },
    {
      "cell_type": "code",
      "metadata": {
        "colab": {
          "base_uri": "https://localhost:8080/",
          "height": 1000
        },
        "id": "vVT8y48_FO_N",
        "outputId": "f324cb4a-e42c-4737-a6c6-773dee7d95f7"
      },
      "source": [
        "df_sorted_top_20 = recommend_k_items(all_predictions, top_k=TOP_K)\n",
        "df_sorted_top_20.head(60)"
      ],
      "execution_count": null,
      "outputs": [
        {
          "output_type": "execute_result",
          "data": {
            "text/html": [
              "<div>\n",
              "<style scoped>\n",
              "    .dataframe tbody tr th:only-of-type {\n",
              "        vertical-align: middle;\n",
              "    }\n",
              "\n",
              "    .dataframe tbody tr th {\n",
              "        vertical-align: top;\n",
              "    }\n",
              "\n",
              "    .dataframe thead th {\n",
              "        text-align: right;\n",
              "    }\n",
              "</style>\n",
              "<table border=\"1\" class=\"dataframe\">\n",
              "  <thead>\n",
              "    <tr style=\"text-align: right;\">\n",
              "      <th></th>\n",
              "      <th>userID</th>\n",
              "      <th>itemID</th>\n",
              "      <th>movie_title</th>\n",
              "      <th>prediction</th>\n",
              "    </tr>\n",
              "  </thead>\n",
              "  <tbody>\n",
              "    <tr>\n",
              "      <th>0</th>\n",
              "      <td>1</td>\n",
              "      <td>100</td>\n",
              "      <td>Fargo (1996)</td>\n",
              "      <td>0.946887</td>\n",
              "    </tr>\n",
              "    <tr>\n",
              "      <th>1</th>\n",
              "      <td>1</td>\n",
              "      <td>12</td>\n",
              "      <td>Usual Suspects, The (1995)</td>\n",
              "      <td>0.902238</td>\n",
              "    </tr>\n",
              "    <tr>\n",
              "      <th>2</th>\n",
              "      <td>1</td>\n",
              "      <td>475</td>\n",
              "      <td>Trainspotting (1996)</td>\n",
              "      <td>0.884382</td>\n",
              "    </tr>\n",
              "    <tr>\n",
              "      <th>3</th>\n",
              "      <td>1</td>\n",
              "      <td>405</td>\n",
              "      <td>Mission: Impossible (1996)</td>\n",
              "      <td>0.822719</td>\n",
              "    </tr>\n",
              "    <tr>\n",
              "      <th>4</th>\n",
              "      <td>1</td>\n",
              "      <td>273</td>\n",
              "      <td>Heat (1995)</td>\n",
              "      <td>0.815772</td>\n",
              "    </tr>\n",
              "    <tr>\n",
              "      <th>5</th>\n",
              "      <td>1</td>\n",
              "      <td>154</td>\n",
              "      <td>Monty Python's Life of Brian (1979)</td>\n",
              "      <td>0.798393</td>\n",
              "    </tr>\n",
              "    <tr>\n",
              "      <th>6</th>\n",
              "      <td>1</td>\n",
              "      <td>288</td>\n",
              "      <td>Scream (1996)</td>\n",
              "      <td>0.765276</td>\n",
              "    </tr>\n",
              "    <tr>\n",
              "      <th>7</th>\n",
              "      <td>1</td>\n",
              "      <td>209</td>\n",
              "      <td>This Is Spinal Tap (1984)</td>\n",
              "      <td>0.764259</td>\n",
              "    </tr>\n",
              "    <tr>\n",
              "      <th>8</th>\n",
              "      <td>1</td>\n",
              "      <td>318</td>\n",
              "      <td>Schindler's List (1993)</td>\n",
              "      <td>0.750901</td>\n",
              "    </tr>\n",
              "    <tr>\n",
              "      <th>9</th>\n",
              "      <td>1</td>\n",
              "      <td>210</td>\n",
              "      <td>Indiana Jones and the Last Crusade (1989)</td>\n",
              "      <td>0.742695</td>\n",
              "    </tr>\n",
              "    <tr>\n",
              "      <th>10</th>\n",
              "      <td>1</td>\n",
              "      <td>546</td>\n",
              "      <td>Broken Arrow (1996)</td>\n",
              "      <td>0.739016</td>\n",
              "    </tr>\n",
              "    <tr>\n",
              "      <th>11</th>\n",
              "      <td>1</td>\n",
              "      <td>433</td>\n",
              "      <td>Heathers (1989)</td>\n",
              "      <td>0.725538</td>\n",
              "    </tr>\n",
              "    <tr>\n",
              "      <th>12</th>\n",
              "      <td>1</td>\n",
              "      <td>222</td>\n",
              "      <td>Star Trek: First Contact (1996)</td>\n",
              "      <td>0.722917</td>\n",
              "    </tr>\n",
              "    <tr>\n",
              "      <th>13</th>\n",
              "      <td>1</td>\n",
              "      <td>588</td>\n",
              "      <td>Beauty and the Beast (1991)</td>\n",
              "      <td>0.721690</td>\n",
              "    </tr>\n",
              "    <tr>\n",
              "      <th>14</th>\n",
              "      <td>1</td>\n",
              "      <td>276</td>\n",
              "      <td>Leaving Las Vegas (1995)</td>\n",
              "      <td>0.715097</td>\n",
              "    </tr>\n",
              "    <tr>\n",
              "      <th>15</th>\n",
              "      <td>1</td>\n",
              "      <td>410</td>\n",
              "      <td>Kingpin (1996)</td>\n",
              "      <td>0.714542</td>\n",
              "    </tr>\n",
              "    <tr>\n",
              "      <th>16</th>\n",
              "      <td>1</td>\n",
              "      <td>483</td>\n",
              "      <td>Casablanca (1942)</td>\n",
              "      <td>0.698745</td>\n",
              "    </tr>\n",
              "    <tr>\n",
              "      <th>17</th>\n",
              "      <td>1</td>\n",
              "      <td>474</td>\n",
              "      <td>Dr. Strangelove or: How I Learned to Stop Worr...</td>\n",
              "      <td>0.694331</td>\n",
              "    </tr>\n",
              "    <tr>\n",
              "      <th>18</th>\n",
              "      <td>1</td>\n",
              "      <td>132</td>\n",
              "      <td>Wizard of Oz, The (1939)</td>\n",
              "      <td>0.688431</td>\n",
              "    </tr>\n",
              "    <tr>\n",
              "      <th>19</th>\n",
              "      <td>1</td>\n",
              "      <td>597</td>\n",
              "      <td>Eraser (1996)</td>\n",
              "      <td>0.686006</td>\n",
              "    </tr>\n",
              "    <tr>\n",
              "      <th>20</th>\n",
              "      <td>2</td>\n",
              "      <td>283</td>\n",
              "      <td>Emma (1996)</td>\n",
              "      <td>0.972814</td>\n",
              "    </tr>\n",
              "    <tr>\n",
              "      <th>21</th>\n",
              "      <td>2</td>\n",
              "      <td>124</td>\n",
              "      <td>Lone Star (1996)</td>\n",
              "      <td>0.958005</td>\n",
              "    </tr>\n",
              "    <tr>\n",
              "      <th>22</th>\n",
              "      <td>2</td>\n",
              "      <td>9</td>\n",
              "      <td>Dead Man Walking (1995)</td>\n",
              "      <td>0.953126</td>\n",
              "    </tr>\n",
              "    <tr>\n",
              "      <th>23</th>\n",
              "      <td>2</td>\n",
              "      <td>15</td>\n",
              "      <td>Mr. Holland's Opus (1995)</td>\n",
              "      <td>0.952300</td>\n",
              "    </tr>\n",
              "    <tr>\n",
              "      <th>24</th>\n",
              "      <td>2</td>\n",
              "      <td>137</td>\n",
              "      <td>Big Night (1996)</td>\n",
              "      <td>0.950962</td>\n",
              "    </tr>\n",
              "    <tr>\n",
              "      <th>25</th>\n",
              "      <td>2</td>\n",
              "      <td>289</td>\n",
              "      <td>Evita (1996)</td>\n",
              "      <td>0.947421</td>\n",
              "    </tr>\n",
              "    <tr>\n",
              "      <th>26</th>\n",
              "      <td>2</td>\n",
              "      <td>300</td>\n",
              "      <td>Air Force One (1997)</td>\n",
              "      <td>0.939876</td>\n",
              "    </tr>\n",
              "    <tr>\n",
              "      <th>27</th>\n",
              "      <td>2</td>\n",
              "      <td>116</td>\n",
              "      <td>Cold Comfort Farm (1995)</td>\n",
              "      <td>0.935889</td>\n",
              "    </tr>\n",
              "    <tr>\n",
              "      <th>28</th>\n",
              "      <td>2</td>\n",
              "      <td>304</td>\n",
              "      <td>Fly Away Home (1996)</td>\n",
              "      <td>0.925595</td>\n",
              "    </tr>\n",
              "    <tr>\n",
              "      <th>29</th>\n",
              "      <td>2</td>\n",
              "      <td>319</td>\n",
              "      <td>Everyone Says I Love You (1996)</td>\n",
              "      <td>0.921995</td>\n",
              "    </tr>\n",
              "    <tr>\n",
              "      <th>30</th>\n",
              "      <td>2</td>\n",
              "      <td>748</td>\n",
              "      <td>Saint, The (1997)</td>\n",
              "      <td>0.913674</td>\n",
              "    </tr>\n",
              "    <tr>\n",
              "      <th>31</th>\n",
              "      <td>2</td>\n",
              "      <td>126</td>\n",
              "      <td>Spitfire Grill, The (1996)</td>\n",
              "      <td>0.912401</td>\n",
              "    </tr>\n",
              "    <tr>\n",
              "      <th>32</th>\n",
              "      <td>2</td>\n",
              "      <td>475</td>\n",
              "      <td>Trainspotting (1996)</td>\n",
              "      <td>0.902770</td>\n",
              "    </tr>\n",
              "    <tr>\n",
              "      <th>33</th>\n",
              "      <td>2</td>\n",
              "      <td>268</td>\n",
              "      <td>Chasing Amy (1997)</td>\n",
              "      <td>0.886432</td>\n",
              "    </tr>\n",
              "    <tr>\n",
              "      <th>34</th>\n",
              "      <td>2</td>\n",
              "      <td>471</td>\n",
              "      <td>Courage Under Fire (1996)</td>\n",
              "      <td>0.883521</td>\n",
              "    </tr>\n",
              "    <tr>\n",
              "      <th>35</th>\n",
              "      <td>2</td>\n",
              "      <td>221</td>\n",
              "      <td>Breaking the Waves (1996)</td>\n",
              "      <td>0.870175</td>\n",
              "    </tr>\n",
              "    <tr>\n",
              "      <th>36</th>\n",
              "      <td>2</td>\n",
              "      <td>322</td>\n",
              "      <td>Murder at 1600 (1997)</td>\n",
              "      <td>0.867628</td>\n",
              "    </tr>\n",
              "    <tr>\n",
              "      <th>37</th>\n",
              "      <td>2</td>\n",
              "      <td>125</td>\n",
              "      <td>Phenomenon (1996)</td>\n",
              "      <td>0.861598</td>\n",
              "    </tr>\n",
              "    <tr>\n",
              "      <th>38</th>\n",
              "      <td>2</td>\n",
              "      <td>328</td>\n",
              "      <td>Conspiracy Theory (1997)</td>\n",
              "      <td>0.847762</td>\n",
              "    </tr>\n",
              "    <tr>\n",
              "      <th>39</th>\n",
              "      <td>2</td>\n",
              "      <td>744</td>\n",
              "      <td>Michael Collins (1996)</td>\n",
              "      <td>0.847009</td>\n",
              "    </tr>\n",
              "    <tr>\n",
              "      <th>40</th>\n",
              "      <td>3</td>\n",
              "      <td>327</td>\n",
              "      <td>Cop Land (1997)</td>\n",
              "      <td>0.967462</td>\n",
              "    </tr>\n",
              "    <tr>\n",
              "      <th>41</th>\n",
              "      <td>3</td>\n",
              "      <td>881</td>\n",
              "      <td>Money Talks (1997)</td>\n",
              "      <td>0.954577</td>\n",
              "    </tr>\n",
              "    <tr>\n",
              "      <th>42</th>\n",
              "      <td>3</td>\n",
              "      <td>313</td>\n",
              "      <td>Titanic (1997)</td>\n",
              "      <td>0.951325</td>\n",
              "    </tr>\n",
              "    <tr>\n",
              "      <th>43</th>\n",
              "      <td>3</td>\n",
              "      <td>876</td>\n",
              "      <td>Money Talks (1997)</td>\n",
              "      <td>0.949731</td>\n",
              "    </tr>\n",
              "    <tr>\n",
              "      <th>44</th>\n",
              "      <td>3</td>\n",
              "      <td>286</td>\n",
              "      <td>English Patient, The (1996)</td>\n",
              "      <td>0.943487</td>\n",
              "    </tr>\n",
              "    <tr>\n",
              "      <th>45</th>\n",
              "      <td>3</td>\n",
              "      <td>872</td>\n",
              "      <td>Love Jones (1997)</td>\n",
              "      <td>0.942013</td>\n",
              "    </tr>\n",
              "    <tr>\n",
              "      <th>46</th>\n",
              "      <td>3</td>\n",
              "      <td>328</td>\n",
              "      <td>Conspiracy Theory (1997)</td>\n",
              "      <td>0.938952</td>\n",
              "    </tr>\n",
              "    <tr>\n",
              "      <th>47</th>\n",
              "      <td>3</td>\n",
              "      <td>269</td>\n",
              "      <td>Full Monty, The (1997)</td>\n",
              "      <td>0.930632</td>\n",
              "    </tr>\n",
              "    <tr>\n",
              "      <th>48</th>\n",
              "      <td>3</td>\n",
              "      <td>887</td>\n",
              "      <td>Eve's Bayou (1997)</td>\n",
              "      <td>0.924971</td>\n",
              "    </tr>\n",
              "    <tr>\n",
              "      <th>49</th>\n",
              "      <td>3</td>\n",
              "      <td>682</td>\n",
              "      <td>I Know What You Did Last Summer (1997)</td>\n",
              "      <td>0.916468</td>\n",
              "    </tr>\n",
              "    <tr>\n",
              "      <th>50</th>\n",
              "      <td>3</td>\n",
              "      <td>305</td>\n",
              "      <td>Ice Storm, The (1997)</td>\n",
              "      <td>0.906996</td>\n",
              "    </tr>\n",
              "    <tr>\n",
              "      <th>51</th>\n",
              "      <td>3</td>\n",
              "      <td>262</td>\n",
              "      <td>In the Company of Men (1997)</td>\n",
              "      <td>0.886528</td>\n",
              "    </tr>\n",
              "    <tr>\n",
              "      <th>52</th>\n",
              "      <td>3</td>\n",
              "      <td>340</td>\n",
              "      <td>Boogie Nights (1997)</td>\n",
              "      <td>0.886306</td>\n",
              "    </tr>\n",
              "    <tr>\n",
              "      <th>53</th>\n",
              "      <td>3</td>\n",
              "      <td>331</td>\n",
              "      <td>Edge, The (1997)</td>\n",
              "      <td>0.885005</td>\n",
              "    </tr>\n",
              "    <tr>\n",
              "      <th>54</th>\n",
              "      <td>3</td>\n",
              "      <td>690</td>\n",
              "      <td>Seven Years in Tibet (1997)</td>\n",
              "      <td>0.877534</td>\n",
              "    </tr>\n",
              "    <tr>\n",
              "      <th>55</th>\n",
              "      <td>3</td>\n",
              "      <td>879</td>\n",
              "      <td>Peacemaker, The (1997)</td>\n",
              "      <td>0.872087</td>\n",
              "    </tr>\n",
              "    <tr>\n",
              "      <th>56</th>\n",
              "      <td>3</td>\n",
              "      <td>895</td>\n",
              "      <td>Scream 2 (1997)</td>\n",
              "      <td>0.869373</td>\n",
              "    </tr>\n",
              "    <tr>\n",
              "      <th>57</th>\n",
              "      <td>3</td>\n",
              "      <td>748</td>\n",
              "      <td>Saint, The (1997)</td>\n",
              "      <td>0.868786</td>\n",
              "    </tr>\n",
              "    <tr>\n",
              "      <th>58</th>\n",
              "      <td>3</td>\n",
              "      <td>347</td>\n",
              "      <td>Wag the Dog (1997)</td>\n",
              "      <td>0.867183</td>\n",
              "    </tr>\n",
              "    <tr>\n",
              "      <th>59</th>\n",
              "      <td>3</td>\n",
              "      <td>752</td>\n",
              "      <td>Replacement Killers, The (1998)</td>\n",
              "      <td>0.865862</td>\n",
              "    </tr>\n",
              "  </tbody>\n",
              "</table>\n",
              "</div>"
            ],
            "text/plain": [
              "    userID  ...  prediction\n",
              "0        1  ...    0.946887\n",
              "1        1  ...    0.902238\n",
              "2        1  ...    0.884382\n",
              "3        1  ...    0.822719\n",
              "4        1  ...    0.815772\n",
              "5        1  ...    0.798393\n",
              "6        1  ...    0.765276\n",
              "7        1  ...    0.764259\n",
              "8        1  ...    0.750901\n",
              "9        1  ...    0.742695\n",
              "10       1  ...    0.739016\n",
              "11       1  ...    0.725538\n",
              "12       1  ...    0.722917\n",
              "13       1  ...    0.721690\n",
              "14       1  ...    0.715097\n",
              "15       1  ...    0.714542\n",
              "16       1  ...    0.698745\n",
              "17       1  ...    0.694331\n",
              "18       1  ...    0.688431\n",
              "19       1  ...    0.686006\n",
              "20       2  ...    0.972814\n",
              "21       2  ...    0.958005\n",
              "22       2  ...    0.953126\n",
              "23       2  ...    0.952300\n",
              "24       2  ...    0.950962\n",
              "25       2  ...    0.947421\n",
              "26       2  ...    0.939876\n",
              "27       2  ...    0.935889\n",
              "28       2  ...    0.925595\n",
              "29       2  ...    0.921995\n",
              "30       2  ...    0.913674\n",
              "31       2  ...    0.912401\n",
              "32       2  ...    0.902770\n",
              "33       2  ...    0.886432\n",
              "34       2  ...    0.883521\n",
              "35       2  ...    0.870175\n",
              "36       2  ...    0.867628\n",
              "37       2  ...    0.861598\n",
              "38       2  ...    0.847762\n",
              "39       2  ...    0.847009\n",
              "40       3  ...    0.967462\n",
              "41       3  ...    0.954577\n",
              "42       3  ...    0.951325\n",
              "43       3  ...    0.949731\n",
              "44       3  ...    0.943487\n",
              "45       3  ...    0.942013\n",
              "46       3  ...    0.938952\n",
              "47       3  ...    0.930632\n",
              "48       3  ...    0.924971\n",
              "49       3  ...    0.916468\n",
              "50       3  ...    0.906996\n",
              "51       3  ...    0.886528\n",
              "52       3  ...    0.886306\n",
              "53       3  ...    0.885005\n",
              "54       3  ...    0.877534\n",
              "55       3  ...    0.872087\n",
              "56       3  ...    0.869373\n",
              "57       3  ...    0.868786\n",
              "58       3  ...    0.867183\n",
              "59       3  ...    0.865862\n",
              "\n",
              "[60 rows x 4 columns]"
            ]
          },
          "metadata": {},
          "execution_count": 47
        }
      ]
    },
    {
      "cell_type": "markdown",
      "metadata": {
        "id": "e_SnW2NfGzZv"
      },
      "source": [
        "## Top k = 5"
      ]
    },
    {
      "cell_type": "code",
      "metadata": {
        "id": "84-rYn-vG0Y9"
      },
      "source": [
        "TOP_K = 5"
      ],
      "execution_count": null,
      "outputs": []
    },
    {
      "cell_type": "code",
      "metadata": {
        "colab": {
          "base_uri": "https://localhost:8080/"
        },
        "id": "4rIu1ke8G5nS",
        "outputId": "2e2639fc-cef1-4878-90df-6250a37955fb"
      },
      "source": [
        "eval_map = map_at_k(test, all_predictions, col_prediction='prediction', k=TOP_K)\n",
        "eval_ndcg = ndcg_at_k(test, all_predictions, col_prediction='prediction', k=TOP_K)\n",
        "eval_precision = precision_at_k(test, all_predictions, col_prediction='prediction', k=TOP_K)\n",
        "eval_recall = recall_at_k(test, all_predictions, col_prediction='prediction', k=TOP_K)\n",
        "\n",
        "print(\"MAP:\\t%f\" % eval_map,\n",
        "      \"NDCG:\\t%f\" % eval_ndcg,\n",
        "      \"Precision@K:\\t%f\" % eval_precision,\n",
        "      \"Recall@K:\\t%f\" % eval_recall, sep='\\n')"
      ],
      "execution_count": null,
      "outputs": [
        {
          "output_type": "stream",
          "name": "stdout",
          "text": [
            "MAP:\t0.038237\n",
            "NDCG:\t0.213644\n",
            "Precision@K:\t0.205302\n",
            "Recall@K:\t0.059235\n"
          ]
        }
      ]
    },
    {
      "cell_type": "code",
      "metadata": {
        "id": "Z3v7nNq7G5nS"
      },
      "source": [
        "df_sorted_top_5 = recommend_k_items(all_predictions, top_k=TOP_K)"
      ],
      "execution_count": null,
      "outputs": []
    },
    {
      "cell_type": "code",
      "metadata": {
        "colab": {
          "base_uri": "https://localhost:8080/",
          "height": 833
        },
        "id": "d5h48x1jHqdG",
        "outputId": "c40d67e5-876a-4230-e80b-ae8124cf002c"
      },
      "source": [
        "df_sorted_top_5.head(25)"
      ],
      "execution_count": null,
      "outputs": [
        {
          "output_type": "execute_result",
          "data": {
            "text/html": [
              "<div>\n",
              "<style scoped>\n",
              "    .dataframe tbody tr th:only-of-type {\n",
              "        vertical-align: middle;\n",
              "    }\n",
              "\n",
              "    .dataframe tbody tr th {\n",
              "        vertical-align: top;\n",
              "    }\n",
              "\n",
              "    .dataframe thead th {\n",
              "        text-align: right;\n",
              "    }\n",
              "</style>\n",
              "<table border=\"1\" class=\"dataframe\">\n",
              "  <thead>\n",
              "    <tr style=\"text-align: right;\">\n",
              "      <th></th>\n",
              "      <th>userID</th>\n",
              "      <th>itemID</th>\n",
              "      <th>movie_title</th>\n",
              "      <th>prediction</th>\n",
              "    </tr>\n",
              "  </thead>\n",
              "  <tbody>\n",
              "    <tr>\n",
              "      <th>0</th>\n",
              "      <td>1</td>\n",
              "      <td>100</td>\n",
              "      <td>Fargo (1996)</td>\n",
              "      <td>0.946887</td>\n",
              "    </tr>\n",
              "    <tr>\n",
              "      <th>1</th>\n",
              "      <td>1</td>\n",
              "      <td>12</td>\n",
              "      <td>Usual Suspects, The (1995)</td>\n",
              "      <td>0.902238</td>\n",
              "    </tr>\n",
              "    <tr>\n",
              "      <th>2</th>\n",
              "      <td>1</td>\n",
              "      <td>475</td>\n",
              "      <td>Trainspotting (1996)</td>\n",
              "      <td>0.884382</td>\n",
              "    </tr>\n",
              "    <tr>\n",
              "      <th>3</th>\n",
              "      <td>1</td>\n",
              "      <td>405</td>\n",
              "      <td>Mission: Impossible (1996)</td>\n",
              "      <td>0.822719</td>\n",
              "    </tr>\n",
              "    <tr>\n",
              "      <th>4</th>\n",
              "      <td>1</td>\n",
              "      <td>273</td>\n",
              "      <td>Heat (1995)</td>\n",
              "      <td>0.815772</td>\n",
              "    </tr>\n",
              "    <tr>\n",
              "      <th>5</th>\n",
              "      <td>2</td>\n",
              "      <td>283</td>\n",
              "      <td>Emma (1996)</td>\n",
              "      <td>0.972814</td>\n",
              "    </tr>\n",
              "    <tr>\n",
              "      <th>6</th>\n",
              "      <td>2</td>\n",
              "      <td>124</td>\n",
              "      <td>Lone Star (1996)</td>\n",
              "      <td>0.958005</td>\n",
              "    </tr>\n",
              "    <tr>\n",
              "      <th>7</th>\n",
              "      <td>2</td>\n",
              "      <td>9</td>\n",
              "      <td>Dead Man Walking (1995)</td>\n",
              "      <td>0.953126</td>\n",
              "    </tr>\n",
              "    <tr>\n",
              "      <th>8</th>\n",
              "      <td>2</td>\n",
              "      <td>15</td>\n",
              "      <td>Mr. Holland's Opus (1995)</td>\n",
              "      <td>0.952300</td>\n",
              "    </tr>\n",
              "    <tr>\n",
              "      <th>9</th>\n",
              "      <td>2</td>\n",
              "      <td>137</td>\n",
              "      <td>Big Night (1996)</td>\n",
              "      <td>0.950962</td>\n",
              "    </tr>\n",
              "    <tr>\n",
              "      <th>10</th>\n",
              "      <td>3</td>\n",
              "      <td>327</td>\n",
              "      <td>Cop Land (1997)</td>\n",
              "      <td>0.967462</td>\n",
              "    </tr>\n",
              "    <tr>\n",
              "      <th>11</th>\n",
              "      <td>3</td>\n",
              "      <td>881</td>\n",
              "      <td>Money Talks (1997)</td>\n",
              "      <td>0.954577</td>\n",
              "    </tr>\n",
              "    <tr>\n",
              "      <th>12</th>\n",
              "      <td>3</td>\n",
              "      <td>313</td>\n",
              "      <td>Titanic (1997)</td>\n",
              "      <td>0.951325</td>\n",
              "    </tr>\n",
              "    <tr>\n",
              "      <th>13</th>\n",
              "      <td>3</td>\n",
              "      <td>876</td>\n",
              "      <td>Money Talks (1997)</td>\n",
              "      <td>0.949731</td>\n",
              "    </tr>\n",
              "    <tr>\n",
              "      <th>14</th>\n",
              "      <td>3</td>\n",
              "      <td>286</td>\n",
              "      <td>English Patient, The (1996)</td>\n",
              "      <td>0.943487</td>\n",
              "    </tr>\n",
              "    <tr>\n",
              "      <th>15</th>\n",
              "      <td>4</td>\n",
              "      <td>294</td>\n",
              "      <td>Liar Liar (1997)</td>\n",
              "      <td>0.945958</td>\n",
              "    </tr>\n",
              "    <tr>\n",
              "      <th>16</th>\n",
              "      <td>4</td>\n",
              "      <td>313</td>\n",
              "      <td>Titanic (1997)</td>\n",
              "      <td>0.944602</td>\n",
              "    </tr>\n",
              "    <tr>\n",
              "      <th>17</th>\n",
              "      <td>4</td>\n",
              "      <td>688</td>\n",
              "      <td>Leave It to Beaver (1997)</td>\n",
              "      <td>0.923223</td>\n",
              "    </tr>\n",
              "    <tr>\n",
              "      <th>18</th>\n",
              "      <td>4</td>\n",
              "      <td>306</td>\n",
              "      <td>Mrs. Brown (Her Majesty, Mrs. Brown) (1997)</td>\n",
              "      <td>0.919174</td>\n",
              "    </tr>\n",
              "    <tr>\n",
              "      <th>19</th>\n",
              "      <td>4</td>\n",
              "      <td>286</td>\n",
              "      <td>English Patient, The (1996)</td>\n",
              "      <td>0.917307</td>\n",
              "    </tr>\n",
              "    <tr>\n",
              "      <th>20</th>\n",
              "      <td>5</td>\n",
              "      <td>161</td>\n",
              "      <td>Top Gun (1986)</td>\n",
              "      <td>0.929577</td>\n",
              "    </tr>\n",
              "    <tr>\n",
              "      <th>21</th>\n",
              "      <td>5</td>\n",
              "      <td>96</td>\n",
              "      <td>Terminator 2: Judgment Day (1991)</td>\n",
              "      <td>0.926126</td>\n",
              "    </tr>\n",
              "    <tr>\n",
              "      <th>22</th>\n",
              "      <td>5</td>\n",
              "      <td>202</td>\n",
              "      <td>Groundhog Day (1993)</td>\n",
              "      <td>0.904399</td>\n",
              "    </tr>\n",
              "    <tr>\n",
              "      <th>23</th>\n",
              "      <td>5</td>\n",
              "      <td>195</td>\n",
              "      <td>Terminator, The (1984)</td>\n",
              "      <td>0.903663</td>\n",
              "    </tr>\n",
              "    <tr>\n",
              "      <th>24</th>\n",
              "      <td>5</td>\n",
              "      <td>82</td>\n",
              "      <td>Jurassic Park (1993)</td>\n",
              "      <td>0.900961</td>\n",
              "    </tr>\n",
              "  </tbody>\n",
              "</table>\n",
              "</div>"
            ],
            "text/plain": [
              "    userID  itemID                                  movie_title  prediction\n",
              "0        1     100                                 Fargo (1996)    0.946887\n",
              "1        1      12                   Usual Suspects, The (1995)    0.902238\n",
              "2        1     475                         Trainspotting (1996)    0.884382\n",
              "3        1     405                   Mission: Impossible (1996)    0.822719\n",
              "4        1     273                                  Heat (1995)    0.815772\n",
              "5        2     283                                  Emma (1996)    0.972814\n",
              "6        2     124                             Lone Star (1996)    0.958005\n",
              "7        2       9                      Dead Man Walking (1995)    0.953126\n",
              "8        2      15                    Mr. Holland's Opus (1995)    0.952300\n",
              "9        2     137                             Big Night (1996)    0.950962\n",
              "10       3     327                              Cop Land (1997)    0.967462\n",
              "11       3     881                           Money Talks (1997)    0.954577\n",
              "12       3     313                               Titanic (1997)    0.951325\n",
              "13       3     876                           Money Talks (1997)    0.949731\n",
              "14       3     286                  English Patient, The (1996)    0.943487\n",
              "15       4     294                             Liar Liar (1997)    0.945958\n",
              "16       4     313                               Titanic (1997)    0.944602\n",
              "17       4     688                    Leave It to Beaver (1997)    0.923223\n",
              "18       4     306  Mrs. Brown (Her Majesty, Mrs. Brown) (1997)    0.919174\n",
              "19       4     286                  English Patient, The (1996)    0.917307\n",
              "20       5     161                               Top Gun (1986)    0.929577\n",
              "21       5      96            Terminator 2: Judgment Day (1991)    0.926126\n",
              "22       5     202                         Groundhog Day (1993)    0.904399\n",
              "23       5     195                       Terminator, The (1984)    0.903663\n",
              "24       5      82                         Jurassic Park (1993)    0.900961"
            ]
          },
          "metadata": {},
          "execution_count": 55
        }
      ]
    },
    {
      "cell_type": "markdown",
      "metadata": {
        "id": "4YI8rZtbJXVJ"
      },
      "source": [
        "## Batch Size = 2048"
      ]
    },
    {
      "cell_type": "code",
      "metadata": {
        "id": "2BVQkzwOHFzM"
      },
      "source": [
        "TOP_K = 10\n",
        "BATCH_SIZE = 2048"
      ],
      "execution_count": null,
      "outputs": []
    },
    {
      "cell_type": "code",
      "metadata": {
        "id": "8FdeAXhnL1ln"
      },
      "source": [
        "from recommenders.models.ncf.ncf_singlenode import NCF"
      ],
      "execution_count": null,
      "outputs": []
    },
    {
      "cell_type": "code",
      "metadata": {
        "id": "XZMVzowjJmA6"
      },
      "source": [
        "model = NCF (\n",
        "    n_users=data.n_users, \n",
        "    n_items=data.n_items,\n",
        "    model_type=\"NeuMF\",\n",
        "    n_factors=4,\n",
        "    layer_sizes=[16,8,4],\n",
        "    n_epochs=EPOCHS,\n",
        "    batch_size=BATCH_SIZE,\n",
        "    learning_rate=1e-3,\n",
        "    seed=SEED\n",
        ")"
      ],
      "execution_count": null,
      "outputs": []
    },
    {
      "cell_type": "code",
      "metadata": {
        "colab": {
          "base_uri": "https://localhost:8080/"
        },
        "id": "JAjhj2uQJmA6",
        "outputId": "1d9c0d47-6133-4c5e-8c97-70766a4d9bd1"
      },
      "source": [
        "with Timer() as train_time:\n",
        "    model.fit(data)\n",
        "\n",
        "print(\"Took {} seconds for training.\".format(train_time))"
      ],
      "execution_count": null,
      "outputs": [
        {
          "output_type": "stream",
          "name": "stdout",
          "text": [
            "Took 150.2523 seconds for training.\n"
          ]
        }
      ]
    },
    {
      "cell_type": "code",
      "metadata": {
        "colab": {
          "base_uri": "https://localhost:8080/"
        },
        "id": "7Ad9pLYyJmA6",
        "outputId": "fc182f7d-e9be-4ed0-bd24-fb8f100e273e"
      },
      "source": [
        "with Timer() as test_time:\n",
        "    users, items, preds = [], [], []\n",
        "    item = list(train.itemID.unique())\n",
        "    for user in train.userID.unique():\n",
        "        user = [user] * len(item) \n",
        "        users.extend(user)\n",
        "        items.extend(item)\n",
        "        preds.extend(list(model.predict(user, item, is_list=True)))\n",
        "\n",
        "    all_predictions = pd.DataFrame(data={\"userID\": users, \"itemID\":items, \"prediction\":preds})\n",
        "\n",
        "    merged = pd.merge(train, all_predictions, on=[\"userID\", \"itemID\"], how=\"outer\")\n",
        "    all_predictions = merged[merged.rating.isnull()].drop('rating', axis=1)\n",
        "    all_predictions = all_predictions.drop('timestamp', axis=1)\n",
        "\n",
        "print(\"Took {} seconds for prediction.\".format(test_time))"
      ],
      "execution_count": null,
      "outputs": [
        {
          "output_type": "stream",
          "name": "stdout",
          "text": [
            "Took 3.3340 seconds for prediction.\n"
          ]
        }
      ]
    },
    {
      "cell_type": "code",
      "metadata": {
        "colab": {
          "base_uri": "https://localhost:8080/"
        },
        "id": "iSA-mcdQN9w7",
        "outputId": "ca4dae92-ea49-41a7-c007-6f34219a0535"
      },
      "source": [
        "eval_map = map_at_k(test, all_predictions, col_prediction='prediction', k=TOP_K)\n",
        "eval_ndcg = ndcg_at_k(test, all_predictions, col_prediction='prediction', k=TOP_K)\n",
        "eval_precision = precision_at_k(test, all_predictions, col_prediction='prediction', k=TOP_K)\n",
        "eval_recall = recall_at_k(test, all_predictions, col_prediction='prediction', k=TOP_K)\n",
        "\n",
        "print(\"MAP:\\t%f\" % eval_map,\n",
        "      \"NDCG:\\t%f\" % eval_ndcg,\n",
        "      \"Precision@K:\\t%f\" % eval_precision,\n",
        "      \"Recall@K:\\t%f\" % eval_recall, sep='\\n')"
      ],
      "execution_count": null,
      "outputs": [
        {
          "output_type": "stream",
          "name": "stdout",
          "text": [
            "MAP:\t0.048676\n",
            "NDCG:\t0.196176\n",
            "Precision@K:\t0.172428\n",
            "Recall@K:\t0.098011\n"
          ]
        }
      ]
    },
    {
      "cell_type": "code",
      "metadata": {
        "id": "xu938uyWN9w8"
      },
      "source": [
        "df_sorted_batch_size_2048 = recommend_k_items(all_predictions, top_k=TOP_K)"
      ],
      "execution_count": null,
      "outputs": []
    },
    {
      "cell_type": "code",
      "metadata": {
        "colab": {
          "base_uri": "https://localhost:8080/",
          "height": 676
        },
        "id": "SRETKvynN9w8",
        "outputId": "7a75b9f6-2b5a-4e6f-8ee4-7a94d775e0cf"
      },
      "source": [
        "df_sorted_batch_size_2048.head(20)"
      ],
      "execution_count": null,
      "outputs": [
        {
          "output_type": "execute_result",
          "data": {
            "text/html": [
              "<div>\n",
              "<style scoped>\n",
              "    .dataframe tbody tr th:only-of-type {\n",
              "        vertical-align: middle;\n",
              "    }\n",
              "\n",
              "    .dataframe tbody tr th {\n",
              "        vertical-align: top;\n",
              "    }\n",
              "\n",
              "    .dataframe thead th {\n",
              "        text-align: right;\n",
              "    }\n",
              "</style>\n",
              "<table border=\"1\" class=\"dataframe\">\n",
              "  <thead>\n",
              "    <tr style=\"text-align: right;\">\n",
              "      <th></th>\n",
              "      <th>userID</th>\n",
              "      <th>itemID</th>\n",
              "      <th>movie_title</th>\n",
              "      <th>prediction</th>\n",
              "    </tr>\n",
              "  </thead>\n",
              "  <tbody>\n",
              "    <tr>\n",
              "      <th>0</th>\n",
              "      <td>1</td>\n",
              "      <td>100</td>\n",
              "      <td>Fargo (1996)</td>\n",
              "      <td>0.902827</td>\n",
              "    </tr>\n",
              "    <tr>\n",
              "      <th>1</th>\n",
              "      <td>1</td>\n",
              "      <td>423</td>\n",
              "      <td>E.T. the Extra-Terrestrial (1982)</td>\n",
              "      <td>0.857376</td>\n",
              "    </tr>\n",
              "    <tr>\n",
              "      <th>2</th>\n",
              "      <td>1</td>\n",
              "      <td>88</td>\n",
              "      <td>Sleepless in Seattle (1993)</td>\n",
              "      <td>0.843532</td>\n",
              "    </tr>\n",
              "    <tr>\n",
              "      <th>3</th>\n",
              "      <td>1</td>\n",
              "      <td>433</td>\n",
              "      <td>Heathers (1989)</td>\n",
              "      <td>0.814742</td>\n",
              "    </tr>\n",
              "    <tr>\n",
              "      <th>4</th>\n",
              "      <td>1</td>\n",
              "      <td>12</td>\n",
              "      <td>Usual Suspects, The (1995)</td>\n",
              "      <td>0.797866</td>\n",
              "    </tr>\n",
              "    <tr>\n",
              "      <th>5</th>\n",
              "      <td>1</td>\n",
              "      <td>655</td>\n",
              "      <td>Stand by Me (1986)</td>\n",
              "      <td>0.797310</td>\n",
              "    </tr>\n",
              "    <tr>\n",
              "      <th>6</th>\n",
              "      <td>1</td>\n",
              "      <td>367</td>\n",
              "      <td>Clueless (1995)</td>\n",
              "      <td>0.789017</td>\n",
              "    </tr>\n",
              "    <tr>\n",
              "      <th>7</th>\n",
              "      <td>1</td>\n",
              "      <td>451</td>\n",
              "      <td>Grease (1978)</td>\n",
              "      <td>0.787894</td>\n",
              "    </tr>\n",
              "    <tr>\n",
              "      <th>8</th>\n",
              "      <td>1</td>\n",
              "      <td>496</td>\n",
              "      <td>It's a Wonderful Life (1946)</td>\n",
              "      <td>0.777362</td>\n",
              "    </tr>\n",
              "    <tr>\n",
              "      <th>9</th>\n",
              "      <td>1</td>\n",
              "      <td>403</td>\n",
              "      <td>Batman (1989)</td>\n",
              "      <td>0.775711</td>\n",
              "    </tr>\n",
              "    <tr>\n",
              "      <th>10</th>\n",
              "      <td>2</td>\n",
              "      <td>124</td>\n",
              "      <td>Lone Star (1996)</td>\n",
              "      <td>0.918871</td>\n",
              "    </tr>\n",
              "    <tr>\n",
              "      <th>11</th>\n",
              "      <td>2</td>\n",
              "      <td>137</td>\n",
              "      <td>Big Night (1996)</td>\n",
              "      <td>0.911188</td>\n",
              "    </tr>\n",
              "    <tr>\n",
              "      <th>12</th>\n",
              "      <td>2</td>\n",
              "      <td>475</td>\n",
              "      <td>Trainspotting (1996)</td>\n",
              "      <td>0.904346</td>\n",
              "    </tr>\n",
              "    <tr>\n",
              "      <th>13</th>\n",
              "      <td>2</td>\n",
              "      <td>9</td>\n",
              "      <td>Dead Man Walking (1995)</td>\n",
              "      <td>0.898861</td>\n",
              "    </tr>\n",
              "    <tr>\n",
              "      <th>14</th>\n",
              "      <td>2</td>\n",
              "      <td>7</td>\n",
              "      <td>Twelve Monkeys (1995)</td>\n",
              "      <td>0.893659</td>\n",
              "    </tr>\n",
              "    <tr>\n",
              "      <th>15</th>\n",
              "      <td>2</td>\n",
              "      <td>129</td>\n",
              "      <td>Bound (1996)</td>\n",
              "      <td>0.888808</td>\n",
              "    </tr>\n",
              "    <tr>\n",
              "      <th>16</th>\n",
              "      <td>2</td>\n",
              "      <td>300</td>\n",
              "      <td>Air Force One (1997)</td>\n",
              "      <td>0.882881</td>\n",
              "    </tr>\n",
              "    <tr>\n",
              "      <th>17</th>\n",
              "      <td>2</td>\n",
              "      <td>289</td>\n",
              "      <td>Evita (1996)</td>\n",
              "      <td>0.874375</td>\n",
              "    </tr>\n",
              "    <tr>\n",
              "      <th>18</th>\n",
              "      <td>2</td>\n",
              "      <td>319</td>\n",
              "      <td>Everyone Says I Love You (1996)</td>\n",
              "      <td>0.855686</td>\n",
              "    </tr>\n",
              "    <tr>\n",
              "      <th>19</th>\n",
              "      <td>2</td>\n",
              "      <td>744</td>\n",
              "      <td>Michael Collins (1996)</td>\n",
              "      <td>0.830607</td>\n",
              "    </tr>\n",
              "  </tbody>\n",
              "</table>\n",
              "</div>"
            ],
            "text/plain": [
              "    userID  itemID                        movie_title  prediction\n",
              "0        1     100                       Fargo (1996)    0.902827\n",
              "1        1     423  E.T. the Extra-Terrestrial (1982)    0.857376\n",
              "2        1      88        Sleepless in Seattle (1993)    0.843532\n",
              "3        1     433                    Heathers (1989)    0.814742\n",
              "4        1      12         Usual Suspects, The (1995)    0.797866\n",
              "5        1     655                 Stand by Me (1986)    0.797310\n",
              "6        1     367                    Clueless (1995)    0.789017\n",
              "7        1     451                      Grease (1978)    0.787894\n",
              "8        1     496       It's a Wonderful Life (1946)    0.777362\n",
              "9        1     403                      Batman (1989)    0.775711\n",
              "10       2     124                   Lone Star (1996)    0.918871\n",
              "11       2     137                   Big Night (1996)    0.911188\n",
              "12       2     475               Trainspotting (1996)    0.904346\n",
              "13       2       9            Dead Man Walking (1995)    0.898861\n",
              "14       2       7              Twelve Monkeys (1995)    0.893659\n",
              "15       2     129                       Bound (1996)    0.888808\n",
              "16       2     300               Air Force One (1997)    0.882881\n",
              "17       2     289                       Evita (1996)    0.874375\n",
              "18       2     319    Everyone Says I Love You (1996)    0.855686\n",
              "19       2     744             Michael Collins (1996)    0.830607"
            ]
          },
          "metadata": {},
          "execution_count": 70
        }
      ]
    },
    {
      "cell_type": "markdown",
      "metadata": {
        "id": "AuSq-UKVOQAz"
      },
      "source": [
        "## Batch Size = 512"
      ]
    },
    {
      "cell_type": "code",
      "metadata": {
        "id": "5JDOYIA7OQA0"
      },
      "source": [
        "TOP_K = 10\n",
        "BATCH_SIZE = 512"
      ],
      "execution_count": null,
      "outputs": []
    },
    {
      "cell_type": "code",
      "metadata": {
        "id": "Eei4wvx6OQA0"
      },
      "source": [
        "model = NCF (\n",
        "    n_users=data.n_users, \n",
        "    n_items=data.n_items,\n",
        "    model_type=\"NeuMF\",\n",
        "    n_factors=4,\n",
        "    layer_sizes=[16,8,4],\n",
        "    n_epochs=EPOCHS,\n",
        "    batch_size=BATCH_SIZE,\n",
        "    learning_rate=1e-3,\n",
        "    seed=SEED\n",
        ")"
      ],
      "execution_count": null,
      "outputs": []
    },
    {
      "cell_type": "code",
      "metadata": {
        "colab": {
          "base_uri": "https://localhost:8080/"
        },
        "id": "7BpHWV8COQA0",
        "outputId": "4d892013-2250-4ff6-a764-35f5c0f461e4"
      },
      "source": [
        "with Timer() as train_time:\n",
        "    model.fit(data)\n",
        "\n",
        "print(\"Took {} seconds for training.\".format(train_time))"
      ],
      "execution_count": null,
      "outputs": [
        {
          "output_type": "stream",
          "name": "stdout",
          "text": [
            "Took 218.6817 seconds for training.\n"
          ]
        }
      ]
    },
    {
      "cell_type": "code",
      "metadata": {
        "colab": {
          "base_uri": "https://localhost:8080/"
        },
        "id": "NEZ2je6iOQA0",
        "outputId": "5fd0074e-e239-4131-98d0-896d2c685275"
      },
      "source": [
        "with Timer() as test_time:\n",
        "    users, items, preds = [], [], []\n",
        "    item = list(train.itemID.unique())\n",
        "    for user in train.userID.unique():\n",
        "        user = [user] * len(item) \n",
        "        users.extend(user)\n",
        "        items.extend(item)\n",
        "        preds.extend(list(model.predict(user, item, is_list=True)))\n",
        "\n",
        "    all_predictions = pd.DataFrame(data={\"userID\": users, \"itemID\":items, \"prediction\":preds})\n",
        "\n",
        "    merged = pd.merge(train, all_predictions, on=[\"userID\", \"itemID\"], how=\"outer\")\n",
        "    all_predictions = merged[merged.rating.isnull()].drop('rating', axis=1)\n",
        "    all_predictions = all_predictions.drop('timestamp', axis=1)\n",
        "\n",
        "print(\"Took {} seconds for prediction.\".format(test_time))"
      ],
      "execution_count": null,
      "outputs": [
        {
          "output_type": "stream",
          "name": "stdout",
          "text": [
            "Took 3.4520 seconds for prediction.\n"
          ]
        }
      ]
    },
    {
      "cell_type": "code",
      "metadata": {
        "colab": {
          "base_uri": "https://localhost:8080/"
        },
        "id": "KtBoYIlgOQA0",
        "outputId": "ef4aadf8-585a-4a81-b140-c5d9a36324f5"
      },
      "source": [
        "eval_map = map_at_k(test, all_predictions, col_prediction='prediction', k=TOP_K)\n",
        "eval_ndcg = ndcg_at_k(test, all_predictions, col_prediction='prediction', k=TOP_K)\n",
        "eval_precision = precision_at_k(test, all_predictions, col_prediction='prediction', k=TOP_K)\n",
        "eval_recall = recall_at_k(test, all_predictions, col_prediction='prediction', k=TOP_K)\n",
        "\n",
        "print(\"MAP:\\t%f\" % eval_map,\n",
        "      \"NDCG:\\t%f\" % eval_ndcg,\n",
        "      \"Precision@K:\\t%f\" % eval_precision,\n",
        "      \"Recall@K:\\t%f\" % eval_recall, sep='\\n')"
      ],
      "execution_count": null,
      "outputs": [
        {
          "output_type": "stream",
          "name": "stdout",
          "text": [
            "MAP:\t0.051295\n",
            "NDCG:\t0.205208\n",
            "Precision@K:\t0.183139\n",
            "Recall@K:\t0.103683\n"
          ]
        }
      ]
    },
    {
      "cell_type": "code",
      "metadata": {
        "id": "o1Y4zzUJOQA0"
      },
      "source": [
        "df_sorted_batch_size_512 = recommend_k_items(all_predictions, top_k=TOP_K)"
      ],
      "execution_count": null,
      "outputs": []
    },
    {
      "cell_type": "code",
      "metadata": {
        "colab": {
          "base_uri": "https://localhost:8080/",
          "height": 676
        },
        "id": "Q5IWyVyUOQA0",
        "outputId": "c9416762-d196-4505-de7c-715565b2e9b5"
      },
      "source": [
        "df_sorted_batch_size_512.head(20)"
      ],
      "execution_count": null,
      "outputs": [
        {
          "output_type": "execute_result",
          "data": {
            "text/html": [
              "<div>\n",
              "<style scoped>\n",
              "    .dataframe tbody tr th:only-of-type {\n",
              "        vertical-align: middle;\n",
              "    }\n",
              "\n",
              "    .dataframe tbody tr th {\n",
              "        vertical-align: top;\n",
              "    }\n",
              "\n",
              "    .dataframe thead th {\n",
              "        text-align: right;\n",
              "    }\n",
              "</style>\n",
              "<table border=\"1\" class=\"dataframe\">\n",
              "  <thead>\n",
              "    <tr style=\"text-align: right;\">\n",
              "      <th></th>\n",
              "      <th>userID</th>\n",
              "      <th>itemID</th>\n",
              "      <th>movie_title</th>\n",
              "      <th>prediction</th>\n",
              "    </tr>\n",
              "  </thead>\n",
              "  <tbody>\n",
              "    <tr>\n",
              "      <th>0</th>\n",
              "      <td>1</td>\n",
              "      <td>100</td>\n",
              "      <td>Fargo (1996)</td>\n",
              "      <td>0.904760</td>\n",
              "    </tr>\n",
              "    <tr>\n",
              "      <th>1</th>\n",
              "      <td>1</td>\n",
              "      <td>12</td>\n",
              "      <td>Usual Suspects, The (1995)</td>\n",
              "      <td>0.814309</td>\n",
              "    </tr>\n",
              "    <tr>\n",
              "      <th>2</th>\n",
              "      <td>1</td>\n",
              "      <td>210</td>\n",
              "      <td>Indiana Jones and the Last Crusade (1989)</td>\n",
              "      <td>0.783533</td>\n",
              "    </tr>\n",
              "    <tr>\n",
              "      <th>3</th>\n",
              "      <td>1</td>\n",
              "      <td>222</td>\n",
              "      <td>Star Trek: First Contact (1996)</td>\n",
              "      <td>0.757020</td>\n",
              "    </tr>\n",
              "    <tr>\n",
              "      <th>4</th>\n",
              "      <td>1</td>\n",
              "      <td>405</td>\n",
              "      <td>Mission: Impossible (1996)</td>\n",
              "      <td>0.742362</td>\n",
              "    </tr>\n",
              "    <tr>\n",
              "      <th>5</th>\n",
              "      <td>1</td>\n",
              "      <td>568</td>\n",
              "      <td>Speed (1994)</td>\n",
              "      <td>0.739283</td>\n",
              "    </tr>\n",
              "    <tr>\n",
              "      <th>6</th>\n",
              "      <td>1</td>\n",
              "      <td>318</td>\n",
              "      <td>Schindler's List (1993)</td>\n",
              "      <td>0.728522</td>\n",
              "    </tr>\n",
              "    <tr>\n",
              "      <th>7</th>\n",
              "      <td>1</td>\n",
              "      <td>496</td>\n",
              "      <td>It's a Wonderful Life (1946)</td>\n",
              "      <td>0.720418</td>\n",
              "    </tr>\n",
              "    <tr>\n",
              "      <th>8</th>\n",
              "      <td>1</td>\n",
              "      <td>357</td>\n",
              "      <td>One Flew Over the Cuckoo's Nest (1975)</td>\n",
              "      <td>0.716470</td>\n",
              "    </tr>\n",
              "    <tr>\n",
              "      <th>9</th>\n",
              "      <td>1</td>\n",
              "      <td>154</td>\n",
              "      <td>Monty Python's Life of Brian (1979)</td>\n",
              "      <td>0.716328</td>\n",
              "    </tr>\n",
              "    <tr>\n",
              "      <th>10</th>\n",
              "      <td>2</td>\n",
              "      <td>300</td>\n",
              "      <td>Air Force One (1997)</td>\n",
              "      <td>0.932346</td>\n",
              "    </tr>\n",
              "    <tr>\n",
              "      <th>11</th>\n",
              "      <td>2</td>\n",
              "      <td>744</td>\n",
              "      <td>Michael Collins (1996)</td>\n",
              "      <td>0.917701</td>\n",
              "    </tr>\n",
              "    <tr>\n",
              "      <th>12</th>\n",
              "      <td>2</td>\n",
              "      <td>283</td>\n",
              "      <td>Emma (1996)</td>\n",
              "      <td>0.917448</td>\n",
              "    </tr>\n",
              "    <tr>\n",
              "      <th>13</th>\n",
              "      <td>2</td>\n",
              "      <td>289</td>\n",
              "      <td>Evita (1996)</td>\n",
              "      <td>0.909168</td>\n",
              "    </tr>\n",
              "    <tr>\n",
              "      <th>14</th>\n",
              "      <td>2</td>\n",
              "      <td>988</td>\n",
              "      <td>Beautician and the Beast, The (1997)</td>\n",
              "      <td>0.895954</td>\n",
              "    </tr>\n",
              "    <tr>\n",
              "      <th>15</th>\n",
              "      <td>2</td>\n",
              "      <td>874</td>\n",
              "      <td>Career Girls (1997)</td>\n",
              "      <td>0.879268</td>\n",
              "    </tr>\n",
              "    <tr>\n",
              "      <th>16</th>\n",
              "      <td>2</td>\n",
              "      <td>475</td>\n",
              "      <td>Trainspotting (1996)</td>\n",
              "      <td>0.874278</td>\n",
              "    </tr>\n",
              "    <tr>\n",
              "      <th>17</th>\n",
              "      <td>2</td>\n",
              "      <td>9</td>\n",
              "      <td>Dead Man Walking (1995)</td>\n",
              "      <td>0.869075</td>\n",
              "    </tr>\n",
              "    <tr>\n",
              "      <th>18</th>\n",
              "      <td>2</td>\n",
              "      <td>872</td>\n",
              "      <td>Love Jones (1997)</td>\n",
              "      <td>0.855548</td>\n",
              "    </tr>\n",
              "    <tr>\n",
              "      <th>19</th>\n",
              "      <td>2</td>\n",
              "      <td>748</td>\n",
              "      <td>Saint, The (1997)</td>\n",
              "      <td>0.839136</td>\n",
              "    </tr>\n",
              "  </tbody>\n",
              "</table>\n",
              "</div>"
            ],
            "text/plain": [
              "    userID  itemID                                movie_title  prediction\n",
              "0        1     100                               Fargo (1996)    0.904760\n",
              "1        1      12                 Usual Suspects, The (1995)    0.814309\n",
              "2        1     210  Indiana Jones and the Last Crusade (1989)    0.783533\n",
              "3        1     222            Star Trek: First Contact (1996)    0.757020\n",
              "4        1     405                 Mission: Impossible (1996)    0.742362\n",
              "5        1     568                               Speed (1994)    0.739283\n",
              "6        1     318                    Schindler's List (1993)    0.728522\n",
              "7        1     496               It's a Wonderful Life (1946)    0.720418\n",
              "8        1     357     One Flew Over the Cuckoo's Nest (1975)    0.716470\n",
              "9        1     154        Monty Python's Life of Brian (1979)    0.716328\n",
              "10       2     300                       Air Force One (1997)    0.932346\n",
              "11       2     744                     Michael Collins (1996)    0.917701\n",
              "12       2     283                                Emma (1996)    0.917448\n",
              "13       2     289                               Evita (1996)    0.909168\n",
              "14       2     988       Beautician and the Beast, The (1997)    0.895954\n",
              "15       2     874                        Career Girls (1997)    0.879268\n",
              "16       2     475                       Trainspotting (1996)    0.874278\n",
              "17       2       9                    Dead Man Walking (1995)    0.869075\n",
              "18       2     872                          Love Jones (1997)    0.855548\n",
              "19       2     748                          Saint, The (1997)    0.839136"
            ]
          },
          "metadata": {},
          "execution_count": 78
        }
      ]
    },
    {
      "cell_type": "markdown",
      "metadata": {
        "id": "lN1rHrn3UHVl"
      },
      "source": [
        "## Layer sizes= [32,16,8]"
      ]
    },
    {
      "cell_type": "code",
      "metadata": {
        "id": "37drjfD6UnqE"
      },
      "source": [
        "TOP_K = 10\n",
        "BATCH_SIZE = 1024\n",
        "LAYER_SIZES = [32,16,8]"
      ],
      "execution_count": null,
      "outputs": []
    },
    {
      "cell_type": "code",
      "metadata": {
        "id": "g12_PiMNUnqE"
      },
      "source": [
        "model = NCF (\n",
        "    n_users=data.n_users, \n",
        "    n_items=data.n_items,\n",
        "    model_type=\"NeuMF\",\n",
        "    n_factors=4,\n",
        "    layer_sizes=LAYER_SIZES,\n",
        "    n_epochs=EPOCHS,\n",
        "    batch_size=BATCH_SIZE,\n",
        "    learning_rate=1e-3,\n",
        "    seed=SEED\n",
        ")"
      ],
      "execution_count": null,
      "outputs": []
    },
    {
      "cell_type": "code",
      "metadata": {
        "colab": {
          "base_uri": "https://localhost:8080/"
        },
        "id": "kV-07A7eUnqE",
        "outputId": "f39ee0ac-c17d-4396-de6b-86c9e72cc6e8"
      },
      "source": [
        "with Timer() as train_time:\n",
        "    model.fit(data)\n",
        "\n",
        "print(\"Took {} seconds for training.\".format(train_time))"
      ],
      "execution_count": null,
      "outputs": [
        {
          "output_type": "stream",
          "name": "stdout",
          "text": [
            "Took 174.9608 seconds for training.\n"
          ]
        }
      ]
    },
    {
      "cell_type": "code",
      "metadata": {
        "colab": {
          "base_uri": "https://localhost:8080/"
        },
        "id": "KVY_S65SUnqE",
        "outputId": "25046731-1499-454d-a613-cf080fc34a04"
      },
      "source": [
        "with Timer() as test_time:\n",
        "    users, items, preds = [], [], []\n",
        "    item = list(train.itemID.unique())\n",
        "    for user in train.userID.unique():\n",
        "        user = [user] * len(item) \n",
        "        users.extend(user)\n",
        "        items.extend(item)\n",
        "        preds.extend(list(model.predict(user, item, is_list=True)))\n",
        "\n",
        "    all_predictions = pd.DataFrame(data={\"userID\": users, \"itemID\":items, \"prediction\":preds})\n",
        "\n",
        "    merged = pd.merge(train, all_predictions, on=[\"userID\", \"itemID\"], how=\"outer\")\n",
        "    all_predictions = merged[merged.rating.isnull()].drop('rating', axis=1)\n",
        "    all_predictions = all_predictions.drop('timestamp', axis=1)\n",
        "\n",
        "print(\"Took {} seconds for prediction.\".format(test_time))"
      ],
      "execution_count": null,
      "outputs": [
        {
          "output_type": "stream",
          "name": "stdout",
          "text": [
            "Took 3.3413 seconds for prediction.\n"
          ]
        }
      ]
    },
    {
      "cell_type": "code",
      "metadata": {
        "colab": {
          "base_uri": "https://localhost:8080/"
        },
        "id": "x5uMlBMHUnqE",
        "outputId": "8516051d-d59e-4f51-8e93-c1961dd703d1"
      },
      "source": [
        "eval_map = map_at_k(test, all_predictions, col_prediction='prediction', k=TOP_K)\n",
        "eval_ndcg = ndcg_at_k(test, all_predictions, col_prediction='prediction', k=TOP_K)\n",
        "eval_precision = precision_at_k(test, all_predictions, col_prediction='prediction', k=TOP_K)\n",
        "eval_recall = recall_at_k(test, all_predictions, col_prediction='prediction', k=TOP_K)\n",
        "\n",
        "print(\"MAP:\\t%f\" % eval_map,\n",
        "      \"NDCG:\\t%f\" % eval_ndcg,\n",
        "      \"Precision@K:\\t%f\" % eval_precision,\n",
        "      \"Recall@K:\\t%f\" % eval_recall, sep='\\n')"
      ],
      "execution_count": null,
      "outputs": [
        {
          "output_type": "stream",
          "name": "stdout",
          "text": [
            "MAP:\t0.049375\n",
            "NDCG:\t0.198526\n",
            "Precision@K:\t0.177413\n",
            "Recall@K:\t0.103253\n"
          ]
        }
      ]
    },
    {
      "cell_type": "code",
      "metadata": {
        "id": "VtbnIhOJUnqE"
      },
      "source": [
        "df_sorted_layer_sizes_2x = recommend_k_items(all_predictions, top_k=TOP_K)"
      ],
      "execution_count": null,
      "outputs": []
    },
    {
      "cell_type": "markdown",
      "metadata": {
        "id": "JJ0Ai-nYVn0p"
      },
      "source": [
        "## Layer sizes= [8,4,2]"
      ]
    },
    {
      "cell_type": "code",
      "metadata": {
        "id": "QywmOhb3Vn0p"
      },
      "source": [
        "TOP_K = 10\n",
        "BATCH_SIZE = 1024\n",
        "LAYER_SIZES = [8,4,2]"
      ],
      "execution_count": null,
      "outputs": []
    },
    {
      "cell_type": "code",
      "metadata": {
        "id": "eF2uF1d-Vn0p"
      },
      "source": [
        "model = NCF (\n",
        "    n_users=data.n_users, \n",
        "    n_items=data.n_items,\n",
        "    model_type=\"NeuMF\",\n",
        "    n_factors=4,\n",
        "    layer_sizes=LAYER_SIZES,\n",
        "    n_epochs=EPOCHS,\n",
        "    batch_size=BATCH_SIZE,\n",
        "    learning_rate=1e-3,\n",
        "    seed=SEED\n",
        ")"
      ],
      "execution_count": null,
      "outputs": []
    },
    {
      "cell_type": "code",
      "metadata": {
        "colab": {
          "base_uri": "https://localhost:8080/"
        },
        "id": "Ztr2OD89Vn0p",
        "outputId": "58265287-bc70-4f6d-f92b-52285522f0a9"
      },
      "source": [
        "with Timer() as train_time:\n",
        "    model.fit(data)\n",
        "\n",
        "print(\"Took {} seconds for training.\".format(train_time))"
      ],
      "execution_count": null,
      "outputs": [
        {
          "output_type": "stream",
          "name": "stdout",
          "text": [
            "Took 174.7787 seconds for training.\n"
          ]
        }
      ]
    },
    {
      "cell_type": "code",
      "metadata": {
        "colab": {
          "base_uri": "https://localhost:8080/"
        },
        "id": "5J_7VdRgVn0p",
        "outputId": "e09f7a40-1173-4e56-f712-7918c37f9d07"
      },
      "source": [
        "with Timer() as test_time:\n",
        "    users, items, preds = [], [], []\n",
        "    item = list(train.itemID.unique())\n",
        "    for user in train.userID.unique():\n",
        "        user = [user] * len(item) \n",
        "        users.extend(user)\n",
        "        items.extend(item)\n",
        "        preds.extend(list(model.predict(user, item, is_list=True)))\n",
        "\n",
        "    all_predictions = pd.DataFrame(data={\"userID\": users, \"itemID\":items, \"prediction\":preds})\n",
        "\n",
        "    merged = pd.merge(train, all_predictions, on=[\"userID\", \"itemID\"], how=\"outer\")\n",
        "    all_predictions = merged[merged.rating.isnull()].drop('rating', axis=1)\n",
        "    all_predictions = all_predictions.drop('timestamp', axis=1)\n",
        "\n",
        "print(\"Took {} seconds for prediction.\".format(test_time))"
      ],
      "execution_count": null,
      "outputs": [
        {
          "output_type": "stream",
          "name": "stdout",
          "text": [
            "Took 3.3051 seconds for prediction.\n"
          ]
        }
      ]
    },
    {
      "cell_type": "code",
      "metadata": {
        "colab": {
          "base_uri": "https://localhost:8080/"
        },
        "id": "NaKhJ6edVn0p",
        "outputId": "7871d317-3227-41a0-e849-0e00a0e6740d"
      },
      "source": [
        "eval_map = map_at_k(test, all_predictions, col_prediction='prediction', k=TOP_K)\n",
        "eval_ndcg = ndcg_at_k(test, all_predictions, col_prediction='prediction', k=TOP_K)\n",
        "eval_precision = precision_at_k(test, all_predictions, col_prediction='prediction', k=TOP_K)\n",
        "eval_recall = recall_at_k(test, all_predictions, col_prediction='prediction', k=TOP_K)\n",
        "\n",
        "print(\"MAP:\\t%f\" % eval_map,\n",
        "      \"NDCG:\\t%f\" % eval_ndcg,\n",
        "      \"Precision@K:\\t%f\" % eval_precision,\n",
        "      \"Recall@K:\\t%f\" % eval_recall, sep='\\n')"
      ],
      "execution_count": null,
      "outputs": [
        {
          "output_type": "stream",
          "name": "stdout",
          "text": [
            "MAP:\t0.046363\n",
            "NDCG:\t0.195142\n",
            "Precision@K:\t0.178579\n",
            "Recall@K:\t0.097783\n"
          ]
        }
      ]
    },
    {
      "cell_type": "code",
      "metadata": {
        "id": "dHJGJQtsVn0p"
      },
      "source": [
        "df_sorted_layer_sizes_half = recommend_k_items(all_predictions, top_k=TOP_K)"
      ],
      "execution_count": null,
      "outputs": []
    },
    {
      "cell_type": "code",
      "metadata": {
        "id": "AslCT0dIWEHJ"
      },
      "source": [],
      "execution_count": null,
      "outputs": []
    },
    {
      "cell_type": "markdown",
      "metadata": {
        "id": "XE08DaUyXai0"
      },
      "source": [
        "## Layer sizes= [32,16,8] - Custom setup (changed Epochs and LR)"
      ]
    },
    {
      "cell_type": "code",
      "metadata": {
        "id": "PC2d_-z6Xai0"
      },
      "source": [
        "TOP_K = 10\n",
        "BATCH_SIZE = 1024\n",
        "LAYER_SIZES = [32,16,8]\n",
        "EPOCHS=100\n",
        "LR = 5e-4"
      ],
      "execution_count": null,
      "outputs": []
    },
    {
      "cell_type": "code",
      "metadata": {
        "id": "Y3Ztsr2zXai0"
      },
      "source": [
        "model = NCF (\n",
        "    n_users=data.n_users, \n",
        "    n_items=data.n_items,\n",
        "    model_type=\"NeuMF\",\n",
        "    n_factors=4,\n",
        "    layer_sizes=LAYER_SIZES,\n",
        "    n_epochs=EPOCHS,\n",
        "    batch_size=BATCH_SIZE,\n",
        "    learning_rate=LR,\n",
        "    seed=SEED\n",
        ")"
      ],
      "execution_count": null,
      "outputs": []
    },
    {
      "cell_type": "code",
      "metadata": {
        "colab": {
          "base_uri": "https://localhost:8080/"
        },
        "id": "GKknJTBRXai1",
        "outputId": "ab2a878a-5070-4f2f-9cd5-00237684c65c"
      },
      "source": [
        "with Timer() as train_time:\n",
        "    model.fit(data)\n",
        "\n",
        "print(\"Took {} seconds for training.\".format(train_time))"
      ],
      "execution_count": null,
      "outputs": [
        {
          "output_type": "stream",
          "name": "stdout",
          "text": [
            "Took 350.2023 seconds for training.\n"
          ]
        }
      ]
    },
    {
      "cell_type": "code",
      "metadata": {
        "colab": {
          "base_uri": "https://localhost:8080/"
        },
        "id": "r1YLmrMtXai1",
        "outputId": "bdc1c102-18ed-40e1-b761-d40ee4da1e13"
      },
      "source": [
        "with Timer() as test_time:\n",
        "    users, items, preds = [], [], []\n",
        "    item = list(train.itemID.unique())\n",
        "    for user in train.userID.unique():\n",
        "        user = [user] * len(item) \n",
        "        users.extend(user)\n",
        "        items.extend(item)\n",
        "        preds.extend(list(model.predict(user, item, is_list=True)))\n",
        "\n",
        "    all_predictions = pd.DataFrame(data={\"userID\": users, \"itemID\":items, \"prediction\":preds})\n",
        "\n",
        "    merged = pd.merge(train, all_predictions, on=[\"userID\", \"itemID\"], how=\"outer\")\n",
        "    all_predictions = merged[merged.rating.isnull()].drop('rating', axis=1)\n",
        "    all_predictions = all_predictions.drop('timestamp', axis=1)\n",
        "\n",
        "print(\"Took {} seconds for prediction.\".format(test_time))"
      ],
      "execution_count": null,
      "outputs": [
        {
          "output_type": "stream",
          "name": "stdout",
          "text": [
            "Took 3.3214 seconds for prediction.\n"
          ]
        }
      ]
    },
    {
      "cell_type": "code",
      "metadata": {
        "colab": {
          "base_uri": "https://localhost:8080/"
        },
        "id": "88JgMIwrXai1",
        "outputId": "d070b539-681b-4bac-dfdc-876e30c1b5ff"
      },
      "source": [
        "eval_map = map_at_k(test, all_predictions, col_prediction='prediction', k=TOP_K)\n",
        "eval_ndcg = ndcg_at_k(test, all_predictions, col_prediction='prediction', k=TOP_K)\n",
        "eval_precision = precision_at_k(test, all_predictions, col_prediction='prediction', k=TOP_K)\n",
        "eval_recall = recall_at_k(test, all_predictions, col_prediction='prediction', k=TOP_K)\n",
        "\n",
        "print(\"MAP:\\t%f\" % eval_map,\n",
        "      \"NDCG:\\t%f\" % eval_ndcg,\n",
        "      \"Precision@K:\\t%f\" % eval_precision,\n",
        "      \"Recall@K:\\t%f\" % eval_recall, sep='\\n')"
      ],
      "execution_count": null,
      "outputs": [
        {
          "output_type": "stream",
          "name": "stdout",
          "text": [
            "MAP:\t0.046421\n",
            "NDCG:\t0.194284\n",
            "Precision@K:\t0.175398\n",
            "Recall@K:\t0.099244\n"
          ]
        }
      ]
    },
    {
      "cell_type": "code",
      "metadata": {
        "id": "wG1GhToJXai1"
      },
      "source": [],
      "execution_count": null,
      "outputs": []
    },
    {
      "cell_type": "code",
      "metadata": {
        "id": "Si7Rn9hxbH4x"
      },
      "source": [],
      "execution_count": null,
      "outputs": []
    },
    {
      "cell_type": "markdown",
      "metadata": {
        "id": "siBO0MC1bIMq"
      },
      "source": [
        "## Layer sizes - [64,32,16,8,4]"
      ]
    },
    {
      "cell_type": "code",
      "metadata": {
        "id": "U2RF2NrbbIMq"
      },
      "source": [
        "TOP_K = 10\n",
        "BATCH_SIZE = 1024\n",
        "LAYER_SIZES = [64,32,16,8,4]\n",
        "EPOCHS=100\n",
        "LR = 1e-3"
      ],
      "execution_count": null,
      "outputs": []
    },
    {
      "cell_type": "code",
      "metadata": {
        "id": "BGnkRIgKbIMr"
      },
      "source": [
        "model = NCF (\n",
        "    n_users=data.n_users, \n",
        "    n_items=data.n_items,\n",
        "    model_type=\"NeuMF\",\n",
        "    n_factors=4,\n",
        "    layer_sizes=LAYER_SIZES,\n",
        "    n_epochs=EPOCHS,\n",
        "    batch_size=BATCH_SIZE,\n",
        "    learning_rate=LR,\n",
        "    seed=SEED\n",
        ")"
      ],
      "execution_count": null,
      "outputs": []
    },
    {
      "cell_type": "code",
      "metadata": {
        "colab": {
          "base_uri": "https://localhost:8080/"
        },
        "id": "HWpn2swjbIMr",
        "outputId": "310627f7-0294-4a41-d7be-bc556fae4ca6"
      },
      "source": [
        "with Timer() as train_time:\n",
        "    model.fit(data)\n",
        "\n",
        "print(\"Took {} seconds for training.\".format(train_time))"
      ],
      "execution_count": null,
      "outputs": [
        {
          "output_type": "stream",
          "name": "stdout",
          "text": [
            "Took 353.6428 seconds for training.\n"
          ]
        }
      ]
    },
    {
      "cell_type": "code",
      "metadata": {
        "colab": {
          "base_uri": "https://localhost:8080/"
        },
        "id": "3nkotlFMbIMr",
        "outputId": "fff8baf4-4feb-49c2-a00d-43e883ae2563"
      },
      "source": [
        "with Timer() as test_time:\n",
        "    users, items, preds = [], [], []\n",
        "    item = list(train.itemID.unique())\n",
        "    for user in train.userID.unique():\n",
        "        user = [user] * len(item) \n",
        "        users.extend(user)\n",
        "        items.extend(item)\n",
        "        preds.extend(list(model.predict(user, item, is_list=True)))\n",
        "\n",
        "    all_predictions = pd.DataFrame(data={\"userID\": users, \"itemID\":items, \"prediction\":preds})\n",
        "\n",
        "    merged = pd.merge(train, all_predictions, on=[\"userID\", \"itemID\"], how=\"outer\")\n",
        "    all_predictions = merged[merged.rating.isnull()].drop('rating', axis=1)\n",
        "    all_predictions = all_predictions.drop('timestamp', axis=1)\n",
        "\n",
        "print(\"Took {} seconds for prediction.\".format(test_time))"
      ],
      "execution_count": null,
      "outputs": [
        {
          "output_type": "stream",
          "name": "stdout",
          "text": [
            "Took 3.3215 seconds for prediction.\n"
          ]
        }
      ]
    },
    {
      "cell_type": "code",
      "metadata": {
        "colab": {
          "base_uri": "https://localhost:8080/"
        },
        "id": "1c3rzRt6bIMr",
        "outputId": "7601a74b-3dbf-45b3-9980-2a141022e1af"
      },
      "source": [
        "eval_map = map_at_k(test, all_predictions, col_prediction='prediction', k=TOP_K)\n",
        "eval_ndcg = ndcg_at_k(test, all_predictions, col_prediction='prediction', k=TOP_K)\n",
        "eval_precision = precision_at_k(test, all_predictions, col_prediction='prediction', k=TOP_K)\n",
        "eval_recall = recall_at_k(test, all_predictions, col_prediction='prediction', k=TOP_K)\n",
        "\n",
        "print(\"MAP:\\t%f\" % eval_map,\n",
        "      \"NDCG:\\t%f\" % eval_ndcg,\n",
        "      \"Precision@K:\\t%f\" % eval_precision,\n",
        "      \"Recall@K:\\t%f\" % eval_recall, sep='\\n')"
      ],
      "execution_count": null,
      "outputs": [
        {
          "output_type": "stream",
          "name": "stdout",
          "text": [
            "MAP:\t0.037569\n",
            "NDCG:\t0.166569\n",
            "Precision@K:\t0.155143\n",
            "Recall@K:\t0.087315\n"
          ]
        }
      ]
    },
    {
      "cell_type": "code",
      "metadata": {
        "id": "94zh0QVaeEoI"
      },
      "source": [],
      "execution_count": null,
      "outputs": []
    },
    {
      "cell_type": "markdown",
      "metadata": {
        "id": "M6jSPEN9eEzk"
      },
      "source": [
        "## Number of Factors = 8"
      ]
    },
    {
      "cell_type": "code",
      "metadata": {
        "id": "KRgzX6AueEzk"
      },
      "source": [
        "TOP_K = 10\n",
        "BATCH_SIZE = 1024\n",
        "LAYER_SIZES = [32,16,8]\n",
        "EPOCHS=50\n",
        "LR = 5e-4\n",
        "N_FACTORS = 8"
      ],
      "execution_count": null,
      "outputs": []
    },
    {
      "cell_type": "code",
      "metadata": {
        "id": "igu3s-xOeEzk"
      },
      "source": [
        "model = NCF (\n",
        "    n_users=data.n_users, \n",
        "    n_items=data.n_items,\n",
        "    model_type=\"NeuMF\",\n",
        "    n_factors=N_FACTORS,\n",
        "    layer_sizes=LAYER_SIZES,\n",
        "    n_epochs=EPOCHS,\n",
        "    batch_size=BATCH_SIZE,\n",
        "    learning_rate=LR,\n",
        "    seed=SEED\n",
        ")"
      ],
      "execution_count": null,
      "outputs": []
    },
    {
      "cell_type": "code",
      "metadata": {
        "colab": {
          "base_uri": "https://localhost:8080/"
        },
        "id": "MvAHA7EaeEzk",
        "outputId": "a3d0a1c8-7a85-4706-b754-5c29bc2c9bef"
      },
      "source": [
        "with Timer() as train_time:\n",
        "    model.fit(data)\n",
        "\n",
        "print(\"Took {} seconds for training.\".format(train_time))"
      ],
      "execution_count": null,
      "outputs": [
        {
          "output_type": "stream",
          "name": "stdout",
          "text": [
            "Took 176.2697 seconds for training.\n"
          ]
        }
      ]
    },
    {
      "cell_type": "code",
      "metadata": {
        "colab": {
          "base_uri": "https://localhost:8080/"
        },
        "id": "fCnVbCmReEzk",
        "outputId": "2754e538-fb65-4c7a-b488-8a9c0fcdc01a"
      },
      "source": [
        "with Timer() as test_time:\n",
        "    users, items, preds = [], [], []\n",
        "    item = list(train.itemID.unique())\n",
        "    for user in train.userID.unique():\n",
        "        user = [user] * len(item) \n",
        "        users.extend(user)\n",
        "        items.extend(item)\n",
        "        preds.extend(list(model.predict(user, item, is_list=True)))\n",
        "\n",
        "    all_predictions = pd.DataFrame(data={\"userID\": users, \"itemID\":items, \"prediction\":preds})\n",
        "\n",
        "    merged = pd.merge(train, all_predictions, on=[\"userID\", \"itemID\"], how=\"outer\")\n",
        "    all_predictions = merged[merged.rating.isnull()].drop('rating', axis=1)\n",
        "    all_predictions = all_predictions.drop('timestamp', axis=1)\n",
        "\n",
        "print(\"Took {} seconds for prediction.\".format(test_time))"
      ],
      "execution_count": null,
      "outputs": [
        {
          "output_type": "stream",
          "name": "stdout",
          "text": [
            "Took 3.3132 seconds for prediction.\n"
          ]
        }
      ]
    },
    {
      "cell_type": "code",
      "metadata": {
        "colab": {
          "base_uri": "https://localhost:8080/"
        },
        "id": "paRlQNt2eEzk",
        "outputId": "ece9b20f-19ca-49e1-c16e-2d95577ef937"
      },
      "source": [
        "eval_map = map_at_k(test, all_predictions, col_prediction='prediction', k=TOP_K)\n",
        "eval_ndcg = ndcg_at_k(test, all_predictions, col_prediction='prediction', k=TOP_K)\n",
        "eval_precision = precision_at_k(test, all_predictions, col_prediction='prediction', k=TOP_K)\n",
        "eval_recall = recall_at_k(test, all_predictions, col_prediction='prediction', k=TOP_K)\n",
        "\n",
        "print(\"MAP:\\t%f\" % eval_map,\n",
        "      \"NDCG:\\t%f\" % eval_ndcg,\n",
        "      \"Precision@K:\\t%f\" % eval_precision,\n",
        "      \"Recall@K:\\t%f\" % eval_recall, sep='\\n')"
      ],
      "execution_count": null,
      "outputs": [
        {
          "output_type": "stream",
          "name": "stdout",
          "text": [
            "MAP:\t0.051182\n",
            "NDCG:\t0.206517\n",
            "Precision@K:\t0.183245\n",
            "Recall@K:\t0.102796\n"
          ]
        }
      ]
    },
    {
      "cell_type": "code",
      "metadata": {
        "id": "L1zDAApneEzk"
      },
      "source": [],
      "execution_count": null,
      "outputs": []
    },
    {
      "cell_type": "markdown",
      "metadata": {
        "id": "G7bi2wYQgqUI"
      },
      "source": [
        "## Number of Factors = 16"
      ]
    },
    {
      "cell_type": "code",
      "metadata": {
        "id": "wc_ITjd2gqUN"
      },
      "source": [
        "TOP_K = 10\n",
        "BATCH_SIZE = 1024\n",
        "LAYER_SIZES = [64,32,16]\n",
        "EPOCHS=50\n",
        "LR = 5e-4\n",
        "N_FACTORS = 16"
      ],
      "execution_count": null,
      "outputs": []
    },
    {
      "cell_type": "code",
      "metadata": {
        "id": "uTRKA1yHgqUN"
      },
      "source": [
        "model = NCF (\n",
        "    n_users=data.n_users, \n",
        "    n_items=data.n_items,\n",
        "    model_type=\"NeuMF\",\n",
        "    n_factors=N_FACTORS,\n",
        "    layer_sizes=LAYER_SIZES,\n",
        "    n_epochs=EPOCHS,\n",
        "    batch_size=BATCH_SIZE,\n",
        "    learning_rate=LR,\n",
        "    seed=SEED\n",
        ")"
      ],
      "execution_count": null,
      "outputs": []
    },
    {
      "cell_type": "code",
      "metadata": {
        "colab": {
          "base_uri": "https://localhost:8080/"
        },
        "id": "XHXrTAlfgqUN",
        "outputId": "3d251bd1-40cd-4047-b49c-342c57418313"
      },
      "source": [
        "with Timer() as train_time:\n",
        "    model.fit(data)\n",
        "\n",
        "print(\"Took {} seconds for training.\".format(train_time))"
      ],
      "execution_count": null,
      "outputs": [
        {
          "output_type": "stream",
          "name": "stdout",
          "text": [
            "Took 174.9821 seconds for training.\n"
          ]
        }
      ]
    },
    {
      "cell_type": "code",
      "metadata": {
        "colab": {
          "base_uri": "https://localhost:8080/"
        },
        "id": "wL06aUhhgqUN",
        "outputId": "6e5f3573-ed9e-428b-e1a2-9b8ff1729ff6"
      },
      "source": [
        "with Timer() as test_time:\n",
        "    users, items, preds = [], [], []\n",
        "    item = list(train.itemID.unique())\n",
        "    for user in train.userID.unique():\n",
        "        user = [user] * len(item) \n",
        "        users.extend(user)\n",
        "        items.extend(item)\n",
        "        preds.extend(list(model.predict(user, item, is_list=True)))\n",
        "\n",
        "    all_predictions = pd.DataFrame(data={\"userID\": users, \"itemID\":items, \"prediction\":preds})\n",
        "\n",
        "    merged = pd.merge(train, all_predictions, on=[\"userID\", \"itemID\"], how=\"outer\")\n",
        "    all_predictions = merged[merged.rating.isnull()].drop('rating', axis=1)\n",
        "    all_predictions = all_predictions.drop('timestamp', axis=1)\n",
        "\n",
        "print(\"Took {} seconds for prediction.\".format(test_time))"
      ],
      "execution_count": null,
      "outputs": [
        {
          "output_type": "stream",
          "name": "stdout",
          "text": [
            "Took 3.3067 seconds for prediction.\n"
          ]
        }
      ]
    },
    {
      "cell_type": "code",
      "metadata": {
        "colab": {
          "base_uri": "https://localhost:8080/"
        },
        "id": "aWzLtHS2gqUN",
        "outputId": "c0f507d0-36b5-4c71-bc97-34717ae2b135"
      },
      "source": [
        "eval_map = map_at_k(test, all_predictions, col_prediction='prediction', k=TOP_K)\n",
        "eval_ndcg = ndcg_at_k(test, all_predictions, col_prediction='prediction', k=TOP_K)\n",
        "eval_precision = precision_at_k(test, all_predictions, col_prediction='prediction', k=TOP_K)\n",
        "eval_recall = recall_at_k(test, all_predictions, col_prediction='prediction', k=TOP_K)\n",
        "\n",
        "print(\"MAP:\\t%f\" % eval_map,\n",
        "      \"NDCG:\\t%f\" % eval_ndcg,\n",
        "      \"Precision@K:\\t%f\" % eval_precision,\n",
        "      \"Recall@K:\\t%f\" % eval_recall, sep='\\n')"
      ],
      "execution_count": null,
      "outputs": [
        {
          "output_type": "stream",
          "name": "stdout",
          "text": [
            "MAP:\t0.051469\n",
            "NDCG:\t0.209400\n",
            "Precision@K:\t0.184093\n",
            "Recall@K:\t0.105175\n"
          ]
        }
      ]
    },
    {
      "cell_type": "code",
      "metadata": {
        "id": "XmlCBbPgjr2l"
      },
      "source": [],
      "execution_count": null,
      "outputs": []
    },
    {
      "cell_type": "markdown",
      "metadata": {
        "id": "aIdC8zLqjsXJ"
      },
      "source": [
        "## Number of Factors = 32"
      ]
    },
    {
      "cell_type": "code",
      "metadata": {
        "id": "3BQjNHfmjsXK"
      },
      "source": [
        "TOP_K = 10\n",
        "BATCH_SIZE = 1024\n",
        "LAYER_SIZES = [128,64,32]\n",
        "EPOCHS=150\n",
        "LR = 1e-4\n",
        "N_FACTORS = 32"
      ],
      "execution_count": null,
      "outputs": []
    },
    {
      "cell_type": "code",
      "metadata": {
        "id": "WygTTWprjsXK"
      },
      "source": [
        "model = NCF (\n",
        "    n_users=data.n_users, \n",
        "    n_items=data.n_items,\n",
        "    model_type=\"NeuMF\",\n",
        "    n_factors=N_FACTORS,\n",
        "    layer_sizes=LAYER_SIZES,\n",
        "    n_epochs=EPOCHS,\n",
        "    batch_size=BATCH_SIZE,\n",
        "    learning_rate=LR,\n",
        "    seed=SEED\n",
        ")"
      ],
      "execution_count": null,
      "outputs": []
    },
    {
      "cell_type": "code",
      "metadata": {
        "colab": {
          "base_uri": "https://localhost:8080/"
        },
        "id": "_LQqdhH1jsXK",
        "outputId": "68d804c1-001c-4f05-a32d-10da47389151"
      },
      "source": [
        "with Timer() as train_time:\n",
        "    model.fit(data)\n",
        "\n",
        "print(\"Took {} seconds for training.\".format(train_time))"
      ],
      "execution_count": null,
      "outputs": [
        {
          "output_type": "stream",
          "name": "stdout",
          "text": [
            "Took 531.6639 seconds for training.\n"
          ]
        }
      ]
    },
    {
      "cell_type": "code",
      "metadata": {
        "colab": {
          "base_uri": "https://localhost:8080/"
        },
        "id": "xvTKc-7GjsXK",
        "outputId": "fcc90923-a72e-4f3d-d1e4-ab83fa5b00b5"
      },
      "source": [
        "with Timer() as test_time:\n",
        "    users, items, preds = [], [], []\n",
        "    item = list(train.itemID.unique())\n",
        "    for user in train.userID.unique():\n",
        "        user = [user] * len(item) \n",
        "        users.extend(user)\n",
        "        items.extend(item)\n",
        "        preds.extend(list(model.predict(user, item, is_list=True)))\n",
        "\n",
        "    all_predictions = pd.DataFrame(data={\"userID\": users, \"itemID\":items, \"prediction\":preds})\n",
        "\n",
        "    merged = pd.merge(train, all_predictions, on=[\"userID\", \"itemID\"], how=\"outer\")\n",
        "    all_predictions = merged[merged.rating.isnull()].drop('rating', axis=1)\n",
        "    all_predictions = all_predictions.drop('timestamp', axis=1)\n",
        "\n",
        "print(\"Took {} seconds for prediction.\".format(test_time))"
      ],
      "execution_count": null,
      "outputs": [
        {
          "output_type": "stream",
          "name": "stdout",
          "text": [
            "Took 3.2893 seconds for prediction.\n"
          ]
        }
      ]
    },
    {
      "cell_type": "code",
      "metadata": {
        "colab": {
          "base_uri": "https://localhost:8080/"
        },
        "id": "24R_o4phsMaT",
        "outputId": "4176bc6e-4e84-4a6a-8070-4edd45dace02"
      },
      "source": [
        "eval_map = map_at_k(test, all_predictions, col_prediction='prediction', k=TOP_K)\n",
        "eval_ndcg = ndcg_at_k(test, all_predictions, col_prediction='prediction', k=TOP_K)\n",
        "eval_precision = precision_at_k(test, all_predictions, col_prediction='prediction', k=TOP_K)\n",
        "eval_recall = recall_at_k(test, all_predictions, col_prediction='prediction', k=TOP_K)\n",
        "\n",
        "print(\"MAP:\\t%f\" % eval_map,\n",
        "      \"NDCG:\\t%f\" % eval_ndcg,\n",
        "      \"Precision@K:\\t%f\" % eval_precision,\n",
        "      \"Recall@K:\\t%f\" % eval_recall, sep='\\n')"
      ],
      "execution_count": null,
      "outputs": [
        {
          "output_type": "stream",
          "name": "stdout",
          "text": [
            "MAP:\t0.049884\n",
            "NDCG:\t0.206284\n",
            "Precision@K:\t0.186638\n",
            "Recall@K:\t0.102784\n"
          ]
        }
      ]
    },
    {
      "cell_type": "code",
      "metadata": {
        "id": "BdGLZBLbjsXK"
      },
      "source": [],
      "execution_count": null,
      "outputs": []
    },
    {
      "cell_type": "markdown",
      "metadata": {
        "id": "XimdD-LyLv46"
      },
      "source": [
        "# End of Notebook"
      ]
    }
  ]
}