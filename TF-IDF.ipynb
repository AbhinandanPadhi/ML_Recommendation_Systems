{
 "cells": [
  {
   "cell_type": "markdown",
   "metadata": {},
   "source": [
    "<h1>Building a movie content based recommender using tf-idf</h1>"
   ]
  },
  {
   "cell_type": "code",
   "execution_count": 2,
   "metadata": {},
   "outputs": [],
   "source": [
    "import pandas as pd\n",
    "import numpy as np\n",
    "import matplotlib.pyplot as plt\n",
    "from itertools import combinations\n",
    "\n",
    "\n",
    "ratings = pd.read_csv('data/Content_based_recommenders/ratings.csv', sep='\\t', encoding='latin-1', usecols=['user_id', 'movie_id', 'rating'])\n",
    "users = pd.read_csv('data/Content_based_recommenders/users.csv', sep='\\t', encoding='latin-1', usecols=['user_id', 'gender', 'zipcode', 'age_desc', 'occ_desc'])\n",
    "movies = pd.read_csv('data/Content_based_recommenders/movies.csv', sep='\\t', encoding='latin-1', usecols=['movie_id', 'title', 'genres'])"
   ]
  },
  {
   "cell_type": "code",
   "execution_count": 1,
   "metadata": {},
   "outputs": [],
   "source": [
    "import matplotlib as mpl\n",
    "import seaborn as sb\n",
    "import matplotlib.pyplot as plt\n",
    "plt.style.use('classic')\n",
    "%matplotlib inline\n",
    "mpl.rcParams['figure.figsize'] = [10,5]"
   ]
  },
  {
   "cell_type": "markdown",
   "metadata": {},
   "source": [
    "# EDA"
   ]
  },
  {
   "cell_type": "code",
   "execution_count": 11,
   "metadata": {},
   "outputs": [
    {
     "data": {
      "text/plain": [
       "(1000209, 3)"
      ]
     },
     "execution_count": 11,
     "metadata": {},
     "output_type": "execute_result"
    }
   ],
   "source": [
    "ratings.shape"
   ]
  },
  {
   "cell_type": "code",
   "execution_count": 12,
   "metadata": {},
   "outputs": [
    {
     "data": {
      "text/html": [
       "<div>\n",
       "<style scoped>\n",
       "    .dataframe tbody tr th:only-of-type {\n",
       "        vertical-align: middle;\n",
       "    }\n",
       "\n",
       "    .dataframe tbody tr th {\n",
       "        vertical-align: top;\n",
       "    }\n",
       "\n",
       "    .dataframe thead th {\n",
       "        text-align: right;\n",
       "    }\n",
       "</style>\n",
       "<table border=\"1\" class=\"dataframe\">\n",
       "  <thead>\n",
       "    <tr style=\"text-align: right;\">\n",
       "      <th></th>\n",
       "      <th>user_id</th>\n",
       "      <th>movie_id</th>\n",
       "      <th>rating</th>\n",
       "    </tr>\n",
       "  </thead>\n",
       "  <tbody>\n",
       "    <tr>\n",
       "      <th>83783</th>\n",
       "      <td>550</td>\n",
       "      <td>1274</td>\n",
       "      <td>5</td>\n",
       "    </tr>\n",
       "    <tr>\n",
       "      <th>473198</th>\n",
       "      <td>2909</td>\n",
       "      <td>3208</td>\n",
       "      <td>1</td>\n",
       "    </tr>\n",
       "    <tr>\n",
       "      <th>246259</th>\n",
       "      <td>1489</td>\n",
       "      <td>2827</td>\n",
       "      <td>1</td>\n",
       "    </tr>\n",
       "    <tr>\n",
       "      <th>71278</th>\n",
       "      <td>479</td>\n",
       "      <td>3098</td>\n",
       "      <td>5</td>\n",
       "    </tr>\n",
       "    <tr>\n",
       "      <th>694658</th>\n",
       "      <td>4161</td>\n",
       "      <td>1597</td>\n",
       "      <td>1</td>\n",
       "    </tr>\n",
       "  </tbody>\n",
       "</table>\n",
       "</div>"
      ],
      "text/plain": [
       "        user_id  movie_id  rating\n",
       "83783       550      1274       5\n",
       "473198     2909      3208       1\n",
       "246259     1489      2827       1\n",
       "71278       479      3098       5\n",
       "694658     4161      1597       1"
      ]
     },
     "execution_count": 12,
     "metadata": {},
     "output_type": "execute_result"
    }
   ],
   "source": [
    "ratings.sample(5)"
   ]
  },
  {
   "cell_type": "code",
   "execution_count": 13,
   "metadata": {},
   "outputs": [
    {
     "data": {
      "text/plain": [
       "movie_id    165.597517\n",
       "rating      165.597517\n",
       "dtype: float64"
      ]
     },
     "execution_count": 13,
     "metadata": {},
     "output_type": "execute_result"
    }
   ],
   "source": [
    "ratings.groupby('user_id').count().mean()\n"
   ]
  },
  {
   "cell_type": "markdown",
   "metadata": {},
   "source": [
    "A movies dataset:"
   ]
  },
  {
   "cell_type": "code",
   "execution_count": 14,
   "metadata": {},
   "outputs": [
    {
     "data": {
      "text/html": [
       "<div>\n",
       "<style scoped>\n",
       "    .dataframe tbody tr th:only-of-type {\n",
       "        vertical-align: middle;\n",
       "    }\n",
       "\n",
       "    .dataframe tbody tr th {\n",
       "        vertical-align: top;\n",
       "    }\n",
       "\n",
       "    .dataframe thead th {\n",
       "        text-align: right;\n",
       "    }\n",
       "</style>\n",
       "<table border=\"1\" class=\"dataframe\">\n",
       "  <thead>\n",
       "    <tr style=\"text-align: right;\">\n",
       "      <th></th>\n",
       "      <th>movie_id</th>\n",
       "      <th>title</th>\n",
       "      <th>genres</th>\n",
       "    </tr>\n",
       "  </thead>\n",
       "  <tbody>\n",
       "    <tr>\n",
       "      <th>10</th>\n",
       "      <td>11</td>\n",
       "      <td>American President, The (1995)</td>\n",
       "      <td>Comedy|Drama|Romance</td>\n",
       "    </tr>\n",
       "    <tr>\n",
       "      <th>339</th>\n",
       "      <td>343</td>\n",
       "      <td>Baby-Sitters Club, The (1995)</td>\n",
       "      <td>Children's</td>\n",
       "    </tr>\n",
       "    <tr>\n",
       "      <th>3462</th>\n",
       "      <td>3531</td>\n",
       "      <td>All the Vermeers in New York (1990)</td>\n",
       "      <td>Comedy|Drama|Romance</td>\n",
       "    </tr>\n",
       "    <tr>\n",
       "      <th>3115</th>\n",
       "      <td>3184</td>\n",
       "      <td>Montana (1998)</td>\n",
       "      <td>Action|Comedy|Crime|Drama</td>\n",
       "    </tr>\n",
       "    <tr>\n",
       "      <th>1778</th>\n",
       "      <td>1847</td>\n",
       "      <td>Ratchet (1996)</td>\n",
       "      <td>Drama|Thriller</td>\n",
       "    </tr>\n",
       "  </tbody>\n",
       "</table>\n",
       "</div>"
      ],
      "text/plain": [
       "      movie_id                                title                     genres\n",
       "10          11       American President, The (1995)       Comedy|Drama|Romance\n",
       "339        343        Baby-Sitters Club, The (1995)                 Children's\n",
       "3462      3531  All the Vermeers in New York (1990)       Comedy|Drama|Romance\n",
       "3115      3184                       Montana (1998)  Action|Comedy|Crime|Drama\n",
       "1778      1847                       Ratchet (1996)             Drama|Thriller"
      ]
     },
     "execution_count": 14,
     "metadata": {},
     "output_type": "execute_result"
    }
   ],
   "source": [
    "movies.sample(5)"
   ]
  },
  {
   "cell_type": "markdown",
   "metadata": {},
   "source": [
    "Having both a `movie_id` , `title` and a string with all genres separated bythe character `|` "
   ]
  },
  {
   "cell_type": "markdown",
   "metadata": {},
   "source": [
    "And the users dataset, with basic information about the user:"
   ]
  },
  {
   "cell_type": "code",
   "execution_count": 15,
   "metadata": {},
   "outputs": [
    {
     "data": {
      "text/html": [
       "<div>\n",
       "<style scoped>\n",
       "    .dataframe tbody tr th:only-of-type {\n",
       "        vertical-align: middle;\n",
       "    }\n",
       "\n",
       "    .dataframe tbody tr th {\n",
       "        vertical-align: top;\n",
       "    }\n",
       "\n",
       "    .dataframe thead th {\n",
       "        text-align: right;\n",
       "    }\n",
       "</style>\n",
       "<table border=\"1\" class=\"dataframe\">\n",
       "  <thead>\n",
       "    <tr style=\"text-align: right;\">\n",
       "      <th></th>\n",
       "      <th>user_id</th>\n",
       "      <th>gender</th>\n",
       "      <th>zipcode</th>\n",
       "      <th>age_desc</th>\n",
       "      <th>occ_desc</th>\n",
       "    </tr>\n",
       "  </thead>\n",
       "  <tbody>\n",
       "    <tr>\n",
       "      <th>0</th>\n",
       "      <td>1</td>\n",
       "      <td>F</td>\n",
       "      <td>48067</td>\n",
       "      <td>Under 18</td>\n",
       "      <td>K-12 student</td>\n",
       "    </tr>\n",
       "    <tr>\n",
       "      <th>1</th>\n",
       "      <td>2</td>\n",
       "      <td>M</td>\n",
       "      <td>70072</td>\n",
       "      <td>56+</td>\n",
       "      <td>self-employed</td>\n",
       "    </tr>\n",
       "    <tr>\n",
       "      <th>2</th>\n",
       "      <td>3</td>\n",
       "      <td>M</td>\n",
       "      <td>55117</td>\n",
       "      <td>25-34</td>\n",
       "      <td>scientist</td>\n",
       "    </tr>\n",
       "    <tr>\n",
       "      <th>3</th>\n",
       "      <td>4</td>\n",
       "      <td>M</td>\n",
       "      <td>02460</td>\n",
       "      <td>45-49</td>\n",
       "      <td>executive/managerial</td>\n",
       "    </tr>\n",
       "    <tr>\n",
       "      <th>4</th>\n",
       "      <td>5</td>\n",
       "      <td>M</td>\n",
       "      <td>55455</td>\n",
       "      <td>25-34</td>\n",
       "      <td>writer</td>\n",
       "    </tr>\n",
       "  </tbody>\n",
       "</table>\n",
       "</div>"
      ],
      "text/plain": [
       "   user_id gender zipcode  age_desc              occ_desc\n",
       "0        1      F   48067  Under 18          K-12 student\n",
       "1        2      M   70072       56+         self-employed\n",
       "2        3      M   55117     25-34             scientist\n",
       "3        4      M   02460     45-49  executive/managerial\n",
       "4        5      M   55455     25-34                writer"
      ]
     },
     "execution_count": 15,
     "metadata": {},
     "output_type": "execute_result"
    }
   ],
   "source": [
    "users.head()"
   ]
  },
  {
   "cell_type": "markdown",
   "metadata": {},
   "source": [
    "### Data Exploration"
   ]
  },
  {
   "cell_type": "markdown",
   "metadata": {},
   "source": [
    "As we'll explore in the next section, the genres alone can be used to provide a reasonably good content based recommendation. But before that, we need analyse some important aspects."
   ]
  },
  {
   "cell_type": "markdown",
   "metadata": {},
   "source": [
    "### Ratings\n",
    "Next I want to examine the **rating** further. One important aspect to consider is the distribution of the user ratings:"
   ]
  },
  {
   "cell_type": "code",
   "execution_count": 17,
   "metadata": {},
   "outputs": [
    {
     "name": "stderr",
     "output_type": "stream",
     "text": [
      "C:\\Users\\nomif\\Anaconda3\\lib\\site-packages\\seaborn\\_decorators.py:43: FutureWarning: Pass the following variable as a keyword arg: x. From version 0.12, the only valid positional argument will be `data`, and passing other arguments without an explicit keyword will result in an error or misinterpretation.\n",
      "  FutureWarning\n"
     ]
    },
    {
     "data": {
      "image/png": "[encoded data removed]",
      "text/plain": [
       "<Figure size 720x432 with 1 Axes>"
      ]
     },
     "metadata": {
      "needs_background": "light"
     },
     "output_type": "display_data"
    }
   ],
   "source": [
    "plt.figure(figsize=(10,6))\n",
    "\n",
    "sb.countplot(ratings['rating'].fillna(ratings['rating'].median()))\n",
    "plt.show()"
   ]
  },
  {
   "cell_type": "markdown",
   "metadata": {},
   "source": [
    "* *Which are the most popular movies?*"
   ]
  },
  {
   "cell_type": "markdown",
   "metadata": {},
   "source": [
    "We can take a weighted score taking into account both the **ratings** and the amount of **views** to answer this question:"
   ]
  },
  {
   "cell_type": "code",
   "execution_count": 18,
   "metadata": {},
   "outputs": [],
   "source": [
    "def weighted_average_score(df, k=0.8):\n",
    "    n_views = df.groupby('movie_id', sort=False).movie_id.count()\n",
    "    ratings = df.groupby('movie_id', sort=False).rating.mean()\n",
    "    scores = ((1-k)*(n_views/n_views.max()) + \n",
    "              k*(ratings/ratings.max())).to_numpy().argsort()[::-1]\n",
    "    df_deduped = df.groupby('movie_id', sort=False).agg({'title':'first', \n",
    "                                                         'genres':'first', \n",
    "                                                         'rating':'mean'})\n",
    "    return df_deduped.assign(views=n_views).iloc[scores]"
   ]
  },
  {
   "cell_type": "code",
   "execution_count": 19,
   "metadata": {},
   "outputs": [
    {
     "data": {
      "text/html": [
       "<div>\n",
       "<style scoped>\n",
       "    .dataframe tbody tr th:only-of-type {\n",
       "        vertical-align: middle;\n",
       "    }\n",
       "\n",
       "    .dataframe tbody tr th {\n",
       "        vertical-align: top;\n",
       "    }\n",
       "\n",
       "    .dataframe thead th {\n",
       "        text-align: right;\n",
       "    }\n",
       "</style>\n",
       "<table border=\"1\" class=\"dataframe\">\n",
       "  <thead>\n",
       "    <tr style=\"text-align: right;\">\n",
       "      <th></th>\n",
       "      <th>title</th>\n",
       "      <th>genres</th>\n",
       "      <th>rating</th>\n",
       "      <th>views</th>\n",
       "    </tr>\n",
       "    <tr>\n",
       "      <th>movie_id</th>\n",
       "      <th></th>\n",
       "      <th></th>\n",
       "      <th></th>\n",
       "      <th></th>\n",
       "    </tr>\n",
       "  </thead>\n",
       "  <tbody>\n",
       "    <tr>\n",
       "      <th>2858</th>\n",
       "      <td>American Beauty (1999)</td>\n",
       "      <td>Comedy|Drama</td>\n",
       "      <td>4.317386</td>\n",
       "      <td>3428</td>\n",
       "    </tr>\n",
       "    <tr>\n",
       "      <th>260</th>\n",
       "      <td>Star Wars: Episode IV - A New Hope (1977)</td>\n",
       "      <td>Action|Adventure|Fantasy|Sci-Fi</td>\n",
       "      <td>4.453694</td>\n",
       "      <td>2991</td>\n",
       "    </tr>\n",
       "    <tr>\n",
       "      <th>1198</th>\n",
       "      <td>Raiders of the Lost Ark (1981)</td>\n",
       "      <td>Action|Adventure</td>\n",
       "      <td>4.477725</td>\n",
       "      <td>2514</td>\n",
       "    </tr>\n",
       "    <tr>\n",
       "      <th>1196</th>\n",
       "      <td>Star Wars: Episode V - The Empire Strikes Back...</td>\n",
       "      <td>Action|Adventure|Drama|Sci-Fi|War</td>\n",
       "      <td>4.292977</td>\n",
       "      <td>2990</td>\n",
       "    </tr>\n",
       "    <tr>\n",
       "      <th>318</th>\n",
       "      <td>Shawshank Redemption, The (1994)</td>\n",
       "      <td>Drama</td>\n",
       "      <td>4.554558</td>\n",
       "      <td>2227</td>\n",
       "    </tr>\n",
       "    <tr>\n",
       "      <th>527</th>\n",
       "      <td>Schindler's List (1993)</td>\n",
       "      <td>Drama|War</td>\n",
       "      <td>4.510417</td>\n",
       "      <td>2304</td>\n",
       "    </tr>\n",
       "    <tr>\n",
       "      <th>858</th>\n",
       "      <td>Godfather, The (1972)</td>\n",
       "      <td>Action|Crime|Drama</td>\n",
       "      <td>4.524966</td>\n",
       "      <td>2223</td>\n",
       "    </tr>\n",
       "    <tr>\n",
       "      <th>2028</th>\n",
       "      <td>Saving Private Ryan (1998)</td>\n",
       "      <td>Action|Drama|War</td>\n",
       "      <td>4.337354</td>\n",
       "      <td>2653</td>\n",
       "    </tr>\n",
       "    <tr>\n",
       "      <th>2762</th>\n",
       "      <td>Sixth Sense, The (1999)</td>\n",
       "      <td>Thriller</td>\n",
       "      <td>4.406263</td>\n",
       "      <td>2459</td>\n",
       "    </tr>\n",
       "    <tr>\n",
       "      <th>593</th>\n",
       "      <td>Silence of the Lambs, The (1991)</td>\n",
       "      <td>Drama|Thriller</td>\n",
       "      <td>4.351823</td>\n",
       "      <td>2578</td>\n",
       "    </tr>\n",
       "  </tbody>\n",
       "</table>\n",
       "</div>"
      ],
      "text/plain": [
       "                                                      title  \\\n",
       "movie_id                                                      \n",
       "2858                                 American Beauty (1999)   \n",
       "260               Star Wars: Episode IV - A New Hope (1977)   \n",
       "1198                         Raiders of the Lost Ark (1981)   \n",
       "1196      Star Wars: Episode V - The Empire Strikes Back...   \n",
       "318                        Shawshank Redemption, The (1994)   \n",
       "527                                 Schindler's List (1993)   \n",
       "858                                   Godfather, The (1972)   \n",
       "2028                             Saving Private Ryan (1998)   \n",
       "2762                                Sixth Sense, The (1999)   \n",
       "593                        Silence of the Lambs, The (1991)   \n",
       "\n",
       "                                     genres    rating  views  \n",
       "movie_id                                                      \n",
       "2858                           Comedy|Drama  4.317386   3428  \n",
       "260         Action|Adventure|Fantasy|Sci-Fi  4.453694   2991  \n",
       "1198                       Action|Adventure  4.477725   2514  \n",
       "1196      Action|Adventure|Drama|Sci-Fi|War  4.292977   2990  \n",
       "318                                   Drama  4.554558   2227  \n",
       "527                               Drama|War  4.510417   2304  \n",
       "858                      Action|Crime|Drama  4.524966   2223  \n",
       "2028                       Action|Drama|War  4.337354   2653  \n",
       "2762                               Thriller  4.406263   2459  \n",
       "593                          Drama|Thriller  4.351823   2578  "
      ]
     },
     "execution_count": 19,
     "metadata": {},
     "output_type": "execute_result"
    }
   ],
   "source": [
    "df = movies.merge(ratings).merge(users)\n",
    "weighted_average_score(df).head(10)"
   ]
  },
  {
   "cell_type": "markdown",
   "metadata": {},
   "source": [
    "#### Genres"
   ]
  },
  {
   "cell_type": "markdown",
   "metadata": {},
   "source": [
    "As we'll explore in the next section, the genres alone can be used to provide a reasonably good content based recommendation. But before that, we need analyse some important aspects.\n",
    "\n",
    "* *Which are the most popular genres?*\n",
    "\n",
    "This will be a relevant aspect to take into account when building the content based recommender. We want to understand which genres really are relevant when it comes to defining a user's taste. A reasonable assumption is that it is precisely the unpopular genres, that will be more relevant in characterising the user's taste."
   ]
  },
  {
   "cell_type": "markdown",
   "metadata": {},
   "source": [
    "movies.genres.str.split('|')The most relevant genres are:"
   ]
  },
  {
   "cell_type": "code",
   "execution_count": 20,
   "metadata": {},
   "outputs": [
    {
     "data": {
      "text/plain": [
       "Drama         1603\n",
       "Comedy        1200\n",
       "Action         503\n",
       "Thriller       492\n",
       "Romance        471\n",
       "Horror         343\n",
       "Adventure      283\n",
       "Sci-Fi         276\n",
       "Children's     251\n",
       "Crime          211\n",
       "Name: genres, dtype: int64"
      ]
     },
     "execution_count": 20,
     "metadata": {},
     "output_type": "execute_result"
    }
   ],
   "source": [
    "genre_popularity = (movies.genres.str.split('|')\n",
    "                      .explode()\n",
    "                      .value_counts()\n",
    "                      .sort_values(ascending=False))\n",
    "genre_popularity.head(10)"
   ]
  },
  {
   "cell_type": "markdown",
   "metadata": {},
   "source": [
    "Or for a more visual representation we could plot a word-cloud with the genres:"
   ]
  },
  {
   "cell_type": "code",
   "execution_count": 21,
   "metadata": {},
   "outputs": [
    {
     "data": {
      "image/png": "[encoded data removed]",
      "text/plain": [
       "<Figure size 1152x576 with 1 Axes>"
      ]
     },
     "metadata": {
      "needs_background": "light"
     },
     "output_type": "display_data"
    }
   ],
   "source": [
    "from wordcloud import WordCloud, STOPWORDS\n",
    "genre_wc = WordCloud(width=1000,height=400, background_color='white')\n",
    "genre_wc.generate_from_frequencies(genre_popularity.to_dict())\n",
    "\n",
    "plt.figure(figsize=(16, 8))\n",
    "plt.imshow(genre_wc, interpolation=\"bilinear\")\n",
    "plt.axis('off')\n",
    "plt.show()"
   ]
  },
  {
   "cell_type": "markdown",
   "metadata": {},
   "source": [
    "As we can see, the most frequent genres are Drama, Comedy and Action, among others. We then have some other genres that are way less frequent such as Western, Fantasy or Sci-Fi. \n",
    "\n",
    "As I previously pointed out, these are the genres that we want to give the most importance to when recommending. Why is that?\n",
    "As an example let's consider new user wants to find movies similar to Interstellar., which is a mixture of Sci-Fi, Drama, Mistery and Adventure. Say now that among the available movies to recommend we have a collection of Drama movies and some other Sci-Fi movies too. Which should we prioritise? In this case, it seems reasonable to assume that the less generic genre, Sci-Fi, will be the most relevant in terms of characterising the movie."
   ]
  },
  {
   "cell_type": "markdown",
   "metadata": {},
   "source": [
    "## Building a content based recommender"
   ]
  },
  {
   "cell_type": "markdown",
   "metadata": {},
   "source": [
    "For the post, we will be building a fairly simple recommender, based on the movie genres. A fairly common approach is to use a tf-idf vectorizer. \n",
    "\n",
    "While this approach is more commonly used on a text corpus, it possesses some interesting properties that will be useful in order to obtain a vector representation of the data. The expression is defined as follows:"
   ]
  },
  {
   "cell_type": "markdown",
   "metadata": {},
   "source": [
    "![netflix](images/Content_based_recommenders/tfidf.jpg)"
   ]
  },
  {
   "cell_type": "markdown",
   "metadata": {},
   "source": [
    "Where we have the product of the term frequency, i.e. the amount of times a given term (genre) occurs in a document (genres of a movie), times the right side factor, which basically scales the term frequency depending on the amount of times a given term appears in all documents (movies).\n",
    "\n",
    "The lesser the amount of movies that contain a given genre (df_i), the higher the resulting weight. The logarithm is basically to smoothen the result of the division, i.e. avoids huge differences as a result of the right hand term."
   ]
  },
  {
   "cell_type": "markdown",
   "metadata": {},
   "source": [
    "So why is this useful in our case?"
   ]
  },
  {
   "cell_type": "markdown",
   "metadata": {},
   "source": [
    "As already mentioned, tf-idf will help capture the important genres of each movie by giving a higher weight to the less frequent genres, which we woulnd't get with say, CountVectorizer ."
   ]
  },
  {
   "cell_type": "markdown",
   "metadata": {},
   "source": [
    "### tf-idf"
   ]
  },
  {
   "cell_type": "markdown",
   "metadata": {},
   "source": [
    "To obtain the tf-idf vectors I'll be using sklearn's TfidfVectorizer . However, we have to take into account some aspects particular to this problem. The usual setup when dealing with text data, is to set a word analyser and perhaps an ngram_range , which will also include the n-grams within the specified range. An example would be:"
   ]
  },
  {
   "cell_type": "code",
   "execution_count": 22,
   "metadata": {},
   "outputs": [],
   "source": [
    "from sklearn.feature_extraction.text import TfidfVectorizer"
   ]
  },
  {
   "cell_type": "markdown",
   "metadata": {},
   "source": [
    "Here we're finding the sets of combinations of genres up to k (4 here), or in mathematical terms, the superset.\n",
    "We can apply the above logic using the analyser parameter, which we can use to obtain the sequence of features from the raw input using a callable:"
   ]
  },
  {
   "cell_type": "code",
   "execution_count": 23,
   "metadata": {},
   "outputs": [
    {
     "data": {
      "text/plain": [
       "(3883, 353)"
      ]
     },
     "execution_count": 23,
     "metadata": {},
     "output_type": "execute_result"
    }
   ],
   "source": [
    "tf = TfidfVectorizer(analyzer=lambda s: (c for i in range(1,4)\n",
    "                                             for c in combinations(s.split('|'), r=i)))\n",
    "tfidf_matrix = tf.fit_transform(movies['genres'])\n",
    "tfidf_matrix.shape\n",
    "# (3883, 353)"
   ]
  },
  {
   "cell_type": "markdown",
   "metadata": {},
   "source": [
    "Which will result in the following tf-idf vectors (note that only a subset of the columns and rows is sampled):"
   ]
  },
  {
   "cell_type": "code",
   "execution_count": 24,
   "metadata": {},
   "outputs": [
    {
     "data": {
      "text/html": [
       "<div>\n",
       "<style scoped>\n",
       "    .dataframe tbody tr th:only-of-type {\n",
       "        vertical-align: middle;\n",
       "    }\n",
       "\n",
       "    .dataframe tbody tr th {\n",
       "        vertical-align: top;\n",
       "    }\n",
       "\n",
       "    .dataframe thead th {\n",
       "        text-align: right;\n",
       "    }\n",
       "</style>\n",
       "<table border=\"1\" class=\"dataframe\">\n",
       "  <thead>\n",
       "    <tr style=\"text-align: right;\">\n",
       "      <th></th>\n",
       "      <th>(Adventure, Drama, War)</th>\n",
       "      <th>(Horror, Musical, Sci-Fi)</th>\n",
       "      <th>(Documentary,)</th>\n",
       "      <th>(Adventure, Thriller)</th>\n",
       "      <th>(Fantasy, Thriller)</th>\n",
       "    </tr>\n",
       "    <tr>\n",
       "      <th>title</th>\n",
       "      <th></th>\n",
       "      <th></th>\n",
       "      <th></th>\n",
       "      <th></th>\n",
       "      <th></th>\n",
       "    </tr>\n",
       "  </thead>\n",
       "  <tbody>\n",
       "    <tr>\n",
       "      <th>Sunchaser, The (1996)</th>\n",
       "      <td>0.0</td>\n",
       "      <td>0.0</td>\n",
       "      <td>0.0</td>\n",
       "      <td>0.0</td>\n",
       "      <td>0.0</td>\n",
       "    </tr>\n",
       "    <tr>\n",
       "      <th>Everything Relative (1996)</th>\n",
       "      <td>0.0</td>\n",
       "      <td>0.0</td>\n",
       "      <td>0.0</td>\n",
       "      <td>0.0</td>\n",
       "      <td>0.0</td>\n",
       "    </tr>\n",
       "    <tr>\n",
       "      <th>Love and a .45 (1994)</th>\n",
       "      <td>0.0</td>\n",
       "      <td>0.0</td>\n",
       "      <td>0.0</td>\n",
       "      <td>0.0</td>\n",
       "      <td>0.0</td>\n",
       "    </tr>\n",
       "    <tr>\n",
       "      <th>Crying Game, The (1992)</th>\n",
       "      <td>0.0</td>\n",
       "      <td>0.0</td>\n",
       "      <td>0.0</td>\n",
       "      <td>0.0</td>\n",
       "      <td>0.0</td>\n",
       "    </tr>\n",
       "    <tr>\n",
       "      <th>Who Framed Roger Rabbit? (1988)</th>\n",
       "      <td>0.0</td>\n",
       "      <td>0.0</td>\n",
       "      <td>0.0</td>\n",
       "      <td>0.0</td>\n",
       "      <td>0.0</td>\n",
       "    </tr>\n",
       "    <tr>\n",
       "      <th>Tommy (1975)</th>\n",
       "      <td>0.0</td>\n",
       "      <td>0.0</td>\n",
       "      <td>0.0</td>\n",
       "      <td>0.0</td>\n",
       "      <td>0.0</td>\n",
       "    </tr>\n",
       "    <tr>\n",
       "      <th>In the Army Now (1994)</th>\n",
       "      <td>0.0</td>\n",
       "      <td>0.0</td>\n",
       "      <td>0.0</td>\n",
       "      <td>0.0</td>\n",
       "      <td>0.0</td>\n",
       "    </tr>\n",
       "    <tr>\n",
       "      <th>Sixth Sense, The (1999)</th>\n",
       "      <td>0.0</td>\n",
       "      <td>0.0</td>\n",
       "      <td>0.0</td>\n",
       "      <td>0.0</td>\n",
       "      <td>0.0</td>\n",
       "    </tr>\n",
       "    <tr>\n",
       "      <th>Follow the Bitch (1998)</th>\n",
       "      <td>0.0</td>\n",
       "      <td>0.0</td>\n",
       "      <td>0.0</td>\n",
       "      <td>0.0</td>\n",
       "      <td>0.0</td>\n",
       "    </tr>\n",
       "    <tr>\n",
       "      <th>Ulee's Gold (1997)</th>\n",
       "      <td>0.0</td>\n",
       "      <td>0.0</td>\n",
       "      <td>0.0</td>\n",
       "      <td>0.0</td>\n",
       "      <td>0.0</td>\n",
       "    </tr>\n",
       "  </tbody>\n",
       "</table>\n",
       "</div>"
      ],
      "text/plain": [
       "                                 (Adventure, Drama, War)  \\\n",
       "title                                                      \n",
       "Sunchaser, The (1996)                                0.0   \n",
       "Everything Relative (1996)                           0.0   \n",
       "Love and a .45 (1994)                                0.0   \n",
       "Crying Game, The (1992)                              0.0   \n",
       "Who Framed Roger Rabbit? (1988)                      0.0   \n",
       "Tommy (1975)                                         0.0   \n",
       "In the Army Now (1994)                               0.0   \n",
       "Sixth Sense, The (1999)                              0.0   \n",
       "Follow the Bitch (1998)                              0.0   \n",
       "Ulee's Gold (1997)                                   0.0   \n",
       "\n",
       "                                 (Horror, Musical, Sci-Fi)  (Documentary,)  \\\n",
       "title                                                                        \n",
       "Sunchaser, The (1996)                                  0.0             0.0   \n",
       "Everything Relative (1996)                             0.0             0.0   \n",
       "Love and a .45 (1994)                                  0.0             0.0   \n",
       "Crying Game, The (1992)                                0.0             0.0   \n",
       "Who Framed Roger Rabbit? (1988)                        0.0             0.0   \n",
       "Tommy (1975)                                           0.0             0.0   \n",
       "In the Army Now (1994)                                 0.0             0.0   \n",
       "Sixth Sense, The (1999)                                0.0             0.0   \n",
       "Follow the Bitch (1998)                                0.0             0.0   \n",
       "Ulee's Gold (1997)                                     0.0             0.0   \n",
       "\n",
       "                                 (Adventure, Thriller)  (Fantasy, Thriller)  \n",
       "title                                                                        \n",
       "Sunchaser, The (1996)                              0.0                  0.0  \n",
       "Everything Relative (1996)                         0.0                  0.0  \n",
       "Love and a .45 (1994)                              0.0                  0.0  \n",
       "Crying Game, The (1992)                            0.0                  0.0  \n",
       "Who Framed Roger Rabbit? (1988)                    0.0                  0.0  \n",
       "Tommy (1975)                                       0.0                  0.0  \n",
       "In the Army Now (1994)                             0.0                  0.0  \n",
       "Sixth Sense, The (1999)                            0.0                  0.0  \n",
       "Follow the Bitch (1998)                            0.0                  0.0  \n",
       "Ulee's Gold (1997)                                 0.0                  0.0  "
      ]
     },
     "execution_count": 24,
     "metadata": {},
     "output_type": "execute_result"
    }
   ],
   "source": [
    "pd.DataFrame(tfidf_matrix.todense(), columns=tf.get_feature_names(), index=movies.title).sample(5, axis=1).sample(10, axis=0)\n"
   ]
  },
  {
   "cell_type": "markdown",
   "metadata": {},
   "source": [
    "------"
   ]
  },
  {
   "cell_type": "markdown",
   "metadata": {},
   "source": [
    "<h2> Similarity between vectors </h2>"
   ]
  },
  {
   "cell_type": "markdown",
   "metadata": {},
   "source": [
    "The next step will be to find similar vectors (movies). Recall that we've encoded each movie's genre into its tf-idf representation, now we want to define a proximity measure. A commonly used measure is the cosine similarity. \n",
    "\n",
    "This similarity measure owns its name to the fact that it equals to the cosine of the angle between the two vectors being compared. The lower the angle between two vectors, the higher the cosine will be, hence yielding a higher similarity factor. It is expressed as follows ([source](https://en.wikipedia.org/wiki/Cosine_similarity)):"
   ]
  },
  {
   "cell_type": "markdown",
   "metadata": {},
   "source": [
    "![netflix](images/Content_based_recommenders/cosine_sim.png)"
   ]
  },
  {
   "cell_type": "markdown",
   "metadata": {},
   "source": [
    "Where, since the inner product can be expressed as the product of the magnitudes times the cosing of the angle between the two vectors, it becomes clear that the above can be expressed as the cosine [source](https://en.wikipedia.org/wiki/Cosine_similarity):"
   ]
  },
  {
   "cell_type": "markdown",
   "metadata": {},
   "source": [
    "![netflix](images/Content_based_recommenders/inner_prod.png)"
   ]
  },
  {
   "cell_type": "markdown",
   "metadata": {},
   "source": [
    "So here we'll be obtaining the cosine by taking the inner product between both vectors, and normalising by their respective magnitudes. \n",
    "\n",
    "To compute the cosine similarities between all tf-idf vectors, we can again use scikit-learn. `sklearn.metrics.pairwise` contains many pairwise distance metrics, among them `cosine_similarity`, which will compute the cosine similarities between all the input rows, in this case tf-idf vectors:"
   ]
  },
  {
   "cell_type": "code",
   "execution_count": 25,
   "metadata": {},
   "outputs": [],
   "source": [
    "from sklearn.metrics.pairwise import cosine_similarity\n",
    "cosine_sim = cosine_similarity(tfidf_matrix)"
   ]
  },
  {
   "cell_type": "code",
   "execution_count": 26,
   "metadata": {},
   "outputs": [
    {
     "name": "stdout",
     "output_type": "stream",
     "text": [
      "Shape: (3883, 3883)\n"
     ]
    },
    {
     "data": {
      "text/html": [
       "<div>\n",
       "<style scoped>\n",
       "    .dataframe tbody tr th:only-of-type {\n",
       "        vertical-align: middle;\n",
       "    }\n",
       "\n",
       "    .dataframe tbody tr th {\n",
       "        vertical-align: top;\n",
       "    }\n",
       "\n",
       "    .dataframe thead th {\n",
       "        text-align: right;\n",
       "    }\n",
       "</style>\n",
       "<table border=\"1\" class=\"dataframe\">\n",
       "  <thead>\n",
       "    <tr style=\"text-align: right;\">\n",
       "      <th>title</th>\n",
       "      <th>Beyond the Mat (2000)</th>\n",
       "      <th>American Werewolf in London, An (1981)</th>\n",
       "      <th>Caddyshack (1980)</th>\n",
       "      <th>I Can't Sleep (J'ai pas sommeil) (1994)</th>\n",
       "      <th>Children of the Corn (1984)</th>\n",
       "    </tr>\n",
       "    <tr>\n",
       "      <th>title</th>\n",
       "      <th></th>\n",
       "      <th></th>\n",
       "      <th></th>\n",
       "      <th></th>\n",
       "      <th></th>\n",
       "    </tr>\n",
       "  </thead>\n",
       "  <tbody>\n",
       "    <tr>\n",
       "      <th>Toy Story (1995)</th>\n",
       "      <td>0.0</td>\n",
       "      <td>0.0</td>\n",
       "      <td>0.17</td>\n",
       "      <td>0.00</td>\n",
       "      <td>0.00</td>\n",
       "    </tr>\n",
       "    <tr>\n",
       "      <th>Jumanji (1995)</th>\n",
       "      <td>0.0</td>\n",
       "      <td>0.0</td>\n",
       "      <td>0.00</td>\n",
       "      <td>0.00</td>\n",
       "      <td>0.00</td>\n",
       "    </tr>\n",
       "    <tr>\n",
       "      <th>Grumpier Old Men (1995)</th>\n",
       "      <td>0.0</td>\n",
       "      <td>0.0</td>\n",
       "      <td>0.40</td>\n",
       "      <td>0.00</td>\n",
       "      <td>0.00</td>\n",
       "    </tr>\n",
       "    <tr>\n",
       "      <th>Waiting to Exhale (1995)</th>\n",
       "      <td>0.0</td>\n",
       "      <td>0.0</td>\n",
       "      <td>0.45</td>\n",
       "      <td>0.13</td>\n",
       "      <td>0.00</td>\n",
       "    </tr>\n",
       "    <tr>\n",
       "      <th>Father of the Bride Part II (1995)</th>\n",
       "      <td>0.0</td>\n",
       "      <td>0.0</td>\n",
       "      <td>1.00</td>\n",
       "      <td>0.00</td>\n",
       "      <td>0.00</td>\n",
       "    </tr>\n",
       "    <tr>\n",
       "      <th>...</th>\n",
       "      <td>...</td>\n",
       "      <td>...</td>\n",
       "      <td>...</td>\n",
       "      <td>...</td>\n",
       "      <td>...</td>\n",
       "    </tr>\n",
       "    <tr>\n",
       "      <th>Meet the Parents (2000)</th>\n",
       "      <td>0.0</td>\n",
       "      <td>0.0</td>\n",
       "      <td>1.00</td>\n",
       "      <td>0.00</td>\n",
       "      <td>0.00</td>\n",
       "    </tr>\n",
       "    <tr>\n",
       "      <th>Requiem for a Dream (2000)</th>\n",
       "      <td>0.0</td>\n",
       "      <td>0.0</td>\n",
       "      <td>0.00</td>\n",
       "      <td>0.32</td>\n",
       "      <td>0.00</td>\n",
       "    </tr>\n",
       "    <tr>\n",
       "      <th>Tigerland (2000)</th>\n",
       "      <td>0.0</td>\n",
       "      <td>0.0</td>\n",
       "      <td>0.00</td>\n",
       "      <td>0.32</td>\n",
       "      <td>0.00</td>\n",
       "    </tr>\n",
       "    <tr>\n",
       "      <th>Two Family House (2000)</th>\n",
       "      <td>0.0</td>\n",
       "      <td>0.0</td>\n",
       "      <td>0.00</td>\n",
       "      <td>0.32</td>\n",
       "      <td>0.00</td>\n",
       "    </tr>\n",
       "    <tr>\n",
       "      <th>Contender, The (2000)</th>\n",
       "      <td>0.0</td>\n",
       "      <td>0.0</td>\n",
       "      <td>0.00</td>\n",
       "      <td>1.00</td>\n",
       "      <td>0.23</td>\n",
       "    </tr>\n",
       "  </tbody>\n",
       "</table>\n",
       "<p>3883 rows × 5 columns</p>\n",
       "</div>"
      ],
      "text/plain": [
       "title                               Beyond the Mat (2000)  \\\n",
       "title                                                       \n",
       "Toy Story (1995)                                      0.0   \n",
       "Jumanji (1995)                                        0.0   \n",
       "Grumpier Old Men (1995)                               0.0   \n",
       "Waiting to Exhale (1995)                              0.0   \n",
       "Father of the Bride Part II (1995)                    0.0   \n",
       "...                                                   ...   \n",
       "Meet the Parents (2000)                               0.0   \n",
       "Requiem for a Dream (2000)                            0.0   \n",
       "Tigerland (2000)                                      0.0   \n",
       "Two Family House (2000)                               0.0   \n",
       "Contender, The (2000)                                 0.0   \n",
       "\n",
       "title                               American Werewolf in London, An (1981)  \\\n",
       "title                                                                        \n",
       "Toy Story (1995)                                                       0.0   \n",
       "Jumanji (1995)                                                         0.0   \n",
       "Grumpier Old Men (1995)                                                0.0   \n",
       "Waiting to Exhale (1995)                                               0.0   \n",
       "Father of the Bride Part II (1995)                                     0.0   \n",
       "...                                                                    ...   \n",
       "Meet the Parents (2000)                                                0.0   \n",
       "Requiem for a Dream (2000)                                             0.0   \n",
       "Tigerland (2000)                                                       0.0   \n",
       "Two Family House (2000)                                                0.0   \n",
       "Contender, The (2000)                                                  0.0   \n",
       "\n",
       "title                               Caddyshack (1980)  \\\n",
       "title                                                   \n",
       "Toy Story (1995)                                 0.17   \n",
       "Jumanji (1995)                                   0.00   \n",
       "Grumpier Old Men (1995)                          0.40   \n",
       "Waiting to Exhale (1995)                         0.45   \n",
       "Father of the Bride Part II (1995)               1.00   \n",
       "...                                               ...   \n",
       "Meet the Parents (2000)                          1.00   \n",
       "Requiem for a Dream (2000)                       0.00   \n",
       "Tigerland (2000)                                 0.00   \n",
       "Two Family House (2000)                          0.00   \n",
       "Contender, The (2000)                            0.00   \n",
       "\n",
       "title                               I Can't Sleep (J'ai pas sommeil) (1994)  \\\n",
       "title                                                                         \n",
       "Toy Story (1995)                                                       0.00   \n",
       "Jumanji (1995)                                                         0.00   \n",
       "Grumpier Old Men (1995)                                                0.00   \n",
       "Waiting to Exhale (1995)                                               0.13   \n",
       "Father of the Bride Part II (1995)                                     0.00   \n",
       "...                                                                     ...   \n",
       "Meet the Parents (2000)                                                0.00   \n",
       "Requiem for a Dream (2000)                                             0.32   \n",
       "Tigerland (2000)                                                       0.32   \n",
       "Two Family House (2000)                                                0.32   \n",
       "Contender, The (2000)                                                  1.00   \n",
       "\n",
       "title                               Children of the Corn (1984)  \n",
       "title                                                            \n",
       "Toy Story (1995)                                           0.00  \n",
       "Jumanji (1995)                                             0.00  \n",
       "Grumpier Old Men (1995)                                    0.00  \n",
       "Waiting to Exhale (1995)                                   0.00  \n",
       "Father of the Bride Part II (1995)                         0.00  \n",
       "...                                                         ...  \n",
       "Meet the Parents (2000)                                    0.00  \n",
       "Requiem for a Dream (2000)                                 0.00  \n",
       "Tigerland (2000)                                           0.00  \n",
       "Two Family House (2000)                                    0.00  \n",
       "Contender, The (2000)                                      0.23  \n",
       "\n",
       "[3883 rows x 5 columns]"
      ]
     },
     "execution_count": 26,
     "metadata": {},
     "output_type": "execute_result"
    }
   ],
   "source": [
    "cosine_sim_df = pd.DataFrame(cosine_sim, index=movies['title'], columns=movies['title'])\n",
    "print('Shape:', cosine_sim_df.shape)\n",
    "cosine_sim_df.sample(5, axis=1).round(2)"
   ]
  },
  {
   "cell_type": "markdown",
   "metadata": {},
   "source": [
    "Now we have to define some logic to find the highest weights or tf-idf scores for a given movie. For that I've defined the following function, which takes as input a given movie i, the similarity matrix M, the items dataframe and returns up to k recommendations:"
   ]
  },
  {
   "cell_type": "code",
   "execution_count": 27,
   "metadata": {},
   "outputs": [],
   "source": [
    "def genre_recommendations(i, M, items, k=2):\n",
    "    \"\"\"\n",
    "    Recommends movies based on a similarity dataframe\n",
    "\n",
    "    Parameters\n",
    "    ----------\n",
    "    i : str\n",
    "        Movie (index of the similarity dataframe)\n",
    "    M : pd.DataFrame\n",
    "        Similarity dataframe, symmetric, with movies as indices and columns\n",
    "    items : pd.DataFrame\n",
    "        Contains both the title and some other features used to define similarity\n",
    "    k : int\n",
    "        Amount of recommendations to return\n",
    "\n",
    "    \"\"\"\n",
    "    ix = M.loc[:,i].to_numpy().argpartition(range(-1,-k,-1))\n",
    "    closest = M.columns[ix[-1:-(k+2):-1]]\n",
    "    closest = closest.drop(i, errors='ignore')\n",
    "    return pd.DataFrame(closest).merge(items).head(k)"
   ]
  },
  {
   "cell_type": "code",
   "execution_count": 64,
   "metadata": {},
   "outputs": [],
   "source": [
    "x = cosine_sim_df.loc[:,'One Flew Over the Cuckoo\\'s Nest (1975)'].to_numpy().argpartition(range(-1,-10,-1))"
   ]
  },
  {
   "cell_type": "code",
   "execution_count": 66,
   "metadata": {},
   "outputs": [
    {
     "data": {
      "text/plain": [
       "Index(['Low Life, The (1994)', 'My Bodyguard (1980)', 'Delta of Venus (1994)',\n",
       "       'Bound for Glory (1976)', 'Melvin and Howard (1980)',\n",
       "       'Without Limits (1998)', 'Ogre, The (Der Unhold) (1996)',\n",
       "       'Simon Birch (1998)', 'Wedding Gift, The (1994)',\n",
       "       'Daughters of the Dust (1992)', 'Let's Talk About Sex (1998)'],\n",
       "      dtype='object', name='title')"
      ]
     },
     "execution_count": 66,
     "metadata": {},
     "output_type": "execute_result"
    }
   ],
   "source": [
    "cosine_sim_df.columns[x[-1:-(10+2):-1]]"
   ]
  },
  {
   "cell_type": "markdown",
   "metadata": {},
   "source": [
    "Where by usingargpartition we take the k highest values in M(similarity matrix) on a given index (movie) i . We then index on the columns in M , and further slice to get from highest weights to lowest."
   ]
  },
  {
   "cell_type": "markdown",
   "metadata": {},
   "source": [
    "# Evaluation\n",
    "\n",
    "----"
   ]
  },
  {
   "cell_type": "code",
   "execution_count": 29,
   "metadata": {},
   "outputs": [],
   "source": [
    "rating_movie_merged = pd.merge(ratings, movies, on='movie_id', how='inner')"
   ]
  },
  {
   "cell_type": "code",
   "execution_count": 30,
   "metadata": {},
   "outputs": [
    {
     "data": {
      "text/html": [
       "<div>\n",
       "<style scoped>\n",
       "    .dataframe tbody tr th:only-of-type {\n",
       "        vertical-align: middle;\n",
       "    }\n",
       "\n",
       "    .dataframe tbody tr th {\n",
       "        vertical-align: top;\n",
       "    }\n",
       "\n",
       "    .dataframe thead th {\n",
       "        text-align: right;\n",
       "    }\n",
       "</style>\n",
       "<table border=\"1\" class=\"dataframe\">\n",
       "  <thead>\n",
       "    <tr style=\"text-align: right;\">\n",
       "      <th></th>\n",
       "      <th>user_id</th>\n",
       "      <th>movie_id</th>\n",
       "      <th>rating</th>\n",
       "      <th>title</th>\n",
       "      <th>genres</th>\n",
       "    </tr>\n",
       "  </thead>\n",
       "  <tbody>\n",
       "    <tr>\n",
       "      <th>0</th>\n",
       "      <td>1</td>\n",
       "      <td>1193</td>\n",
       "      <td>5</td>\n",
       "      <td>One Flew Over the Cuckoo's Nest (1975)</td>\n",
       "      <td>Drama</td>\n",
       "    </tr>\n",
       "    <tr>\n",
       "      <th>1</th>\n",
       "      <td>2</td>\n",
       "      <td>1193</td>\n",
       "      <td>5</td>\n",
       "      <td>One Flew Over the Cuckoo's Nest (1975)</td>\n",
       "      <td>Drama</td>\n",
       "    </tr>\n",
       "    <tr>\n",
       "      <th>2</th>\n",
       "      <td>12</td>\n",
       "      <td>1193</td>\n",
       "      <td>4</td>\n",
       "      <td>One Flew Over the Cuckoo's Nest (1975)</td>\n",
       "      <td>Drama</td>\n",
       "    </tr>\n",
       "    <tr>\n",
       "      <th>3</th>\n",
       "      <td>15</td>\n",
       "      <td>1193</td>\n",
       "      <td>4</td>\n",
       "      <td>One Flew Over the Cuckoo's Nest (1975)</td>\n",
       "      <td>Drama</td>\n",
       "    </tr>\n",
       "    <tr>\n",
       "      <th>4</th>\n",
       "      <td>17</td>\n",
       "      <td>1193</td>\n",
       "      <td>5</td>\n",
       "      <td>One Flew Over the Cuckoo's Nest (1975)</td>\n",
       "      <td>Drama</td>\n",
       "    </tr>\n",
       "    <tr>\n",
       "      <th>...</th>\n",
       "      <td>...</td>\n",
       "      <td>...</td>\n",
       "      <td>...</td>\n",
       "      <td>...</td>\n",
       "      <td>...</td>\n",
       "    </tr>\n",
       "    <tr>\n",
       "      <th>1000204</th>\n",
       "      <td>5949</td>\n",
       "      <td>2198</td>\n",
       "      <td>5</td>\n",
       "      <td>Modulations (1998)</td>\n",
       "      <td>Documentary</td>\n",
       "    </tr>\n",
       "    <tr>\n",
       "      <th>1000205</th>\n",
       "      <td>5675</td>\n",
       "      <td>2703</td>\n",
       "      <td>3</td>\n",
       "      <td>Broken Vessels (1998)</td>\n",
       "      <td>Drama</td>\n",
       "    </tr>\n",
       "    <tr>\n",
       "      <th>1000206</th>\n",
       "      <td>5780</td>\n",
       "      <td>2845</td>\n",
       "      <td>1</td>\n",
       "      <td>White Boys (1999)</td>\n",
       "      <td>Drama</td>\n",
       "    </tr>\n",
       "    <tr>\n",
       "      <th>1000207</th>\n",
       "      <td>5851</td>\n",
       "      <td>3607</td>\n",
       "      <td>5</td>\n",
       "      <td>One Little Indian (1973)</td>\n",
       "      <td>Comedy|Drama|Western</td>\n",
       "    </tr>\n",
       "    <tr>\n",
       "      <th>1000208</th>\n",
       "      <td>5938</td>\n",
       "      <td>2909</td>\n",
       "      <td>4</td>\n",
       "      <td>Five Wives, Three Secretaries and Me (1998)</td>\n",
       "      <td>Documentary</td>\n",
       "    </tr>\n",
       "  </tbody>\n",
       "</table>\n",
       "<p>1000209 rows × 5 columns</p>\n",
       "</div>"
      ],
      "text/plain": [
       "         user_id  movie_id  rating  \\\n",
       "0              1      1193       5   \n",
       "1              2      1193       5   \n",
       "2             12      1193       4   \n",
       "3             15      1193       4   \n",
       "4             17      1193       5   \n",
       "...          ...       ...     ...   \n",
       "1000204     5949      2198       5   \n",
       "1000205     5675      2703       3   \n",
       "1000206     5780      2845       1   \n",
       "1000207     5851      3607       5   \n",
       "1000208     5938      2909       4   \n",
       "\n",
       "                                               title                genres  \n",
       "0             One Flew Over the Cuckoo's Nest (1975)                 Drama  \n",
       "1             One Flew Over the Cuckoo's Nest (1975)                 Drama  \n",
       "2             One Flew Over the Cuckoo's Nest (1975)                 Drama  \n",
       "3             One Flew Over the Cuckoo's Nest (1975)                 Drama  \n",
       "4             One Flew Over the Cuckoo's Nest (1975)                 Drama  \n",
       "...                                              ...                   ...  \n",
       "1000204                           Modulations (1998)           Documentary  \n",
       "1000205                        Broken Vessels (1998)                 Drama  \n",
       "1000206                            White Boys (1999)                 Drama  \n",
       "1000207                     One Little Indian (1973)  Comedy|Drama|Western  \n",
       "1000208  Five Wives, Three Secretaries and Me (1998)           Documentary  \n",
       "\n",
       "[1000209 rows x 5 columns]"
      ]
     },
     "execution_count": 30,
     "metadata": {},
     "output_type": "execute_result"
    }
   ],
   "source": [
    "rating_movie_merged"
   ]
  },
  {
   "cell_type": "code",
   "execution_count": 48,
   "metadata": {},
   "outputs": [],
   "source": [
    "from tqdm import tqdm\n",
    "def rankedRetrieval(actual,predicted,k):\n",
    "    \n",
    "    lenPred = len(predicted)\n",
    "    if(len(predicted) > k):\n",
    "        predicted=predicted[:k]\n",
    "    \n",
    "    count=0\n",
    "    for value in predicted:\n",
    "        if(value in actual):\n",
    "            count+=1\n",
    "    \n",
    "    precision = count/len(actual)\n",
    "    recall = count/lenPred\n",
    "    \n",
    "    return min(precision,1),min(recall,1)\n",
    "\n",
    "def apk(actual, predicted, k):\n",
    "    \"\"\"\n",
    "    Computes the average precision at k.\n",
    "    This function computes the average prescision at k between two lists of\n",
    "    items.\n",
    "    Parameters\n",
    "    ----------\n",
    "    actual : list\n",
    "             A list of elements that are to be predicted (order doesn't matter)\n",
    "    predicted : list\n",
    "                A list of predicted elements (order does matter)\n",
    "    k : int, optional\n",
    "        The maximum number of predicted elements\n",
    "    Returns\n",
    "    -------\n",
    "    score : double\n",
    "            The average precision at k over the input lists\n",
    "    \"\"\"\n",
    "    if len(predicted)>k:\n",
    "        predicted = predicted[:k]\n",
    "\n",
    "    score = 0.0\n",
    "    num_hits = 0.0\n",
    "\n",
    "    for i,p in enumerate(predicted):\n",
    "        if p in actual and p not in predicted[:i]:\n",
    "            num_hits += 1.0\n",
    "            score += num_hits / (i+1.0)\n",
    "\n",
    "    if not actual:\n",
    "        return 0.0\n",
    "\n",
    "    return score / min(len(actual), k)\n",
    "\n",
    "def mapk(actual, predicted,k):\n",
    "    \"\"\"\n",
    "    Computes the mean average precision at k.\n",
    "    This function computes the mean average prescision at k between two lists\n",
    "    of lists of items.\n",
    "    Parameters\n",
    "    ----------\n",
    "    actual : list\n",
    "             A list of lists of elements that are to be predicted \n",
    "             (order doesn't matter in the lists)\n",
    "    predicted : list\n",
    "                A list of lists of predicted elements\n",
    "                (order matters in the lists)\n",
    "    k : int, optional\n",
    "        The maximum number of predicted elements\n",
    "    Returns\n",
    "    -------\n",
    "    score : double\n",
    "            The mean average precision at k over the input lists\n",
    "    \"\"\"\n",
    "    return np.mean([apk(a,p,k) for a,p in zip(actual, predicted)])\n",
    "\n",
    "\n",
    "def computeScore(train,test,numRecommendations):\n",
    "\n",
    "    avgPrecisionMovie = []\n",
    "    avgRecallMovie = []\n",
    "    avgPrecisionGenre = []\n",
    "    avgRecallGenre = []\n",
    "\n",
    "    recommended_movies = np.array([])\n",
    "    recommended_genres = np.array([])\n",
    "\n",
    "    \n",
    "    for movie in train.title.values:\n",
    "        recommendation_output = genre_recommendations(movie, cosine_sim_df, movies[['title', 'genres']],numRecommendations)\n",
    "        recommended_movies=np.concatenate((recommended_movies,\n",
    "                                           np.array(recommendation_output.title.values)\n",
    "                                          ),axis=0)\n",
    "        recommended_genres=np.concatenate((recommended_genres,\n",
    "                                   np.array(recommendation_output.genres.values)\n",
    "                                  ),axis=0)\n",
    "        precisionMovie,recallMovie = rankedRetrieval(list(test.title.values),list(recommendation_output.title.values),numRecommendations)\n",
    "        precisionGenre,recallGenre = rankedRetrieval(list(test.genres.values),list(recommendation_output.genres.values),numRecommendations)\n",
    "        \n",
    "        avgPrecisionMovie.append(precisionMovie)\n",
    "        avgRecallMovie.append(recallMovie)\n",
    "        \n",
    "        avgPrecisionGenre.append(precisionGenre)\n",
    "        avgRecallGenre.append(recallGenre)\n",
    "        \n",
    "        mapk_movie = mapk(list(test.title.values),list(recommended_movies),numRecommendations)\n",
    "        mapk_genre = mapk(list(test.genres.values),list(recommended_genres),numRecommendations)\n",
    "    \n",
    "    return np.mean(avgPrecisionMovie),np.mean(avgRecallMovie),mapk_movie,\\\n",
    "                np.mean(avgPrecisionGenre),np.mean(avgRecallGenre),mapk_genre\n",
    "\n",
    "\n"
   ]
  },
  {
   "cell_type": "code",
   "execution_count": 49,
   "metadata": {},
   "outputs": [],
   "source": [
    "def evaluation(minRating=2,test_split=0.2,numRecommendations=10):\n",
    "\n",
    "    \n",
    "    avgPrecisionMovie = []\n",
    "    avgRecallMovie = []\n",
    "    avgPrecisionGenre = []\n",
    "    avgRecallGenre = []\n",
    "    \n",
    "    mapk_movie_scores = []\n",
    "    mapk_genre_scores = []\n",
    "    \n",
    "    test_length=[]\n",
    "    \n",
    "    for usrId in tqdm(np.random.choice(ratings.user_id.unique(),100, replace=False)): \n",
    "        sample_data = rating_movie_merged[rating_movie_merged['user_id']==usrId].reset_index().drop('index',axis=1)\n",
    "        sample_data = sample_data.sort_values('rating',ascending=False)\n",
    "        data_split_length = int(len(sample_data)*test_split)\n",
    "        \n",
    "        \n",
    "        try:\n",
    "            train = sample_data[sample_data['rating'] > minRating].sample(data_split_length).copy()\n",
    "            \n",
    "        except:\n",
    "            continue\n",
    "            print('Failed! userID:{}'.format(usrId))\n",
    "        \n",
    "        test = sample_data.drop(index=train.index).copy()\n",
    "        \n",
    "\n",
    "        if(len(test) < 2):\n",
    "            continue\n",
    "\n",
    "            \n",
    "        precisionMovie,recallMovie,mapkMovie,precisionGenre,recallGenre,mapkGenre = computeScore(train,test,numRecommendations)\n",
    "        avgPrecisionMovie.append(precisionMovie)\n",
    "        avgRecallMovie.append(recallMovie)\n",
    "        \n",
    "        avgPrecisionGenre.append(precisionGenre)\n",
    "        avgRecallGenre.append(recallGenre)\n",
    "        \n",
    "        \n",
    "        mapk_movie_scores.append(mapkMovie)\n",
    "        mapk_genre_scores.append(mapkGenre)\n",
    "        \n",
    "        test_length.append(len(test))\n",
    "        \n",
    "    return np.array(avgPrecisionMovie),np.array(avgRecallMovie),np.array(mapk_movie_scores)\\\n",
    "                    ,np.array(avgPrecisionGenre),np.array(avgRecallGenre),np.array(mapk_genre_scores)\\\n",
    "                    ,np.array(test_length)"
   ]
  },
  {
   "cell_type": "code",
   "execution_count": 54,
   "metadata": {},
   "outputs": [
    {
     "name": "stderr",
     "output_type": "stream",
     "text": [
      "100%|████████████████████████████████████████████████████████████████████████████████| 100/100 [00:23<00:00,  4.22it/s]\n",
      "100%|████████████████████████████████████████████████████████████████████████████████| 100/100 [00:28<00:00,  3.46it/s]\n",
      "100%|████████████████████████████████████████████████████████████████████████████████| 100/100 [00:18<00:00,  5.28it/s]\n",
      "100%|████████████████████████████████████████████████████████████████████████████████| 100/100 [00:21<00:00,  4.64it/s]\n",
      "100%|████████████████████████████████████████████████████████████████████████████████| 100/100 [00:20<00:00,  4.77it/s]\n",
      "100%|████████████████████████████████████████████████████████████████████████████████| 100/100 [00:16<00:00,  6.03it/s]\n",
      "100%|████████████████████████████████████████████████████████████████████████████████| 100/100 [00:14<00:00,  6.68it/s]\n",
      "100%|████████████████████████████████████████████████████████████████████████████████| 100/100 [00:21<00:00,  4.62it/s]\n",
      "100%|████████████████████████████████████████████████████████████████████████████████| 100/100 [00:21<00:00,  4.57it/s]\n",
      "100%|████████████████████████████████████████████████████████████████████████████████| 100/100 [00:22<00:00,  4.47it/s]\n"
     ]
    }
   ],
   "source": [
    "pm_list = []\n",
    "rm_list = []\n",
    "pg_list = []\n",
    "rg_list = []\n",
    "mapkM_list=[]\n",
    "mapkG_list=[]\n",
    "\n",
    "test_df_list=[]\n",
    "\n",
    "for i in range(10):\n",
    "    pm,rm,mapkM,pg,rg,mapkG,len_test = evaluation(minRating = 1,test_split=0.2,numRecommendations=100)\n",
    "    pm_list.append(np.mean(pm))\n",
    "    rm_list.append(np.mean(rm))\n",
    "    mapkM_list.append(np.mean(mapkM))\n",
    "    \n",
    "    pg_list.append(np.mean(pg))\n",
    "    rg_list.append(np.mean(rg))\n",
    "    mapkG_list.append(np.mean(mapkG))\n",
    "    \n",
    "    test_df_list.append(np.mean(len_test))"
   ]
  },
  {
   "cell_type": "code",
   "execution_count": 55,
   "metadata": {},
   "outputs": [
    {
     "name": "stdout",
     "output_type": "stream",
     "text": [
      "mean:0.064 | STD:0.006\n",
      "mean:0.069 | STD:0.006\n",
      "mean:0.188 | STD:0.012\n",
      "------------------------\n",
      "mean:0.619 | STD:0.020\n",
      "mean:0.696 | STD:0.022\n",
      "mean:0.282 | STD:0.098\n"
     ]
    }
   ],
   "source": [
    "print(\"mean:{:.3f} | STD:{:.3f}\".format(np.mean(pm_list),np.std(pm_list)))\n",
    "print(\"mean:{:.3f} | STD:{:.3f}\".format(np.mean(rm_list),np.std(rm_list)))\n",
    "print(\"mean:{:.3f} | STD:{:.3f}\".format(np.mean(mapkM),np.std(mapkM)))\n",
    "\n",
    "print('------------------------')\n",
    "\n",
    "print(\"mean:{:.3f} | STD:{:.3f}\".format(np.mean(pg_list),np.std(pg_list)))\n",
    "print(\"mean:{:.3f} | STD:{:.3f}\".format(np.mean(rg_list),np.std(rg_list)))\n",
    "print(\"mean:{:.3f} | STD:{:.3f}\".format(np.mean(mapkG),np.std(mapkG)))"
   ]
  },
  {
   "cell_type": "code",
   "execution_count": 51,
   "metadata": {},
   "outputs": [
    {
     "name": "stderr",
     "output_type": "stream",
     "text": [
      "100%|████████████████████████████████████████████████████████████████████████████████| 100/100 [00:16<00:00,  6.18it/s]\n",
      "100%|████████████████████████████████████████████████████████████████████████████████| 100/100 [00:25<00:00,  3.99it/s]\n",
      "100%|████████████████████████████████████████████████████████████████████████████████| 100/100 [00:20<00:00,  4.90it/s]\n",
      "100%|████████████████████████████████████████████████████████████████████████████████| 100/100 [00:17<00:00,  5.84it/s]\n",
      "100%|████████████████████████████████████████████████████████████████████████████████| 100/100 [00:14<00:00,  6.68it/s]\n",
      "100%|████████████████████████████████████████████████████████████████████████████████| 100/100 [00:24<00:00,  4.02it/s]\n",
      "100%|████████████████████████████████████████████████████████████████████████████████| 100/100 [00:21<00:00,  4.56it/s]\n",
      "100%|████████████████████████████████████████████████████████████████████████████████| 100/100 [00:14<00:00,  6.85it/s]\n",
      "100%|████████████████████████████████████████████████████████████████████████████████| 100/100 [00:20<00:00,  4.94it/s]\n",
      "100%|████████████████████████████████████████████████████████████████████████████████| 100/100 [00:19<00:00,  5.17it/s]\n",
      "100%|████████████████████████████████████████████████████████████████████████████████| 100/100 [00:21<00:00,  4.61it/s]\n",
      "100%|████████████████████████████████████████████████████████████████████████████████| 100/100 [00:28<00:00,  3.55it/s]\n",
      "100%|████████████████████████████████████████████████████████████████████████████████| 100/100 [00:23<00:00,  4.22it/s]\n",
      "100%|████████████████████████████████████████████████████████████████████████████████| 100/100 [00:24<00:00,  4.05it/s]\n",
      "100%|████████████████████████████████████████████████████████████████████████████████| 100/100 [00:21<00:00,  4.73it/s]\n",
      "100%|████████████████████████████████████████████████████████████████████████████████| 100/100 [00:20<00:00,  4.87it/s]\n",
      "100%|████████████████████████████████████████████████████████████████████████████████| 100/100 [00:25<00:00,  3.91it/s]\n",
      "100%|████████████████████████████████████████████████████████████████████████████████| 100/100 [00:24<00:00,  4.12it/s]\n",
      "100%|████████████████████████████████████████████████████████████████████████████████| 100/100 [00:17<00:00,  5.70it/s]\n",
      "100%|████████████████████████████████████████████████████████████████████████████████| 100/100 [00:28<00:00,  3.57it/s]\n"
     ]
    }
   ],
   "source": [
    "pm_list = []\n",
    "rm_list = []\n",
    "pg_list = []\n",
    "rg_list = []\n",
    "mapkM_list=[]\n",
    "mapkG_list=[]\n",
    "\n",
    "numRecommendations = list(range(10,201,10))\n",
    "\n",
    "for recom in numRecommendations:\n",
    "    pm,rm,mapkM,pg,rg,mapkG,len_test = evaluation(test_split=0.2,numRecommendations=recom)\n",
    "    pm_list.append(np.mean(pm))\n",
    "    rm_list.append(np.mean(rm))\n",
    "    mapkM_list.append(np.mean(mapkM))\n",
    "    \n",
    "    pg_list.append(np.mean(pg))\n",
    "    rg_list.append(np.mean(rg))\n",
    "    mapkG_list.append(np.mean(mapkG))"
   ]
  },
  {
   "cell_type": "code",
   "execution_count": 52,
   "metadata": {},
   "outputs": [
    {
     "data": {
      "image/png": "[encoded data removed]",
      "text/plain": [
       "<Figure size 720x360 with 1 Axes>"
      ]
     },
     "metadata": {
      "needs_background": "light"
     },
     "output_type": "display_data"
    }
   ],
   "source": [
    "plt.plot(numRecommendations,pm_list,label='Precision K')\n",
    "plt.plot(numRecommendations,rm_list,label='Recall K')\n",
    "plt.plot(numRecommendations,mapkM_list,label='MAP K')\n",
    "\n",
    "\n",
    "plt.xlabel('Top K recommendations')\n",
    "plt.ylabel('Score')\n",
    "plt.title('Movie Title Recommendations for various Top K values')\n",
    "plt.legend(ncol=3,loc='upper center')\n",
    "plt.savefig('outputs/title.png')"
   ]
  },
  {
   "cell_type": "code",
   "execution_count": 53,
   "metadata": {},
   "outputs": [
    {
     "data": {
      "image/png": "[encoded data removed]",
      "text/plain": [
       "<Figure size 720x360 with 1 Axes>"
      ]
     },
     "metadata": {
      "needs_background": "light"
     },
     "output_type": "display_data"
    }
   ],
   "source": [
    "plt.plot(numRecommendations,pg_list,label='Precision K')\n",
    "plt.plot(numRecommendations,rg_list,label='Recall K')\n",
    "plt.plot(numRecommendations,mapkG_list,label='MAP K')\n",
    "\n",
    "plt.xlabel('Top K recommendations')\n",
    "plt.ylabel('Score')\n",
    "plt.title('Movie Genre Recommendations for various Top K values')\n",
    "plt.legend(ncol=3,loc='upper center')\n",
    "plt.savefig('outputs/genre.png')"
   ]
  },
  {
   "cell_type": "code",
   "execution_count": 68,
   "metadata": {},
   "outputs": [
    {
     "name": "stderr",
     "output_type": "stream",
     "text": [
      "100%|████████████████████████████████████████████████████████████████████████████████| 100/100 [00:21<00:00,  4.56it/s]\n",
      "100%|████████████████████████████████████████████████████████████████████████████████| 100/100 [00:14<00:00,  7.03it/s]\n",
      "100%|████████████████████████████████████████████████████████████████████████████████| 100/100 [00:18<00:00,  5.47it/s]\n",
      "100%|████████████████████████████████████████████████████████████████████████████████| 100/100 [00:15<00:00,  6.53it/s]\n",
      "100%|████████████████████████████████████████████████████████████████████████████████| 100/100 [00:17<00:00,  5.73it/s]\n",
      "100%|████████████████████████████████████████████████████████████████████████████████| 100/100 [00:17<00:00,  5.81it/s]\n",
      "100%|████████████████████████████████████████████████████████████████████████████████| 100/100 [00:23<00:00,  4.17it/s]\n",
      "100%|████████████████████████████████████████████████████████████████████████████████| 100/100 [00:25<00:00,  3.95it/s]\n",
      "100%|████████████████████████████████████████████████████████████████████████████████| 100/100 [00:17<00:00,  5.77it/s]\n",
      "100%|████████████████████████████████████████████████████████████████████████████████| 100/100 [00:24<00:00,  4.00it/s]\n",
      "100%|████████████████████████████████████████████████████████████████████████████████| 100/100 [00:16<00:00,  5.90it/s]\n",
      "100%|████████████████████████████████████████████████████████████████████████████████| 100/100 [00:15<00:00,  6.36it/s]\n",
      "100%|████████████████████████████████████████████████████████████████████████████████| 100/100 [00:07<00:00, 14.10it/s]\n",
      "100%|████████████████████████████████████████████████████████████████████████████████| 100/100 [00:07<00:00, 13.67it/s]\n",
      "100%|████████████████████████████████████████████████████████████████████████████████| 100/100 [00:11<00:00,  8.40it/s]\n"
     ]
    }
   ],
   "source": [
    "pm_list = []\n",
    "rm_list = []\n",
    "pg_list = []\n",
    "rg_list = []\n",
    "mapkM_list=[]\n",
    "mapkG_list=[]\n",
    "\n",
    "minRatings = list(range(0,5))\n",
    "\n",
    "for rating in minRatings:\n",
    "    t_pm_list = []\n",
    "    t_rm_list = []\n",
    "    t_pg_list = []\n",
    "    t_rg_list = []\n",
    "    t_mapkM_list=[]\n",
    "    t_mapkG_list=[]\n",
    "    for fold in range(3):\n",
    "        pm,rm,mapkM,pg,rg,mapkG,len_test = evaluation(minRating=rating,test_split=0.2,numRecommendations=100)\n",
    "        t_pm_list.append(np.mean(pm))\n",
    "        t_rm_list.append(np.mean(rm))\n",
    "        t_mapkM_list.append(np.mean(mapkM))\n",
    "\n",
    "        t_pg_list.append(np.mean(pg))\n",
    "        t_rg_list.append(np.mean(rg))\n",
    "        t_mapkG_list.append(np.mean(mapkG))\n",
    "    \n",
    "    pm_list.append(np.mean(t_pm_list))\n",
    "    rm_list.append(np.mean(t_rm_list))\n",
    "    mapkM_list.append(np.mean(t_mapkM_list))\n",
    "\n",
    "    pg_list.append(np.mean(t_pg_list))\n",
    "    rg_list.append(np.mean(t_rg_list))\n",
    "    mapkG_list.append(np.mean(t_mapkG_list))\n"
   ]
  },
  {
   "cell_type": "code",
   "execution_count": 104,
   "metadata": {},
   "outputs": [
    {
     "data": {
      "image/png": "[encoded data removed]",
      "text/plain": [
       "<Figure size 720x360 with 1 Axes>"
      ]
     },
     "metadata": {
      "needs_background": "light"
     },
     "output_type": "display_data"
    }
   ],
   "source": [
    "plt.plot(minRatings,pm_list,label='Precision K')\n",
    "plt.plot(minRatings,rm_list,label='Recall K')\n",
    "# plt.plot(minRatings,mapkM_list,label='MAP K')\n",
    "\n",
    "\n",
    "plt.xlabel('Minimum rating')\n",
    "plt.ylabel('Score')\n",
    "plt.title('Impact of min rating for data sampling on final evaluation (Title)')\n",
    "plt.legend(ncol=6,loc='upper center')\n",
    "plt.savefig('outputs/ratingsTitle.png')"
   ]
  },
  {
   "cell_type": "code",
   "execution_count": 105,
   "metadata": {},
   "outputs": [
    {
     "data": {
      "image/png": "[encoded data removed]",
      "text/plain": [
       "<Figure size 720x360 with 1 Axes>"
      ]
     },
     "metadata": {
      "needs_background": "light"
     },
     "output_type": "display_data"
    }
   ],
   "source": [
    "\n",
    "\n",
    "plt.plot(minRatings,pg_list,label='Precision K')\n",
    "plt.plot(minRatings,rg_list,label='Recall K')\n",
    "# plt.plot(minRatings,mapkG_list,label='MAP K')\n",
    "\n",
    "plt.xlabel('Minimum rating')\n",
    "plt.ylabel('Score')\n",
    "plt.title('Impact of min rating for data sampling on final evaluation (Genre)')\n",
    "plt.legend(ncol=6,loc='upper center')\n",
    "plt.savefig('outputs/ratingsGenre.png')"
   ]
  },
  {
   "cell_type": "code",
   "execution_count": null,
   "metadata": {},
   "outputs": [],
   "source": []
  }
 ],
 "metadata": {
  "kernelspec": {
   "display_name": "Python 3",
   "language": "python",
   "name": "python3"
  },
  "language_info": {
   "codemirror_mode": {
    "name": "ipython",
    "version": 3
   },
   "file_extension": ".py",
   "mimetype": "text/x-python",
   "name": "python",
   "nbconvert_exporter": "python",
   "pygments_lexer": "ipython3",
   "version": "3.7.6"
  }
 },
 "nbformat": 4,
 "nbformat_minor": 4
}
